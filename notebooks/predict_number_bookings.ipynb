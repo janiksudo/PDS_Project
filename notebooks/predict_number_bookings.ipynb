{
 "cells": [
  {
   "cell_type": "code",
   "execution_count": 1,
   "metadata": {},
   "outputs": [],
   "source": [
    "import pandas as pd\n",
    "import sys\n",
    "from datetime import date, datetime\n",
    "import seaborn as sns\n",
    "import matplotlib.pyplot as plt\n",
    "import numpy as np"
   ]
  },
  {
   "cell_type": "markdown",
   "metadata": {},
   "source": [
    "## Data Preparation (general)"
   ]
  },
  {
   "cell_type": "code",
   "execution_count": 2,
   "metadata": {},
   "outputs": [],
   "source": [
    "df = pd.read_csv(\"../data/processed/bremen.csv\")\n",
    "df = df.sort_values(by=['start_time'], ascending=True)\n",
    "df[\"start_time\"] = pd.to_datetime(df[\"start_time\"])"
   ]
  },
  {
   "cell_type": "code",
   "execution_count": 3,
   "metadata": {},
   "outputs": [],
   "source": [
    "for col in ['start_time']:\n",
    "    df['month'] = pd.DatetimeIndex(df['start_time']).month\n",
    "    df['booking_date'] = df.start_time.dt.date\n",
    "    df['weekdays'] = pd.DatetimeIndex(df['start_time']).weekday\n",
    "    df['hour'] = pd.DatetimeIndex(df['start_time']).hour"
   ]
  },
  {
   "cell_type": "code",
   "execution_count": 4,
   "metadata": {},
   "outputs": [],
   "source": [
    "df['duration_min'] = df['duration_sec']/60\n",
    "df['number_bookings'] = 1"
   ]
  },
  {
   "cell_type": "code",
   "execution_count": 5,
   "metadata": {
    "scrolled": false
   },
   "outputs": [
    {
     "name": "stdout",
     "output_type": "stream",
     "text": [
      "<class 'pandas.core.frame.DataFrame'>\n",
      "Int64Index: 132982 entries, 47381 to 65713\n",
      "Data columns (total 31 columns):\n",
      "bike                  132982 non-null int64\n",
      "identification        132982 non-null int64\n",
      "start_time            132982 non-null datetime64[ns]\n",
      "end_time              132982 non-null object\n",
      "weekend               132982 non-null int64\n",
      "duration_sec          132982 non-null float64\n",
      "start_lng             132982 non-null float64\n",
      "start_lat             132982 non-null float64\n",
      "end_lng               132982 non-null float64\n",
      "end_lat               132982 non-null float64\n",
      "start_place           132982 non-null float64\n",
      "end_place             132982 non-null float64\n",
      "start_plz             132982 non-null int64\n",
      "end_plz               132982 non-null int64\n",
      "temp_2m               132982 non-null float64\n",
      "humidity_2m           132982 non-null float64\n",
      "dew_point_2m          132982 non-null float64\n",
      "max_at_2m             132982 non-null float64\n",
      "mean_speed_h/s        132982 non-null float64\n",
      "direction_degree_x    132982 non-null float64\n",
      "max_m/s               132982 non-null float64\n",
      "min_mean_m/s          132982 non-null float64\n",
      "max_mean_m/s          132982 non-null float64\n",
      "direction_degree_y    132982 non-null float64\n",
      "min                   132982 non-null float64\n",
      "month                 132982 non-null int64\n",
      "booking_date          132982 non-null object\n",
      "weekdays              132982 non-null int64\n",
      "hour                  132982 non-null int64\n",
      "duration_min          132982 non-null float64\n",
      "number_bookings       132982 non-null int64\n",
      "dtypes: datetime64[ns](1), float64(19), int64(9), object(2)\n",
      "memory usage: 32.5+ MB\n"
     ]
    },
    {
     "data": {
      "text/plain": [
       "bike                     441\n",
       "identification        103809\n",
       "start_time            106065\n",
       "end_time              104465\n",
       "weekend                    2\n",
       "duration_sec            1298\n",
       "start_lng              49042\n",
       "start_lat              12945\n",
       "end_lng                46225\n",
       "end_lat                 8151\n",
       "start_place               76\n",
       "end_place                 76\n",
       "start_plz                 33\n",
       "end_plz                   33\n",
       "temp_2m                  421\n",
       "humidity_2m              794\n",
       "dew_point_2m             290\n",
       "max_at_2m                421\n",
       "mean_speed_h/s           153\n",
       "direction_degree_x        37\n",
       "max_m/s                  143\n",
       "min_mean_m/s              61\n",
       "max_mean_m/s             160\n",
       "direction_degree_y        37\n",
       "min                       11\n",
       "month                     11\n",
       "booking_date             312\n",
       "weekdays                   7\n",
       "hour                      24\n",
       "duration_min            1298\n",
       "number_bookings            1\n",
       "dtype: int64"
      ]
     },
     "metadata": {},
     "output_type": "display_data"
    },
    {
     "data": {
      "text/plain": [
       "None"
      ]
     },
     "metadata": {},
     "output_type": "display_data"
    },
    {
     "data": {
      "text/html": [
       "<div>\n",
       "<style scoped>\n",
       "    .dataframe tbody tr th:only-of-type {\n",
       "        vertical-align: middle;\n",
       "    }\n",
       "\n",
       "    .dataframe tbody tr th {\n",
       "        vertical-align: top;\n",
       "    }\n",
       "\n",
       "    .dataframe thead th {\n",
       "        text-align: right;\n",
       "    }\n",
       "</style>\n",
       "<table border=\"1\" class=\"dataframe\">\n",
       "  <thead>\n",
       "    <tr style=\"text-align: right;\">\n",
       "      <th></th>\n",
       "      <th>bike</th>\n",
       "      <th>identification</th>\n",
       "      <th>start_time</th>\n",
       "      <th>end_time</th>\n",
       "      <th>weekend</th>\n",
       "      <th>duration_sec</th>\n",
       "      <th>start_lng</th>\n",
       "      <th>start_lat</th>\n",
       "      <th>end_lng</th>\n",
       "      <th>end_lat</th>\n",
       "      <th>...</th>\n",
       "      <th>min_mean_m/s</th>\n",
       "      <th>max_mean_m/s</th>\n",
       "      <th>direction_degree_y</th>\n",
       "      <th>min</th>\n",
       "      <th>month</th>\n",
       "      <th>booking_date</th>\n",
       "      <th>weekdays</th>\n",
       "      <th>hour</th>\n",
       "      <th>duration_min</th>\n",
       "      <th>number_bookings</th>\n",
       "    </tr>\n",
       "  </thead>\n",
       "  <tbody>\n",
       "    <tr>\n",
       "      <th>47381</th>\n",
       "      <td>20685</td>\n",
       "      <td>12099440</td>\n",
       "      <td>2019-01-20 00:13:00</td>\n",
       "      <td>2019-01-20 00:23:00</td>\n",
       "      <td>1</td>\n",
       "      <td>600.0</td>\n",
       "      <td>8.812554</td>\n",
       "      <td>53.076481</td>\n",
       "      <td>8.804828</td>\n",
       "      <td>53.084196</td>\n",
       "      <td>...</td>\n",
       "      <td>2.1</td>\n",
       "      <td>2.6</td>\n",
       "      <td>80.0</td>\n",
       "      <td>0.0</td>\n",
       "      <td>1</td>\n",
       "      <td>2019-01-20</td>\n",
       "      <td>6</td>\n",
       "      <td>0</td>\n",
       "      <td>10.0</td>\n",
       "      <td>1</td>\n",
       "    </tr>\n",
       "    <tr>\n",
       "      <th>31405</th>\n",
       "      <td>20626</td>\n",
       "      <td>10278649</td>\n",
       "      <td>2019-01-20 00:16:00</td>\n",
       "      <td>2019-01-20 04:47:00</td>\n",
       "      <td>1</td>\n",
       "      <td>16260.0</td>\n",
       "      <td>8.884911</td>\n",
       "      <td>53.078923</td>\n",
       "      <td>8.884911</td>\n",
       "      <td>53.078923</td>\n",
       "      <td>...</td>\n",
       "      <td>2.1</td>\n",
       "      <td>2.6</td>\n",
       "      <td>80.0</td>\n",
       "      <td>0.0</td>\n",
       "      <td>1</td>\n",
       "      <td>2019-01-20</td>\n",
       "      <td>6</td>\n",
       "      <td>0</td>\n",
       "      <td>271.0</td>\n",
       "      <td>1</td>\n",
       "    </tr>\n",
       "  </tbody>\n",
       "</table>\n",
       "<p>2 rows × 31 columns</p>\n",
       "</div>"
      ],
      "text/plain": [
       "        bike  identification          start_time             end_time  \\\n",
       "47381  20685        12099440 2019-01-20 00:13:00  2019-01-20 00:23:00   \n",
       "31405  20626        10278649 2019-01-20 00:16:00  2019-01-20 04:47:00   \n",
       "\n",
       "       weekend  duration_sec  start_lng  start_lat   end_lng    end_lat  ...  \\\n",
       "47381        1         600.0   8.812554  53.076481  8.804828  53.084196  ...   \n",
       "31405        1       16260.0   8.884911  53.078923  8.884911  53.078923  ...   \n",
       "\n",
       "       min_mean_m/s  max_mean_m/s  direction_degree_y  min  month  \\\n",
       "47381           2.1           2.6                80.0  0.0      1   \n",
       "31405           2.1           2.6                80.0  0.0      1   \n",
       "\n",
       "       booking_date  weekdays  hour  duration_min  number_bookings  \n",
       "47381    2019-01-20         6     0          10.0                1  \n",
       "31405    2019-01-20         6     0         271.0                1  \n",
       "\n",
       "[2 rows x 31 columns]"
      ]
     },
     "metadata": {},
     "output_type": "display_data"
    },
    {
     "data": {
      "text/plain": [
       "bike                  0\n",
       "identification        0\n",
       "start_time            0\n",
       "end_time              0\n",
       "weekend               0\n",
       "duration_sec          0\n",
       "start_lng             0\n",
       "start_lat             0\n",
       "end_lng               0\n",
       "end_lat               0\n",
       "start_place           0\n",
       "end_place             0\n",
       "start_plz             0\n",
       "end_plz               0\n",
       "temp_2m               0\n",
       "humidity_2m           0\n",
       "dew_point_2m          0\n",
       "max_at_2m             0\n",
       "mean_speed_h/s        0\n",
       "direction_degree_x    0\n",
       "max_m/s               0\n",
       "min_mean_m/s          0\n",
       "max_mean_m/s          0\n",
       "direction_degree_y    0\n",
       "min                   0\n",
       "month                 0\n",
       "booking_date          0\n",
       "weekdays              0\n",
       "hour                  0\n",
       "duration_min          0\n",
       "number_bookings       0\n",
       "dtype: int64"
      ]
     },
     "metadata": {},
     "output_type": "display_data"
    }
   ],
   "source": [
    "display(df.nunique(),df.info(),df.head(2), df.isna().sum())"
   ]
  },
  {
   "cell_type": "code",
   "execution_count": 6,
   "metadata": {},
   "outputs": [
    {
     "data": {
      "text/html": [
       "<div>\n",
       "<style scoped>\n",
       "    .dataframe tbody tr th:only-of-type {\n",
       "        vertical-align: middle;\n",
       "    }\n",
       "\n",
       "    .dataframe tbody tr th {\n",
       "        vertical-align: top;\n",
       "    }\n",
       "\n",
       "    .dataframe thead th {\n",
       "        text-align: right;\n",
       "    }\n",
       "</style>\n",
       "<table border=\"1\" class=\"dataframe\">\n",
       "  <thead>\n",
       "    <tr style=\"text-align: right;\">\n",
       "      <th></th>\n",
       "      <th>bike</th>\n",
       "      <th>start_time</th>\n",
       "      <th>weekend</th>\n",
       "      <th>duration_sec</th>\n",
       "      <th>start_lng</th>\n",
       "      <th>start_lat</th>\n",
       "      <th>start_place</th>\n",
       "      <th>start_plz</th>\n",
       "      <th>temp_2m</th>\n",
       "      <th>humidity_2m</th>\n",
       "      <th>...</th>\n",
       "      <th>max_m/s</th>\n",
       "      <th>min_mean_m/s</th>\n",
       "      <th>max_mean_m/s</th>\n",
       "      <th>direction_degree_y</th>\n",
       "      <th>min</th>\n",
       "      <th>month</th>\n",
       "      <th>weekdays</th>\n",
       "      <th>hour</th>\n",
       "      <th>duration_min</th>\n",
       "      <th>number_bookings</th>\n",
       "    </tr>\n",
       "  </thead>\n",
       "  <tbody>\n",
       "    <tr>\n",
       "      <th>47381</th>\n",
       "      <td>20685</td>\n",
       "      <td>2019-01-20 00:13:00</td>\n",
       "      <td>1</td>\n",
       "      <td>600.0</td>\n",
       "      <td>8.812554</td>\n",
       "      <td>53.076481</td>\n",
       "      <td>0.0</td>\n",
       "      <td>28195</td>\n",
       "      <td>-3.8</td>\n",
       "      <td>92.6</td>\n",
       "      <td>...</td>\n",
       "      <td>3.1</td>\n",
       "      <td>2.1</td>\n",
       "      <td>2.6</td>\n",
       "      <td>80.0</td>\n",
       "      <td>0.0</td>\n",
       "      <td>1</td>\n",
       "      <td>6</td>\n",
       "      <td>0</td>\n",
       "      <td>10.0</td>\n",
       "      <td>1</td>\n",
       "    </tr>\n",
       "    <tr>\n",
       "      <th>31405</th>\n",
       "      <td>20626</td>\n",
       "      <td>2019-01-20 00:16:00</td>\n",
       "      <td>1</td>\n",
       "      <td>16260.0</td>\n",
       "      <td>8.884911</td>\n",
       "      <td>53.078923</td>\n",
       "      <td>2985.0</td>\n",
       "      <td>28329</td>\n",
       "      <td>-3.8</td>\n",
       "      <td>92.6</td>\n",
       "      <td>...</td>\n",
       "      <td>3.1</td>\n",
       "      <td>2.1</td>\n",
       "      <td>2.6</td>\n",
       "      <td>80.0</td>\n",
       "      <td>0.0</td>\n",
       "      <td>1</td>\n",
       "      <td>6</td>\n",
       "      <td>0</td>\n",
       "      <td>271.0</td>\n",
       "      <td>1</td>\n",
       "    </tr>\n",
       "  </tbody>\n",
       "</table>\n",
       "<p>2 rows × 24 columns</p>\n",
       "</div>"
      ],
      "text/plain": [
       "        bike          start_time  weekend  duration_sec  start_lng  start_lat  \\\n",
       "47381  20685 2019-01-20 00:13:00        1         600.0   8.812554  53.076481   \n",
       "31405  20626 2019-01-20 00:16:00        1       16260.0   8.884911  53.078923   \n",
       "\n",
       "       start_place  start_plz  temp_2m  humidity_2m  ...  max_m/s  \\\n",
       "47381          0.0      28195     -3.8         92.6  ...      3.1   \n",
       "31405       2985.0      28329     -3.8         92.6  ...      3.1   \n",
       "\n",
       "       min_mean_m/s  max_mean_m/s  direction_degree_y  min  month  weekdays  \\\n",
       "47381           2.1           2.6                80.0  0.0      1         6   \n",
       "31405           2.1           2.6                80.0  0.0      1         6   \n",
       "\n",
       "       hour  duration_min  number_bookings  \n",
       "47381     0          10.0                1  \n",
       "31405     0         271.0                1  \n",
       "\n",
       "[2 rows x 24 columns]"
      ]
     },
     "execution_count": 6,
     "metadata": {},
     "output_type": "execute_result"
    }
   ],
   "source": [
    "#drop unnecessary columns\n",
    "df.drop(columns=[\"identification\", \"end_time\", \"end_lng\", \"end_lat\", \"end_place\", \"end_plz\", \"booking_date\"], inplace=True)\n",
    "\n",
    "df.head(2)"
   ]
  },
  {
   "cell_type": "code",
   "execution_count": 7,
   "metadata": {},
   "outputs": [
    {
     "data": {
      "text/plain": [
       "bike                  0\n",
       "start_time            0\n",
       "weekend               0\n",
       "duration_sec          0\n",
       "start_lng             0\n",
       "start_lat             0\n",
       "start_place           0\n",
       "start_plz             0\n",
       "temp_2m               0\n",
       "humidity_2m           0\n",
       "dew_point_2m          0\n",
       "max_at_2m             0\n",
       "mean_speed_h/s        0\n",
       "direction_degree_x    0\n",
       "max_m/s               0\n",
       "min_mean_m/s          0\n",
       "max_mean_m/s          0\n",
       "direction_degree_y    0\n",
       "min                   0\n",
       "month                 0\n",
       "weekdays              0\n",
       "hour                  0\n",
       "duration_min          0\n",
       "number_bookings       0\n",
       "dtype: int64"
      ]
     },
     "execution_count": 7,
     "metadata": {},
     "output_type": "execute_result"
    }
   ],
   "source": [
    "df.isna().sum()"
   ]
  },
  {
   "cell_type": "markdown",
   "metadata": {},
   "source": [
    "## Data preparation for feature selection"
   ]
  },
  {
   "cell_type": "code",
   "execution_count": 10,
   "metadata": {},
   "outputs": [],
   "source": [
    "#data by timespan 24H, 1H, 4H, 12H\n",
    "def setDataset(dataset, temp_resol, columnnamegroupby, functions_dic):\n",
    "    return dataset.resample(temp_resol, on=columnnamegroupby).agg(functions_dic)"
   ]
  },
  {
   "cell_type": "code",
   "execution_count": 11,
   "metadata": {},
   "outputs": [],
   "source": [
    "df_24h = setDataset(df, '24H', \"start_time\", {\"number_bookings\": \"count\", \"month\": \"mean\",  \"hour\": \"mean\", \"temp_2m\": \"mean\", \"min\": \"mean\"})"
   ]
  },
  {
   "cell_type": "code",
   "execution_count": 12,
   "metadata": {},
   "outputs": [
    {
     "data": {
      "text/plain": [
       "number_bookings     0\n",
       "month              34\n",
       "hour               34\n",
       "temp_2m            34\n",
       "min                34\n",
       "dtype: int64"
      ]
     },
     "execution_count": 12,
     "metadata": {},
     "output_type": "execute_result"
    }
   ],
   "source": [
    "df_24h.isna().sum()"
   ]
  },
  {
   "cell_type": "code",
   "execution_count": 13,
   "metadata": {},
   "outputs": [
    {
     "data": {
      "text/html": [
       "<div>\n",
       "<style scoped>\n",
       "    .dataframe tbody tr th:only-of-type {\n",
       "        vertical-align: middle;\n",
       "    }\n",
       "\n",
       "    .dataframe tbody tr th {\n",
       "        vertical-align: top;\n",
       "    }\n",
       "\n",
       "    .dataframe thead th {\n",
       "        text-align: right;\n",
       "    }\n",
       "</style>\n",
       "<table border=\"1\" class=\"dataframe\">\n",
       "  <thead>\n",
       "    <tr style=\"text-align: right;\">\n",
       "      <th></th>\n",
       "      <th>number_bookings</th>\n",
       "      <th>month</th>\n",
       "      <th>hour</th>\n",
       "      <th>temp_2m</th>\n",
       "      <th>min</th>\n",
       "    </tr>\n",
       "    <tr>\n",
       "      <th>start_time</th>\n",
       "      <th></th>\n",
       "      <th></th>\n",
       "      <th></th>\n",
       "      <th></th>\n",
       "      <th></th>\n",
       "    </tr>\n",
       "  </thead>\n",
       "  <tbody>\n",
       "    <tr>\n",
       "      <th>2019-03-16</th>\n",
       "      <td>0</td>\n",
       "      <td>NaN</td>\n",
       "      <td>NaN</td>\n",
       "      <td>NaN</td>\n",
       "      <td>NaN</td>\n",
       "    </tr>\n",
       "    <tr>\n",
       "      <th>2019-03-17</th>\n",
       "      <td>0</td>\n",
       "      <td>NaN</td>\n",
       "      <td>NaN</td>\n",
       "      <td>NaN</td>\n",
       "      <td>NaN</td>\n",
       "    </tr>\n",
       "    <tr>\n",
       "      <th>2019-03-18</th>\n",
       "      <td>0</td>\n",
       "      <td>NaN</td>\n",
       "      <td>NaN</td>\n",
       "      <td>NaN</td>\n",
       "      <td>NaN</td>\n",
       "    </tr>\n",
       "    <tr>\n",
       "      <th>2019-07-01</th>\n",
       "      <td>0</td>\n",
       "      <td>NaN</td>\n",
       "      <td>NaN</td>\n",
       "      <td>NaN</td>\n",
       "      <td>NaN</td>\n",
       "    </tr>\n",
       "    <tr>\n",
       "      <th>2019-07-02</th>\n",
       "      <td>0</td>\n",
       "      <td>NaN</td>\n",
       "      <td>NaN</td>\n",
       "      <td>NaN</td>\n",
       "      <td>NaN</td>\n",
       "    </tr>\n",
       "    <tr>\n",
       "      <th>2019-07-03</th>\n",
       "      <td>0</td>\n",
       "      <td>NaN</td>\n",
       "      <td>NaN</td>\n",
       "      <td>NaN</td>\n",
       "      <td>NaN</td>\n",
       "    </tr>\n",
       "    <tr>\n",
       "      <th>2019-07-04</th>\n",
       "      <td>0</td>\n",
       "      <td>NaN</td>\n",
       "      <td>NaN</td>\n",
       "      <td>NaN</td>\n",
       "      <td>NaN</td>\n",
       "    </tr>\n",
       "    <tr>\n",
       "      <th>2019-07-05</th>\n",
       "      <td>0</td>\n",
       "      <td>NaN</td>\n",
       "      <td>NaN</td>\n",
       "      <td>NaN</td>\n",
       "      <td>NaN</td>\n",
       "    </tr>\n",
       "    <tr>\n",
       "      <th>2019-07-06</th>\n",
       "      <td>0</td>\n",
       "      <td>NaN</td>\n",
       "      <td>NaN</td>\n",
       "      <td>NaN</td>\n",
       "      <td>NaN</td>\n",
       "    </tr>\n",
       "    <tr>\n",
       "      <th>2019-07-07</th>\n",
       "      <td>0</td>\n",
       "      <td>NaN</td>\n",
       "      <td>NaN</td>\n",
       "      <td>NaN</td>\n",
       "      <td>NaN</td>\n",
       "    </tr>\n",
       "    <tr>\n",
       "      <th>2019-07-08</th>\n",
       "      <td>0</td>\n",
       "      <td>NaN</td>\n",
       "      <td>NaN</td>\n",
       "      <td>NaN</td>\n",
       "      <td>NaN</td>\n",
       "    </tr>\n",
       "    <tr>\n",
       "      <th>2019-07-09</th>\n",
       "      <td>0</td>\n",
       "      <td>NaN</td>\n",
       "      <td>NaN</td>\n",
       "      <td>NaN</td>\n",
       "      <td>NaN</td>\n",
       "    </tr>\n",
       "    <tr>\n",
       "      <th>2019-07-10</th>\n",
       "      <td>0</td>\n",
       "      <td>NaN</td>\n",
       "      <td>NaN</td>\n",
       "      <td>NaN</td>\n",
       "      <td>NaN</td>\n",
       "    </tr>\n",
       "    <tr>\n",
       "      <th>2019-07-11</th>\n",
       "      <td>0</td>\n",
       "      <td>NaN</td>\n",
       "      <td>NaN</td>\n",
       "      <td>NaN</td>\n",
       "      <td>NaN</td>\n",
       "    </tr>\n",
       "    <tr>\n",
       "      <th>2019-07-12</th>\n",
       "      <td>0</td>\n",
       "      <td>NaN</td>\n",
       "      <td>NaN</td>\n",
       "      <td>NaN</td>\n",
       "      <td>NaN</td>\n",
       "    </tr>\n",
       "    <tr>\n",
       "      <th>2019-07-13</th>\n",
       "      <td>0</td>\n",
       "      <td>NaN</td>\n",
       "      <td>NaN</td>\n",
       "      <td>NaN</td>\n",
       "      <td>NaN</td>\n",
       "    </tr>\n",
       "    <tr>\n",
       "      <th>2019-07-14</th>\n",
       "      <td>0</td>\n",
       "      <td>NaN</td>\n",
       "      <td>NaN</td>\n",
       "      <td>NaN</td>\n",
       "      <td>NaN</td>\n",
       "    </tr>\n",
       "    <tr>\n",
       "      <th>2019-07-15</th>\n",
       "      <td>0</td>\n",
       "      <td>NaN</td>\n",
       "      <td>NaN</td>\n",
       "      <td>NaN</td>\n",
       "      <td>NaN</td>\n",
       "    </tr>\n",
       "    <tr>\n",
       "      <th>2019-07-16</th>\n",
       "      <td>0</td>\n",
       "      <td>NaN</td>\n",
       "      <td>NaN</td>\n",
       "      <td>NaN</td>\n",
       "      <td>NaN</td>\n",
       "    </tr>\n",
       "    <tr>\n",
       "      <th>2019-07-17</th>\n",
       "      <td>0</td>\n",
       "      <td>NaN</td>\n",
       "      <td>NaN</td>\n",
       "      <td>NaN</td>\n",
       "      <td>NaN</td>\n",
       "    </tr>\n",
       "    <tr>\n",
       "      <th>2019-07-18</th>\n",
       "      <td>0</td>\n",
       "      <td>NaN</td>\n",
       "      <td>NaN</td>\n",
       "      <td>NaN</td>\n",
       "      <td>NaN</td>\n",
       "    </tr>\n",
       "    <tr>\n",
       "      <th>2019-07-19</th>\n",
       "      <td>0</td>\n",
       "      <td>NaN</td>\n",
       "      <td>NaN</td>\n",
       "      <td>NaN</td>\n",
       "      <td>NaN</td>\n",
       "    </tr>\n",
       "    <tr>\n",
       "      <th>2019-07-20</th>\n",
       "      <td>0</td>\n",
       "      <td>NaN</td>\n",
       "      <td>NaN</td>\n",
       "      <td>NaN</td>\n",
       "      <td>NaN</td>\n",
       "    </tr>\n",
       "    <tr>\n",
       "      <th>2019-07-21</th>\n",
       "      <td>0</td>\n",
       "      <td>NaN</td>\n",
       "      <td>NaN</td>\n",
       "      <td>NaN</td>\n",
       "      <td>NaN</td>\n",
       "    </tr>\n",
       "    <tr>\n",
       "      <th>2019-07-22</th>\n",
       "      <td>0</td>\n",
       "      <td>NaN</td>\n",
       "      <td>NaN</td>\n",
       "      <td>NaN</td>\n",
       "      <td>NaN</td>\n",
       "    </tr>\n",
       "    <tr>\n",
       "      <th>2019-07-23</th>\n",
       "      <td>0</td>\n",
       "      <td>NaN</td>\n",
       "      <td>NaN</td>\n",
       "      <td>NaN</td>\n",
       "      <td>NaN</td>\n",
       "    </tr>\n",
       "    <tr>\n",
       "      <th>2019-07-24</th>\n",
       "      <td>0</td>\n",
       "      <td>NaN</td>\n",
       "      <td>NaN</td>\n",
       "      <td>NaN</td>\n",
       "      <td>NaN</td>\n",
       "    </tr>\n",
       "    <tr>\n",
       "      <th>2019-07-25</th>\n",
       "      <td>0</td>\n",
       "      <td>NaN</td>\n",
       "      <td>NaN</td>\n",
       "      <td>NaN</td>\n",
       "      <td>NaN</td>\n",
       "    </tr>\n",
       "    <tr>\n",
       "      <th>2019-07-26</th>\n",
       "      <td>0</td>\n",
       "      <td>NaN</td>\n",
       "      <td>NaN</td>\n",
       "      <td>NaN</td>\n",
       "      <td>NaN</td>\n",
       "    </tr>\n",
       "    <tr>\n",
       "      <th>2019-07-27</th>\n",
       "      <td>0</td>\n",
       "      <td>NaN</td>\n",
       "      <td>NaN</td>\n",
       "      <td>NaN</td>\n",
       "      <td>NaN</td>\n",
       "    </tr>\n",
       "    <tr>\n",
       "      <th>2019-07-28</th>\n",
       "      <td>0</td>\n",
       "      <td>NaN</td>\n",
       "      <td>NaN</td>\n",
       "      <td>NaN</td>\n",
       "      <td>NaN</td>\n",
       "    </tr>\n",
       "    <tr>\n",
       "      <th>2019-07-29</th>\n",
       "      <td>0</td>\n",
       "      <td>NaN</td>\n",
       "      <td>NaN</td>\n",
       "      <td>NaN</td>\n",
       "      <td>NaN</td>\n",
       "    </tr>\n",
       "    <tr>\n",
       "      <th>2019-07-30</th>\n",
       "      <td>0</td>\n",
       "      <td>NaN</td>\n",
       "      <td>NaN</td>\n",
       "      <td>NaN</td>\n",
       "      <td>NaN</td>\n",
       "    </tr>\n",
       "    <tr>\n",
       "      <th>2019-07-31</th>\n",
       "      <td>0</td>\n",
       "      <td>NaN</td>\n",
       "      <td>NaN</td>\n",
       "      <td>NaN</td>\n",
       "      <td>NaN</td>\n",
       "    </tr>\n",
       "  </tbody>\n",
       "</table>\n",
       "</div>"
      ],
      "text/plain": [
       "            number_bookings  month  hour  temp_2m  min\n",
       "start_time                                            \n",
       "2019-03-16                0    NaN   NaN      NaN  NaN\n",
       "2019-03-17                0    NaN   NaN      NaN  NaN\n",
       "2019-03-18                0    NaN   NaN      NaN  NaN\n",
       "2019-07-01                0    NaN   NaN      NaN  NaN\n",
       "2019-07-02                0    NaN   NaN      NaN  NaN\n",
       "2019-07-03                0    NaN   NaN      NaN  NaN\n",
       "2019-07-04                0    NaN   NaN      NaN  NaN\n",
       "2019-07-05                0    NaN   NaN      NaN  NaN\n",
       "2019-07-06                0    NaN   NaN      NaN  NaN\n",
       "2019-07-07                0    NaN   NaN      NaN  NaN\n",
       "2019-07-08                0    NaN   NaN      NaN  NaN\n",
       "2019-07-09                0    NaN   NaN      NaN  NaN\n",
       "2019-07-10                0    NaN   NaN      NaN  NaN\n",
       "2019-07-11                0    NaN   NaN      NaN  NaN\n",
       "2019-07-12                0    NaN   NaN      NaN  NaN\n",
       "2019-07-13                0    NaN   NaN      NaN  NaN\n",
       "2019-07-14                0    NaN   NaN      NaN  NaN\n",
       "2019-07-15                0    NaN   NaN      NaN  NaN\n",
       "2019-07-16                0    NaN   NaN      NaN  NaN\n",
       "2019-07-17                0    NaN   NaN      NaN  NaN\n",
       "2019-07-18                0    NaN   NaN      NaN  NaN\n",
       "2019-07-19                0    NaN   NaN      NaN  NaN\n",
       "2019-07-20                0    NaN   NaN      NaN  NaN\n",
       "2019-07-21                0    NaN   NaN      NaN  NaN\n",
       "2019-07-22                0    NaN   NaN      NaN  NaN\n",
       "2019-07-23                0    NaN   NaN      NaN  NaN\n",
       "2019-07-24                0    NaN   NaN      NaN  NaN\n",
       "2019-07-25                0    NaN   NaN      NaN  NaN\n",
       "2019-07-26                0    NaN   NaN      NaN  NaN\n",
       "2019-07-27                0    NaN   NaN      NaN  NaN\n",
       "2019-07-28                0    NaN   NaN      NaN  NaN\n",
       "2019-07-29                0    NaN   NaN      NaN  NaN\n",
       "2019-07-30                0    NaN   NaN      NaN  NaN\n",
       "2019-07-31                0    NaN   NaN      NaN  NaN"
      ]
     },
     "execution_count": 13,
     "metadata": {},
     "output_type": "execute_result"
    }
   ],
   "source": [
    "#Null values stem from the month of july (1st - 31st) and previously dropped days of march (16th, 17th, 18th)\n",
    "df_24h[df_24h.isna().any(axis=1)]"
   ]
  },
  {
   "cell_type": "code",
   "execution_count": 14,
   "metadata": {},
   "outputs": [],
   "source": [
    "df_24h.dropna(axis=0, inplace=True)"
   ]
  },
  {
   "cell_type": "markdown",
   "metadata": {},
   "source": [
    "## Feature selection"
   ]
  },
  {
   "cell_type": "markdown",
   "metadata": {},
   "source": [
    "#### Which features are higly correlated to number_bookings?"
   ]
  },
  {
   "cell_type": "code",
   "execution_count": 15,
   "metadata": {},
   "outputs": [
    {
     "data": {
      "text/plain": [
       "number_bookings    1.000000\n",
       "month              0.327644\n",
       "hour               0.284519\n",
       "temp_2m            0.706097\n",
       "min               -0.406672\n",
       "dtype: float64"
      ]
     },
     "execution_count": 15,
     "metadata": {},
     "output_type": "execute_result"
    }
   ],
   "source": [
    "df_24h.corrwith(df_24h['number_bookings'])"
   ]
  },
  {
   "cell_type": "markdown",
   "metadata": {},
   "source": [
    "#### Features which are correlated to number of bookings:\n",
    "datetime related\n",
    "- month is correlated\n",
    "- hour is correlated\n",
    "- weekdays is not correlated\n",
    "\n",
    "weather related\n",
    "- temp_2m is very highly correlated\n",
    "- humidity_2m is highly correlated\n",
    "- dew_point is very highly correlated\n",
    "- min_mean_m/s (min wind speed m/s) is correlated\n",
    "- max_at_2m (max temp) is very highly correlated\n",
    "- min (rain minutes) is highly correlated\n",
    "- mm (rain mm) is correlated\n",
    "- other features are not correlated"
   ]
  },
  {
   "cell_type": "markdown",
   "metadata": {},
   "source": [
    "#### Which weather features should we use?\n",
    "Correlation matrix of weather related features:"
   ]
  },
  {
   "cell_type": "code",
   "execution_count": 16,
   "metadata": {},
   "outputs": [
    {
     "data": {
      "image/png": "[encoded data removed]",
      "text/plain": [
       "<Figure size 720x576 with 2 Axes>"
      ]
     },
     "metadata": {
      "needs_background": "light"
     },
     "output_type": "display_data"
    }
   ],
   "source": [
    "#Using Pearson Correlation for everything with corr above |0.1| to number_bookings\n",
    "plt.figure(figsize=(10,8))\n",
    "cor = df_24h[['number_bookings','month','hour',\"temp_2m\",\"min\"]].corr()\n",
    "sns.heatmap(cor, annot=True, cmap=plt.cm.Reds)\n",
    "plt.show()"
   ]
  },
  {
   "cell_type": "markdown",
   "metadata": {},
   "source": [
    "#### Findings:\n",
    "- max_at_2m and temp_2m are basically the same\n",
    "- dew_point_2m is very highly correlated to max_at_2m as well as temp_2m (0.82)\n",
    "- humidity_2m is highly correlated to max_at_2m as well as temp_2m, yet has no correlation to dew_point_2m\n",
    "\n",
    "--> Since max_at_2m and temp_2m have the same correlaiton to number_bookings, we will get rid of dew_point_2m. We expect the correlation of max_at_2m am to differ for smaller temporal resolutions, e.g. hourly datapoints. That's why we get rid of max_at_2m and decide to keep temp_2m instead. Because of its high correlation to other temperature features, we will also get rid of humidity_2m.\n",
    "\n",
    "- min (rain) and mm (rain) are very highly correlated\n",
    "\n",
    "--> since min (rain) has a higher correlation to number_bookings than mm (rain) we will get rid of mm (rain).\n",
    "\n",
    "- min_mean_m/s is correlated with min (rain)\n",
    "\n",
    "--> since min_mean_m/s provides the lowest correlation to number_bookings and is correlated to min (rain), we will get rid of min_mean_m/s\n"
   ]
  },
  {
   "cell_type": "markdown",
   "metadata": {},
   "source": [
    "#### Which datetime features should we use?\n",
    "\n",
    "Correlation matrix of datetime features:"
   ]
  },
  {
   "cell_type": "code",
   "execution_count": 17,
   "metadata": {},
   "outputs": [
    {
     "data": {
      "image/png": "[encoded data removed]",
      "text/plain": [
       "<Figure size 720x576 with 2 Axes>"
      ]
     },
     "metadata": {
      "needs_background": "light"
     },
     "output_type": "display_data"
    }
   ],
   "source": [
    "#Using Pearson Correlation for everything with corr above |0.1| to number_bookings\n",
    "plt.figure(figsize=(10,8))\n",
    "cor = df_24h[['number_bookings','month', \"hour\"]].corr()\n",
    "sns.heatmap(cor, annot=True, cmap=plt.cm.Reds)\n",
    "plt.show()"
   ]
  },
  {
   "cell_type": "markdown",
   "metadata": {},
   "source": [
    "#### Findings:\n",
    "- month and hour are correlated to number_bookings\n",
    "- month and hour are correlated to each other\n",
    "\n",
    "--> since month and hour have the highest correlation to number_bookings we will get rid of weekdays, we expect the correlation of hour to change with temporal resolution, which is why we keep both, hour and month as features"
   ]
  },
  {
   "cell_type": "markdown",
   "metadata": {},
   "source": [
    "#### These are the features we select for our number_bookings prediction:\n",
    "- hour\n",
    "- month\n",
    "- temp_2m\n",
    "- min (rain)\n",
    "\n",
    "As we can see, our features are not highly correlated to each other, while providing relatively high correlation to our target feature, number_bookings. The feature temp_2m."
   ]
  },
  {
   "cell_type": "code",
   "execution_count": 18,
   "metadata": {},
   "outputs": [],
   "source": [
    "features_y = ['number_bookings','month',\"hour\",'temp_2m', \"min\"]\n",
    "features = ['month',\"hour\",'temp_2m', \"min\"]"
   ]
  },
  {
   "cell_type": "code",
   "execution_count": 19,
   "metadata": {},
   "outputs": [
    {
     "data": {
      "image/png": "[encoded data removed]",
      "text/plain": [
       "<Figure size 720x576 with 2 Axes>"
      ]
     },
     "metadata": {
      "needs_background": "light"
     },
     "output_type": "display_data"
    }
   ],
   "source": [
    "#Using Pearson Correlation for everything with corr above |0.1| to number_bookings\n",
    "plt.figure(figsize=(10,8))\n",
    "cor = df_24h[features_y].corr()\n",
    "sns.heatmap(cor, annot=True, cmap=plt.cm.Reds)\n",
    "plt.show()"
   ]
  },
  {
   "cell_type": "code",
   "execution_count": 20,
   "metadata": {},
   "outputs": [
    {
     "name": "stdout",
     "output_type": "stream",
     "text": [
      "number_bookings - 0.0%\n",
      "month - 0.0%\n",
      "hour - 0.0%\n",
      "temp_2m - 0.0%\n",
      "min - 0.0%\n"
     ]
    }
   ],
   "source": [
    "for col in df_24h.columns:\n",
    "    pct_missing = np.mean(df_24h[col].isnull())\n",
    "    print('{} - {}%'.format(col, round(pct_missing*100)))"
   ]
  },
  {
   "cell_type": "markdown",
   "metadata": {},
   "source": [
    "## Prediction by temporal resolution (24h, 12h, 6h, 1h)"
   ]
  },
  {
   "cell_type": "code",
   "execution_count": 21,
   "metadata": {},
   "outputs": [],
   "source": [
    "from sklearn.model_selection import train_test_split\n",
    "from sklearn.linear_model import LinearRegression\n",
    "from sklearn.preprocessing import PolynomialFeatures\n",
    "from sklearn.metrics import mean_squared_error\n",
    "from sklearn.metrics import mean_absolute_error"
   ]
  },
  {
   "cell_type": "markdown",
   "metadata": {},
   "source": [
    "#### Test set performance function:"
   ]
  },
  {
   "cell_type": "code",
   "execution_count": 22,
   "metadata": {},
   "outputs": [],
   "source": [
    "def testperformance(X_train, y_train, X_val, X_test, y_val, y_test, deg, i):\n",
    "    \n",
    "    #merge train and val\n",
    "    X_train = X_train.append(X_val)\n",
    "    y_train = y_train.append(y_val)\n",
    "    \n",
    "    #initialize model\n",
    "    poly = PolynomialFeatures(deg)\n",
    "    X_train_poly = poly.fit_transform(X_train)\n",
    "    \n",
    "    lin = LinearRegression()\n",
    "    \n",
    "    #train + val performance\n",
    "    lin.fit(X_train_poly, y_train)\n",
    "    r2_train_val = lin.score(X_train_poly, y_train)\n",
    "    mae_train_val = mean_absolute_error(y_train, lin.predict(X_train_poly))\n",
    "    \n",
    "    #test performance\n",
    "    X_test_poly = poly.fit_transform(X_test)\n",
    "    r2_test = lin.score(X_test_poly,y_test)\n",
    "    mae_test = mean_absolute_error(y_test, lin.predict(X_test_poly))\n",
    "    \n",
    "    print(\"The merged train + validataion dataset of temporal resolution \", i ,\" scored R2 of: \", r2_train_val.round(4), \" and scored MAE of: \", mae_train_val.round(4))\n",
    "    print(\"The test dataset of temporal resolution \", i ,\" scored R2 of: \", r2_test.round(4),  \" and scored MAE of: \", mae_test.round(4))\n",
    "    "
   ]
  },
  {
   "cell_type": "markdown",
   "metadata": {},
   "source": [
    "#### Polynomial degree suggestion function:"
   ]
  },
  {
   "cell_type": "code",
   "execution_count": 23,
   "metadata": {},
   "outputs": [],
   "source": [
    "#this function chooses the best degree for a polynomial regression model\n",
    "def chooseDegree(X, y, i):\n",
    "    \n",
    "    # Splitting data into train and validation set\n",
    "    X_train, X_val_test, y_train, y_val_test = train_test_split(X, y, test_size=0.60, shuffle=True, random_state=42)\n",
    "    X_val, X_test, y_val, y_test = train_test_split(X_val_test, y_val_test, test_size=0.60, shuffle=True, random_state=42)\n",
    "\n",
    "    R2_train = []\n",
    "    R2_val = []\n",
    "    rmses_val = []\n",
    "    degrees = np.arange(1, 10)\n",
    "    min_rmse, min_deg = 1e10, 0\n",
    "\n",
    "    for deg in degrees:\n",
    "\n",
    "        # Train features\n",
    "        poly_features = PolynomialFeatures(degree=deg, include_bias=False)\n",
    "        X_poly_train = poly_features.fit_transform(X_train)\n",
    "\n",
    "        # Linear regression\n",
    "        poly_reg = LinearRegression()\n",
    "        poly_reg.fit(X_poly_train, y_train)\n",
    "        X_val_poly = poly_features.fit_transform(X_val)\n",
    "        \n",
    "        # Evaluate\n",
    "        R2_train.append(poly_reg.score(X_poly_train, y_train))\n",
    "        R2_val.append(poly_reg.score(X_val_poly,y_val))\n",
    "        \n",
    "        \n",
    "#         print(\"R2 train: \", poly_reg.score(X_poly_train, y_train))\n",
    "#         print(\"R2 val: \", poly_reg.score(X_val_poly,y_val))\n",
    "\n",
    "        # Compare with val data\n",
    "        poly_predict = poly_reg.predict(X_val_poly)\n",
    "        poly_mse = mean_squared_error(y_val, poly_predict)\n",
    "        poly_rmse = np.sqrt(poly_mse)\n",
    "        rmses_val.append(poly_rmse)\n",
    "        \n",
    "        # compare val R2 score\n",
    "        poly_r2 = poly_reg.score(X_val_poly,y_val)\n",
    "        \n",
    "        # compare val MAE\n",
    "        poly_MAE = mean_absolute_error(y_val, poly_reg.predict(X_val_poly))\n",
    "\n",
    "        # Cross-validation of degree\n",
    "        if min_rmse > poly_rmse:\n",
    "            min_rmse = poly_rmse\n",
    "            min_deg = deg\n",
    "            max_r2 = poly_r2\n",
    "            min_MAE = poly_MAE\n",
    "        \n",
    "        #end of degree testing? -> test performance on test set\n",
    "        if deg >= 9:\n",
    "            # Plot and present results\n",
    "            print('Suggested degree of {} with validation set RMSE of {} and R2 of {} and MAE of {}'.format(min_deg, min_rmse.round(4), max_r2.round(4), min_MAE.round(4)))\n",
    "\n",
    "            #test set performance\n",
    "            testperformance(X_train, y_train, X_val, X_test, y_val, y_test, min_deg, i)\n",
    "        \n",
    "        \n",
    "#     # Plot and present results\n",
    "#     print('Suggested degree of {} with validation set RMSE of {} and R2 of {} '.format(min_deg, min_rmse.round(4), max_r2.round(4)))\n",
    "\n",
    "\n",
    "    \n",
    "    fig, axes = plt.subplots(nrows=1, ncols=2, figsize=(16, 8))\n",
    "    \n",
    "    #ax_rmses_val = fig.add_subplot(111)\n",
    "    axes[0].plot(degrees, rmses_val, label=('rmses_val with resolution: ', i))\n",
    "    axes[0].set_yscale('log')\n",
    "    axes[0].set_xlabel('Degree')\n",
    "    axes[0].set_ylabel('RMSE')\n",
    "    \n",
    "    #ax_R2_train = fig.add_subplot(111)\n",
    "    axes[1].plot(degrees, R2_train, label=('R2_train with resolution: ', i))\n",
    "    axes[1].set_yscale('linear')\n",
    "    axes[1].set_xlabel('Degree')\n",
    "    axes[1].set_ylabel('R2_train')\n",
    "    axes[1].set_label('R2_train')\n",
    "    axes[1].set_ylim(0, 1)\n",
    "    \n",
    "    #ax_R2_val = fig.add_subplot(111)\n",
    "    axes[1].plot(degrees, R2_val, label='R2_val')\n",
    "    axes[1].set_xlabel('Degree')\n",
    "    axes[1].set_ylabel('R2_val')\n",
    "    \n",
    "    axes[0].legend()\n",
    "    axes[1].legend()\n",
    "    fig.tight_layout()"
   ]
  },
  {
   "cell_type": "markdown",
   "metadata": {},
   "source": [
    "#### Temporal resolution of datasets function:"
   ]
  },
  {
   "cell_type": "code",
   "execution_count": 24,
   "metadata": {},
   "outputs": [],
   "source": [
    "#data by timespan 24H, 1H, 4H, 12H\n",
    "def setDataset(dataset, temp_resol, columnnamegroupby, functions_dic):\n",
    "    global newDataset\n",
    "    newDataset = dataset.resample(temp_resol, on =columnnamegroupby).agg(functions_dic)"
   ]
  },
  {
   "cell_type": "code",
   "execution_count": 25,
   "metadata": {},
   "outputs": [
    {
     "name": "stdout",
     "output_type": "stream",
     "text": [
      "temporal resolution of:  24H  has an mean number_bookings of:  426.22\n",
      "temporal resolution of:  12H  has an mean number_bookings of:  213.45\n",
      "temporal resolution of:  6H  has an mean number_bookings of:  106.98\n",
      "temporal resolution of:  1H  has an mean number_bookings of:  18.36\n"
     ]
    }
   ],
   "source": [
    "#print out mean of number_bookings for given temporal reoslution to compare with MAE later on\n",
    "temp_resol = ['24H', '12H', '6H', '1H']\n",
    "for i in temp_resol:\n",
    "    setDataset(df,i,\"start_time\", {\"number_bookings\":\"count\", \"month\":\"mean\",  \"hour\":\"mean\", \"temp_2m\":\"mean\", \"min\":\"mean\",})\n",
    "    #data\n",
    "    data = newDataset\n",
    "    #drop null\n",
    "    data.dropna(axis=0, inplace=True)\n",
    "    \n",
    "    mean_demand = data.number_bookings.mean()\n",
    "    mean_demand = round(mean_demand,2)\n",
    "    print(\"temporal resolution of: \", i, \" has an mean number_bookings of: \", mean_demand)\n",
    "    "
   ]
  },
  {
   "cell_type": "markdown",
   "metadata": {},
   "source": [
    "#### Combined function to create temporal resolution datasets, determine polynomial degree and evaluate test set performance"
   ]
  },
  {
   "cell_type": "code",
   "execution_count": 26,
   "metadata": {},
   "outputs": [],
   "source": [
    "def create_predict_test(dataset):\n",
    "    temp_resol = ['24H', '12H', '6H', '1H']\n",
    "    features = ['month',\"hour\",'temp_2m', \"min\"]\n",
    "    counter = 0\n",
    "    global data\n",
    "    global X\n",
    "    global y\n",
    "    for i in temp_resol:\n",
    "        counter = counter +1 # not used\n",
    "        #create dataset \n",
    "        setDataset(df,i,\"start_time\", {\"number_bookings\":\"count\", \"month\":\"mean\",  \"hour\":\"mean\", \"temp_2m\":\"mean\", \"min\":\"mean\",})\n",
    "        data = newDataset\n",
    "        #drop null\n",
    "        data.dropna(axis=0, inplace=True)\n",
    "        \n",
    "        #create features\n",
    "        X = data[features]\n",
    "        y = data['number_bookings']\n",
    "        \n",
    "        print('#################################')\n",
    "        print(\"temporal resolution of: \", i)\n",
    "        \n",
    "        #train, predict, evaluate\n",
    "        chooseDegree(X,y,i)"
   ]
  },
  {
   "cell_type": "markdown",
   "metadata": {},
   "source": [
    "### Prediction and evaluation of number_bookings with suggested polynomial regression degrees:"
   ]
  },
  {
   "cell_type": "code",
   "execution_count": 27,
   "metadata": {
    "scrolled": false
   },
   "outputs": [
    {
     "name": "stdout",
     "output_type": "stream",
     "text": [
      "#################################\n",
      "temporal resolution of:  24H\n",
      "Suggested degree of 1 with validation set RMSE of 75.2566 and R2 of 0.7607 and MAE of 59.8281\n",
      "The merged train + validataion dataset of temporal resolution  24H  scored R2 of:  0.7208  and scored MAE of:  65.124\n",
      "The test dataset of temporal resolution  24H  scored R2 of:  0.6241  and scored MAE of:  67.125\n",
      "#################################\n",
      "temporal resolution of:  12H\n",
      "Suggested degree of 2 with validation set RMSE of 48.9833 and R2 of 0.7846 and MAE of 38.098\n",
      "The merged train + validataion dataset of temporal resolution  12H  scored R2 of:  0.7926  and scored MAE of:  34.5608\n",
      "The test dataset of temporal resolution  12H  scored R2 of:  0.7642  and scored MAE of:  34.2552\n",
      "#################################\n",
      "temporal resolution of:  6H\n",
      "Suggested degree of 3 with validation set RMSE of 35.0418 and R2 of 0.7304 and MAE of 27.2021\n",
      "The merged train + validataion dataset of temporal resolution  6H  scored R2 of:  0.7652  and scored MAE of:  26.037\n",
      "The test dataset of temporal resolution  6H  scored R2 of:  0.7567  and scored MAE of:  26.711\n",
      "#################################\n",
      "temporal resolution of:  1H\n",
      "Suggested degree of 4 with validation set RMSE of 8.935 and R2 of 0.5981 and MAE of 6.6567\n",
      "The merged train + validataion dataset of temporal resolution  1H  scored R2 of:  0.5983  and scored MAE of:  6.5556\n",
      "The test dataset of temporal resolution  1H  scored R2 of:  0.5719  and scored MAE of:  6.7605\n"
     ]
    },
    {
     "data": {
      "image/png": "[encoded data removed]",
      "text/plain": [
       "<Figure size 1152x576 with 2 Axes>"
      ]
     },
     "metadata": {
      "needs_background": "light"
     },
     "output_type": "display_data"
    },
    {
     "data": {
      "image/png": "[encoded data removed]",
      "text/plain": [
       "<Figure size 1152x576 with 2 Axes>"
      ]
     },
     "metadata": {
      "needs_background": "light"
     },
     "output_type": "display_data"
    },
    {
     "data": {
      "image/png": "[encoded data removed]",
      "text/plain": [
       "<Figure size 1152x576 with 2 Axes>"
      ]
     },
     "metadata": {
      "needs_background": "light"
     },
     "output_type": "display_data"
    },
    {
     "data": {
      "image/png": "[encoded data removed]",
      "text/plain": [
       "<Figure size 1152x576 with 2 Axes>"
      ]
     },
     "metadata": {
      "needs_background": "light"
     },
     "output_type": "display_data"
    }
   ],
   "source": [
    "create_predict_test(df)"
   ]
  },
  {
   "cell_type": "code",
   "execution_count": null,
   "metadata": {},
   "outputs": [],
   "source": []
  }
 ],
 "metadata": {
  "kernelspec": {
   "display_name": "Python 3",
   "language": "python",
   "name": "python3"
  },
  "language_info": {
   "codemirror_mode": {
    "name": "ipython",
    "version": 3
   },
   "file_extension": ".py",
   "mimetype": "text/x-python",
   "name": "python",
   "nbconvert_exporter": "python",
   "pygments_lexer": "ipython3",
   "version": "3.7.3"
  }
 },
 "nbformat": 4,
 "nbformat_minor": 4
}
