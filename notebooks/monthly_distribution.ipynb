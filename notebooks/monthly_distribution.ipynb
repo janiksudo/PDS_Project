{
 "cells": [
  {
   "cell_type": "code",
   "execution_count": 2,
   "metadata": {
    "scrolled": true
   },
   "outputs": [],
   "source": [
    "import pandas as pd\n",
    "import sys\n",
    "from datetime import date, datetime\n",
    "import matplotlib.pyplot as plt\n",
    "import seaborn as sns\n",
    "import numpy as np"
   ]
  },
  {
   "cell_type": "code",
   "execution_count": 3,
   "metadata": {},
   "outputs": [],
   "source": [
    "sys.path.insert(0,\"..\")"
   ]
  },
  {
   "cell_type": "code",
   "execution_count": 4,
   "metadata": {},
   "outputs": [],
   "source": [
    "bremen_trips = pd.read_csv(\"../data/processed/trips.csv\")"
   ]
  },
  {
   "cell_type": "code",
   "execution_count": 5,
   "metadata": {},
   "outputs": [],
   "source": [
    "bremen_trips = bremen_trips.sort_values(by=['start_time'], ascending=True)"
   ]
  },
  {
   "cell_type": "code",
   "execution_count": 6,
   "metadata": {},
   "outputs": [],
   "source": [
    "bremen_trips[\"start_time\"] = pd.to_datetime(bremen_trips[\"start_time\"])"
   ]
  },
  {
   "cell_type": "code",
   "execution_count": 7,
   "metadata": {},
   "outputs": [],
   "source": [
    "bremen_trips = bremen_trips[(bremen_trips['start_lng'] != bremen_trips['end_lng']) | (bremen_trips['start_lat'] != bremen_trips['end_lat'])]"
   ]
  },
  {
   "cell_type": "code",
   "execution_count": 8,
   "metadata": {},
   "outputs": [],
   "source": [
    "for col in ['start_time']:\n",
    "    bremen_trips['month'] = pd.DatetimeIndex(bremen_trips['start_time']).month\n",
    "    bremen_trips['booking_date'] = bremen_trips.start_time.dt.date\n",
    "    bremen_trips['weekdays'] = pd.DatetimeIndex(bremen_trips['start_time']).weekday"
   ]
  },
  {
   "cell_type": "code",
   "execution_count": 9,
   "metadata": {},
   "outputs": [
    {
     "data": {
      "text/html": [
       "<div>\n",
       "<style scoped>\n",
       "    .dataframe tbody tr th:only-of-type {\n",
       "        vertical-align: middle;\n",
       "    }\n",
       "\n",
       "    .dataframe tbody tr th {\n",
       "        vertical-align: top;\n",
       "    }\n",
       "\n",
       "    .dataframe thead th {\n",
       "        text-align: right;\n",
       "    }\n",
       "</style>\n",
       "<table border=\"1\" class=\"dataframe\">\n",
       "  <thead>\n",
       "    <tr style=\"text-align: right;\">\n",
       "      <th></th>\n",
       "      <th>bike</th>\n",
       "      <th>bike_type</th>\n",
       "      <th>identification</th>\n",
       "      <th>start_time</th>\n",
       "      <th>end_time</th>\n",
       "      <th>duration_sec</th>\n",
       "      <th>start_lng</th>\n",
       "      <th>start_lat</th>\n",
       "      <th>end_lng</th>\n",
       "      <th>end_lat</th>\n",
       "      <th>start_place</th>\n",
       "      <th>end_place</th>\n",
       "      <th>month</th>\n",
       "      <th>booking_date</th>\n",
       "      <th>weekdays</th>\n",
       "    </tr>\n",
       "  </thead>\n",
       "  <tbody>\n",
       "    <tr>\n",
       "      <th>81821</th>\n",
       "      <td>20685</td>\n",
       "      <td>71</td>\n",
       "      <td>12099440</td>\n",
       "      <td>2019-01-20 00:13:00</td>\n",
       "      <td>2019-01-20 00:23:00</td>\n",
       "      <td>600.0</td>\n",
       "      <td>8.812554</td>\n",
       "      <td>53.076481</td>\n",
       "      <td>8.804828</td>\n",
       "      <td>53.084196</td>\n",
       "      <td>0.0</td>\n",
       "      <td>0.0</td>\n",
       "      <td>1</td>\n",
       "      <td>2019-01-20</td>\n",
       "      <td>6</td>\n",
       "    </tr>\n",
       "    <tr>\n",
       "      <th>204560</th>\n",
       "      <td>20935</td>\n",
       "      <td>71</td>\n",
       "      <td>7873316</td>\n",
       "      <td>2019-01-20 00:35:00</td>\n",
       "      <td>2019-01-25 08:00:00</td>\n",
       "      <td>458700.0</td>\n",
       "      <td>8.816798</td>\n",
       "      <td>53.072448</td>\n",
       "      <td>8.811472</td>\n",
       "      <td>53.083167</td>\n",
       "      <td>0.0</td>\n",
       "      <td>2946.0</td>\n",
       "      <td>1</td>\n",
       "      <td>2019-01-20</td>\n",
       "      <td>6</td>\n",
       "    </tr>\n",
       "    <tr>\n",
       "      <th>49030</th>\n",
       "      <td>20617</td>\n",
       "      <td>71</td>\n",
       "      <td>12099749</td>\n",
       "      <td>2019-01-20 00:40:00</td>\n",
       "      <td>2019-01-20 00:44:00</td>\n",
       "      <td>240.0</td>\n",
       "      <td>8.801623</td>\n",
       "      <td>53.067878</td>\n",
       "      <td>8.793217</td>\n",
       "      <td>53.064244</td>\n",
       "      <td>0.0</td>\n",
       "      <td>0.0</td>\n",
       "      <td>1</td>\n",
       "      <td>2019-01-20</td>\n",
       "      <td>6</td>\n",
       "    </tr>\n",
       "    <tr>\n",
       "      <th>131464</th>\n",
       "      <td>20795</td>\n",
       "      <td>71</td>\n",
       "      <td>12099872</td>\n",
       "      <td>2019-01-20 00:47:00</td>\n",
       "      <td>2019-01-20 00:54:00</td>\n",
       "      <td>420.0</td>\n",
       "      <td>8.814744</td>\n",
       "      <td>53.084841</td>\n",
       "      <td>8.801135</td>\n",
       "      <td>53.094596</td>\n",
       "      <td>0.0</td>\n",
       "      <td>0.0</td>\n",
       "      <td>1</td>\n",
       "      <td>2019-01-20</td>\n",
       "      <td>6</td>\n",
       "    </tr>\n",
       "    <tr>\n",
       "      <th>200261</th>\n",
       "      <td>20927</td>\n",
       "      <td>71</td>\n",
       "      <td>12100199</td>\n",
       "      <td>2019-01-20 01:07:00</td>\n",
       "      <td>2019-01-20 01:15:00</td>\n",
       "      <td>480.0</td>\n",
       "      <td>8.815254</td>\n",
       "      <td>53.084302</td>\n",
       "      <td>8.806666</td>\n",
       "      <td>53.094964</td>\n",
       "      <td>0.0</td>\n",
       "      <td>0.0</td>\n",
       "      <td>1</td>\n",
       "      <td>2019-01-20</td>\n",
       "      <td>6</td>\n",
       "    </tr>\n",
       "  </tbody>\n",
       "</table>\n",
       "</div>"
      ],
      "text/plain": [
       "         bike  bike_type  identification          start_time  \\\n",
       "81821   20685         71        12099440 2019-01-20 00:13:00   \n",
       "204560  20935         71         7873316 2019-01-20 00:35:00   \n",
       "49030   20617         71        12099749 2019-01-20 00:40:00   \n",
       "131464  20795         71        12099872 2019-01-20 00:47:00   \n",
       "200261  20927         71        12100199 2019-01-20 01:07:00   \n",
       "\n",
       "                   end_time  duration_sec  start_lng  start_lat   end_lng  \\\n",
       "81821   2019-01-20 00:23:00         600.0   8.812554  53.076481  8.804828   \n",
       "204560  2019-01-25 08:00:00      458700.0   8.816798  53.072448  8.811472   \n",
       "49030   2019-01-20 00:44:00         240.0   8.801623  53.067878  8.793217   \n",
       "131464  2019-01-20 00:54:00         420.0   8.814744  53.084841  8.801135   \n",
       "200261  2019-01-20 01:15:00         480.0   8.815254  53.084302  8.806666   \n",
       "\n",
       "          end_lat  start_place  end_place  month booking_date  weekdays  \n",
       "81821   53.084196          0.0        0.0      1   2019-01-20         6  \n",
       "204560  53.083167          0.0     2946.0      1   2019-01-20         6  \n",
       "49030   53.064244          0.0        0.0      1   2019-01-20         6  \n",
       "131464  53.094596          0.0        0.0      1   2019-01-20         6  \n",
       "200261  53.094964          0.0        0.0      1   2019-01-20         6  "
      ]
     },
     "execution_count": 9,
     "metadata": {},
     "output_type": "execute_result"
    }
   ],
   "source": [
    "bremen_trips.head()"
   ]
  },
  {
   "cell_type": "code",
   "execution_count": 10,
   "metadata": {},
   "outputs": [],
   "source": [
    "# drop entries with booking durations longer than 2 days\n",
    "bremen_trips = bremen_trips[bremen_trips['duration_sec'] < 172800]"
   ]
  },
  {
   "cell_type": "code",
   "execution_count": 11,
   "metadata": {},
   "outputs": [
    {
     "data": {
      "text/plain": [
       "Text(0.5, 1.0, 'January')"
      ]
     },
     "execution_count": 11,
     "metadata": {},
     "output_type": "execute_result"
    },
    {
     "data": {
      "image/png": "[encoded data removed]",
      "text/plain": [
       "<Figure size 432x288 with 1 Axes>"
      ]
     },
     "metadata": {
      "needs_background": "light"
     },
     "output_type": "display_data"
    }
   ],
   "source": [
    "#Distribution Number of bookings per month\n",
    "# bremen_trips.start_time.dt.day.value_counts()\n",
    "day_of_month_jan = bremen_trips[bremen_trips['start_time'].dt.month == 1].start_time.dt.day.value_counts()\n",
    "ax = sns.barplot(x=day_of_month_jan.index, y=day_of_month_jan, palette=\"Blues_d\")\n",
    "ax.set(ylabel='Number of bookings', xlabel='day of month') \n",
    "ax.set_title('January')"
   ]
  },
  {
   "cell_type": "code",
   "execution_count": 12,
   "metadata": {},
   "outputs": [
    {
     "data": {
      "text/plain": [
       "Text(0.5, 1.0, 'Februar')"
      ]
     },
     "execution_count": 12,
     "metadata": {},
     "output_type": "execute_result"
    },
    {
     "data": {
      "image/png": "[encoded data removed]",
      "text/plain": [
       "<Figure size 432x288 with 1 Axes>"
      ]
     },
     "metadata": {
      "needs_background": "light"
     },
     "output_type": "display_data"
    }
   ],
   "source": [
    "#Distribution Number of bookings per month\n",
    "# bremen_trips.start_time.dt.day.value_counts()\n",
    "day_of_month_jan = bremen_trips[bremen_trips['start_time'].dt.month == 2].start_time.dt.day.value_counts()\n",
    "ax = sns.barplot(x=day_of_month_jan.index, y=day_of_month_jan, palette=\"Blues_d\")\n",
    "ax.set(ylabel='Number of bookings', xlabel='day of month') \n",
    "ax.set_title('Februar')"
   ]
  },
  {
   "cell_type": "code",
   "execution_count": 13,
   "metadata": {},
   "outputs": [
    {
     "data": {
      "text/plain": [
       "Text(0.5, 1.0, 'march')"
      ]
     },
     "execution_count": 13,
     "metadata": {},
     "output_type": "execute_result"
    },
    {
     "data": {
      "image/png": "[encoded data removed]",
      "text/plain": [
       "<Figure size 432x288 with 1 Axes>"
      ]
     },
     "metadata": {
      "needs_background": "light"
     },
     "output_type": "display_data"
    }
   ],
   "source": [
    "#Distribution Number of bookings per month\n",
    "# bremen_trips.start_time.dt.day.value_counts()\n",
    "day_of_month_jan = bremen_trips[bremen_trips['start_time'].dt.month == 3].start_time.dt.day.value_counts()\n",
    "ax = sns.barplot(x=day_of_month_jan.index, y=day_of_month_jan, palette=\"Blues_d\")\n",
    "ax.set(ylabel='Number of bookings', xlabel='day of month') \n",
    "ax.set_title('march')"
   ]
  },
  {
   "cell_type": "code",
   "execution_count": 14,
   "metadata": {},
   "outputs": [
    {
     "data": {
      "text/plain": [
       "Text(0.5, 1.0, 'April')"
      ]
     },
     "execution_count": 14,
     "metadata": {},
     "output_type": "execute_result"
    },
    {
     "data": {
      "image/png": "[encoded data removed]",
      "text/plain": [
       "<Figure size 432x288 with 1 Axes>"
      ]
     },
     "metadata": {
      "needs_background": "light"
     },
     "output_type": "display_data"
    }
   ],
   "source": [
    "#Distribution Number of bookings per month\n",
    "# bremen_trips.start_time.dt.day.value_counts()\n",
    "day_of_month_jan = bremen_trips[bremen_trips['start_time'].dt.month == 4].start_time.dt.day.value_counts()\n",
    "ax = sns.barplot(x=day_of_month_jan.index, y=day_of_month_jan, palette=\"Blues_d\")\n",
    "ax.set(ylabel='Number of bookings', xlabel='day of month') \n",
    "ax.set_title('April')"
   ]
  },
  {
   "cell_type": "code",
   "execution_count": 15,
   "metadata": {},
   "outputs": [
    {
     "data": {
      "text/plain": [
       "Text(0.5, 1.0, 'May')"
      ]
     },
     "execution_count": 15,
     "metadata": {},
     "output_type": "execute_result"
    },
    {
     "data": {
      "image/png": "[encoded data removed]",
      "text/plain": [
       "<Figure size 432x288 with 1 Axes>"
      ]
     },
     "metadata": {
      "needs_background": "light"
     },
     "output_type": "display_data"
    }
   ],
   "source": [
    "#Distribution Number of bookings per month\n",
    "# bremen_trips.start_time.dt.day.value_counts()\n",
    "day_of_month_jan = bremen_trips[bremen_trips['start_time'].dt.month == 5].start_time.dt.day.value_counts()\n",
    "ax = sns.barplot(x=day_of_month_jan.index, y=day_of_month_jan, palette=\"Blues_d\")\n",
    "ax.set(ylabel='Number of bookings', xlabel='day of month') \n",
    "ax.set_title('May')"
   ]
  },
  {
   "cell_type": "code",
   "execution_count": 16,
   "metadata": {},
   "outputs": [
    {
     "data": {
      "text/plain": [
       "Text(0.5, 1.0, 'Juni')"
      ]
     },
     "execution_count": 16,
     "metadata": {},
     "output_type": "execute_result"
    },
    {
     "data": {
      "image/png": "[encoded data removed]",
      "text/plain": [
       "<Figure size 432x288 with 1 Axes>"
      ]
     },
     "metadata": {
      "needs_background": "light"
     },
     "output_type": "display_data"
    }
   ],
   "source": [
    "#Distribution Number of bookings per month\n",
    "# bremen_trips.start_time.dt.day.value_counts()\n",
    "day_of_month_jan = bremen_trips[bremen_trips['start_time'].dt.month == 6].start_time.dt.day.value_counts()\n",
    "ax = sns.barplot(x=day_of_month_jan.index, y=day_of_month_jan, palette=\"Blues_d\")\n",
    "ax.set(ylabel='Number of bookings', xlabel='day of month') \n",
    "ax.set_title('Juni')"
   ]
  },
  {
   "cell_type": "code",
   "execution_count": 17,
   "metadata": {},
   "outputs": [],
   "source": [
    "#Distribution Number of bookings per month\n",
    "# bremen_trips.start_time.dt.day.value_counts()\n",
    "# day_of_month_jan = bremen_trips[bremen_trips['start_time'].dt.month == 7].start_time.dt.day.value_counts()\n",
    "# ax = sns.barplot(x=day_of_month_jan.index, y=day_of_month_jan, palette=\"Blues_d\")\n",
    "# ax.set(ylabel='Number of bookings', xlabel='day of month') \n",
    "# ax.set_title('July')"
   ]
  },
  {
   "cell_type": "code",
   "execution_count": 18,
   "metadata": {},
   "outputs": [
    {
     "data": {
      "text/plain": [
       "Text(0.5, 1.0, 'August')"
      ]
     },
     "execution_count": 18,
     "metadata": {},
     "output_type": "execute_result"
    },
    {
     "data": {
      "image/png": "[encoded data removed]",
      "text/plain": [
       "<Figure size 432x288 with 1 Axes>"
      ]
     },
     "metadata": {
      "needs_background": "light"
     },
     "output_type": "display_data"
    }
   ],
   "source": [
    "#Distribution Number of bookings per month\n",
    "# bremen_trips.start_time.dt.day.value_counts()\n",
    "day_of_month_jan = bremen_trips[bremen_trips['start_time'].dt.month == 8].start_time.dt.day.value_counts()\n",
    "ax = sns.barplot(x=day_of_month_jan.index, y=day_of_month_jan, palette=\"Blues_d\")\n",
    "ax.set(ylabel='Number of bookings', xlabel='day of month') \n",
    "ax.set_title('August')"
   ]
  },
  {
   "cell_type": "code",
   "execution_count": 19,
   "metadata": {},
   "outputs": [
    {
     "data": {
      "text/plain": [
       "Text(0.5, 1.0, 'september')"
      ]
     },
     "execution_count": 19,
     "metadata": {},
     "output_type": "execute_result"
    },
    {
     "data": {
      "image/png": "[encoded data removed]",
      "text/plain": [
       "<Figure size 432x288 with 1 Axes>"
      ]
     },
     "metadata": {
      "needs_background": "light"
     },
     "output_type": "display_data"
    }
   ],
   "source": [
    "#Distribution Number of bookings per month\n",
    "# bremen_trips.start_time.dt.day.value_counts()\n",
    "day_of_month_jan = bremen_trips[bremen_trips['start_time'].dt.month == 9].start_time.dt.day.value_counts()\n",
    "ax = sns.barplot(x=day_of_month_jan.index, y=day_of_month_jan, palette=\"Blues_d\")\n",
    "ax.set(ylabel='Number of bookings', xlabel='day of month') \n",
    "ax.set_title('september')"
   ]
  },
  {
   "cell_type": "code",
   "execution_count": 20,
   "metadata": {},
   "outputs": [
    {
     "data": {
      "text/plain": [
       "Text(0.5, 1.0, 'October')"
      ]
     },
     "execution_count": 20,
     "metadata": {},
     "output_type": "execute_result"
    },
    {
     "data": {
      "image/png": "[encoded data removed]",
      "text/plain": [
       "<Figure size 432x288 with 1 Axes>"
      ]
     },
     "metadata": {
      "needs_background": "light"
     },
     "output_type": "display_data"
    }
   ],
   "source": [
    "#Distribution Number of bookings per month\n",
    "# bremen_trips.start_time.dt.day.value_counts()\n",
    "day_of_month_jan = bremen_trips[bremen_trips['start_time'].dt.month == 10].start_time.dt.day.value_counts()\n",
    "ax = sns.barplot(x=day_of_month_jan.index, y=day_of_month_jan, palette=\"Blues_d\")\n",
    "ax.set(ylabel='Number of bookings', xlabel='day of month') \n",
    "ax.set_title('October')"
   ]
  },
  {
   "cell_type": "code",
   "execution_count": 21,
   "metadata": {},
   "outputs": [
    {
     "data": {
      "text/plain": [
       "Text(0.5, 1.0, 'November')"
      ]
     },
     "execution_count": 21,
     "metadata": {},
     "output_type": "execute_result"
    },
    {
     "data": {
      "image/png": "[encoded data removed]",
      "text/plain": [
       "<Figure size 432x288 with 1 Axes>"
      ]
     },
     "metadata": {
      "needs_background": "light"
     },
     "output_type": "display_data"
    }
   ],
   "source": [
    "#Distribution Number of bookings per month\n",
    "# bremen_trips.start_time.dt.day.value_counts()\n",
    "day_of_month_jan = bremen_trips[bremen_trips['start_time'].dt.month == 11].start_time.dt.day.value_counts()\n",
    "ax = sns.barplot(x=day_of_month_jan.index, y=day_of_month_jan, palette=\"Blues_d\")\n",
    "ax.set(ylabel='Number of bookings', xlabel='day of month') \n",
    "ax.set_title('November')"
   ]
  },
  {
   "cell_type": "code",
   "execution_count": 22,
   "metadata": {},
   "outputs": [
    {
     "data": {
      "text/plain": [
       "Text(0.5, 1.0, 'December')"
      ]
     },
     "execution_count": 22,
     "metadata": {},
     "output_type": "execute_result"
    },
    {
     "data": {
      "image/png": "[encoded data removed]",
      "text/plain": [
       "<Figure size 432x288 with 1 Axes>"
      ]
     },
     "metadata": {
      "needs_background": "light"
     },
     "output_type": "display_data"
    }
   ],
   "source": [
    "#Distribution Number of bookings per month\n",
    "# bremen_trips.start_time.dt.day.value_counts()\n",
    "day_of_month_jan = bremen_trips[bremen_trips['start_time'].dt.month == 12].start_time.dt.day.value_counts()\n",
    "ax = sns.barplot(x=day_of_month_jan.index, y=day_of_month_jan, palette=\"Blues_d\")\n",
    "ax.set(ylabel='Number of bookings', xlabel='day of month') \n",
    "ax.set_title('December')"
   ]
  },
  {
   "cell_type": "code",
   "execution_count": 23,
   "metadata": {},
   "outputs": [
    {
     "name": "stdout",
     "output_type": "stream",
     "text": [
      "9159.56386292835\n",
      "3854.0457589285716\n",
      "4171.73396115362\n",
      "4660.580139114992\n",
      "3811.380259535981\n",
      "3781.2705723754425\n",
      "nan\n",
      "2473.6783175932237\n",
      "2108.7454489355137\n",
      "2101.3563777354275\n",
      "1943.3524158461187\n",
      "1508.8585728123992\n"
     ]
    }
   ],
   "source": [
    "print(bremen_trips[bremen_trips['start_time'].dt.month == 1].duration_sec.mean())\n",
    "print(bremen_trips[bremen_trips['start_time'].dt.month == 2].duration_sec.mean())\n",
    "print(bremen_trips[bremen_trips['start_time'].dt.month == 3].duration_sec.mean())\n",
    "print(bremen_trips[bremen_trips['start_time'].dt.month == 4].duration_sec.mean())\n",
    "print(bremen_trips[bremen_trips['start_time'].dt.month == 5].duration_sec.mean())\n",
    "print(bremen_trips[bremen_trips['start_time'].dt.month == 6].duration_sec.mean())\n",
    "print(bremen_trips[bremen_trips['start_time'].dt.month == 7].duration_sec.mean())\n",
    "print(bremen_trips[bremen_trips['start_time'].dt.month == 8].duration_sec.mean())\n",
    "print(bremen_trips[bremen_trips['start_time'].dt.month == 9].duration_sec.mean())\n",
    "print(bremen_trips[bremen_trips['start_time'].dt.month == 10].duration_sec.mean())\n",
    "print(bremen_trips[bremen_trips['start_time'].dt.month == 11].duration_sec.mean())\n",
    "print(bremen_trips[bremen_trips['start_time'].dt.month == 12].duration_sec.mean())"
   ]
  },
  {
   "cell_type": "code",
   "execution_count": 24,
   "metadata": {},
   "outputs": [
    {
     "data": {
      "text/plain": [
       "<matplotlib.axes._subplots.AxesSubplot at 0x24091a8ef08>"
      ]
     },
     "execution_count": 24,
     "metadata": {},
     "output_type": "execute_result"
    },
    {
     "data": {
      "image/png": "[encoded data removed]",
      "text/plain": [
       "<Figure size 432x288 with 1 Axes>"
      ]
     },
     "metadata": {
      "needs_background": "light"
     },
     "output_type": "display_data"
    }
   ],
   "source": [
    "# avg duration per month (looks like we have some outliers)\n",
    "\n",
    "df = bremen_trips.groupby('month').duration_sec.mean().to_frame()\n",
    "df.plot(kind=\"bar\")"
   ]
  },
  {
   "cell_type": "code",
   "execution_count": 25,
   "metadata": {},
   "outputs": [
    {
     "data": {
      "text/plain": [
       "count      1926.000000\n",
       "mean       9159.563863\n",
       "std       25307.831355\n",
       "min         120.000000\n",
       "25%         480.000000\n",
       "50%         780.000000\n",
       "75%        1500.000000\n",
       "max      169560.000000\n",
       "Name: duration_sec, dtype: float64"
      ]
     },
     "execution_count": 25,
     "metadata": {},
     "output_type": "execute_result"
    }
   ],
   "source": [
    "bremen_trips[bremen_trips['start_time'].dt.month == 1].duration_sec.describe()"
   ]
  },
  {
   "cell_type": "code",
   "execution_count": 26,
   "metadata": {},
   "outputs": [
    {
     "data": {
      "text/plain": [
       "<matplotlib.axes._subplots.AxesSubplot at 0x2408fc01888>"
      ]
     },
     "execution_count": 26,
     "metadata": {},
     "output_type": "execute_result"
    },
    {
     "data": {
      "image/png": "[encoded data removed]",
      "text/plain": [
       "<Figure size 432x288 with 1 Axes>"
      ]
     },
     "metadata": {
      "needs_background": "light"
     },
     "output_type": "display_data"
    }
   ],
   "source": [
    "# drop entries with booking durations longer than 5k seconds\n",
    "bremen_trips = bremen_trips[bremen_trips['duration_sec'] < 5000]\n",
    "\n",
    "\n",
    "\n",
    "# avg duration per month (looks like we have some outliers)\n",
    "\n",
    "df = bremen_trips.groupby('month').duration_sec.mean().to_frame()\n",
    "df.plot(kind=\"bar\")"
   ]
  },
  {
   "cell_type": "code",
   "execution_count": 27,
   "metadata": {},
   "outputs": [
    {
     "data": {
      "text/html": [
       "<div>\n",
       "<style scoped>\n",
       "    .dataframe tbody tr th:only-of-type {\n",
       "        vertical-align: middle;\n",
       "    }\n",
       "\n",
       "    .dataframe tbody tr th {\n",
       "        vertical-align: top;\n",
       "    }\n",
       "\n",
       "    .dataframe thead th {\n",
       "        text-align: right;\n",
       "    }\n",
       "</style>\n",
       "<table border=\"1\" class=\"dataframe\">\n",
       "  <thead>\n",
       "    <tr style=\"text-align: right;\">\n",
       "      <th></th>\n",
       "      <th>duration_sec</th>\n",
       "    </tr>\n",
       "  </thead>\n",
       "  <tbody>\n",
       "    <tr>\n",
       "      <th>count</th>\n",
       "      <td>11.000000</td>\n",
       "    </tr>\n",
       "    <tr>\n",
       "      <th>mean</th>\n",
       "      <td>892.053527</td>\n",
       "    </tr>\n",
       "    <tr>\n",
       "      <th>std</th>\n",
       "      <td>62.077493</td>\n",
       "    </tr>\n",
       "    <tr>\n",
       "      <th>min</th>\n",
       "      <td>819.132100</td>\n",
       "    </tr>\n",
       "    <tr>\n",
       "      <th>25%</th>\n",
       "      <td>838.226855</td>\n",
       "    </tr>\n",
       "    <tr>\n",
       "      <th>50%</th>\n",
       "      <td>889.414183</td>\n",
       "    </tr>\n",
       "    <tr>\n",
       "      <th>75%</th>\n",
       "      <td>915.297353</td>\n",
       "    </tr>\n",
       "    <tr>\n",
       "      <th>max</th>\n",
       "      <td>1012.294838</td>\n",
       "    </tr>\n",
       "  </tbody>\n",
       "</table>\n",
       "</div>"
      ],
      "text/plain": [
       "       duration_sec\n",
       "count     11.000000\n",
       "mean     892.053527\n",
       "std       62.077493\n",
       "min      819.132100\n",
       "25%      838.226855\n",
       "50%      889.414183\n",
       "75%      915.297353\n",
       "max     1012.294838"
      ]
     },
     "execution_count": 27,
     "metadata": {},
     "output_type": "execute_result"
    }
   ],
   "source": [
    "df.describe()"
   ]
  },
  {
   "cell_type": "code",
   "execution_count": 28,
   "metadata": {},
   "outputs": [
    {
     "data": {
      "text/plain": [
       "<matplotlib.axes._subplots.AxesSubplot at 0x24090b4c6c8>"
      ]
     },
     "execution_count": 28,
     "metadata": {},
     "output_type": "execute_result"
    },
    {
     "data": {
      "image/png": "[encoded data removed]",
      "text/plain": [
       "<Figure size 432x288 with 1 Axes>"
      ]
     },
     "metadata": {
      "needs_background": "light"
     },
     "output_type": "display_data"
    }
   ],
   "source": [
    "# Number of bookins per month\n",
    "bremen_trips.groupby('month').bike.count().plot(kind=\"bar\")\n"
   ]
  },
  {
   "cell_type": "code",
   "execution_count": 29,
   "metadata": {},
   "outputs": [
    {
     "data": {
      "text/plain": [
       "count       11.000000\n",
       "mean     11975.545455\n",
       "std       4978.726371\n",
       "min       1599.000000\n",
       "25%       9797.500000\n",
       "50%      12536.000000\n",
       "75%      15029.500000\n",
       "max      19214.000000\n",
       "Name: bike, dtype: float64"
      ]
     },
     "execution_count": 29,
     "metadata": {},
     "output_type": "execute_result"
    }
   ],
   "source": [
    "bremen_trips.groupby('month').bike.count().describe()"
   ]
  },
  {
   "cell_type": "code",
   "execution_count": null,
   "metadata": {},
   "outputs": [],
   "source": []
  }
 ],
 "metadata": {
  "kernelspec": {
   "display_name": "Python 3",
   "language": "python",
   "name": "python3"
  },
  "language_info": {
   "codemirror_mode": {
    "name": "ipython",
    "version": 3
   },
   "file_extension": ".py",
   "mimetype": "text/x-python",
   "name": "python",
   "nbconvert_exporter": "python",
   "pygments_lexer": "ipython3",
   "version": "3.7.6"
  }
 },
 "nbformat": 4,
 "nbformat_minor": 4
}
