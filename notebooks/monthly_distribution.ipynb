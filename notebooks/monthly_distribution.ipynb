{
 "cells": [
  {
   "cell_type": "code",
   "execution_count": 68,
   "metadata": {
    "scrolled": true
   },
   "outputs": [],
   "source": [
    "import pandas as pd\n",
    "import sys\n",
    "from datetime import date, datetime\n",
    "import matplotlib.pyplot as plt\n",
    "import seaborn as sns\n",
    "import numpy as np"
   ]
  },
  {
   "cell_type": "code",
   "execution_count": 3,
   "metadata": {},
   "outputs": [],
   "source": [
    "sys.path.insert(0,\"..\")"
   ]
  },
  {
   "cell_type": "code",
   "execution_count": 4,
   "metadata": {},
   "outputs": [],
   "source": [
    "bremen_trips = pd.read_csv(\"../data/processed/trips.csv\")"
   ]
  },
  {
   "cell_type": "code",
   "execution_count": 5,
   "metadata": {},
   "outputs": [],
   "source": [
    "bremen_trips = bremen_trips.sort_values(by=['start_time'], ascending=True)"
   ]
  },
  {
   "cell_type": "code",
   "execution_count": 6,
   "metadata": {},
   "outputs": [],
   "source": [
    "bremen_trips[\"start_time\"] = pd.to_datetime(bremen_trips[\"start_time\"])"
   ]
  },
  {
   "cell_type": "code",
   "execution_count": 7,
   "metadata": {},
   "outputs": [],
   "source": [
    "for col in ['start_time']:\n",
    "    bremen_trips['month'] = pd.DatetimeIndex(bremen_trips['start_time']).month\n",
    "    bremen_trips['booking_date'] = bremen_trips.start_time.dt.date\n",
    "    bremen_trips['weekdays'] = pd.DatetimeIndex(bremen_trips['start_time']).weekday"
   ]
  },
  {
   "cell_type": "code",
   "execution_count": 8,
   "metadata": {},
   "outputs": [
    {
     "data": {
      "text/html": [
       "<div>\n",
       "<style scoped>\n",
       "    .dataframe tbody tr th:only-of-type {\n",
       "        vertical-align: middle;\n",
       "    }\n",
       "\n",
       "    .dataframe tbody tr th {\n",
       "        vertical-align: top;\n",
       "    }\n",
       "\n",
       "    .dataframe thead th {\n",
       "        text-align: right;\n",
       "    }\n",
       "</style>\n",
       "<table border=\"1\" class=\"dataframe\">\n",
       "  <thead>\n",
       "    <tr style=\"text-align: right;\">\n",
       "      <th></th>\n",
       "      <th>bike</th>\n",
       "      <th>bike_type</th>\n",
       "      <th>identification</th>\n",
       "      <th>start_time</th>\n",
       "      <th>end_time</th>\n",
       "      <th>duration_sec</th>\n",
       "      <th>start_lng</th>\n",
       "      <th>start_lat</th>\n",
       "      <th>end_lng</th>\n",
       "      <th>end_lat</th>\n",
       "      <th>start_place</th>\n",
       "      <th>end_place</th>\n",
       "      <th>month</th>\n",
       "      <th>booking_date</th>\n",
       "      <th>weekdays</th>\n",
       "    </tr>\n",
       "  </thead>\n",
       "  <tbody>\n",
       "    <tr>\n",
       "      <th>81821</th>\n",
       "      <td>20685</td>\n",
       "      <td>71</td>\n",
       "      <td>12099440</td>\n",
       "      <td>2019-01-20 00:13:00</td>\n",
       "      <td>2019-01-20 00:23:00</td>\n",
       "      <td>600.0</td>\n",
       "      <td>8.812554</td>\n",
       "      <td>53.076481</td>\n",
       "      <td>8.804828</td>\n",
       "      <td>53.084196</td>\n",
       "      <td>0.0</td>\n",
       "      <td>0.0</td>\n",
       "      <td>1</td>\n",
       "      <td>2019-01-20</td>\n",
       "      <td>6</td>\n",
       "    </tr>\n",
       "    <tr>\n",
       "      <th>53590</th>\n",
       "      <td>20626</td>\n",
       "      <td>71</td>\n",
       "      <td>10278649</td>\n",
       "      <td>2019-01-20 00:16:00</td>\n",
       "      <td>2019-01-20 04:47:00</td>\n",
       "      <td>16260.0</td>\n",
       "      <td>8.884911</td>\n",
       "      <td>53.078923</td>\n",
       "      <td>8.884911</td>\n",
       "      <td>53.078923</td>\n",
       "      <td>2985.0</td>\n",
       "      <td>2985.0</td>\n",
       "      <td>1</td>\n",
       "      <td>2019-01-20</td>\n",
       "      <td>6</td>\n",
       "    </tr>\n",
       "    <tr>\n",
       "      <th>204560</th>\n",
       "      <td>20935</td>\n",
       "      <td>71</td>\n",
       "      <td>7873316</td>\n",
       "      <td>2019-01-20 00:35:00</td>\n",
       "      <td>2019-01-25 08:00:00</td>\n",
       "      <td>458700.0</td>\n",
       "      <td>8.816798</td>\n",
       "      <td>53.072448</td>\n",
       "      <td>8.811472</td>\n",
       "      <td>53.083167</td>\n",
       "      <td>0.0</td>\n",
       "      <td>2946.0</td>\n",
       "      <td>1</td>\n",
       "      <td>2019-01-20</td>\n",
       "      <td>6</td>\n",
       "    </tr>\n",
       "    <tr>\n",
       "      <th>49030</th>\n",
       "      <td>20617</td>\n",
       "      <td>71</td>\n",
       "      <td>12099749</td>\n",
       "      <td>2019-01-20 00:40:00</td>\n",
       "      <td>2019-01-20 00:44:00</td>\n",
       "      <td>240.0</td>\n",
       "      <td>8.801623</td>\n",
       "      <td>53.067878</td>\n",
       "      <td>8.793217</td>\n",
       "      <td>53.064244</td>\n",
       "      <td>0.0</td>\n",
       "      <td>0.0</td>\n",
       "      <td>1</td>\n",
       "      <td>2019-01-20</td>\n",
       "      <td>6</td>\n",
       "    </tr>\n",
       "    <tr>\n",
       "      <th>131464</th>\n",
       "      <td>20795</td>\n",
       "      <td>71</td>\n",
       "      <td>12099872</td>\n",
       "      <td>2019-01-20 00:47:00</td>\n",
       "      <td>2019-01-20 00:54:00</td>\n",
       "      <td>420.0</td>\n",
       "      <td>8.814744</td>\n",
       "      <td>53.084841</td>\n",
       "      <td>8.801135</td>\n",
       "      <td>53.094596</td>\n",
       "      <td>0.0</td>\n",
       "      <td>0.0</td>\n",
       "      <td>1</td>\n",
       "      <td>2019-01-20</td>\n",
       "      <td>6</td>\n",
       "    </tr>\n",
       "  </tbody>\n",
       "</table>\n",
       "</div>"
      ],
      "text/plain": [
       "         bike  bike_type  identification          start_time  \\\n",
       "81821   20685         71        12099440 2019-01-20 00:13:00   \n",
       "53590   20626         71        10278649 2019-01-20 00:16:00   \n",
       "204560  20935         71         7873316 2019-01-20 00:35:00   \n",
       "49030   20617         71        12099749 2019-01-20 00:40:00   \n",
       "131464  20795         71        12099872 2019-01-20 00:47:00   \n",
       "\n",
       "                   end_time  duration_sec  start_lng  start_lat   end_lng  \\\n",
       "81821   2019-01-20 00:23:00         600.0   8.812554  53.076481  8.804828   \n",
       "53590   2019-01-20 04:47:00       16260.0   8.884911  53.078923  8.884911   \n",
       "204560  2019-01-25 08:00:00      458700.0   8.816798  53.072448  8.811472   \n",
       "49030   2019-01-20 00:44:00         240.0   8.801623  53.067878  8.793217   \n",
       "131464  2019-01-20 00:54:00         420.0   8.814744  53.084841  8.801135   \n",
       "\n",
       "          end_lat  start_place  end_place  month booking_date  weekdays  \n",
       "81821   53.084196          0.0        0.0      1   2019-01-20         6  \n",
       "53590   53.078923       2985.0     2985.0      1   2019-01-20         6  \n",
       "204560  53.083167          0.0     2946.0      1   2019-01-20         6  \n",
       "49030   53.064244          0.0        0.0      1   2019-01-20         6  \n",
       "131464  53.094596          0.0        0.0      1   2019-01-20         6  "
      ]
     },
     "execution_count": 8,
     "metadata": {},
     "output_type": "execute_result"
    }
   ],
   "source": [
    "bremen_trips.head()"
   ]
  },
  {
   "cell_type": "code",
   "execution_count": 20,
   "metadata": {},
   "outputs": [
    {
     "data": {
      "text/plain": [
       "Text(0.5, 1.0, 'January')"
      ]
     },
     "execution_count": 20,
     "metadata": {},
     "output_type": "execute_result"
    },
    {
     "data": {
      "image/png": "[encoded data removed]",
      "text/plain": [
       "<Figure size 432x288 with 1 Axes>"
      ]
     },
     "metadata": {
      "needs_background": "light"
     },
     "output_type": "display_data"
    }
   ],
   "source": [
    "#Distribution Number of bookings per month\n",
    "# bremen_trips.start_time.dt.day.value_counts()\n",
    "day_of_month_jan = bremen_trips[bremen_trips['start_time'].dt.month == 1].start_time.dt.day.value_counts()\n",
    "ax = sns.barplot(x=day_of_month_jan.index, y=day_of_month_jan, palette=\"Blues_d\")\n",
    "ax.set(ylabel='Number of bookings', xlabel='day of month') \n",
    "ax.set_title('January')"
   ]
  },
  {
   "cell_type": "code",
   "execution_count": 21,
   "metadata": {},
   "outputs": [
    {
     "data": {
      "text/plain": [
       "Text(0.5, 1.0, 'Februar')"
      ]
     },
     "execution_count": 21,
     "metadata": {},
     "output_type": "execute_result"
    },
    {
     "data": {
      "image/png": "[encoded data removed]",
      "text/plain": [
       "<Figure size 432x288 with 1 Axes>"
      ]
     },
     "metadata": {
      "needs_background": "light"
     },
     "output_type": "display_data"
    }
   ],
   "source": [
    "#Distribution Number of bookings per month\n",
    "# bremen_trips.start_time.dt.day.value_counts()\n",
    "day_of_month_jan = bremen_trips[bremen_trips['start_time'].dt.month == 2].start_time.dt.day.value_counts()\n",
    "ax = sns.barplot(x=day_of_month_jan.index, y=day_of_month_jan, palette=\"Blues_d\")\n",
    "ax.set(ylabel='Number of bookings', xlabel='day of month') \n",
    "ax.set_title('Februar')"
   ]
  },
  {
   "cell_type": "code",
   "execution_count": 22,
   "metadata": {},
   "outputs": [
    {
     "data": {
      "text/plain": [
       "Text(0.5, 1.0, 'march')"
      ]
     },
     "execution_count": 22,
     "metadata": {},
     "output_type": "execute_result"
    },
    {
     "data": {
      "image/png": "[encoded data removed]",
      "text/plain": [
       "<Figure size 432x288 with 1 Axes>"
      ]
     },
     "metadata": {
      "needs_background": "light"
     },
     "output_type": "display_data"
    }
   ],
   "source": [
    "#Distribution Number of bookings per month\n",
    "# bremen_trips.start_time.dt.day.value_counts()\n",
    "day_of_month_jan = bremen_trips[bremen_trips['start_time'].dt.month == 3].start_time.dt.day.value_counts()\n",
    "ax = sns.barplot(x=day_of_month_jan.index, y=day_of_month_jan, palette=\"Blues_d\")\n",
    "ax.set(ylabel='Number of bookings', xlabel='day of month') \n",
    "ax.set_title('march')"
   ]
  },
  {
   "cell_type": "code",
   "execution_count": 23,
   "metadata": {},
   "outputs": [
    {
     "data": {
      "text/plain": [
       "Text(0.5, 1.0, 'April')"
      ]
     },
     "execution_count": 23,
     "metadata": {},
     "output_type": "execute_result"
    },
    {
     "data": {
      "image/png": "[encoded data removed]",
      "text/plain": [
       "<Figure size 432x288 with 1 Axes>"
      ]
     },
     "metadata": {
      "needs_background": "light"
     },
     "output_type": "display_data"
    }
   ],
   "source": [
    "#Distribution Number of bookings per month\n",
    "# bremen_trips.start_time.dt.day.value_counts()\n",
    "day_of_month_jan = bremen_trips[bremen_trips['start_time'].dt.month == 4].start_time.dt.day.value_counts()\n",
    "ax = sns.barplot(x=day_of_month_jan.index, y=day_of_month_jan, palette=\"Blues_d\")\n",
    "ax.set(ylabel='Number of bookings', xlabel='day of month') \n",
    "ax.set_title('April')"
   ]
  },
  {
   "cell_type": "code",
   "execution_count": 24,
   "metadata": {},
   "outputs": [
    {
     "data": {
      "text/plain": [
       "Text(0.5, 1.0, 'May')"
      ]
     },
     "execution_count": 24,
     "metadata": {},
     "output_type": "execute_result"
    },
    {
     "data": {
      "image/png": "[encoded data removed]",
      "text/plain": [
       "<Figure size 432x288 with 1 Axes>"
      ]
     },
     "metadata": {
      "needs_background": "light"
     },
     "output_type": "display_data"
    }
   ],
   "source": [
    "#Distribution Number of bookings per month\n",
    "# bremen_trips.start_time.dt.day.value_counts()\n",
    "day_of_month_jan = bremen_trips[bremen_trips['start_time'].dt.month == 5].start_time.dt.day.value_counts()\n",
    "ax = sns.barplot(x=day_of_month_jan.index, y=day_of_month_jan, palette=\"Blues_d\")\n",
    "ax.set(ylabel='Number of bookings', xlabel='day of month') \n",
    "ax.set_title('May')"
   ]
  },
  {
   "cell_type": "code",
   "execution_count": 25,
   "metadata": {},
   "outputs": [
    {
     "data": {
      "text/plain": [
       "Text(0.5, 1.0, 'Juni')"
      ]
     },
     "execution_count": 25,
     "metadata": {},
     "output_type": "execute_result"
    },
    {
     "data": {
      "image/png": "[encoded data removed]",
      "text/plain": [
       "<Figure size 432x288 with 1 Axes>"
      ]
     },
     "metadata": {
      "needs_background": "light"
     },
     "output_type": "display_data"
    }
   ],
   "source": [
    "#Distribution Number of bookings per month\n",
    "# bremen_trips.start_time.dt.day.value_counts()\n",
    "day_of_month_jan = bremen_trips[bremen_trips['start_time'].dt.month == 6].start_time.dt.day.value_counts()\n",
    "ax = sns.barplot(x=day_of_month_jan.index, y=day_of_month_jan, palette=\"Blues_d\")\n",
    "ax.set(ylabel='Number of bookings', xlabel='day of month') \n",
    "ax.set_title('Juni')"
   ]
  },
  {
   "cell_type": "code",
   "execution_count": 27,
   "metadata": {},
   "outputs": [],
   "source": [
    "#Distribution Number of bookings per month\n",
    "# bremen_trips.start_time.dt.day.value_counts()\n",
    "# day_of_month_jan = bremen_trips[bremen_trips['start_time'].dt.month == 7].start_time.dt.day.value_counts()\n",
    "# ax = sns.barplot(x=day_of_month_jan.index, y=day_of_month_jan, palette=\"Blues_d\")\n",
    "# ax.set(ylabel='Number of bookings', xlabel='day of month') \n",
    "# ax.set_title('July')"
   ]
  },
  {
   "cell_type": "code",
   "execution_count": 31,
   "metadata": {},
   "outputs": [
    {
     "data": {
      "text/plain": [
       "Text(0.5, 1.0, 'August')"
      ]
     },
     "execution_count": 31,
     "metadata": {},
     "output_type": "execute_result"
    },
    {
     "data": {
      "image/png": "[encoded data removed]",
      "text/plain": [
       "<Figure size 432x288 with 1 Axes>"
      ]
     },
     "metadata": {
      "needs_background": "light"
     },
     "output_type": "display_data"
    }
   ],
   "source": [
    "#Distribution Number of bookings per month\n",
    "# bremen_trips.start_time.dt.day.value_counts()\n",
    "day_of_month_jan = bremen_trips[bremen_trips['start_time'].dt.month == 8].start_time.dt.day.value_counts()\n",
    "ax = sns.barplot(x=day_of_month_jan.index, y=day_of_month_jan, palette=\"Blues_d\")\n",
    "ax.set(ylabel='Number of bookings', xlabel='day of month') \n",
    "ax.set_title('August')"
   ]
  },
  {
   "cell_type": "code",
   "execution_count": 32,
   "metadata": {},
   "outputs": [
    {
     "data": {
      "text/plain": [
       "Text(0.5, 1.0, 'september')"
      ]
     },
     "execution_count": 32,
     "metadata": {},
     "output_type": "execute_result"
    },
    {
     "data": {
      "image/png": "[encoded data removed]",
      "text/plain": [
       "<Figure size 432x288 with 1 Axes>"
      ]
     },
     "metadata": {
      "needs_background": "light"
     },
     "output_type": "display_data"
    }
   ],
   "source": [
    "#Distribution Number of bookings per month\n",
    "# bremen_trips.start_time.dt.day.value_counts()\n",
    "day_of_month_jan = bremen_trips[bremen_trips['start_time'].dt.month == 9].start_time.dt.day.value_counts()\n",
    "ax = sns.barplot(x=day_of_month_jan.index, y=day_of_month_jan, palette=\"Blues_d\")\n",
    "ax.set(ylabel='Number of bookings', xlabel='day of month') \n",
    "ax.set_title('september')"
   ]
  },
  {
   "cell_type": "code",
   "execution_count": 33,
   "metadata": {},
   "outputs": [
    {
     "data": {
      "text/plain": [
       "Text(0.5, 1.0, 'October')"
      ]
     },
     "execution_count": 33,
     "metadata": {},
     "output_type": "execute_result"
    },
    {
     "data": {
      "image/png": "[encoded data removed]",
      "text/plain": [
       "<Figure size 432x288 with 1 Axes>"
      ]
     },
     "metadata": {
      "needs_background": "light"
     },
     "output_type": "display_data"
    }
   ],
   "source": [
    "#Distribution Number of bookings per month\n",
    "# bremen_trips.start_time.dt.day.value_counts()\n",
    "day_of_month_jan = bremen_trips[bremen_trips['start_time'].dt.month == 10].start_time.dt.day.value_counts()\n",
    "ax = sns.barplot(x=day_of_month_jan.index, y=day_of_month_jan, palette=\"Blues_d\")\n",
    "ax.set(ylabel='Number of bookings', xlabel='day of month') \n",
    "ax.set_title('October')"
   ]
  },
  {
   "cell_type": "code",
   "execution_count": 34,
   "metadata": {},
   "outputs": [
    {
     "data": {
      "text/plain": [
       "Text(0.5, 1.0, 'November')"
      ]
     },
     "execution_count": 34,
     "metadata": {},
     "output_type": "execute_result"
    },
    {
     "data": {
      "image/png": "[encoded data removed]",
      "text/plain": [
       "<Figure size 432x288 with 1 Axes>"
      ]
     },
     "metadata": {
      "needs_background": "light"
     },
     "output_type": "display_data"
    }
   ],
   "source": [
    "#Distribution Number of bookings per month\n",
    "# bremen_trips.start_time.dt.day.value_counts()\n",
    "day_of_month_jan = bremen_trips[bremen_trips['start_time'].dt.month == 11].start_time.dt.day.value_counts()\n",
    "ax = sns.barplot(x=day_of_month_jan.index, y=day_of_month_jan, palette=\"Blues_d\")\n",
    "ax.set(ylabel='Number of bookings', xlabel='day of month') \n",
    "ax.set_title('November')"
   ]
  },
  {
   "cell_type": "code",
   "execution_count": 35,
   "metadata": {},
   "outputs": [
    {
     "data": {
      "text/plain": [
       "Text(0.5, 1.0, 'December')"
      ]
     },
     "execution_count": 35,
     "metadata": {},
     "output_type": "execute_result"
    },
    {
     "data": {
      "image/png": "[encoded data removed]",
      "text/plain": [
       "<Figure size 432x288 with 1 Axes>"
      ]
     },
     "metadata": {
      "needs_background": "light"
     },
     "output_type": "display_data"
    }
   ],
   "source": [
    "#Distribution Number of bookings per month\n",
    "# bremen_trips.start_time.dt.day.value_counts()\n",
    "day_of_month_jan = bremen_trips[bremen_trips['start_time'].dt.month == 12].start_time.dt.day.value_counts()\n",
    "ax = sns.barplot(x=day_of_month_jan.index, y=day_of_month_jan, palette=\"Blues_d\")\n",
    "ax.set(ylabel='Number of bookings', xlabel='day of month') \n",
    "ax.set_title('December')"
   ]
  },
  {
   "cell_type": "code",
   "execution_count": 45,
   "metadata": {},
   "outputs": [
    {
     "name": "stdout",
     "output_type": "stream",
     "text": [
      "67366.5728047425\n",
      "9809.658002735978\n",
      "15508.097330179115\n",
      "9134.183746380355\n",
      "9000.651671940477\n",
      "7383.789070377092\n",
      "nan\n",
      "10879.533658742143\n",
      "9754.410797323353\n",
      "5314.555902560899\n",
      "6588.593040847201\n",
      "3732.640386760878\n"
     ]
    }
   ],
   "source": [
    "print(bremen_trips[bremen_trips['start_time'].dt.month == 1].duration_sec.mean())\n",
    "print(bremen_trips[bremen_trips['start_time'].dt.month == 2].duration_sec.mean())\n",
    "print(bremen_trips[bremen_trips['start_time'].dt.month == 3].duration_sec.mean())\n",
    "print(bremen_trips[bremen_trips['start_time'].dt.month == 4].duration_sec.mean())\n",
    "print(bremen_trips[bremen_trips['start_time'].dt.month == 5].duration_sec.mean())\n",
    "print(bremen_trips[bremen_trips['start_time'].dt.month == 6].duration_sec.mean())\n",
    "print(bremen_trips[bremen_trips['start_time'].dt.month == 7].duration_sec.mean())\n",
    "print(bremen_trips[bremen_trips['start_time'].dt.month == 8].duration_sec.mean())\n",
    "print(bremen_trips[bremen_trips['start_time'].dt.month == 9].duration_sec.mean())\n",
    "print(bremen_trips[bremen_trips['start_time'].dt.month == 10].duration_sec.mean())\n",
    "print(bremen_trips[bremen_trips['start_time'].dt.month == 11].duration_sec.mean())\n",
    "print(bremen_trips[bremen_trips['start_time'].dt.month == 12].duration_sec.mean())"
   ]
  },
  {
   "cell_type": "code",
   "execution_count": 65,
   "metadata": {},
   "outputs": [
    {
     "data": {
      "text/plain": [
       "<matplotlib.axes._subplots.AxesSubplot at 0x1982d8eac48>"
      ]
     },
     "execution_count": 65,
     "metadata": {},
     "output_type": "execute_result"
    },
    {
     "data": {
      "image/png": "[encoded data removed]",
      "text/plain": [
       "<Figure size 432x288 with 1 Axes>"
      ]
     },
     "metadata": {
      "needs_background": "light"
     },
     "output_type": "display_data"
    }
   ],
   "source": [
    "# avg duration per month (looks like we have some outliers)\n",
    "\n",
    "df = bremen_trips.groupby('month').duration_sec.mean().to_frame()\n",
    "df.plot(kind=\"bar\")"
   ]
  },
  {
   "cell_type": "code",
   "execution_count": 73,
   "metadata": {},
   "outputs": [
    {
     "data": {
      "text/html": [
       "<div>\n",
       "<style scoped>\n",
       "    .dataframe tbody tr th:only-of-type {\n",
       "        vertical-align: middle;\n",
       "    }\n",
       "\n",
       "    .dataframe tbody tr th {\n",
       "        vertical-align: top;\n",
       "    }\n",
       "\n",
       "    .dataframe thead th {\n",
       "        text-align: right;\n",
       "    }\n",
       "</style>\n",
       "<table border=\"1\" class=\"dataframe\">\n",
       "  <thead>\n",
       "    <tr style=\"text-align: right;\">\n",
       "      <th></th>\n",
       "      <th>duration_sec</th>\n",
       "    </tr>\n",
       "    <tr>\n",
       "      <th>month</th>\n",
       "      <th></th>\n",
       "    </tr>\n",
       "  </thead>\n",
       "  <tbody>\n",
       "    <tr>\n",
       "      <th>1</th>\n",
       "      <td>67366.572805</td>\n",
       "    </tr>\n",
       "    <tr>\n",
       "      <th>2</th>\n",
       "      <td>9809.658003</td>\n",
       "    </tr>\n",
       "    <tr>\n",
       "      <th>3</th>\n",
       "      <td>15508.097330</td>\n",
       "    </tr>\n",
       "    <tr>\n",
       "      <th>4</th>\n",
       "      <td>9134.183746</td>\n",
       "    </tr>\n",
       "    <tr>\n",
       "      <th>5</th>\n",
       "      <td>9000.651672</td>\n",
       "    </tr>\n",
       "    <tr>\n",
       "      <th>6</th>\n",
       "      <td>7383.789070</td>\n",
       "    </tr>\n",
       "    <tr>\n",
       "      <th>8</th>\n",
       "      <td>10879.533659</td>\n",
       "    </tr>\n",
       "    <tr>\n",
       "      <th>9</th>\n",
       "      <td>9754.410797</td>\n",
       "    </tr>\n",
       "    <tr>\n",
       "      <th>10</th>\n",
       "      <td>5314.555903</td>\n",
       "    </tr>\n",
       "    <tr>\n",
       "      <th>11</th>\n",
       "      <td>6588.593041</td>\n",
       "    </tr>\n",
       "    <tr>\n",
       "      <th>12</th>\n",
       "      <td>3732.640387</td>\n",
       "    </tr>\n",
       "  </tbody>\n",
       "</table>\n",
       "</div>"
      ],
      "text/plain": [
       "       duration_sec\n",
       "month              \n",
       "1      67366.572805\n",
       "2       9809.658003\n",
       "3      15508.097330\n",
       "4       9134.183746\n",
       "5       9000.651672\n",
       "6       7383.789070\n",
       "8      10879.533659\n",
       "9       9754.410797\n",
       "10      5314.555903\n",
       "11      6588.593041\n",
       "12      3732.640387"
      ]
     },
     "execution_count": 73,
     "metadata": {},
     "output_type": "execute_result"
    }
   ],
   "source": [
    "df"
   ]
  },
  {
   "cell_type": "code",
   "execution_count": null,
   "metadata": {},
   "outputs": [],
   "source": []
  }
 ],
 "metadata": {
  "kernelspec": {
   "display_name": "Python 3",
   "language": "python",
   "name": "python3"
  },
  "language_info": {
   "codemirror_mode": {
    "name": "ipython",
    "version": 3
   },
   "file_extension": ".py",
   "mimetype": "text/x-python",
   "name": "python",
   "nbconvert_exporter": "python",
   "pygments_lexer": "ipython3",
   "version": "3.7.6"
  }
 },
 "nbformat": 4,
 "nbformat_minor": 4
}
