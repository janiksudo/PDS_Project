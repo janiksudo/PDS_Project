{
 "cells": [
  {
   "cell_type": "code",
   "execution_count": 2,
   "metadata": {},
   "outputs": [
    {
     "name": "stdout",
     "output_type": "stream",
     "text": [
      "Obtaining file:///C:/Users/x250/PycharmProjects/PDS_Project\n",
      "Requirement already satisfied: pandas in c:\\users\\x250\\anaconda3\\lib\\site-packages (from PDS-Project==0.0.1.dev1) (1.0.3)\n",
      "Requirement already satisfied: scikit-learn in c:\\users\\x250\\anaconda3\\lib\\site-packages (from PDS-Project==0.0.1.dev1) (0.22.1)\n",
      "Requirement already satisfied: click in c:\\users\\x250\\anaconda3\\lib\\site-packages (from PDS-Project==0.0.1.dev1) (7.1.1)\n",
      "Requirement already satisfied: pytz>=2017.2 in c:\\users\\x250\\anaconda3\\lib\\site-packages (from pandas->PDS-Project==0.0.1.dev1) (2019.3)\n",
      "Requirement already satisfied: numpy>=1.13.3 in c:\\users\\x250\\anaconda3\\lib\\site-packages (from pandas->PDS-Project==0.0.1.dev1) (1.18.1)\n",
      "Requirement already satisfied: python-dateutil>=2.6.1 in c:\\users\\x250\\anaconda3\\lib\\site-packages (from pandas->PDS-Project==0.0.1.dev1) (2.8.1)\n",
      "Requirement already satisfied: scipy>=0.17.0 in c:\\users\\x250\\anaconda3\\lib\\site-packages (from scikit-learn->PDS-Project==0.0.1.dev1) (1.4.1)\n",
      "Requirement already satisfied: joblib>=0.11 in c:\\users\\x250\\anaconda3\\lib\\site-packages (from scikit-learn->PDS-Project==0.0.1.dev1) (0.14.1)\n",
      "Requirement already satisfied: six>=1.5 in c:\\users\\x250\\appdata\\roaming\\python\\python37\\site-packages (from python-dateutil>=2.6.1->pandas->PDS-Project==0.0.1.dev1) (1.12.0)\n",
      "Installing collected packages: PDS-Project\n",
      "  Running setup.py develop for PDS-Project\n",
      "Successfully installed PDS-Project\n"
     ]
    },
    {
     "ename": "ModuleNotFoundError",
     "evalue": "No module named 'nextbike'",
     "output_type": "error",
     "traceback": [
      "\u001b[1;31m---------------------------------------------------------------------------\u001b[0m",
      "\u001b[1;31mModuleNotFoundError\u001b[0m                       Traceback (most recent call last)",
      "\u001b[1;32m<ipython-input-2-99e54cb3832e>\u001b[0m in \u001b[0;36m<module>\u001b[1;34m\u001b[0m\n\u001b[0;32m      1\u001b[0m \u001b[0mget_ipython\u001b[0m\u001b[1;33m(\u001b[0m\u001b[1;33m)\u001b[0m\u001b[1;33m.\u001b[0m\u001b[0msystem\u001b[0m\u001b[1;33m(\u001b[0m\u001b[1;34m'pip install -e ..'\u001b[0m\u001b[1;33m)\u001b[0m\u001b[1;33m\u001b[0m\u001b[1;33m\u001b[0m\u001b[0m\n\u001b[1;32m----> 2\u001b[1;33m \u001b[1;32mimport\u001b[0m \u001b[0mnextbike\u001b[0m\u001b[1;33m\u001b[0m\u001b[1;33m\u001b[0m\u001b[0m\n\u001b[0m",
      "\u001b[1;31mModuleNotFoundError\u001b[0m: No module named 'nextbike'"
     ]
    }
   ],
   "source": [
    "!pip install -e ..\n",
    "import nextbike"
   ]
  },
  {
   "cell_type": "code",
   "execution_count": 3,
   "metadata": {},
   "outputs": [
    {
     "ename": "ModuleNotFoundError",
     "evalue": "No module named 'nextbike'",
     "output_type": "error",
     "traceback": [
      "\u001b[1;31m---------------------------------------------------------------------------\u001b[0m",
      "\u001b[1;31mModuleNotFoundError\u001b[0m                       Traceback (most recent call last)",
      "\u001b[1;32m<ipython-input-3-7b98f7696d68>\u001b[0m in \u001b[0;36m<module>\u001b[1;34m\u001b[0m\n\u001b[1;32m----> 1\u001b[1;33m \u001b[1;32mimport\u001b[0m \u001b[0mnextbike\u001b[0m\u001b[1;33m\u001b[0m\u001b[1;33m\u001b[0m\u001b[0m\n\u001b[0m",
      "\u001b[1;31mModuleNotFoundError\u001b[0m: No module named 'nextbike'"
     ]
    }
   ],
   "source": [
    "import nextbike"
   ]
  },
  {
   "cell_type": "code",
   "execution_count": null,
   "metadata": {},
   "outputs": [],
   "source": []
  }
 ],
 "metadata": {
  "kernelspec": {
   "display_name": "Python 3",
   "language": "python",
   "name": "python3"
  },
  "language_info": {
   "codemirror_mode": {
    "name": "ipython",
    "version": 3
   },
   "file_extension": ".py",
   "mimetype": "text/x-python",
   "name": "python",
   "nbconvert_exporter": "python",
   "pygments_lexer": "ipython3",
   "version": "3.7.7"
  }
 },
 "nbformat": 4,
 "nbformat_minor": 4
}
