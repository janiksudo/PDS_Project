{
 "cells": [
  {
   "cell_type": "code",
   "execution_count": 1,
   "metadata": {},
   "outputs": [],
   "source": [
    "import os\n",
    "import sys"
   ]
  },
  {
   "cell_type": "code",
   "execution_count": 2,
   "metadata": {},
   "outputs": [],
   "source": [
    "sys.path.insert(0,\"..\")"
   ]
  },
  {
   "cell_type": "code",
   "execution_count": 3,
   "metadata": {},
   "outputs": [],
   "source": [
    "from nextbike.preprocessing import Preprocessor\n",
    "from nextbike.io import *"
   ]
  },
  {
   "cell_type": "code",
   "execution_count": 4,
   "metadata": {},
   "outputs": [
    {
     "name": "stdout",
     "output_type": "stream",
     "text": [
      "Cleaning data set...\n",
      "Filtering for city of Bremen. This can take some time depending on the computational power of your device.\n"
     ]
    },
    {
     "name": "stderr",
     "output_type": "stream",
     "text": [
      "C:\\Users\\TomCLG\\anaconda3\\lib\\site-packages\\geopandas\\tools\\sjoin.py:61: UserWarning: CRS of frames being joined does not match!(None != epsg:4326)\n",
      "  \"(%s != %s)\" % (left_df.crs, right_df.crs)\n"
     ]
    },
    {
     "name": "stdout",
     "output_type": "stream",
     "text": [
      "Filtered for city of Bremen.\n",
      "Duplicates of subset [datetime, bike number] dropped.\n",
      "Index reset.\n",
      "Order of columns rearranged.\n",
      "Null values dropped.\n",
      "Cleaned data set saved in data/processed as bremen_cleaned.csv.\n",
      "Cleaning data sucessfully finished.\n",
      "Creating Trips from cleaned bike pings...\n"
     ]
    },
    {
     "name": "stderr",
     "output_type": "stream",
     "text": [
      "Finished rows:: 100%|████████████████████████████████████████████████████████| 639939/639939 [03:13<00:00, 3311.35it/s]\n"
     ]
    },
    {
     "name": "stdout",
     "output_type": "stream",
     "text": [
      "created 228949 trips.\n",
      "removing round trips that are obviously not real...\n",
      "180867 trips remaining...\n",
      "removing sub-7 round trips...\n",
      "147572 trips remaining...\n",
      "removing trips on days that deviate 3 std away from the median of trips per day...\n",
      "146880 trips remaining...\n",
      "removing trips that duplicate perfectly on start and end time...\n",
      "136144 trips remaining.\n",
      "Trips data set saved in data/processed as trips.csv.\n",
      "Creating trips from data completed successfully.\n",
      "Download air_temp.zip from https://opendata.dwd.de/climate_environment/CDC/observations_germany/climate/10_minutes/air_temperature/historical/10minutenwerte_TU_00691_20100101_20191231_hist.zip and save to C:\\Users\\TomCLG\\Uni_Code\\PDS_Project\\notebooks\\../data\\external/\n",
      "\n",
      "Created data frame of air_temp.zip\n",
      "Zip file removed: C:\\Users\\TomCLG\\Uni_Code\\PDS_Project\\notebooks\\../data\\external/air_temp.zip\n",
      "Download air_temp_extr.zip from https://opendata.dwd.de/climate_environment/CDC/observations_germany/climate/10_minutes/extreme_temperature/historical/10minutenwerte_extrema_temp_00691_20100101_20191231_hist.zip and save to C:\\Users\\TomCLG\\Uni_Code\\PDS_Project\\notebooks\\../data\\external/\n",
      "\n",
      "Created data frame of air_temp_extr.zip\n",
      "Zip file removed: C:\\Users\\TomCLG\\Uni_Code\\PDS_Project\\notebooks\\../data\\external/air_temp_extr.zip\n",
      "Download wind.zip from https://opendata.dwd.de/climate_environment/CDC/observations_germany/climate/10_minutes/wind/historical/10minutenwerte_wind_00691_20100101_20191231_hist.zip and save to C:\\Users\\TomCLG\\Uni_Code\\PDS_Project\\notebooks\\../data\\external/\n",
      "\n",
      "Created data frame of wind.zip\n",
      "Zip file removed: C:\\Users\\TomCLG\\Uni_Code\\PDS_Project\\notebooks\\../data\\external/wind.zip\n",
      "Download wind_extr.zip from https://opendata.dwd.de/climate_environment/CDC/observations_germany/climate/10_minutes/extreme_wind/historical/10minutenwerte_extrema_wind_00691_20100101_20191231_hist.zip and save to C:\\Users\\TomCLG\\Uni_Code\\PDS_Project\\notebooks\\../data\\external/\n",
      "\n",
      "Created data frame of wind_extr.zip\n",
      "Zip file removed: C:\\Users\\TomCLG\\Uni_Code\\PDS_Project\\notebooks\\../data\\external/wind_extr.zip\n",
      "Download precipitation.zip from https://opendata.dwd.de/climate_environment/CDC/observations_germany/climate/10_minutes/precipitation/historical/10minutenwerte_nieder_00691_20100101_20191231_hist.zip and save to C:\\Users\\TomCLG\\Uni_Code\\PDS_Project\\notebooks\\../data\\external/\n",
      "\n",
      "Created data frame of precipitation.zip\n",
      "Zip file removed: C:\\Users\\TomCLG\\Uni_Code\\PDS_Project\\notebooks\\../data\\external/precipitation.zip\n",
      "Cleaning air_temp\n",
      "Cleaning air_temp_extr\n",
      "Cleaning wind\n",
      "Cleaning wind_extr\n",
      "Cleaning precipitation\n",
      "Merging all weather data...\n",
      "temp_2m               0\n",
      "humidity_2m           0\n",
      "dew_point_2m          0\n",
      "max_at_2m             0\n",
      "mean_speed_h/s        0\n",
      "direction_degree_x    0\n",
      "max_m/s               0\n",
      "min_mean_m/s          0\n",
      "max_mean_m/s          0\n",
      "direction_degree_y    0\n",
      "min                   0\n",
      "mm                    0\n",
      "dtype: int64\n",
      "Getting and cleaning of weather data successful!\n",
      "Data saved as C:\\Users\\TomCLG\\Uni_Code\\PDS_Project\\notebooks\\../data\\external/weather.gz\n",
      "To import the data use the following command:\n",
      "pd.read_csv(path + 'external/weather.gz', index_col='timestamp')\n",
      "Trip and weather data merged\n",
      "Clean data\n"
     ]
    }
   ],
   "source": [
    "proc = Preprocessor(data_path=get_data_path())\n",
    "proc.run()"
   ]
  },
  {
   "cell_type": "code",
   "execution_count": 5,
   "metadata": {},
   "outputs": [],
   "source": [
    "import pandas as pd"
   ]
  },
  {
   "cell_type": "code",
   "execution_count": 9,
   "metadata": {},
   "outputs": [
    {
     "data": {
      "text/plain": [
       "0         28329\n",
       "1         28329\n",
       "2         28329\n",
       "3         28329\n",
       "4         28329\n",
       "          ...  \n",
       "135438    28359\n",
       "135439    28195\n",
       "135440    28195\n",
       "135441    28203\n",
       "135442    28203\n",
       "Name: start_plz, Length: 135443, dtype: int64"
      ]
     },
     "execution_count": 9,
     "metadata": {},
     "output_type": "execute_result"
    }
   ],
   "source": [
    "pd.read_csv('../data/processed/trips_weather.csv')[\"start_plz\"]"
   ]
  },
  {
   "cell_type": "code",
   "execution_count": null,
   "metadata": {},
   "outputs": [],
   "source": []
  }
 ],
 "metadata": {
  "kernelspec": {
   "display_name": "Python 3",
   "language": "python",
   "name": "python3"
  },
  "language_info": {
   "codemirror_mode": {
    "name": "ipython",
    "version": 3
   },
   "file_extension": ".py",
   "mimetype": "text/x-python",
   "name": "python",
   "nbconvert_exporter": "python",
   "pygments_lexer": "ipython3",
   "version": "3.7.6"
  }
 },
 "nbformat": 4,
 "nbformat_minor": 4
}
