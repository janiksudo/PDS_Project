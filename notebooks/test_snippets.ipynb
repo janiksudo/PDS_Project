{
 "cells": [
  {
   "cell_type": "code",
   "execution_count": 1,
   "metadata": {
    "pycharm": {
     "is_executing": false
    }
   },
   "outputs": [],
   "source": [
    "import os\n",
    "import sys\n",
    "import numpy as np"
   ]
  },
  {
   "cell_type": "code",
   "execution_count": 2,
   "metadata": {
    "pycharm": {
     "is_executing": false
    }
   },
   "outputs": [],
   "source": [
    "sys.path.insert(0,\"..\")"
   ]
  },
  {
   "cell_type": "code",
   "execution_count": 3,
   "metadata": {
    "pycharm": {
     "is_executing": false
    }
   },
   "outputs": [],
   "source": [
    "from nextbike.preprocessing import Preprocessor\n",
    "from nextbike.model import Model\n",
    "from nextbike.io import *"
   ]
  },
  {
   "cell_type": "code",
   "execution_count": 4,
   "metadata": {
    "pycharm": {
     "is_executing": false
    }
   },
   "outputs": [
    {
     "name": "stdout",
     "output_type": "stream",
     "text": [
      "bremen\n",
      "   Unnamed: 0  p_spot  p_place_type            datetime  b_number   trip  \\\n",
      "0           0    True             0 2019-01-20 02:06:00     11281  first   \n",
      "1           1    True             0 2019-01-20 14:16:00     11281   last   \n",
      "2           2    True             0 2019-01-20 00:00:00     11169  first   \n",
      "3           3    True             0 2019-01-20 01:55:00     11169  start   \n",
      "4           4    True             0 2019-01-20 02:06:00     11169    end   \n",
      "\n",
      "     p_uid  p_bikes      p_lat  b_bike_type                          p_name  \\\n",
      "0  4774295        5  50.808852           15           Biegenstraße/Cineplex   \n",
      "1  4774295        4  50.808852           15           Biegenstraße/Cineplex   \n",
      "2  4774543        5  50.795224           15                      Südbahnhof   \n",
      "3  4774543        5  50.795224           15                      Südbahnhof   \n",
      "4  4774368        4  50.804522           15  Frankfurter Straße/Psychologie   \n",
      "\n",
      "   p_number     p_lng  p_bike  \n",
      "0    5155.0  8.773134   False  \n",
      "1    5155.0  8.773134   False  \n",
      "2    5173.0  8.763266   False  \n",
      "3    5173.0  8.763266   False  \n",
      "4    5159.0  8.770358   False  \n",
      "Cleaning data set...\n",
      "Filtering for city of Bremen. This can take some time depending on the computational power of your device.\n"
     ]
    },
    {
     "name": "stderr",
     "output_type": "stream",
     "text": [
      "C:\\Users\\TomCLG\\anaconda3\\lib\\site-packages\\geopandas\\tools\\sjoin.py:61: UserWarning: CRS of frames being joined does not match!(None != epsg:4326)\n",
      "  \"(%s != %s)\" % (left_df.crs, right_df.crs)\n"
     ]
    },
    {
     "name": "stdout",
     "output_type": "stream",
     "text": [
      "Filtered for city of Bremen.\n",
      "Duplicates of subset [datetime, bike number] dropped.\n",
      "Index reset.\n",
      "Order of columns rearranged.\n",
      "Null values dropped.\n",
      "Cleaned data set saved in data/processed as bremen_cleaned.csv.\n",
      "Cleaning data sucessfully finished.\n",
      "Creating Trips from cleaned bike pings...\n"
     ]
    },
    {
     "name": "stderr",
     "output_type": "stream",
     "text": [
      "Finished rows:: 100%|███████████████████████████████████████████████████████████████████████████████████████████████████████████████████████████████████████████████████████████| 639939/639939 [03:13<00:00, 3311.16it/s]\n"
     ]
    },
    {
     "name": "stdout",
     "output_type": "stream",
     "text": [
      "created 228949 trips.\n",
      "removing round trips that are obviously not real...\n",
      "180867 trips remaining...\n",
      "removing sub-7 round trips...\n",
      "147572 trips remaining...\n",
      "removing trips on days that deviate 3 std away from the median of trips per day...\n",
      "146880 trips remaining...\n",
      "removing trips that duplicate perfectly on start and end time...\n",
      "136144 trips remaining.\n",
      "Trips data set saved in data/processed as trips.csv.\n",
      "Creating trips from data completed successfully.\n",
      "Download air_temp.zip from https://opendata.dwd.de/climate_environment/CDC/observations_germany/climate/10_minutes/air_temperature/historical/10minutenwerte_TU_00691_20100101_20191231_hist.zip and save to C:\\Users\\TomCLG\\Uni_Code\\PDS_Project\\notebooks\\../data\\external/\n",
      "\n",
      "Created data frame of air_temp.zip\n",
      "Zip file removed: C:\\Users\\TomCLG\\Uni_Code\\PDS_Project\\notebooks\\../data\\external/air_temp.zip\n",
      "Download air_temp_extr.zip from https://opendata.dwd.de/climate_environment/CDC/observations_germany/climate/10_minutes/extreme_temperature/historical/10minutenwerte_extrema_temp_00691_20100101_20191231_hist.zip and save to C:\\Users\\TomCLG\\Uni_Code\\PDS_Project\\notebooks\\../data\\external/\n",
      "\n",
      "Created data frame of air_temp_extr.zip\n",
      "Zip file removed: C:\\Users\\TomCLG\\Uni_Code\\PDS_Project\\notebooks\\../data\\external/air_temp_extr.zip\n",
      "Download wind.zip from https://opendata.dwd.de/climate_environment/CDC/observations_germany/climate/10_minutes/wind/historical/10minutenwerte_wind_00691_20100101_20191231_hist.zip and save to C:\\Users\\TomCLG\\Uni_Code\\PDS_Project\\notebooks\\../data\\external/\n",
      "\n",
      "Created data frame of wind.zip\n",
      "Zip file removed: C:\\Users\\TomCLG\\Uni_Code\\PDS_Project\\notebooks\\../data\\external/wind.zip\n",
      "Download wind_extr.zip from https://opendata.dwd.de/climate_environment/CDC/observations_germany/climate/10_minutes/extreme_wind/historical/10minutenwerte_extrema_wind_00691_20100101_20191231_hist.zip and save to C:\\Users\\TomCLG\\Uni_Code\\PDS_Project\\notebooks\\../data\\external/\n",
      "\n",
      "Created data frame of wind_extr.zip\n",
      "Zip file removed: C:\\Users\\TomCLG\\Uni_Code\\PDS_Project\\notebooks\\../data\\external/wind_extr.zip\n",
      "Download precipitation.zip from https://opendata.dwd.de/climate_environment/CDC/observations_germany/climate/10_minutes/precipitation/historical/10minutenwerte_nieder_00691_20100101_20191231_hist.zip and save to C:\\Users\\TomCLG\\Uni_Code\\PDS_Project\\notebooks\\../data\\external/\n",
      "\n",
      "Created data frame of precipitation.zip\n",
      "Zip file removed: C:\\Users\\TomCLG\\Uni_Code\\PDS_Project\\notebooks\\../data\\external/precipitation.zip\n",
      "Cleaning air_temp\n",
      "Cleaning air_temp_extr\n",
      "Cleaning wind\n",
      "Cleaning wind_extr\n",
      "Cleaning precipitation\n",
      "Merging all weather data...\n",
      "temp_2m               0\n",
      "humidity_2m           0\n",
      "dew_point_2m          0\n",
      "max_at_2m             0\n",
      "mean_speed_h/s        0\n",
      "direction_degree_x    0\n",
      "max_m/s               0\n",
      "min_mean_m/s          0\n",
      "max_mean_m/s          0\n",
      "direction_degree_y    0\n",
      "min                   0\n",
      "mm                    0\n",
      "dtype: int64\n",
      "Getting and cleaning of weather data successful!\n",
      "Data saved as C:\\Users\\TomCLG\\Uni_Code\\PDS_Project\\notebooks\\../data\\external/weather.gz\n",
      "To import the data use the following command:\n",
      "pd.read_csv(path + 'external/weather.gz', index_col='timestamp')\n",
      "Trip and weather data merged\n",
      "Clean data\n"
     ]
    }
   ],
   "source": [
    "proc = Preprocessor(data_path=get_data_path(), new=False, year=2019)\n",
    "proc.run()"
   ]
  },
  {
   "cell_type": "code",
   "execution_count": null,
   "metadata": {},
   "outputs": [],
   "source": []
  },
  {
   "cell_type": "code",
   "execution_count": 5,
   "metadata": {
    "pycharm": {
     "is_executing": false
    }
   },
   "outputs": [],
   "source": [
    "import pandas as pd"
   ]
  },
  {
   "cell_type": "code",
   "execution_count": 6,
   "metadata": {
    "pycharm": {
     "is_executing": false
    }
   },
   "outputs": [],
   "source": [
    "#model = Model(data_path=get_data_path())\n",
    "#model.train_duration()\n"
   ]
  },
  {
   "cell_type": "code",
   "execution_count": null,
   "metadata": {
    "pycharm": {
     "name": "#%%\n"
    }
   },
   "outputs": [],
   "source": [
    "\n"
   ]
  },
  {
   "cell_type": "code",
   "execution_count": null,
   "metadata": {},
   "outputs": [],
   "source": []
  }
 ],
 "metadata": {
  "kernelspec": {
   "display_name": "PyCharm (lupoanalytica)",
   "language": "python",
   "name": "pycharm-43ef22c3"
  },
  "language_info": {
   "codemirror_mode": {
    "name": "ipython",
    "version": 3
   },
   "file_extension": ".py",
   "mimetype": "text/x-python",
   "name": "python",
   "nbconvert_exporter": "python",
   "pygments_lexer": "ipython3",
   "version": "3.7.6"
  },
  "pycharm": {
   "stem_cell": {
    "cell_type": "raw",
    "metadata": {
     "collapsed": false
    },
    "source": []
   }
  }
 },
 "nbformat": 4,
 "nbformat_minor": 4
}
