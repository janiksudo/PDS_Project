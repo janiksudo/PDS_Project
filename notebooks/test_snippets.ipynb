{
 "cells": [
  {
   "cell_type": "code",
   "execution_count": 1,
   "metadata": {},
   "outputs": [],
   "source": [
    "import os\n",
    "import sys"
   ]
  },
  {
   "cell_type": "code",
   "execution_count": 2,
   "metadata": {},
   "outputs": [],
   "source": [
    "sys.path.insert(0,\"..\")"
   ]
  },
  {
   "cell_type": "code",
   "execution_count": 3,
   "metadata": {},
   "outputs": [],
   "source": [
    "from nextbike.preprocessing import Preprocessor\n",
    "from nextbike.io import *"
   ]
  },
  {
   "cell_type": "code",
   "execution_count": null,
   "metadata": {},
   "outputs": [
    {
     "name": "stdout",
     "output_type": "stream",
     "text": [
      "Cleaning data set...\n",
      "Filtering for city of Bremen. This can take some time depending on the computational power of your device.\n"
     ]
    },
    {
     "name": "stderr",
     "output_type": "stream",
     "text": [
      "/Users/timockenga/anaconda3/lib/python3.7/site-packages/geopandas/tools/sjoin.py:61: UserWarning: CRS of frames being joined does not match!(None != epsg:4326)\n",
      "  \"(%s != %s)\" % (left_df.crs, right_df.crs)\n"
     ]
    },
    {
     "name": "stdout",
     "output_type": "stream",
     "text": [
      "Filtered for city of Bremen.\n",
      "Duplicates of subset [datetime, bike number] dropped.\n",
      "Index reset.\n",
      "Order of columns rearranged.\n",
      "Null values dropped.\n",
      "Cleaned data set saved in data/processed as bremen_cleaned.csv.\n",
      "Cleaning data sucessfully finished.\n",
      "Creating Trips from cleaned bike pings...\n"
     ]
    },
    {
     "name": "stderr",
     "output_type": "stream",
     "text": [
      "Finished rows:: 100%|██████████| 639939/639939 [01:59<00:00, 5365.76it/s]\n"
     ]
    },
    {
     "name": "stdout",
     "output_type": "stream",
     "text": [
      "created 228949 trips.\n",
      "removing round-trips that are obviously not real...\n",
      "180867 trips remaining...\n",
      "removing sub-7 round-trips...\n",
      "147572 trips remaining...\n",
      "removing trips on days that deviate 3 std away from the median of trips per day...\n",
      "146880 trips remaining...\n",
      "removing trips that duplicate perfectly on start and end time...\n",
      "136144 trips remaining.\n",
      "Trips data set saved in data/processed as trips.csv.\n",
      "Creating trips from data completed successfully.\n",
      "Download air_temp.zip from https://opendata.dwd.de/climate_environment/CDC/observations_germany/climate/10_minutes/air_temperature/historical/10minutenwerte_TU_00691_20100101_20191231_hist.zip and save to /Users/timockenga/Programming/PDS_Project/notebooks/../data/external/\n",
      "\n",
      "Created data frame of air_temp.zip\n",
      "Zip file removed: /Users/timockenga/Programming/PDS_Project/notebooks/../data/external/air_temp.zip\n",
      "Download air_temp_extr.zip from https://opendata.dwd.de/climate_environment/CDC/observations_germany/climate/10_minutes/extreme_temperature/historical/10minutenwerte_extrema_temp_00691_20100101_20191231_hist.zip and save to /Users/timockenga/Programming/PDS_Project/notebooks/../data/external/\n",
      "\n",
      "Created data frame of air_temp_extr.zip\n",
      "Zip file removed: /Users/timockenga/Programming/PDS_Project/notebooks/../data/external/air_temp_extr.zip\n",
      "Download wind.zip from https://opendata.dwd.de/climate_environment/CDC/observations_germany/climate/10_minutes/wind/historical/10minutenwerte_wind_00691_20100101_20191231_hist.zip and save to /Users/timockenga/Programming/PDS_Project/notebooks/../data/external/\n",
      "\n",
      "Created data frame of wind.zip\n",
      "Zip file removed: /Users/timockenga/Programming/PDS_Project/notebooks/../data/external/wind.zip\n",
      "Download wind_extr.zip from https://opendata.dwd.de/climate_environment/CDC/observations_germany/climate/10_minutes/extreme_wind/historical/10minutenwerte_extrema_wind_00691_20100101_20191231_hist.zip and save to /Users/timockenga/Programming/PDS_Project/notebooks/../data/external/\n",
      "\n",
      "Created data frame of wind_extr.zip\n",
      "Zip file removed: /Users/timockenga/Programming/PDS_Project/notebooks/../data/external/wind_extr.zip\n",
      "Download precipitation.zip from https://opendata.dwd.de/climate_environment/CDC/observations_germany/climate/10_minutes/precipitation/historical/10minutenwerte_nieder_00691_20100101_20191231_hist.zip and save to /Users/timockenga/Programming/PDS_Project/notebooks/../data/external/\n",
      "\n",
      "Created data frame of precipitation.zip\n",
      "Zip file removed: /Users/timockenga/Programming/PDS_Project/notebooks/../data/external/precipitation.zip\n",
      "Cleaning air_temp\n",
      "Cleaning air_temp_extr\n",
      "Cleaning wind\n",
      "Cleaning wind_extr\n"
     ]
    }
   ],
   "source": [
    "proc = Preprocessor(data_path=get_data_path())\n",
    "proc.run()"
   ]
  },
  {
   "cell_type": "code",
   "execution_count": null,
   "metadata": {},
   "outputs": [],
   "source": [
    "import pandas as pd"
   ]
  },
  {
   "cell_type": "code",
   "execution_count": null,
   "metadata": {},
   "outputs": [],
   "source": [
    "pd.read_csv('../data/processed/trips_weather.csv').keys()"
   ]
  },
  {
   "cell_type": "code",
   "execution_count": null,
   "metadata": {},
   "outputs": [],
   "source": []
  }
 ],
 "metadata": {
  "kernelspec": {
   "display_name": "Python 3",
   "language": "python",
   "name": "python3"
  },
  "language_info": {
   "codemirror_mode": {
    "name": "ipython",
    "version": 3
   },
   "file_extension": ".py",
   "mimetype": "text/x-python",
   "name": "python",
   "nbconvert_exporter": "python",
   "pygments_lexer": "ipython3",
   "version": "3.7.3"
  }
 },
 "nbformat": 4,
 "nbformat_minor": 4
}
