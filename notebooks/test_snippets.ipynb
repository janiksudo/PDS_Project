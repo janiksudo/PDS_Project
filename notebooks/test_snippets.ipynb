{
 "cells": [
  {
   "cell_type": "code",
   "execution_count": 3,
   "metadata": {},
   "outputs": [],
   "source": [
    "import os\n",
    "import sys"
   ]
  },
  {
   "cell_type": "code",
   "execution_count": 5,
   "metadata": {},
   "outputs": [],
   "source": [
    "sys.path.insert(0,\"..\")"
   ]
  },
  {
   "cell_type": "code",
   "execution_count": 6,
   "metadata": {},
   "outputs": [],
   "source": [
    "from nextbike.preprocessing import Preprocessor\n",
    "from nextbike.io import *"
   ]
  },
  {
   "cell_type": "code",
   "execution_count": 7,
   "metadata": {},
   "outputs": [
    {
     "name": "stdout",
     "output_type": "stream",
     "text": [
      "Cleaning data set...\n",
      "Filtered for city of Bremen.\n",
      "Duplicates of subset [datetime, bike number] dropped.\n",
      "Index reset.\n",
      "Order of columns rearranged.\n",
      "Null values dropped.\n",
      "Cleaned data set saved in data/processed as bremen_cleaned.csv.\n",
      "Cleaning data sucessfully finished.\n",
      "Creating Trips from cleaned bike pings...\n"
     ]
    },
    {
     "name": "stderr",
     "output_type": "stream",
     "text": [
      "Finished rows:: 100%|██████████| 654495/654495 [02:18<00:00, 4733.13it/s]\n"
     ]
    },
    {
     "name": "stdout",
     "output_type": "stream",
     "text": [
      "Trips data set saved in data/processed as trips.csv.\n",
      "Creating trips from data completed successfully.\n"
     ]
    }
   ],
   "source": [
    "proc = Preprocessor(data_path=get_data_path())\n",
    "proc.clean_dataset()\n",
    "proc.create_trips()"
   ]
  }
 ],
 "metadata": {
  "kernelspec": {
   "display_name": "Python 3",
   "language": "python",
   "name": "python3"
  },
  "language_info": {
   "codemirror_mode": {
    "name": "ipython",
    "version": 3
   },
   "file_extension": ".py",
   "mimetype": "text/x-python",
   "name": "python",
   "nbconvert_exporter": "python",
   "pygments_lexer": "ipython3",
   "version": "3.7.3"
  }
 },
 "nbformat": 4,
 "nbformat_minor": 4
}
