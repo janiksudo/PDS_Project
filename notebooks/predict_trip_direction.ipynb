{
 "cells": [
  {
   "cell_type": "markdown",
   "metadata": {},
   "source": [
    "## Import used packages"
   ]
  },
  {
   "cell_type": "code",
   "execution_count": 1,
   "metadata": {},
   "outputs": [],
   "source": [
    "import pandas as pd\n",
    "import sys\n",
    "from datetime import date, datetime\n",
    "import matplotlib.pyplot as plt\n",
    "import seaborn as sns\n",
    "import numpy as np\n",
    "from scipy import spatial\n",
    "from math import sin, cos, sqrt, atan2, radians\n",
    "import folium\n",
    "from tqdm import tqdm\n",
    "import seaborn as sns"
   ]
  },
  {
   "cell_type": "markdown",
   "metadata": {},
   "source": [
    "## Import data"
   ]
  },
  {
   "cell_type": "code",
   "execution_count": 2,
   "metadata": {},
   "outputs": [],
   "source": [
    "bremen_trips = pd.read_csv(\"../data/processed/bremen.csv\", index_col=0)\n",
    "bremen_trips = bremen_trips.sort_values(by=['start_time'], ascending=True)\n",
    "bremen_trips[\"start_time\"] = pd.to_datetime(bremen_trips[\"start_time\"])"
   ]
  },
  {
   "cell_type": "code",
   "execution_count": 3,
   "metadata": {
    "scrolled": true
   },
   "outputs": [
    {
     "data": {
      "text/html": [
       "<div>\n",
       "<style scoped>\n",
       "    .dataframe tbody tr th:only-of-type {\n",
       "        vertical-align: middle;\n",
       "    }\n",
       "\n",
       "    .dataframe tbody tr th {\n",
       "        vertical-align: top;\n",
       "    }\n",
       "\n",
       "    .dataframe thead th {\n",
       "        text-align: right;\n",
       "    }\n",
       "</style>\n",
       "<table border=\"1\" class=\"dataframe\">\n",
       "  <thead>\n",
       "    <tr style=\"text-align: right;\">\n",
       "      <th></th>\n",
       "      <th>identification</th>\n",
       "      <th>start_time</th>\n",
       "      <th>end_time</th>\n",
       "      <th>weekend</th>\n",
       "      <th>duration_sec</th>\n",
       "      <th>start_lng</th>\n",
       "      <th>start_lat</th>\n",
       "      <th>end_lng</th>\n",
       "      <th>end_lat</th>\n",
       "      <th>start_place</th>\n",
       "      <th>...</th>\n",
       "      <th>humidity_2m</th>\n",
       "      <th>dew_point_2m</th>\n",
       "      <th>max_at_2m</th>\n",
       "      <th>mean_speed_h/s</th>\n",
       "      <th>direction_degree_x</th>\n",
       "      <th>max_m/s</th>\n",
       "      <th>min_mean_m/s</th>\n",
       "      <th>max_mean_m/s</th>\n",
       "      <th>direction_degree_y</th>\n",
       "      <th>min</th>\n",
       "    </tr>\n",
       "    <tr>\n",
       "      <th>bike</th>\n",
       "      <th></th>\n",
       "      <th></th>\n",
       "      <th></th>\n",
       "      <th></th>\n",
       "      <th></th>\n",
       "      <th></th>\n",
       "      <th></th>\n",
       "      <th></th>\n",
       "      <th></th>\n",
       "      <th></th>\n",
       "      <th></th>\n",
       "      <th></th>\n",
       "      <th></th>\n",
       "      <th></th>\n",
       "      <th></th>\n",
       "      <th></th>\n",
       "      <th></th>\n",
       "      <th></th>\n",
       "      <th></th>\n",
       "      <th></th>\n",
       "      <th></th>\n",
       "    </tr>\n",
       "  </thead>\n",
       "  <tbody>\n",
       "    <tr>\n",
       "      <th>20685</th>\n",
       "      <td>12099440</td>\n",
       "      <td>2019-01-20 00:13:00</td>\n",
       "      <td>2019-01-20 00:23:00</td>\n",
       "      <td>1</td>\n",
       "      <td>600.0</td>\n",
       "      <td>8.812554</td>\n",
       "      <td>53.076481</td>\n",
       "      <td>8.804828</td>\n",
       "      <td>53.084196</td>\n",
       "      <td>0.0</td>\n",
       "      <td>...</td>\n",
       "      <td>92.6</td>\n",
       "      <td>-4.8</td>\n",
       "      <td>-3.4</td>\n",
       "      <td>2.6</td>\n",
       "      <td>80.0</td>\n",
       "      <td>3.1</td>\n",
       "      <td>2.1</td>\n",
       "      <td>2.6</td>\n",
       "      <td>80.0</td>\n",
       "      <td>0.0</td>\n",
       "    </tr>\n",
       "    <tr>\n",
       "      <th>20626</th>\n",
       "      <td>10278649</td>\n",
       "      <td>2019-01-20 00:16:00</td>\n",
       "      <td>2019-01-20 04:47:00</td>\n",
       "      <td>1</td>\n",
       "      <td>16260.0</td>\n",
       "      <td>8.884911</td>\n",
       "      <td>53.078923</td>\n",
       "      <td>8.884911</td>\n",
       "      <td>53.078923</td>\n",
       "      <td>2985.0</td>\n",
       "      <td>...</td>\n",
       "      <td>92.6</td>\n",
       "      <td>-4.8</td>\n",
       "      <td>-3.4</td>\n",
       "      <td>2.6</td>\n",
       "      <td>80.0</td>\n",
       "      <td>3.1</td>\n",
       "      <td>2.1</td>\n",
       "      <td>2.6</td>\n",
       "      <td>80.0</td>\n",
       "      <td>0.0</td>\n",
       "    </tr>\n",
       "  </tbody>\n",
       "</table>\n",
       "<p>2 rows × 24 columns</p>\n",
       "</div>"
      ],
      "text/plain": [
       "       identification          start_time             end_time  weekend  \\\n",
       "bike                                                                      \n",
       "20685        12099440 2019-01-20 00:13:00  2019-01-20 00:23:00        1   \n",
       "20626        10278649 2019-01-20 00:16:00  2019-01-20 04:47:00        1   \n",
       "\n",
       "       duration_sec  start_lng  start_lat   end_lng    end_lat  start_place  \\\n",
       "bike                                                                          \n",
       "20685         600.0   8.812554  53.076481  8.804828  53.084196          0.0   \n",
       "20626       16260.0   8.884911  53.078923  8.884911  53.078923       2985.0   \n",
       "\n",
       "       ...  humidity_2m  dew_point_2m  max_at_2m  mean_speed_h/s  \\\n",
       "bike   ...                                                         \n",
       "20685  ...         92.6          -4.8       -3.4             2.6   \n",
       "20626  ...         92.6          -4.8       -3.4             2.6   \n",
       "\n",
       "       direction_degree_x  max_m/s  min_mean_m/s  max_mean_m/s  \\\n",
       "bike                                                             \n",
       "20685                80.0      3.1           2.1           2.6   \n",
       "20626                80.0      3.1           2.1           2.6   \n",
       "\n",
       "       direction_degree_y  min  \n",
       "bike                            \n",
       "20685                80.0  0.0  \n",
       "20626                80.0  0.0  \n",
       "\n",
       "[2 rows x 24 columns]"
      ]
     },
     "execution_count": 3,
     "metadata": {},
     "output_type": "execute_result"
    }
   ],
   "source": [
    "bremen_trips.head(2)"
   ]
  },
  {
   "cell_type": "code",
   "execution_count": 4,
   "metadata": {},
   "outputs": [
    {
     "data": {
      "text/plain": [
       "Index(['identification', 'start_time', 'end_time', 'weekend', 'duration_sec',\n",
       "       'start_lng', 'start_lat', 'end_lng', 'end_lat', 'start_place',\n",
       "       'end_place', 'start_plz', 'end_plz', 'temp_2m', 'humidity_2m',\n",
       "       'dew_point_2m', 'max_at_2m', 'mean_speed_h/s', 'direction_degree_x',\n",
       "       'max_m/s', 'min_mean_m/s', 'max_mean_m/s', 'direction_degree_y', 'min'],\n",
       "      dtype='object')"
      ]
     },
     "execution_count": 4,
     "metadata": {},
     "output_type": "execute_result"
    }
   ],
   "source": [
    "bremen_trips.keys()"
   ]
  },
  {
   "cell_type": "markdown",
   "metadata": {},
   "source": [
    "## Functions that calculates distance moved towards the university of Bremen and main station"
   ]
  },
  {
   "cell_type": "code",
   "execution_count": 5,
   "metadata": {},
   "outputs": [],
   "source": [
    "# Function that calculates if start or end location is closer to University of Bremen. \n",
    "# Returns the difference of the distances of the start and end location in kilometers.\n",
    "# If value positive, end locations is closer to university. That means moved towards university.\n",
    "def distanceToUni(sLng,sLat,eLng,eLat):\n",
    "    # approximate radius of earth in km\n",
    "    R = 6373.0\n",
    "    \n",
    "    sLng = radians(sLng)\n",
    "    sLat = radians(sLat)\n",
    "    eLng = radians(eLng)\n",
    "    eLat = radians(eLat)\n",
    "    uLat = radians(53.1069302) # University of Bremen Latitude\n",
    "    uLng = radians(8.8499603)  # University of Bremen Longitude\n",
    "\n",
    "    sdlon = uLng - sLng\n",
    "    sdlat = uLat - sLat\n",
    "\n",
    "    edlon = uLng - eLng\n",
    "    edlat = uLat - eLat\n",
    "\n",
    "    sA = sin(sdlat / 2)**2 + cos(sLat) * cos(uLat) * sin(sdlon / 2)**2\n",
    "    eA = sin(edlat / 2)**2 + cos(eLat) * cos(uLat) * sin(edlon / 2)**2\n",
    "    \n",
    "    sC = 2 * atan2(sqrt(sA), sqrt(1 - sA))\n",
    "    eC = 2 * atan2(sqrt(eA), sqrt(1 - eA))\n",
    "\n",
    "    sDist = R * sC\n",
    "    eDist = R * eC\n",
    "\n",
    "    distance = sDist - eDist\n",
    "    \n",
    "    return distance\n",
    "\n",
    "def distanceToMainStation(sLng,sLat,eLng,eLat):\n",
    "    # approximate radius of earth in km\n",
    "    R = 6373.0\n",
    "    \n",
    "    sLng = radians(sLng)\n",
    "    sLat = radians(sLat)\n",
    "    eLng = radians(eLng)\n",
    "    eLat = radians(eLat)\n",
    "    msLat = radians(53.083122) # # Main station Latitude\n",
    "    msLng = radians(8.813717) # # Main station Latitude\n",
    "\n",
    "    sdlon = msLng - sLng\n",
    "    sdlat = msLat - sLat\n",
    "\n",
    "    edlon = msLng - eLng\n",
    "    edlat = msLat - eLat\n",
    "\n",
    "    sA = sin(sdlat / 2)**2 + cos(sLat) * cos(msLat) * sin(sdlon / 2)**2\n",
    "    eA = sin(edlat / 2)**2 + cos(eLat) * cos(msLat) * sin(edlon / 2)**2\n",
    "    \n",
    "    sC = 2 * atan2(sqrt(sA), sqrt(1 - sA))\n",
    "    eC = 2 * atan2(sqrt(eA), sqrt(1 - eA))\n",
    "\n",
    "    sDist = R * sC\n",
    "    eDist = R * eC\n",
    "\n",
    "    distance = sDist - eDist\n",
    "    \n",
    "    return distance"
   ]
  },
  {
   "cell_type": "markdown",
   "metadata": {},
   "source": [
    "## Example of trip moving away from the university\n",
    "\n",
    "- Red marker = University of Bremen\n",
    "- Blue marker = Start location\n",
    "- Green marker = End location"
   ]
  },
  {
   "cell_type": "code",
   "execution_count": 6,
   "metadata": {},
   "outputs": [
    {
     "data": {
      "text/html": [
       "<div>\n",
       "<style scoped>\n",
       "    .dataframe tbody tr th:only-of-type {\n",
       "        vertical-align: middle;\n",
       "    }\n",
       "\n",
       "    .dataframe tbody tr th {\n",
       "        vertical-align: top;\n",
       "    }\n",
       "\n",
       "    .dataframe thead th {\n",
       "        text-align: right;\n",
       "    }\n",
       "</style>\n",
       "<table border=\"1\" class=\"dataframe\">\n",
       "  <thead>\n",
       "    <tr style=\"text-align: right;\">\n",
       "      <th></th>\n",
       "      <th>identification</th>\n",
       "      <th>start_time</th>\n",
       "      <th>end_time</th>\n",
       "      <th>weekend</th>\n",
       "      <th>duration_sec</th>\n",
       "      <th>start_lng</th>\n",
       "      <th>start_lat</th>\n",
       "      <th>end_lng</th>\n",
       "      <th>end_lat</th>\n",
       "      <th>start_place</th>\n",
       "      <th>...</th>\n",
       "      <th>humidity_2m</th>\n",
       "      <th>dew_point_2m</th>\n",
       "      <th>max_at_2m</th>\n",
       "      <th>mean_speed_h/s</th>\n",
       "      <th>direction_degree_x</th>\n",
       "      <th>max_m/s</th>\n",
       "      <th>min_mean_m/s</th>\n",
       "      <th>max_mean_m/s</th>\n",
       "      <th>direction_degree_y</th>\n",
       "      <th>min</th>\n",
       "    </tr>\n",
       "    <tr>\n",
       "      <th>bike</th>\n",
       "      <th></th>\n",
       "      <th></th>\n",
       "      <th></th>\n",
       "      <th></th>\n",
       "      <th></th>\n",
       "      <th></th>\n",
       "      <th></th>\n",
       "      <th></th>\n",
       "      <th></th>\n",
       "      <th></th>\n",
       "      <th></th>\n",
       "      <th></th>\n",
       "      <th></th>\n",
       "      <th></th>\n",
       "      <th></th>\n",
       "      <th></th>\n",
       "      <th></th>\n",
       "      <th></th>\n",
       "      <th></th>\n",
       "      <th></th>\n",
       "      <th></th>\n",
       "    </tr>\n",
       "  </thead>\n",
       "  <tbody>\n",
       "    <tr>\n",
       "      <th>20685</th>\n",
       "      <td>12099440</td>\n",
       "      <td>2019-01-20 00:13:00</td>\n",
       "      <td>2019-01-20 00:23:00</td>\n",
       "      <td>1</td>\n",
       "      <td>600.0</td>\n",
       "      <td>8.812554</td>\n",
       "      <td>53.076481</td>\n",
       "      <td>8.804828</td>\n",
       "      <td>53.084196</td>\n",
       "      <td>0.0</td>\n",
       "      <td>...</td>\n",
       "      <td>92.6</td>\n",
       "      <td>-4.8</td>\n",
       "      <td>-3.4</td>\n",
       "      <td>2.6</td>\n",
       "      <td>80.0</td>\n",
       "      <td>3.1</td>\n",
       "      <td>2.1</td>\n",
       "      <td>2.6</td>\n",
       "      <td>80.0</td>\n",
       "      <td>0.0</td>\n",
       "    </tr>\n",
       "    <tr>\n",
       "      <th>20626</th>\n",
       "      <td>10278649</td>\n",
       "      <td>2019-01-20 00:16:00</td>\n",
       "      <td>2019-01-20 04:47:00</td>\n",
       "      <td>1</td>\n",
       "      <td>16260.0</td>\n",
       "      <td>8.884911</td>\n",
       "      <td>53.078923</td>\n",
       "      <td>8.884911</td>\n",
       "      <td>53.078923</td>\n",
       "      <td>2985.0</td>\n",
       "      <td>...</td>\n",
       "      <td>92.6</td>\n",
       "      <td>-4.8</td>\n",
       "      <td>-3.4</td>\n",
       "      <td>2.6</td>\n",
       "      <td>80.0</td>\n",
       "      <td>3.1</td>\n",
       "      <td>2.1</td>\n",
       "      <td>2.6</td>\n",
       "      <td>80.0</td>\n",
       "      <td>0.0</td>\n",
       "    </tr>\n",
       "  </tbody>\n",
       "</table>\n",
       "<p>2 rows × 24 columns</p>\n",
       "</div>"
      ],
      "text/plain": [
       "       identification          start_time             end_time  weekend  \\\n",
       "bike                                                                      \n",
       "20685        12099440 2019-01-20 00:13:00  2019-01-20 00:23:00        1   \n",
       "20626        10278649 2019-01-20 00:16:00  2019-01-20 04:47:00        1   \n",
       "\n",
       "       duration_sec  start_lng  start_lat   end_lng    end_lat  start_place  \\\n",
       "bike                                                                          \n",
       "20685         600.0   8.812554  53.076481  8.804828  53.084196          0.0   \n",
       "20626       16260.0   8.884911  53.078923  8.884911  53.078923       2985.0   \n",
       "\n",
       "       ...  humidity_2m  dew_point_2m  max_at_2m  mean_speed_h/s  \\\n",
       "bike   ...                                                         \n",
       "20685  ...         92.6          -4.8       -3.4             2.6   \n",
       "20626  ...         92.6          -4.8       -3.4             2.6   \n",
       "\n",
       "       direction_degree_x  max_m/s  min_mean_m/s  max_mean_m/s  \\\n",
       "bike                                                             \n",
       "20685                80.0      3.1           2.1           2.6   \n",
       "20626                80.0      3.1           2.1           2.6   \n",
       "\n",
       "       direction_degree_y  min  \n",
       "bike                            \n",
       "20685                80.0  0.0  \n",
       "20626                80.0  0.0  \n",
       "\n",
       "[2 rows x 24 columns]"
      ]
     },
     "execution_count": 6,
     "metadata": {},
     "output_type": "execute_result"
    }
   ],
   "source": [
    "bremen_trips.head(2)"
   ]
  },
  {
   "cell_type": "code",
   "execution_count": 7,
   "metadata": {},
   "outputs": [
    {
     "name": "stdout",
     "output_type": "stream",
     "text": [
      "Moved km in direction to uni:  1.2799729582841826\n",
      "Moved km in direction to main station:  -1.7491537704235693\n"
     ]
    },
    {
     "data": {
      "text/html": [
       "<div style=\"width:100%;\"><div style=\"position:relative;width:100%;height:0;padding-bottom:60%;\"><iframe src=\"about:blank\" style=\"position:absolute;width:100%;height:100%;left:0;top:0;border:none !important;\" data-html=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 onload=\"this.contentDocument.open();this.contentDocument.write(atob(this.getAttribute('data-html')));this.contentDocument.close();\" allowfullscreen webkitallowfullscreen mozallowfullscreen></iframe></div></div>"
      ],
      "text/plain": [
       "<folium.folium.Map at 0x1a29474390>"
      ]
     },
     "execution_count": 7,
     "metadata": {},
     "output_type": "execute_result"
    }
   ],
   "source": [
    "m = folium.Map(location=[53.1069302,8.8499603], zoom_start=13)\n",
    "\n",
    "folium.Marker([53.1069302,8.8499603], popup='<i>Uni</i>',icon=folium.Icon(color='red')).add_to(m)\n",
    "folium.Marker([53.083122,8.813717], popup='<i>Main Station</i>',icon=folium.Icon(color='red')).add_to(m)\n",
    "\n",
    "row = 32\n",
    "folium.Marker([bremen_trips.iloc[row,6],bremen_trips.iloc[row,5]], popup='<i>Start</i>').add_to(m)\n",
    "folium.Marker([bremen_trips.iloc[row,8],bremen_trips.iloc[row,7]], popup='<i>End</i>',icon=folium.Icon(color='green')).add_to(m)\n",
    "\n",
    "print('Moved km in direction to uni: ', distanceToUni(bremen_trips.iloc[row,5],bremen_trips.iloc[row,6],bremen_trips.iloc[row,7],bremen_trips.iloc[row,8]))\n",
    "print('Moved km in direction to main station: ', distanceToMainStation(bremen_trips.iloc[row,5],bremen_trips.iloc[row,6],bremen_trips.iloc[row,7],bremen_trips.iloc[row,8]))\n",
    "\n",
    "m"
   ]
  },
  {
   "cell_type": "markdown",
   "metadata": {},
   "source": [
    "## Add target variables and features to trips data"
   ]
  },
  {
   "cell_type": "code",
   "execution_count": 8,
   "metadata": {},
   "outputs": [
    {
     "name": "stderr",
     "output_type": "stream",
     "text": [
      "132982it [00:27, 4792.01it/s]\n"
     ]
    }
   ],
   "source": [
    "# Target variables lists\n",
    "to_uni = []\n",
    "to_main_station = []\n",
    "to_uni_bool = []\n",
    "to_main_station_bool = []\n",
    "\n",
    "# Features lists\n",
    "month = []\n",
    "week_day = []\n",
    "is_weekend = []\n",
    "hour = []\n",
    "\n",
    "for index, row in tqdm(bremen_trips.iterrows()):\n",
    "    \n",
    "    dist_to_uni = distanceToUni(row['start_lng'],row['start_lat'],row['end_lng'],row['end_lat'])\n",
    "    dist_to_main_station = distanceToMainStation(row['start_lng'],row['start_lat'],row['end_lng'],row['end_lat'])\n",
    "    \n",
    "    day = row['start_time'].weekday()\n",
    "    \n",
    "    # Save datetime information\n",
    "    month.append(row['start_time'].month)\n",
    "    week_day.append(day)\n",
    "    hour.append(row['start_time'].hour)\n",
    "    \n",
    "    if (day == 5) | (day == 6):\n",
    "        is_weekend.append(1)\n",
    "    else:\n",
    "        is_weekend.append(0)\n",
    "    \n",
    "    # Save distances to corresponding list\n",
    "    to_uni.append(dist_to_uni)\n",
    "    to_main_station.append(dist_to_main_station)\n",
    "    \n",
    "    if dist_to_uni < 0:\n",
    "        to_uni_bool.append(0)\n",
    "    else:\n",
    "        to_uni_bool.append(1)\n",
    "        \n",
    "    if dist_to_main_station < 0:\n",
    "        to_main_station_bool.append(0)\n",
    "    else:\n",
    "        to_main_station_bool.append(1)\n",
    "        \n",
    "# Add columns to df\n",
    "bremen_trips['to_uni'] = to_uni\n",
    "bremen_trips['to_main_station'] = to_main_station\n",
    "bremen_trips['to_uni_bool'] = to_uni_bool\n",
    "bremen_trips['to_main_station_bool'] = to_main_station_bool\n",
    "bremen_trips['month'] = month\n",
    "bremen_trips['week_day'] = week_day\n",
    "bremen_trips['is_weekend'] = is_weekend\n",
    "bremen_trips['hour'] = hour"
   ]
  },
  {
   "cell_type": "code",
   "execution_count": 9,
   "metadata": {},
   "outputs": [
    {
     "data": {
      "text/html": [
       "<div>\n",
       "<style scoped>\n",
       "    .dataframe tbody tr th:only-of-type {\n",
       "        vertical-align: middle;\n",
       "    }\n",
       "\n",
       "    .dataframe tbody tr th {\n",
       "        vertical-align: top;\n",
       "    }\n",
       "\n",
       "    .dataframe thead th {\n",
       "        text-align: right;\n",
       "    }\n",
       "</style>\n",
       "<table border=\"1\" class=\"dataframe\">\n",
       "  <thead>\n",
       "    <tr style=\"text-align: right;\">\n",
       "      <th></th>\n",
       "      <th>identification</th>\n",
       "      <th>start_time</th>\n",
       "      <th>end_time</th>\n",
       "      <th>weekend</th>\n",
       "      <th>duration_sec</th>\n",
       "      <th>start_lng</th>\n",
       "      <th>start_lat</th>\n",
       "      <th>end_lng</th>\n",
       "      <th>end_lat</th>\n",
       "      <th>start_place</th>\n",
       "      <th>...</th>\n",
       "      <th>direction_degree_y</th>\n",
       "      <th>min</th>\n",
       "      <th>to_uni</th>\n",
       "      <th>to_main_station</th>\n",
       "      <th>to_uni_bool</th>\n",
       "      <th>to_main_station_bool</th>\n",
       "      <th>month</th>\n",
       "      <th>week_day</th>\n",
       "      <th>is_weekend</th>\n",
       "      <th>hour</th>\n",
       "    </tr>\n",
       "    <tr>\n",
       "      <th>bike</th>\n",
       "      <th></th>\n",
       "      <th></th>\n",
       "      <th></th>\n",
       "      <th></th>\n",
       "      <th></th>\n",
       "      <th></th>\n",
       "      <th></th>\n",
       "      <th></th>\n",
       "      <th></th>\n",
       "      <th></th>\n",
       "      <th></th>\n",
       "      <th></th>\n",
       "      <th></th>\n",
       "      <th></th>\n",
       "      <th></th>\n",
       "      <th></th>\n",
       "      <th></th>\n",
       "      <th></th>\n",
       "      <th></th>\n",
       "      <th></th>\n",
       "      <th></th>\n",
       "    </tr>\n",
       "  </thead>\n",
       "  <tbody>\n",
       "    <tr>\n",
       "      <th>20833</th>\n",
       "      <td>25082955</td>\n",
       "      <td>2019-11-20 18:41:00</td>\n",
       "      <td>2019-11-20 18:52:00</td>\n",
       "      <td>0</td>\n",
       "      <td>660.0</td>\n",
       "      <td>8.787012</td>\n",
       "      <td>53.074560</td>\n",
       "      <td>8.794546</td>\n",
       "      <td>53.063867</td>\n",
       "      <td>0.0</td>\n",
       "      <td>...</td>\n",
       "      <td>160.0</td>\n",
       "      <td>0.0</td>\n",
       "      <td>-0.518068</td>\n",
       "      <td>-0.473091</td>\n",
       "      <td>0</td>\n",
       "      <td>0</td>\n",
       "      <td>11</td>\n",
       "      <td>2</td>\n",
       "      <td>0</td>\n",
       "      <td>18</td>\n",
       "    </tr>\n",
       "    <tr>\n",
       "      <th>20523</th>\n",
       "      <td>24180991</td>\n",
       "      <td>2019-10-29 07:21:00</td>\n",
       "      <td>2019-10-29 07:49:00</td>\n",
       "      <td>0</td>\n",
       "      <td>1680.0</td>\n",
       "      <td>8.820670</td>\n",
       "      <td>53.048502</td>\n",
       "      <td>8.777460</td>\n",
       "      <td>53.090978</td>\n",
       "      <td>2975.0</td>\n",
       "      <td>...</td>\n",
       "      <td>260.0</td>\n",
       "      <td>0.0</td>\n",
       "      <td>1.630408</td>\n",
       "      <td>1.303824</td>\n",
       "      <td>1</td>\n",
       "      <td>1</td>\n",
       "      <td>10</td>\n",
       "      <td>1</td>\n",
       "      <td>0</td>\n",
       "      <td>7</td>\n",
       "    </tr>\n",
       "    <tr>\n",
       "      <th>20696</th>\n",
       "      <td>15098720</td>\n",
       "      <td>2019-09-12 10:57:00</td>\n",
       "      <td>2019-09-12 11:03:00</td>\n",
       "      <td>0</td>\n",
       "      <td>360.0</td>\n",
       "      <td>8.826062</td>\n",
       "      <td>53.096249</td>\n",
       "      <td>8.830991</td>\n",
       "      <td>53.097828</td>\n",
       "      <td>0.0</td>\n",
       "      <td>...</td>\n",
       "      <td>250.0</td>\n",
       "      <td>0.0</td>\n",
       "      <td>0.367985</td>\n",
       "      <td>-0.324908</td>\n",
       "      <td>1</td>\n",
       "      <td>0</td>\n",
       "      <td>9</td>\n",
       "      <td>3</td>\n",
       "      <td>0</td>\n",
       "      <td>10</td>\n",
       "    </tr>\n",
       "  </tbody>\n",
       "</table>\n",
       "<p>3 rows × 32 columns</p>\n",
       "</div>"
      ],
      "text/plain": [
       "       identification          start_time             end_time  weekend  \\\n",
       "bike                                                                      \n",
       "20833        25082955 2019-11-20 18:41:00  2019-11-20 18:52:00        0   \n",
       "20523        24180991 2019-10-29 07:21:00  2019-10-29 07:49:00        0   \n",
       "20696        15098720 2019-09-12 10:57:00  2019-09-12 11:03:00        0   \n",
       "\n",
       "       duration_sec  start_lng  start_lat   end_lng    end_lat  start_place  \\\n",
       "bike                                                                          \n",
       "20833         660.0   8.787012  53.074560  8.794546  53.063867          0.0   \n",
       "20523        1680.0   8.820670  53.048502  8.777460  53.090978       2975.0   \n",
       "20696         360.0   8.826062  53.096249  8.830991  53.097828          0.0   \n",
       "\n",
       "       ...  direction_degree_y  min    to_uni  to_main_station  to_uni_bool  \\\n",
       "bike   ...                                                                    \n",
       "20833  ...               160.0  0.0 -0.518068        -0.473091            0   \n",
       "20523  ...               260.0  0.0  1.630408         1.303824            1   \n",
       "20696  ...               250.0  0.0  0.367985        -0.324908            1   \n",
       "\n",
       "       to_main_station_bool  month  week_day  is_weekend  hour  \n",
       "bike                                                            \n",
       "20833                     0     11         2           0    18  \n",
       "20523                     1     10         1           0     7  \n",
       "20696                     0      9         3           0    10  \n",
       "\n",
       "[3 rows x 32 columns]"
      ]
     },
     "execution_count": 9,
     "metadata": {},
     "output_type": "execute_result"
    }
   ],
   "source": [
    "bremen_trips.sample(3)"
   ]
  },
  {
   "cell_type": "markdown",
   "metadata": {},
   "source": [
    "### Drop all information that are not available before a trips ends"
   ]
  },
  {
   "cell_type": "code",
   "execution_count": 10,
   "metadata": {},
   "outputs": [],
   "source": [
    "bremen_trips.drop(columns={'identification','end_time','end_lng','end_lat','end_place','end_plz','duration_sec'}, inplace=True)"
   ]
  },
  {
   "cell_type": "markdown",
   "metadata": {},
   "source": [
    "## Precheck on correlations to_uni_bool"
   ]
  },
  {
   "cell_type": "code",
   "execution_count": 11,
   "metadata": {
    "scrolled": false
   },
   "outputs": [
    {
     "data": {
      "text/plain": [
       "weekend              -0.005010\n",
       "start_lng            -0.133347\n",
       "start_lat            -0.195841\n",
       "start_place           0.046683\n",
       "start_plz            -0.045094\n",
       "temp_2m              -0.001080\n",
       "humidity_2m          -0.010253\n",
       "dew_point_2m         -0.009290\n",
       "max_at_2m            -0.000849\n",
       "mean_speed_h/s        0.008478\n",
       "direction_degree_x    0.001225\n",
       "max_m/s               0.008689\n",
       "min_mean_m/s          0.005539\n",
       "max_mean_m/s          0.008847\n",
       "direction_degree_y    0.000821\n",
       "min                   0.009373\n",
       "month                -0.017886\n",
       "week_day             -0.003856\n",
       "is_weekend           -0.005010\n",
       "hour                  0.007958\n",
       "dtype: float64"
      ]
     },
     "execution_count": 11,
     "metadata": {},
     "output_type": "execute_result"
    }
   ],
   "source": [
    "bremen_trips.drop(columns={'to_uni','to_uni_bool','to_main_station_bool','to_main_station'}).corrwith(bremen_trips['to_uni_bool'])"
   ]
  },
  {
   "cell_type": "markdown",
   "metadata": {},
   "source": [
    "- only start_lng and start_lat show significant correlations, anyway we check try to take more features into account"
   ]
  },
  {
   "cell_type": "markdown",
   "metadata": {},
   "source": [
    "### Pearson correlation only for attributes with correlation higher than 0.005"
   ]
  },
  {
   "cell_type": "code",
   "execution_count": 12,
   "metadata": {
    "scrolled": true
   },
   "outputs": [
    {
     "data": {
      "image/png": "[encoded data removed]",
      "text/plain": [
       "<Figure size 720x576 with 2 Axes>"
      ]
     },
     "metadata": {
      "needs_background": "light"
     },
     "output_type": "display_data"
    }
   ],
   "source": [
    "#Using Pearson Correlation\n",
    "\n",
    "plt.figure(figsize=(10,8))\n",
    "cor = bremen_trips[['to_uni_bool','start_lng','start_lat','start_place','start_plz','humidity_2m','dew_point_2m','max_mean_m/s','min','month','hour']].corr()\n",
    "sns.heatmap(cor, annot=True, cmap=plt.cm.coolwarm, center=0)\n",
    "plt.show()"
   ]
  },
  {
   "cell_type": "markdown",
   "metadata": {},
   "source": [
    "# Predicting to_uni_bool - Classification"
   ]
  },
  {
   "cell_type": "markdown",
   "metadata": {},
   "source": [
    "### Random Forest"
   ]
  },
  {
   "cell_type": "code",
   "execution_count": 13,
   "metadata": {},
   "outputs": [],
   "source": [
    "from sklearn.model_selection import train_test_split\n",
    "from sklearn.ensemble import RandomForestClassifier\n",
    "from sklearn.model_selection import GridSearchCV\n",
    "from sklearn.model_selection import cross_val_score\n",
    "from sklearn.metrics import confusion_matrix, classification_report\n",
    "from sklearn.metrics import mean_squared_error, mean_absolute_error"
   ]
  },
  {
   "cell_type": "markdown",
   "metadata": {},
   "source": [
    "## Feature selection\n",
    "### Train on all features with correlation > 0.005"
   ]
  },
  {
   "cell_type": "code",
   "execution_count": 14,
   "metadata": {},
   "outputs": [],
   "source": [
    "# Initialize independent and target variable\n",
    "X = bremen_trips[['start_lng','start_lat','start_place','start_plz','humidity_2m','dew_point_2m','max_mean_m/s','min','month','hour']]\n",
    "y = bremen_trips['to_uni_bool']\n",
    "\n",
    "# Splitting data into train and validation set\n",
    "X_train, X_val_test, y_train, y_val_test = train_test_split(X, y, test_size=0.60, shuffle=True, random_state=42)\n",
    "X_val, X_test, y_val, y_test = train_test_split(X_val_test, y_val_test, test_size=0.60, shuffle=True, random_state=42)"
   ]
  },
  {
   "cell_type": "code",
   "execution_count": 15,
   "metadata": {},
   "outputs": [
    {
     "data": {
      "text/plain": [
       "RandomForestClassifier(bootstrap=True, ccp_alpha=0.0,\n",
       "                       class_weight='balanced_subsample', criterion='entropy',\n",
       "                       max_depth=None, max_features='auto', max_leaf_nodes=None,\n",
       "                       max_samples=None, min_impurity_decrease=0.0,\n",
       "                       min_impurity_split=None, min_samples_leaf=1,\n",
       "                       min_samples_split=2, min_weight_fraction_leaf=0.0,\n",
       "                       n_estimators=100, n_jobs=None, oob_score=False,\n",
       "                       random_state=42, verbose=0, warm_start=False)"
      ]
     },
     "execution_count": 15,
     "metadata": {},
     "output_type": "execute_result"
    }
   ],
   "source": [
    "rf = RandomForestClassifier(criterion='entropy', class_weight='balanced_subsample', random_state=42)\n",
    "rf.fit(X_train, y_train)"
   ]
  },
  {
   "cell_type": "markdown",
   "metadata": {},
   "source": [
    "### Check on feature importance"
   ]
  },
  {
   "cell_type": "code",
   "execution_count": 16,
   "metadata": {},
   "outputs": [
    {
     "name": "stdout",
     "output_type": "stream",
     "text": [
      "[(0.1827, 'start_lng'), (0.1708, 'start_lat'), (0.1495, 'humidity_2m'), (0.141, 'dew_point_2m'), (0.1338, 'max_mean_m/s'), (0.0959, 'hour'), (0.0625, 'month'), (0.0301, 'start_plz'), (0.017, 'start_place'), (0.0167, 'min')]\n"
     ]
    }
   ],
   "source": [
    "names = ['start_lng','start_lat','start_place','start_plz','humidity_2m','dew_point_2m','max_mean_m/s','min','month','hour']\n",
    "print(sorted(zip(map(lambda x: round(x, 4), rf.feature_importances_), names), reverse=True))"
   ]
  },
  {
   "cell_type": "markdown",
   "metadata": {},
   "source": [
    "### Only train on features with importance > 0.1"
   ]
  },
  {
   "cell_type": "code",
   "execution_count": 17,
   "metadata": {},
   "outputs": [],
   "source": [
    "# Initialize independent and target variable\n",
    "X = bremen_trips[['start_lng','start_lat','humidity_2m','dew_point_2m','max_mean_m/s','hour']]\n",
    "y = bremen_trips['to_uni_bool']\n",
    "\n",
    "# Splitting data into train and validation set\n",
    "X_train, X_val_test, y_train, y_val_test = train_test_split(X, y, test_size=0.60, shuffle=True, random_state=42)\n",
    "X_val, X_test, y_val, y_test = train_test_split(X_val_test, y_val_test, test_size=0.60, shuffle=True, random_state=42)"
   ]
  },
  {
   "cell_type": "code",
   "execution_count": 18,
   "metadata": {},
   "outputs": [
    {
     "data": {
      "text/plain": [
       "RandomForestClassifier(bootstrap=True, ccp_alpha=0.0,\n",
       "                       class_weight='balanced_subsample', criterion='entropy',\n",
       "                       max_depth=None, max_features='auto', max_leaf_nodes=None,\n",
       "                       max_samples=None, min_impurity_decrease=0.0,\n",
       "                       min_impurity_split=None, min_samples_leaf=1,\n",
       "                       min_samples_split=2, min_weight_fraction_leaf=0.0,\n",
       "                       n_estimators=100, n_jobs=None, oob_score=False,\n",
       "                       random_state=42, verbose=0, warm_start=False)"
      ]
     },
     "execution_count": 18,
     "metadata": {},
     "output_type": "execute_result"
    }
   ],
   "source": [
    "rf = RandomForestClassifier(criterion='entropy', class_weight='balanced_subsample', random_state=42)\n",
    "rf.fit(X_train, y_train)"
   ]
  },
  {
   "cell_type": "markdown",
   "metadata": {},
   "source": [
    "### Evaluation"
   ]
  },
  {
   "cell_type": "code",
   "execution_count": 19,
   "metadata": {},
   "outputs": [
    {
     "name": "stdout",
     "output_type": "stream",
     "text": [
      "Training accuracy: 0.998026018950218\n"
     ]
    }
   ],
   "source": [
    "print('Training accuracy: ' + str(rf.score(X_train, y_train)))"
   ]
  },
  {
   "cell_type": "markdown",
   "metadata": {},
   "source": [
    "- looks like overfitting --> perform grid search to optimize hyperparameters"
   ]
  },
  {
   "cell_type": "markdown",
   "metadata": {},
   "source": [
    "### Performing grid search to optimize hyperparameters"
   ]
  },
  {
   "cell_type": "code",
   "execution_count": 20,
   "metadata": {},
   "outputs": [],
   "source": [
    "parameters = {'max_depth':[2, 3, 4, 5, 7],\n",
    "              'n_estimators':[1, 10, 25, 50, 100, 256, 512],\n",
    "              'random_state':[42]}\n",
    "    \n",
    "def perform_grid_search(X_data, y_data):\n",
    "    rf = RandomForestClassifier(criterion='entropy', class_weight='balanced_subsample')\n",
    "    \n",
    "    clf = GridSearchCV(rf, parameters, cv=4, scoring='accuracy', n_jobs=3)\n",
    "    \n",
    "    clf.fit(X_data, y_data)\n",
    "    \n",
    "    print(clf.cv_results_['mean_test_score'])\n",
    "    \n",
    "    return clf.best_params_['n_estimators'], clf.best_params_['max_depth']"
   ]
  },
  {
   "cell_type": "code",
   "execution_count": 21,
   "metadata": {},
   "outputs": [
    {
     "name": "stdout",
     "output_type": "stream",
     "text": [
      "[0.6355433  0.63695325 0.63967916 0.63867653 0.63877052 0.6383632\n",
      " 0.63883319 0.58951623 0.64083845 0.64500564 0.64412834 0.644097\n",
      " 0.64284371 0.64394034 0.63786189 0.64437899 0.64691691 0.64591427\n",
      " 0.6470109  0.64738689 0.64766888 0.64647826 0.64898484 0.653716\n",
      " 0.65387267 0.6547813  0.65415466 0.65424865 0.63779922 0.65161674\n",
      " 0.65841584 0.65684923 0.65722522 0.65738188 0.65782053]\n",
      "25 7 42\n"
     ]
    }
   ],
   "source": [
    "# extract parameters\n",
    "n_estimator, depth = perform_grid_search(X_val, y_val)\n",
    "c_random_state = 42\n",
    "print(n_estimator, depth, c_random_state)"
   ]
  },
  {
   "cell_type": "markdown",
   "metadata": {},
   "source": [
    "### Train model with optimized hyperparameters"
   ]
  },
  {
   "cell_type": "code",
   "execution_count": 22,
   "metadata": {},
   "outputs": [
    {
     "data": {
      "text/plain": [
       "RandomForestClassifier(bootstrap=True, ccp_alpha=0.0,\n",
       "                       class_weight='balanced_subsample', criterion='entropy',\n",
       "                       max_depth=7, max_features='auto', max_leaf_nodes=None,\n",
       "                       max_samples=None, min_impurity_decrease=0.0,\n",
       "                       min_impurity_split=None, min_samples_leaf=1,\n",
       "                       min_samples_split=2, min_weight_fraction_leaf=0.0,\n",
       "                       n_estimators=25, n_jobs=None, oob_score=False,\n",
       "                       random_state=None, verbose=0, warm_start=False)"
      ]
     },
     "execution_count": 22,
     "metadata": {},
     "output_type": "execute_result"
    }
   ],
   "source": [
    "rf = RandomForestClassifier(criterion='entropy', class_weight='balanced_subsample', n_estimators=n_estimator, max_depth=depth)\n",
    "rf.fit(X_train, y_train)"
   ]
  },
  {
   "cell_type": "markdown",
   "metadata": {},
   "source": [
    "### Evaluation"
   ]
  },
  {
   "cell_type": "code",
   "execution_count": 23,
   "metadata": {},
   "outputs": [
    {
     "name": "stdout",
     "output_type": "stream",
     "text": [
      "Training accuracy: 0.6601368626861183\n",
      "Valiation accuracy: 0.6519927309186615\n"
     ]
    }
   ],
   "source": [
    "print('Training accuracy: ' + str(rf.score(X_train, y_train)))\n",
    "print('Valiation accuracy: ' + str(rf.score(X_val, y_val)))"
   ]
  },
  {
   "cell_type": "markdown",
   "metadata": {},
   "source": [
    "- looks like the model generalizes well with optimized hyperparameters"
   ]
  },
  {
   "cell_type": "markdown",
   "metadata": {},
   "source": [
    "### Visualize predicted classes 0: trip not in direction to uni, 1: trip in direction to uni"
   ]
  },
  {
   "cell_type": "code",
   "execution_count": 24,
   "metadata": {},
   "outputs": [
    {
     "data": {
      "image/png": "[encoded data removed]",
      "text/plain": [
       "<Figure size 576x576 with 1 Axes>"
      ]
     },
     "metadata": {
      "needs_background": "light"
     },
     "output_type": "display_data"
    }
   ],
   "source": [
    "# Function that plots a confusion matrix given independent and target variable\n",
    "def confusionMatrix(y_true, y_predicted):\n",
    "    cm = confusion_matrix(y_true, y_predicted)\n",
    "\n",
    "    fig, ax = plt.subplots(figsize=(8, 8))\n",
    "    ax.imshow(cm)\n",
    "    ax.grid(False)\n",
    "    ax.xaxis.set(ticks=(0, 1), ticklabels=('Predicted 0s', 'Predicted 1s'))\n",
    "    ax.yaxis.set(ticks=(0, 1), ticklabels=('Actual 0s', 'Actual 1s'))\n",
    "    ax.set_ylim(1.5, -0.5)\n",
    "    for i in range(2):\n",
    "        for j in range(2):\n",
    "            ax.text(j, i, cm[i, j], ha='center', va='center', color='red')\n",
    "    plt.show()\n",
    "\n",
    "confusionMatrix(y_val, rf.predict(X_val))"
   ]
  },
  {
   "cell_type": "markdown",
   "metadata": {},
   "source": [
    "### Classification report"
   ]
  },
  {
   "cell_type": "code",
   "execution_count": 25,
   "metadata": {
    "scrolled": false
   },
   "outputs": [
    {
     "name": "stdout",
     "output_type": "stream",
     "text": [
      "              precision    recall  f1-score   support\n",
      "\n",
      "           0       0.66      0.60      0.63     15530\n",
      "           1       0.65      0.70      0.67     16386\n",
      "\n",
      "    accuracy                           0.65     31916\n",
      "   macro avg       0.65      0.65      0.65     31916\n",
      "weighted avg       0.65      0.65      0.65     31916\n",
      "\n"
     ]
    }
   ],
   "source": [
    "print(classification_report(y_val, rf.predict(X_val)))"
   ]
  },
  {
   "cell_type": "markdown",
   "metadata": {},
   "source": [
    "## Apply to test set"
   ]
  },
  {
   "cell_type": "markdown",
   "metadata": {},
   "source": [
    "### Add validation set to train set to obtain more training data"
   ]
  },
  {
   "cell_type": "code",
   "execution_count": 26,
   "metadata": {},
   "outputs": [],
   "source": [
    "X_train = X_train.append(X_val)\n",
    "y_train = y_train.append(y_val)"
   ]
  },
  {
   "cell_type": "code",
   "execution_count": 27,
   "metadata": {},
   "outputs": [
    {
     "data": {
      "text/plain": [
       "RandomForestClassifier(bootstrap=True, ccp_alpha=0.0,\n",
       "                       class_weight='balanced_subsample', criterion='entropy',\n",
       "                       max_depth=7, max_features='auto', max_leaf_nodes=None,\n",
       "                       max_samples=None, min_impurity_decrease=0.0,\n",
       "                       min_impurity_split=None, min_samples_leaf=1,\n",
       "                       min_samples_split=2, min_weight_fraction_leaf=0.0,\n",
       "                       n_estimators=25, n_jobs=None, oob_score=False,\n",
       "                       random_state=None, verbose=0, warm_start=False)"
      ]
     },
     "execution_count": 27,
     "metadata": {},
     "output_type": "execute_result"
    }
   ],
   "source": [
    "rf = RandomForestClassifier(criterion='entropy', class_weight='balanced_subsample', n_estimators=n_estimator, max_depth=depth)\n",
    "rf.fit(X_train, y_train)"
   ]
  },
  {
   "cell_type": "markdown",
   "metadata": {},
   "source": [
    "### Training + validation set performance"
   ]
  },
  {
   "cell_type": "code",
   "execution_count": 28,
   "metadata": {},
   "outputs": [
    {
     "name": "stdout",
     "output_type": "stream",
     "text": [
      "Training accuracy: 0.6663650890633078\n",
      "Valiation accuracy: 0.665966913147011\n"
     ]
    }
   ],
   "source": [
    "print('Training accuracy: ' + str(rf.score(X_train, y_train)))\n",
    "print('Valiation accuracy: ' + str(rf.score(X_val, y_val)))"
   ]
  },
  {
   "cell_type": "markdown",
   "metadata": {},
   "source": [
    "### Test set performance\n",
    "\n",
    "### The moment of truth"
   ]
  },
  {
   "cell_type": "code",
   "execution_count": 29,
   "metadata": {},
   "outputs": [
    {
     "name": "stdout",
     "output_type": "stream",
     "text": [
      "Test accuracy: 0.6592931445043239\n"
     ]
    }
   ],
   "source": [
    "print('Test accuracy: ' + str(rf.score(X_test, y_test)))"
   ]
  },
  {
   "cell_type": "code",
   "execution_count": 30,
   "metadata": {
    "scrolled": true
   },
   "outputs": [
    {
     "name": "stdout",
     "output_type": "stream",
     "text": [
      "              precision    recall  f1-score   support\n",
      "\n",
      "           0       0.65      0.65      0.65     23329\n",
      "           1       0.67      0.66      0.67     24545\n",
      "\n",
      "    accuracy                           0.66     47874\n",
      "   macro avg       0.66      0.66      0.66     47874\n",
      "weighted avg       0.66      0.66      0.66     47874\n",
      "\n"
     ]
    }
   ],
   "source": [
    "print(classification_report(y_test, rf.predict(X_test)))"
   ]
  },
  {
   "cell_type": "markdown",
   "metadata": {},
   "source": [
    "- model could perform better in terms of the accuracy score, however it seems to generalize very well (train, validation and test accuracy are almost the same)\n",
    "- to improve the overall accuracy we would need more features with a significant correlation"
   ]
  },
  {
   "cell_type": "markdown",
   "metadata": {},
   "source": [
    "## Evaluate performance on different subsets"
   ]
  },
  {
   "cell_type": "markdown",
   "metadata": {},
   "source": [
    "### For each month available of the year 2019 check predicting performance of our model"
   ]
  },
  {
   "cell_type": "code",
   "execution_count": 31,
   "metadata": {
    "scrolled": false
   },
   "outputs": [
    {
     "name": "stderr",
     "output_type": "stream",
     "text": [
      "/Users/timockenga/anaconda3/envs/PDS20/lib/python3.7/site-packages/ipykernel_launcher.py:17: DataConversionWarning: A column-vector y was passed when a 1d array was expected. Please change the shape of y to (n_samples,), for example using ravel().\n",
      "/Users/timockenga/anaconda3/envs/PDS20/lib/python3.7/site-packages/ipykernel_launcher.py:17: DataConversionWarning: A column-vector y was passed when a 1d array was expected. Please change the shape of y to (n_samples,), for example using ravel().\n",
      "/Users/timockenga/anaconda3/envs/PDS20/lib/python3.7/site-packages/ipykernel_launcher.py:17: DataConversionWarning: A column-vector y was passed when a 1d array was expected. Please change the shape of y to (n_samples,), for example using ravel().\n",
      "/Users/timockenga/anaconda3/envs/PDS20/lib/python3.7/site-packages/ipykernel_launcher.py:17: DataConversionWarning: A column-vector y was passed when a 1d array was expected. Please change the shape of y to (n_samples,), for example using ravel().\n",
      "/Users/timockenga/anaconda3/envs/PDS20/lib/python3.7/site-packages/ipykernel_launcher.py:17: DataConversionWarning: A column-vector y was passed when a 1d array was expected. Please change the shape of y to (n_samples,), for example using ravel().\n",
      "/Users/timockenga/anaconda3/envs/PDS20/lib/python3.7/site-packages/ipykernel_launcher.py:17: DataConversionWarning: A column-vector y was passed when a 1d array was expected. Please change the shape of y to (n_samples,), for example using ravel().\n",
      "/Users/timockenga/anaconda3/envs/PDS20/lib/python3.7/site-packages/ipykernel_launcher.py:17: DataConversionWarning: A column-vector y was passed when a 1d array was expected. Please change the shape of y to (n_samples,), for example using ravel().\n",
      "/Users/timockenga/anaconda3/envs/PDS20/lib/python3.7/site-packages/ipykernel_launcher.py:17: DataConversionWarning: A column-vector y was passed when a 1d array was expected. Please change the shape of y to (n_samples,), for example using ravel().\n",
      "/Users/timockenga/anaconda3/envs/PDS20/lib/python3.7/site-packages/ipykernel_launcher.py:17: DataConversionWarning: A column-vector y was passed when a 1d array was expected. Please change the shape of y to (n_samples,), for example using ravel().\n",
      "/Users/timockenga/anaconda3/envs/PDS20/lib/python3.7/site-packages/ipykernel_launcher.py:17: DataConversionWarning: A column-vector y was passed when a 1d array was expected. Please change the shape of y to (n_samples,), for example using ravel().\n",
      "/Users/timockenga/anaconda3/envs/PDS20/lib/python3.7/site-packages/ipykernel_launcher.py:17: DataConversionWarning: A column-vector y was passed when a 1d array was expected. Please change the shape of y to (n_samples,), for example using ravel().\n"
     ]
    },
    {
     "data": {
      "image/png": "[encoded data removed]",
      "text/plain": [
       "<Figure size 432x288 with 1 Axes>"
      ]
     },
     "metadata": {
      "needs_background": "light"
     },
     "output_type": "display_data"
    }
   ],
   "source": [
    "# Lists to save accuracy scores for all months\n",
    "accuracy = []\n",
    "\n",
    "for i in range(1,13):\n",
    "    if i != 7:\n",
    "        # Create subsets for evaluating on performance for the month of august\n",
    "        train = bremen_trips[bremen_trips.set_index('start_time').index.month != i]\n",
    "        X_train = train[['start_lng','start_lat','humidity_2m','dew_point_2m','max_mean_m/s','hour']]\n",
    "        y_train = train[['to_uni_bool']]\n",
    "\n",
    "        val = bremen_trips[bremen_trips.set_index('start_time').index.month == i]\n",
    "        X_month = val[['start_lng','start_lat','humidity_2m','dew_point_2m','max_mean_m/s','hour']]\n",
    "        y_month = val[['to_uni_bool']]\n",
    "\n",
    "        # Train on all data except of august\n",
    "        rf = RandomForestClassifier(criterion='entropy', class_weight='balanced_subsample', n_estimators=n_estimator, max_depth=depth)\n",
    "        rf.fit(X_train, y_train)\n",
    "\n",
    "        accuracy.append(rf.score(X_month, y_month))\n",
    "    else:\n",
    "        accuracy.append(0)\n",
    "\n",
    "ax = sns.barplot(x=np.arange(1,13), y=accuracy, palette=\"Blues_d\")\n",
    "ax.set(ylabel='Accuracy score', xlabel='Month in 2019') \n",
    "ax.set_title('Accuracy score of our model predicting to_uni_bool')\n",
    "plt.savefig(\"../reports/figures/to_uni_prediction_performance_monthly.png\", dpi = 300)"
   ]
  },
  {
   "cell_type": "markdown",
   "metadata": {},
   "source": [
    "- this looks great even though it would be nice if the accuracy was higher\n",
    "- as predicting performance of this model is very equal for all months it seems to generalize very well"
   ]
  },
  {
   "cell_type": "markdown",
   "metadata": {},
   "source": [
    "## Try Logistic regression"
   ]
  },
  {
   "cell_type": "code",
   "execution_count": 32,
   "metadata": {},
   "outputs": [],
   "source": [
    "from sklearn.linear_model import LogisticRegression"
   ]
  },
  {
   "cell_type": "code",
   "execution_count": 33,
   "metadata": {},
   "outputs": [],
   "source": [
    "# Initialize independent and target variable\n",
    "X = bremen_trips[['start_lng','start_lat','humidity_2m','dew_point_2m','max_mean_m/s','hour']]\n",
    "y = bremen_trips['to_uni_bool']\n",
    "\n",
    "# Splitting data into train and validation set\n",
    "X_train, X_val_test, y_train, y_val_test = train_test_split(X, y, test_size=0.60, shuffle=True, random_state=42)\n",
    "X_val, X_test, y_val, y_test = train_test_split(X_val_test, y_val_test, test_size=0.60, shuffle=True, random_state=42)"
   ]
  },
  {
   "cell_type": "code",
   "execution_count": 34,
   "metadata": {},
   "outputs": [],
   "source": [
    "model = LogisticRegression(solver='liblinear',multi_class='ovr', random_state=42, class_weight='balanced').fit(X_train, y_train)"
   ]
  },
  {
   "cell_type": "code",
   "execution_count": 35,
   "metadata": {},
   "outputs": [
    {
     "name": "stdout",
     "output_type": "stream",
     "text": [
      "Training accuracy: 0.5665325612874117\n",
      "Valiation accuracy: 0.5604712369971174\n"
     ]
    }
   ],
   "source": [
    "print('Training accuracy: ' + str(model.score(X_train, y_train)))\n",
    "print('Valiation accuracy: ' + str(model.score(X_val, y_val)))"
   ]
  },
  {
   "cell_type": "code",
   "execution_count": 36,
   "metadata": {},
   "outputs": [
    {
     "data": {
      "text/plain": [
       "array([[0.54254207, 0.45745793],\n",
       "       [0.6186332 , 0.3813668 ],\n",
       "       [0.53326239, 0.46673761],\n",
       "       ...,\n",
       "       [0.62008444, 0.37991556],\n",
       "       [0.47636136, 0.52363864],\n",
       "       [0.476598  , 0.523402  ]])"
      ]
     },
     "execution_count": 36,
     "metadata": {},
     "output_type": "execute_result"
    }
   ],
   "source": [
    "model.predict_proba(X_val)"
   ]
  },
  {
   "cell_type": "code",
   "execution_count": 37,
   "metadata": {
    "scrolled": true
   },
   "outputs": [
    {
     "name": "stdout",
     "output_type": "stream",
     "text": [
      "              precision    recall  f1-score   support\n",
      "\n",
      "           0       0.56      0.46      0.50     15530\n",
      "           1       0.56      0.66      0.61     16386\n",
      "\n",
      "    accuracy                           0.56     31916\n",
      "   macro avg       0.56      0.56      0.55     31916\n",
      "weighted avg       0.56      0.56      0.56     31916\n",
      "\n"
     ]
    }
   ],
   "source": [
    "print(classification_report(y_val, model.predict(X_val)))"
   ]
  },
  {
   "cell_type": "markdown",
   "metadata": {},
   "source": [
    "### Logistic regression performs worst than random forest. Do not use it!"
   ]
  },
  {
   "cell_type": "markdown",
   "metadata": {},
   "source": [
    "# Predicting to_main_station_bool - Classification"
   ]
  },
  {
   "cell_type": "markdown",
   "metadata": {},
   "source": [
    "## Precheck on correlations to_main_station_bool"
   ]
  },
  {
   "cell_type": "code",
   "execution_count": 38,
   "metadata": {
    "scrolled": false
   },
   "outputs": [
    {
     "data": {
      "text/plain": [
       "weekend              -0.001952\n",
       "start_lng             0.064196\n",
       "start_lat            -0.011609\n",
       "start_place           0.084090\n",
       "start_plz             0.156846\n",
       "temp_2m               0.008211\n",
       "humidity_2m          -0.019730\n",
       "dew_point_2m         -0.004191\n",
       "max_at_2m             0.008059\n",
       "mean_speed_h/s        0.018921\n",
       "direction_degree_x    0.001975\n",
       "max_m/s               0.020770\n",
       "min_mean_m/s          0.013440\n",
       "max_mean_m/s          0.020182\n",
       "direction_degree_y    0.002167\n",
       "min                   0.003543\n",
       "month                -0.018557\n",
       "week_day             -0.003317\n",
       "is_weekend           -0.001952\n",
       "hour                 -0.035587\n",
       "dtype: float64"
      ]
     },
     "execution_count": 38,
     "metadata": {},
     "output_type": "execute_result"
    }
   ],
   "source": [
    "bremen_trips.drop(columns={'to_uni','to_uni_bool','to_main_station_bool','to_main_station'}).corrwith(bremen_trips['to_main_station_bool'])"
   ]
  },
  {
   "cell_type": "markdown",
   "metadata": {},
   "source": [
    "- only start_plz shows significant correlations, anyway we check try to take more features into account"
   ]
  },
  {
   "cell_type": "markdown",
   "metadata": {},
   "source": [
    "### Pearson correlation only for attributes with correlation higher than 0.005"
   ]
  },
  {
   "cell_type": "code",
   "execution_count": 39,
   "metadata": {
    "scrolled": true
   },
   "outputs": [
    {
     "data": {
      "image/png": "[encoded data removed]",
      "text/plain": [
       "<Figure size 720x576 with 2 Axes>"
      ]
     },
     "metadata": {
      "needs_background": "light"
     },
     "output_type": "display_data"
    }
   ],
   "source": [
    "#Using Pearson Correlation\n",
    "\n",
    "plt.figure(figsize=(10,8))\n",
    "cor = bremen_trips[['to_main_station_bool','start_lng','start_place','start_plz','humidity_2m','dew_point_2m','max_m/s','month','hour']].corr()\n",
    "sns.heatmap(cor, annot=True, cmap=plt.cm.coolwarm, center=0)\n",
    "plt.show()"
   ]
  },
  {
   "cell_type": "markdown",
   "metadata": {},
   "source": [
    "## Feature selection\n",
    "### Train on all features with correlation > 0.005"
   ]
  },
  {
   "cell_type": "code",
   "execution_count": 40,
   "metadata": {},
   "outputs": [],
   "source": [
    "# Initialize independent and target variable\n",
    "X = bremen_trips[['start_lng','start_place','start_plz','humidity_2m','dew_point_2m','max_m/s','month','hour']]\n",
    "y = bremen_trips['to_main_station_bool']\n",
    "\n",
    "# Splitting data into train and validation set\n",
    "X_train, X_val_test, y_train, y_val_test = train_test_split(X, y, test_size=0.60, shuffle=True, random_state=42)\n",
    "X_val, X_test, y_val, y_test = train_test_split(X_val_test, y_val_test, test_size=0.60, shuffle=True, random_state=42)"
   ]
  },
  {
   "cell_type": "code",
   "execution_count": 41,
   "metadata": {},
   "outputs": [
    {
     "data": {
      "text/plain": [
       "RandomForestClassifier(bootstrap=True, ccp_alpha=0.0,\n",
       "                       class_weight='balanced_subsample', criterion='entropy',\n",
       "                       max_depth=None, max_features='auto', max_leaf_nodes=None,\n",
       "                       max_samples=None, min_impurity_decrease=0.0,\n",
       "                       min_impurity_split=None, min_samples_leaf=1,\n",
       "                       min_samples_split=2, min_weight_fraction_leaf=0.0,\n",
       "                       n_estimators=100, n_jobs=None, oob_score=False,\n",
       "                       random_state=42, verbose=0, warm_start=False)"
      ]
     },
     "execution_count": 41,
     "metadata": {},
     "output_type": "execute_result"
    }
   ],
   "source": [
    "rf = RandomForestClassifier(criterion='entropy', class_weight='balanced_subsample', random_state=42)\n",
    "rf.fit(X_train, y_train)"
   ]
  },
  {
   "cell_type": "markdown",
   "metadata": {},
   "source": [
    "### Check on feature importance"
   ]
  },
  {
   "cell_type": "code",
   "execution_count": 42,
   "metadata": {},
   "outputs": [
    {
     "name": "stdout",
     "output_type": "stream",
     "text": [
      "[(0.2354, 'start_lng'), (0.1715, 'humidity_2m'), (0.1628, 'dew_point_2m'), (0.1361, 'max_m/s'), (0.1071, 'hour'), (0.0916, 'start_plz'), (0.0671, 'month'), (0.0284, 'start_place')]\n"
     ]
    }
   ],
   "source": [
    "names = ['start_lng','start_place','start_plz','humidity_2m','dew_point_2m','max_m/s','month','hour']\n",
    "print(sorted(zip(map(lambda x: round(x, 4), rf.feature_importances_), names), reverse=True))"
   ]
  },
  {
   "cell_type": "markdown",
   "metadata": {},
   "source": [
    "### Only train on features with importance > 0.1"
   ]
  },
  {
   "cell_type": "code",
   "execution_count": 43,
   "metadata": {},
   "outputs": [],
   "source": [
    "# Initialize independent and target variable\n",
    "X = bremen_trips[['start_lng','start_plz','humidity_2m','dew_point_2m','max_m/s','hour']]\n",
    "y = bremen_trips['to_main_station_bool']\n",
    "\n",
    "# Splitting data into train and validation set\n",
    "X_train, X_val_test, y_train, y_val_test = train_test_split(X, y, test_size=0.60, shuffle=True, random_state=42)\n",
    "X_val, X_test, y_val, y_test = train_test_split(X_val_test, y_val_test, test_size=0.60, shuffle=True, random_state=42)"
   ]
  },
  {
   "cell_type": "code",
   "execution_count": 44,
   "metadata": {},
   "outputs": [
    {
     "data": {
      "text/plain": [
       "RandomForestClassifier(bootstrap=True, ccp_alpha=0.0,\n",
       "                       class_weight='balanced_subsample', criterion='entropy',\n",
       "                       max_depth=None, max_features='auto', max_leaf_nodes=None,\n",
       "                       max_samples=None, min_impurity_decrease=0.0,\n",
       "                       min_impurity_split=None, min_samples_leaf=1,\n",
       "                       min_samples_split=2, min_weight_fraction_leaf=0.0,\n",
       "                       n_estimators=100, n_jobs=None, oob_score=False,\n",
       "                       random_state=42, verbose=0, warm_start=False)"
      ]
     },
     "execution_count": 44,
     "metadata": {},
     "output_type": "execute_result"
    }
   ],
   "source": [
    "rf = RandomForestClassifier(criterion='entropy', class_weight='balanced_subsample', random_state=42)\n",
    "rf.fit(X_train, y_train)"
   ]
  },
  {
   "cell_type": "markdown",
   "metadata": {},
   "source": [
    "### Evaluation"
   ]
  },
  {
   "cell_type": "code",
   "execution_count": 45,
   "metadata": {},
   "outputs": [
    {
     "name": "stdout",
     "output_type": "stream",
     "text": [
      "Training accuracy: 0.9984584147992179\n"
     ]
    }
   ],
   "source": [
    "print('Training accuracy: ' + str(rf.score(X_train, y_train)))"
   ]
  },
  {
   "cell_type": "markdown",
   "metadata": {},
   "source": [
    "- looks like overfitting --> perform grid search to optimize hyperparameters"
   ]
  },
  {
   "cell_type": "markdown",
   "metadata": {},
   "source": [
    "### Performing grid search to optimize hyperparameters"
   ]
  },
  {
   "cell_type": "code",
   "execution_count": 46,
   "metadata": {},
   "outputs": [
    {
     "name": "stdout",
     "output_type": "stream",
     "text": [
      "[0.62338639 0.64227973 0.6432197  0.63551197 0.63654593 0.63679659\n",
      " 0.63689059 0.6222271  0.65067678 0.65634791 0.64441033 0.64444166\n",
      " 0.64575761 0.644285   0.63403935 0.65772653 0.66380499 0.66775285\n",
      " 0.65756987 0.66530894 0.66480762 0.65055145 0.66571626 0.66809751\n",
      " 0.67145006 0.67123073 0.67477127 0.67452062 0.65722522 0.67614989\n",
      " 0.68185236 0.68138238 0.68263567 0.68298032 0.68219702]\n",
      "256 7 42\n"
     ]
    }
   ],
   "source": [
    "# extract parameters\n",
    "n_estimator, depth = perform_grid_search(X_val, y_val)\n",
    "c_random_state = 42\n",
    "print(n_estimator, depth, c_random_state)"
   ]
  },
  {
   "cell_type": "markdown",
   "metadata": {},
   "source": [
    "### Train model with optimized hyperparameters"
   ]
  },
  {
   "cell_type": "code",
   "execution_count": 47,
   "metadata": {},
   "outputs": [
    {
     "data": {
      "text/plain": [
       "RandomForestClassifier(bootstrap=True, ccp_alpha=0.0,\n",
       "                       class_weight='balanced_subsample', criterion='entropy',\n",
       "                       max_depth=7, max_features='auto', max_leaf_nodes=None,\n",
       "                       max_samples=None, min_impurity_decrease=0.0,\n",
       "                       min_impurity_split=None, min_samples_leaf=1,\n",
       "                       min_samples_split=2, min_weight_fraction_leaf=0.0,\n",
       "                       n_estimators=256, n_jobs=None, oob_score=False,\n",
       "                       random_state=None, verbose=0, warm_start=False)"
      ]
     },
     "execution_count": 47,
     "metadata": {},
     "output_type": "execute_result"
    }
   ],
   "source": [
    "rf = RandomForestClassifier(criterion='entropy', class_weight='balanced_subsample', n_estimators=n_estimator, max_depth=depth)\n",
    "rf.fit(X_train, y_train)"
   ]
  },
  {
   "cell_type": "markdown",
   "metadata": {},
   "source": [
    "### Evaluation"
   ]
  },
  {
   "cell_type": "code",
   "execution_count": 48,
   "metadata": {},
   "outputs": [
    {
     "name": "stdout",
     "output_type": "stream",
     "text": [
      "Training accuracy: 0.686099413445631\n",
      "Valiation accuracy: 0.6823223461586665\n"
     ]
    }
   ],
   "source": [
    "print('Training accuracy: ' + str(rf.score(X_train, y_train)))\n",
    "print('Valiation accuracy: ' + str(rf.score(X_val, y_val)))"
   ]
  },
  {
   "cell_type": "markdown",
   "metadata": {},
   "source": [
    "- looks like the model generalizes well with optimized hyperparameters"
   ]
  },
  {
   "cell_type": "markdown",
   "metadata": {},
   "source": [
    "### Visualize predicted classes 0: trip not in direction to main station, 1: trip in direction to main station"
   ]
  },
  {
   "cell_type": "code",
   "execution_count": 49,
   "metadata": {},
   "outputs": [
    {
     "data": {
      "image/png": "[encoded data removed]",
      "text/plain": [
       "<Figure size 576x576 with 1 Axes>"
      ]
     },
     "metadata": {
      "needs_background": "light"
     },
     "output_type": "display_data"
    }
   ],
   "source": [
    "confusionMatrix(y_val, rf.predict(X_val))"
   ]
  },
  {
   "cell_type": "markdown",
   "metadata": {},
   "source": [
    "### Classification report"
   ]
  },
  {
   "cell_type": "code",
   "execution_count": 50,
   "metadata": {
    "scrolled": false
   },
   "outputs": [
    {
     "name": "stdout",
     "output_type": "stream",
     "text": [
      "              precision    recall  f1-score   support\n",
      "\n",
      "           0       0.70      0.65      0.67     15944\n",
      "           1       0.67      0.72      0.69     15972\n",
      "\n",
      "    accuracy                           0.68     31916\n",
      "   macro avg       0.68      0.68      0.68     31916\n",
      "weighted avg       0.68      0.68      0.68     31916\n",
      "\n"
     ]
    }
   ],
   "source": [
    "print(classification_report(y_val, rf.predict(X_val)))"
   ]
  },
  {
   "cell_type": "markdown",
   "metadata": {},
   "source": [
    "## Apply to test set"
   ]
  },
  {
   "cell_type": "markdown",
   "metadata": {},
   "source": [
    "### Add validation set to train set to obtain more training data"
   ]
  },
  {
   "cell_type": "code",
   "execution_count": 51,
   "metadata": {},
   "outputs": [],
   "source": [
    "X_train = X_train.append(X_val)\n",
    "y_train = y_train.append(y_val)"
   ]
  },
  {
   "cell_type": "code",
   "execution_count": 52,
   "metadata": {},
   "outputs": [
    {
     "data": {
      "text/plain": [
       "RandomForestClassifier(bootstrap=True, ccp_alpha=0.0,\n",
       "                       class_weight='balanced_subsample', criterion='entropy',\n",
       "                       max_depth=7, max_features='auto', max_leaf_nodes=None,\n",
       "                       max_samples=None, min_impurity_decrease=0.0,\n",
       "                       min_impurity_split=None, min_samples_leaf=1,\n",
       "                       min_samples_split=2, min_weight_fraction_leaf=0.0,\n",
       "                       n_estimators=256, n_jobs=None, oob_score=False,\n",
       "                       random_state=None, verbose=0, warm_start=False)"
      ]
     },
     "execution_count": 52,
     "metadata": {},
     "output_type": "execute_result"
    }
   ],
   "source": [
    "rf = RandomForestClassifier(criterion='entropy', class_weight='balanced_subsample', n_estimators=n_estimator, max_depth=depth)\n",
    "rf.fit(X_train, y_train)"
   ]
  },
  {
   "cell_type": "markdown",
   "metadata": {},
   "source": [
    "### Training + validation set performance"
   ]
  },
  {
   "cell_type": "code",
   "execution_count": 53,
   "metadata": {},
   "outputs": [
    {
     "name": "stdout",
     "output_type": "stream",
     "text": [
      "Training accuracy: 0.6844479954880858\n",
      "Valiation accuracy: 0.6844529389647825\n"
     ]
    }
   ],
   "source": [
    "print('Training accuracy: ' + str(rf.score(X_train, y_train)))\n",
    "print('Valiation accuracy: ' + str(rf.score(X_val, y_val)))"
   ]
  },
  {
   "cell_type": "markdown",
   "metadata": {},
   "source": [
    "### Test set performance\n",
    "\n",
    "### The moment of truth"
   ]
  },
  {
   "cell_type": "code",
   "execution_count": 54,
   "metadata": {},
   "outputs": [
    {
     "name": "stdout",
     "output_type": "stream",
     "text": [
      "Test accuracy: 0.6808915068722062\n"
     ]
    }
   ],
   "source": [
    "print('Test accuracy: ' + str(rf.score(X_test, y_test)))"
   ]
  },
  {
   "cell_type": "code",
   "execution_count": 55,
   "metadata": {
    "scrolled": true
   },
   "outputs": [
    {
     "name": "stdout",
     "output_type": "stream",
     "text": [
      "              precision    recall  f1-score   support\n",
      "\n",
      "           0       0.69      0.65      0.67     23875\n",
      "           1       0.67      0.71      0.69     23999\n",
      "\n",
      "    accuracy                           0.68     47874\n",
      "   macro avg       0.68      0.68      0.68     47874\n",
      "weighted avg       0.68      0.68      0.68     47874\n",
      "\n"
     ]
    }
   ],
   "source": [
    "print(classification_report(y_test, rf.predict(X_test)))"
   ]
  },
  {
   "cell_type": "markdown",
   "metadata": {},
   "source": [
    "# Predicting to_uni - Regression"
   ]
  },
  {
   "cell_type": "code",
   "execution_count": 56,
   "metadata": {},
   "outputs": [],
   "source": [
    "from sklearn.linear_model import LinearRegression\n",
    "from sklearn.preprocessing import PolynomialFeatures\n",
    "from sklearn.metrics import mean_squared_error"
   ]
  },
  {
   "cell_type": "markdown",
   "metadata": {},
   "source": [
    "## Check on correlations to_uni"
   ]
  },
  {
   "cell_type": "code",
   "execution_count": 57,
   "metadata": {},
   "outputs": [
    {
     "data": {
      "text/plain": [
       "weekend              -0.002435\n",
       "start_lng            -0.181896\n",
       "start_lat            -0.312919\n",
       "start_place          -0.027408\n",
       "start_plz            -0.112016\n",
       "temp_2m              -0.001462\n",
       "humidity_2m           0.001873\n",
       "dew_point_2m          0.000601\n",
       "max_at_2m            -0.001396\n",
       "mean_speed_h/s        0.002943\n",
       "direction_degree_x    0.002274\n",
       "max_m/s               0.003102\n",
       "min_mean_m/s          0.001066\n",
       "max_mean_m/s          0.002828\n",
       "direction_degree_y    0.001570\n",
       "min                   0.004957\n",
       "month                 0.000366\n",
       "week_day             -0.002279\n",
       "is_weekend           -0.002435\n",
       "hour                 -0.002625\n",
       "dtype: float64"
      ]
     },
     "execution_count": 57,
     "metadata": {},
     "output_type": "execute_result"
    }
   ],
   "source": [
    "bremen_trips.drop(columns={'to_uni','to_uni_bool','to_main_station_bool','to_main_station'}).corrwith(bremen_trips['to_uni'])"
   ]
  },
  {
   "cell_type": "markdown",
   "metadata": {},
   "source": [
    "### Pearson correlation only for attributes with correlation higher than 0.05"
   ]
  },
  {
   "cell_type": "code",
   "execution_count": 58,
   "metadata": {
    "scrolled": true
   },
   "outputs": [
    {
     "data": {
      "image/png": "[encoded data removed]",
      "text/plain": [
       "<Figure size 720x576 with 2 Axes>"
      ]
     },
     "metadata": {
      "needs_background": "light"
     },
     "output_type": "display_data"
    }
   ],
   "source": [
    "#Using Pearson Correlation\n",
    "\n",
    "plt.figure(figsize=(10,8))\n",
    "cor = bremen_trips[['to_uni','start_lng','start_lat','start_plz','start_place']].corr()\n",
    "sns.heatmap(cor, annot=True, cmap=plt.cm.coolwarm, center=0)\n",
    "plt.show()"
   ]
  },
  {
   "cell_type": "markdown",
   "metadata": {},
   "source": [
    "### Choose features with correlation > 0.05"
   ]
  },
  {
   "cell_type": "code",
   "execution_count": 59,
   "metadata": {},
   "outputs": [],
   "source": [
    "# Initialize independent and target variable\n",
    "X = bremen_trips[['start_lng','start_lat','start_plz']]\n",
    "y = bremen_trips['to_uni']\n",
    "\n",
    "# Splitting data into train and validation set\n",
    "X_train, X_val_test, y_train, y_val_test = train_test_split(X, y, test_size=0.60, shuffle=True)\n",
    "X_val, X_test, y_val, y_test = train_test_split(X_val_test, y_val_test, test_size=0.60, shuffle=True)"
   ]
  },
  {
   "cell_type": "markdown",
   "metadata": {},
   "source": [
    "### Polynomial regression"
   ]
  },
  {
   "cell_type": "code",
   "execution_count": 60,
   "metadata": {},
   "outputs": [],
   "source": [
    "def chooseDegree(X, y):\n",
    "    \n",
    "    # Splitting data into train and validation set\n",
    "    #X_train, X_val_test, y_train, y_val_test = train_test_split(X, y, test_size=0.60, shuffle=True)\n",
    "    #X_val, X_test, y_val, y_test = train_test_split(X_val_test, y_val_test, test_size=0.60, shuffle=True)\n",
    "\n",
    "    r2_train = []\n",
    "    r2_val = []\n",
    "    rmses_val = []\n",
    "    degrees = np.arange(1, 6)\n",
    "    min_rmse, min_deg = 1e10, 0\n",
    "\n",
    "    for deg in degrees:\n",
    "\n",
    "        # Train features\n",
    "        poly_features = PolynomialFeatures(degree=deg, include_bias=False)\n",
    "        X_poly_train = poly_features.fit_transform(X_train)\n",
    "\n",
    "        # Linear regression\n",
    "        poly_reg = LinearRegression()\n",
    "        poly_reg.fit(X_poly_train, y_train)\n",
    "        X_val_poly = poly_features.fit_transform(X_val)\n",
    "        \n",
    "        # Evaluate\n",
    "        r2_train.append(poly_reg.score(X_poly_train, y_train))\n",
    "        r2_val.append(poly_reg.score(X_val_poly,y_val))\n",
    "\n",
    "        # Compare with val data\n",
    "        poly_predict = poly_reg.predict(X_val_poly)\n",
    "        poly_mse = mean_squared_error(y_val, poly_predict)\n",
    "        poly_rmse = np.sqrt(poly_mse)\n",
    "        rmses_val.append(poly_rmse)\n",
    "\n",
    "        # Cross-validation of degree\n",
    "        if min_rmse > poly_rmse:\n",
    "            min_rmse = poly_rmse\n",
    "            min_deg = deg\n",
    "\n",
    "    # Plot and present results\n",
    "    print('Suggested degree {} with RMSE of validation set {}'.format(min_deg, min_rmse))\n",
    "    \n",
    "    # Create model with optimal degree\n",
    "    poly_features = PolynomialFeatures(degree=min_deg, include_bias=False)\n",
    "    X_poly_train = poly_features.fit_transform(X_train)\n",
    "\n",
    "    # Linear regression\n",
    "    poly_reg = LinearRegression()\n",
    "    poly_reg.fit(X_poly_train, y_train)\n",
    "    X_val_poly = poly_features.fit_transform(X_val)\n",
    "\n",
    "    # Evaluate\n",
    "    print('R2 train score with suggested degree: ', poly_reg.score(X_poly_train, y_train))\n",
    "    print('R2 validation score with suggested degree: ', poly_reg.score(X_val_poly,y_val))\n",
    "    \n",
    "    \n",
    "    # Evaluation plots\n",
    "    fig, axes = plt.subplots(nrows=1, ncols=2, figsize=(16, 8))\n",
    "    \n",
    "    #ax_rmses_val = fig.add_subplot(111)\n",
    "    axes[0].plot(degrees, rmses_val, label='rmses_val')\n",
    "    axes[0].set_yscale('log')\n",
    "    axes[0].set_xlabel('Degree')\n",
    "    axes[0].set_ylabel('RMSE')\n",
    "    \n",
    "    #ax_r2_train = fig.add_subplot(111)\n",
    "    axes[1].plot(degrees, r2_train, label='R2_train')\n",
    "    axes[1].set_yscale('linear')\n",
    "    axes[1].set_xlabel('Degree')\n",
    "    axes[1].set_ylabel('R2_train')\n",
    "    axes[1].set_label('R2_train')\n",
    "    #axes[1].set_ylim(0,1)\n",
    "    \n",
    "    #ax_r2_val = fig.add_subplot(111)\n",
    "    axes[1].plot(degrees, r2_val, label='R2_val')\n",
    "    axes[1].set_xlabel('Degree')\n",
    "    axes[1].set_ylabel('R2_val')\n",
    "    \n",
    "    axes[0].legend()\n",
    "    axes[1].legend()\n",
    "    fig.tight_layout()"
   ]
  },
  {
   "cell_type": "code",
   "execution_count": 61,
   "metadata": {
    "scrolled": true
   },
   "outputs": [
    {
     "name": "stdout",
     "output_type": "stream",
     "text": [
      "Suggested degree 3 with RMSE of validation set 1.1948216663382907\n",
      "R2 train score with suggested degree:  0.254827683865803\n",
      "R2 validation score with suggested degree:  0.24271827679491464\n"
     ]
    },
    {
     "data": {
      "image/png": "[encoded data removed]",
      "text/plain": [
       "<Figure size 1152x576 with 2 Axes>"
      ]
     },
     "metadata": {
      "needs_background": "light"
     },
     "output_type": "display_data"
    }
   ],
   "source": [
    "chooseDegree(X,y)"
   ]
  },
  {
   "cell_type": "markdown",
   "metadata": {},
   "source": [
    "## Apply to test set"
   ]
  },
  {
   "cell_type": "markdown",
   "metadata": {},
   "source": [
    "### Add validation set to train set to obtain more training data"
   ]
  },
  {
   "cell_type": "code",
   "execution_count": 62,
   "metadata": {},
   "outputs": [],
   "source": [
    "X_train = X_train.append(X_val)\n",
    "y_train = y_train.append(y_val)\n",
    "\n",
    "poly = PolynomialFeatures(3)\n",
    "X_train_poly = poly.fit_transform(X_train)\n",
    "\n",
    "lin = LinearRegression()"
   ]
  },
  {
   "cell_type": "markdown",
   "metadata": {},
   "source": [
    "### Training + validation set performance"
   ]
  },
  {
   "cell_type": "code",
   "execution_count": 63,
   "metadata": {},
   "outputs": [
    {
     "data": {
      "text/plain": [
       "0.2503648032612463"
      ]
     },
     "execution_count": 63,
     "metadata": {},
     "output_type": "execute_result"
    }
   ],
   "source": [
    "lin.fit(X_train_poly, y_train)\n",
    "lin.score(X_train_poly, y_train)"
   ]
  },
  {
   "cell_type": "markdown",
   "metadata": {},
   "source": [
    "### Test set performance"
   ]
  },
  {
   "cell_type": "code",
   "execution_count": 64,
   "metadata": {},
   "outputs": [
    {
     "data": {
      "text/plain": [
       "0.25194418043095546"
      ]
     },
     "execution_count": 64,
     "metadata": {},
     "output_type": "execute_result"
    }
   ],
   "source": [
    "X_test_poly = poly.fit_transform(X_test)\n",
    "lin.score(X_test_poly,y_test)"
   ]
  },
  {
   "cell_type": "markdown",
   "metadata": {},
   "source": [
    "- no accurate predictions, features with higher significance required."
   ]
  },
  {
   "cell_type": "markdown",
   "metadata": {},
   "source": [
    "# Predicting to_main_station - Regression"
   ]
  },
  {
   "cell_type": "markdown",
   "metadata": {},
   "source": [
    "## Check on correlations to_main_station"
   ]
  },
  {
   "cell_type": "code",
   "execution_count": 65,
   "metadata": {},
   "outputs": [
    {
     "data": {
      "text/plain": [
       "weekend              -0.005357\n",
       "start_lng             0.109776\n",
       "start_lat             0.005981\n",
       "start_place           0.093781\n",
       "start_plz             0.255585\n",
       "temp_2m               0.011527\n",
       "humidity_2m          -0.020052\n",
       "dew_point_2m         -0.001210\n",
       "max_at_2m             0.011434\n",
       "mean_speed_h/s        0.013473\n",
       "direction_degree_x    0.004080\n",
       "max_m/s               0.015090\n",
       "min_mean_m/s          0.009170\n",
       "max_mean_m/s          0.014378\n",
       "direction_degree_y    0.003771\n",
       "min                   0.004312\n",
       "month                 0.000480\n",
       "week_day             -0.007564\n",
       "is_weekend           -0.005357\n",
       "hour                 -0.011228\n",
       "dtype: float64"
      ]
     },
     "execution_count": 65,
     "metadata": {},
     "output_type": "execute_result"
    }
   ],
   "source": [
    "bremen_trips.drop(columns={'to_uni','to_uni_bool','to_main_station_bool','to_main_station'}).corrwith(bremen_trips['to_main_station'])"
   ]
  },
  {
   "cell_type": "markdown",
   "metadata": {},
   "source": [
    "### Pearson correlation only for attributes with correlation higher than 0.05"
   ]
  },
  {
   "cell_type": "code",
   "execution_count": 66,
   "metadata": {
    "scrolled": true
   },
   "outputs": [
    {
     "data": {
      "image/png": "[encoded data removed]",
      "text/plain": [
       "<Figure size 720x576 with 2 Axes>"
      ]
     },
     "metadata": {
      "needs_background": "light"
     },
     "output_type": "display_data"
    }
   ],
   "source": [
    "#Using Pearson Correlation\n",
    "\n",
    "plt.figure(figsize=(10,8))\n",
    "cor = bremen_trips[['to_main_station','start_lng','start_lat','start_plz','start_place','humidity_2m']].corr()\n",
    "sns.heatmap(cor, annot=True, cmap=plt.cm.coolwarm, center=0)\n",
    "plt.show()"
   ]
  },
  {
   "cell_type": "markdown",
   "metadata": {},
   "source": [
    "### Choose features with correlation > 0.05"
   ]
  },
  {
   "cell_type": "code",
   "execution_count": 67,
   "metadata": {},
   "outputs": [],
   "source": [
    "# Initialize independent and target variable\n",
    "X = bremen_trips[['start_lng','start_lat','start_plz','start_place','humidity_2m']]\n",
    "y = bremen_trips['to_main_station']\n",
    "\n",
    "# Splitting data into train and validation set\n",
    "X_train, X_val_test, y_train, y_val_test = train_test_split(X, y, test_size=0.60, shuffle=True)\n",
    "X_val, X_test, y_val, y_test = train_test_split(X_val_test, y_val_test, test_size=0.60, shuffle=True)"
   ]
  },
  {
   "cell_type": "markdown",
   "metadata": {},
   "source": [
    "### Polynomial regression"
   ]
  },
  {
   "cell_type": "code",
   "execution_count": 68,
   "metadata": {
    "scrolled": true
   },
   "outputs": [
    {
     "name": "stdout",
     "output_type": "stream",
     "text": [
      "Suggested degree 4 with RMSE of validation set 1.2932983835469383\n",
      "R2 train score with suggested degree:  0.24066898560921246\n",
      "R2 validation score with suggested degree:  0.21382166983550277\n"
     ]
    },
    {
     "data": {
      "image/png": "[encoded data removed]",
      "text/plain": [
       "<Figure size 1152x576 with 2 Axes>"
      ]
     },
     "metadata": {
      "needs_background": "light"
     },
     "output_type": "display_data"
    }
   ],
   "source": [
    "chooseDegree(X,y)"
   ]
  },
  {
   "cell_type": "markdown",
   "metadata": {},
   "source": [
    "- choose degree 3"
   ]
  },
  {
   "cell_type": "markdown",
   "metadata": {},
   "source": [
    "## Apply to test set"
   ]
  },
  {
   "cell_type": "markdown",
   "metadata": {},
   "source": [
    "### Add validation set to train set to obtain more training data"
   ]
  },
  {
   "cell_type": "code",
   "execution_count": 69,
   "metadata": {},
   "outputs": [],
   "source": [
    "X_train = X_train.append(X_val)\n",
    "y_train = y_train.append(y_val)\n",
    "\n",
    "poly = PolynomialFeatures(3)\n",
    "X_train_poly = poly.fit_transform(X_train)\n",
    "\n",
    "lin = LinearRegression()"
   ]
  },
  {
   "cell_type": "markdown",
   "metadata": {},
   "source": [
    "### Training + validation set performance"
   ]
  },
  {
   "cell_type": "code",
   "execution_count": 70,
   "metadata": {},
   "outputs": [
    {
     "name": "stdout",
     "output_type": "stream",
     "text": [
      "0.23352294778621407\n"
     ]
    }
   ],
   "source": [
    "lin.fit(X_train_poly, y_train)\n",
    "print(lin.score(X_train_poly, y_train))"
   ]
  },
  {
   "cell_type": "markdown",
   "metadata": {},
   "source": [
    "### Test set performance"
   ]
  },
  {
   "cell_type": "code",
   "execution_count": 71,
   "metadata": {},
   "outputs": [
    {
     "data": {
      "text/plain": [
       "0.2219195246076059"
      ]
     },
     "execution_count": 71,
     "metadata": {},
     "output_type": "execute_result"
    }
   ],
   "source": [
    "X_test_poly = poly.fit_transform(X_test)\n",
    "lin.score(X_test_poly,y_test)"
   ]
  },
  {
   "cell_type": "markdown",
   "metadata": {},
   "source": [
    "- no accurate predictions, features with higher significance required."
   ]
  }
 ],
 "metadata": {
  "kernelspec": {
   "display_name": "PyCharm (PDS_Project)",
   "language": "python",
   "name": "pycharm-c25bd02c"
  },
  "language_info": {
   "codemirror_mode": {
    "name": "ipython",
    "version": 3
   },
   "file_extension": ".py",
   "mimetype": "text/x-python",
   "name": "python",
   "nbconvert_exporter": "python",
   "pygments_lexer": "ipython3",
   "version": "3.7.7"
  },
  "pycharm": {
   "stem_cell": {
    "cell_type": "raw",
    "metadata": {
     "collapsed": false
    },
    "source": []
   }
  }
 },
 "nbformat": 4,
 "nbformat_minor": 2
}
