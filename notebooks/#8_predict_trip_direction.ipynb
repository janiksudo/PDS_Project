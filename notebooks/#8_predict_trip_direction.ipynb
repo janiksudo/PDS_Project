{
 "cells": [
  {
   "cell_type": "markdown",
   "metadata": {},
   "source": [
    "## Import used packages"
   ]
  },
  {
   "cell_type": "code",
   "execution_count": 1,
   "metadata": {},
   "outputs": [],
   "source": [
    "import pandas as pd\n",
    "import sys\n",
    "from datetime import date, datetime\n",
    "import matplotlib.pyplot as plt\n",
    "import seaborn as sns\n",
    "import numpy as np\n",
    "from scipy import spatial\n",
    "from math import sin, cos, sqrt, atan2, radians\n",
    "import folium\n",
    "from tqdm import tqdm"
   ]
  },
  {
   "cell_type": "markdown",
   "metadata": {},
   "source": [
    "## Import data"
   ]
  },
  {
   "cell_type": "code",
   "execution_count": 2,
   "metadata": {},
   "outputs": [],
   "source": [
    "bremen_trips = pd.read_csv(\"../data/processed/dataset.csv\", index_col=0)\n",
    "bremen_trips = bremen_trips.sort_values(by=['start_time'], ascending=True)\n",
    "bremen_trips[\"start_time\"] = pd.to_datetime(bremen_trips[\"start_time\"])"
   ]
  },
  {
   "cell_type": "code",
   "execution_count": 3,
   "metadata": {
    "scrolled": true
   },
   "outputs": [
    {
     "data": {
      "text/html": [
       "<div>\n",
       "<style scoped>\n",
       "    .dataframe tbody tr th:only-of-type {\n",
       "        vertical-align: middle;\n",
       "    }\n",
       "\n",
       "    .dataframe tbody tr th {\n",
       "        vertical-align: top;\n",
       "    }\n",
       "\n",
       "    .dataframe thead th {\n",
       "        text-align: right;\n",
       "    }\n",
       "</style>\n",
       "<table border=\"1\" class=\"dataframe\">\n",
       "  <thead>\n",
       "    <tr style=\"text-align: right;\">\n",
       "      <th></th>\n",
       "      <th>identification</th>\n",
       "      <th>start_time</th>\n",
       "      <th>end_time</th>\n",
       "      <th>duration_sec</th>\n",
       "      <th>start_lng</th>\n",
       "      <th>start_lat</th>\n",
       "      <th>end_lng</th>\n",
       "      <th>end_lat</th>\n",
       "      <th>start_place</th>\n",
       "      <th>end_place</th>\n",
       "      <th>...</th>\n",
       "      <th>humidity_2m</th>\n",
       "      <th>dew_point_2m</th>\n",
       "      <th>max_at_2m</th>\n",
       "      <th>mean_speed_h/s</th>\n",
       "      <th>direction_degree_x</th>\n",
       "      <th>max_m/s</th>\n",
       "      <th>min_mean_m/s</th>\n",
       "      <th>max_mean_m/s</th>\n",
       "      <th>direction_degree_y</th>\n",
       "      <th>min</th>\n",
       "    </tr>\n",
       "    <tr>\n",
       "      <th>bike</th>\n",
       "      <th></th>\n",
       "      <th></th>\n",
       "      <th></th>\n",
       "      <th></th>\n",
       "      <th></th>\n",
       "      <th></th>\n",
       "      <th></th>\n",
       "      <th></th>\n",
       "      <th></th>\n",
       "      <th></th>\n",
       "      <th></th>\n",
       "      <th></th>\n",
       "      <th></th>\n",
       "      <th></th>\n",
       "      <th></th>\n",
       "      <th></th>\n",
       "      <th></th>\n",
       "      <th></th>\n",
       "      <th></th>\n",
       "      <th></th>\n",
       "      <th></th>\n",
       "    </tr>\n",
       "  </thead>\n",
       "  <tbody>\n",
       "    <tr>\n",
       "      <th>20685</th>\n",
       "      <td>12099440</td>\n",
       "      <td>2019-01-20 00:13:00</td>\n",
       "      <td>2019-01-20 00:23:00</td>\n",
       "      <td>600.0</td>\n",
       "      <td>8.812554</td>\n",
       "      <td>53.076481</td>\n",
       "      <td>8.804828</td>\n",
       "      <td>53.084196</td>\n",
       "      <td>0.0</td>\n",
       "      <td>0.0</td>\n",
       "      <td>...</td>\n",
       "      <td>92.6</td>\n",
       "      <td>-4.8</td>\n",
       "      <td>-3.4</td>\n",
       "      <td>2.6</td>\n",
       "      <td>80.0</td>\n",
       "      <td>3.1</td>\n",
       "      <td>2.1</td>\n",
       "      <td>2.6</td>\n",
       "      <td>80.0</td>\n",
       "      <td>0.0</td>\n",
       "    </tr>\n",
       "    <tr>\n",
       "      <th>20626</th>\n",
       "      <td>10278649</td>\n",
       "      <td>2019-01-20 00:16:00</td>\n",
       "      <td>2019-01-20 04:47:00</td>\n",
       "      <td>16260.0</td>\n",
       "      <td>8.884911</td>\n",
       "      <td>53.078923</td>\n",
       "      <td>8.884911</td>\n",
       "      <td>53.078923</td>\n",
       "      <td>2985.0</td>\n",
       "      <td>2985.0</td>\n",
       "      <td>...</td>\n",
       "      <td>92.6</td>\n",
       "      <td>-4.8</td>\n",
       "      <td>-3.4</td>\n",
       "      <td>2.6</td>\n",
       "      <td>80.0</td>\n",
       "      <td>3.1</td>\n",
       "      <td>2.1</td>\n",
       "      <td>2.6</td>\n",
       "      <td>80.0</td>\n",
       "      <td>0.0</td>\n",
       "    </tr>\n",
       "  </tbody>\n",
       "</table>\n",
       "<p>2 rows × 23 columns</p>\n",
       "</div>"
      ],
      "text/plain": [
       "       identification          start_time             end_time  duration_sec  \\\n",
       "bike                                                                           \n",
       "20685        12099440 2019-01-20 00:13:00  2019-01-20 00:23:00         600.0   \n",
       "20626        10278649 2019-01-20 00:16:00  2019-01-20 04:47:00       16260.0   \n",
       "\n",
       "       start_lng  start_lat   end_lng    end_lat  start_place  end_place  ...  \\\n",
       "bike                                                                      ...   \n",
       "20685   8.812554  53.076481  8.804828  53.084196          0.0        0.0  ...   \n",
       "20626   8.884911  53.078923  8.884911  53.078923       2985.0     2985.0  ...   \n",
       "\n",
       "       humidity_2m  dew_point_2m  max_at_2m  mean_speed_h/s  \\\n",
       "bike                                                          \n",
       "20685         92.6          -4.8       -3.4             2.6   \n",
       "20626         92.6          -4.8       -3.4             2.6   \n",
       "\n",
       "       direction_degree_x  max_m/s  min_mean_m/s  max_mean_m/s  \\\n",
       "bike                                                             \n",
       "20685                80.0      3.1           2.1           2.6   \n",
       "20626                80.0      3.1           2.1           2.6   \n",
       "\n",
       "       direction_degree_y  min  \n",
       "bike                            \n",
       "20685                80.0  0.0  \n",
       "20626                80.0  0.0  \n",
       "\n",
       "[2 rows x 23 columns]"
      ]
     },
     "execution_count": 3,
     "metadata": {},
     "output_type": "execute_result"
    }
   ],
   "source": [
    "bremen_trips.head(2)"
   ]
  },
  {
   "cell_type": "code",
   "execution_count": 4,
   "metadata": {},
   "outputs": [
    {
     "data": {
      "text/plain": [
       "Index(['identification', 'start_time', 'end_time', 'duration_sec', 'start_lng',\n",
       "       'start_lat', 'end_lng', 'end_lat', 'start_place', 'end_place',\n",
       "       'start_plz', 'end_plz', 'temp_2m', 'humidity_2m', 'dew_point_2m',\n",
       "       'max_at_2m', 'mean_speed_h/s', 'direction_degree_x', 'max_m/s',\n",
       "       'min_mean_m/s', 'max_mean_m/s', 'direction_degree_y', 'min'],\n",
       "      dtype='object')"
      ]
     },
     "execution_count": 4,
     "metadata": {},
     "output_type": "execute_result"
    }
   ],
   "source": [
    "bremen_trips.keys()"
   ]
  },
  {
   "cell_type": "markdown",
   "metadata": {},
   "source": [
    "## Functions that calculates distance moved towards the university of Bremen and main station"
   ]
  },
  {
   "cell_type": "code",
   "execution_count": 5,
   "metadata": {},
   "outputs": [],
   "source": [
    "# Function that calculates if start or end location is closer to University of Bremen. \n",
    "# Returns the difference of the distances of the start and end location in kilometers.\n",
    "# If value positive, end locations is closer to university. That means moved towards university.\n",
    "def distanceToUni(sLng,sLat,eLng,eLat):\n",
    "    # approximate radius of earth in km\n",
    "    R = 6373.0\n",
    "    \n",
    "    sLng = radians(sLng)\n",
    "    sLat = radians(sLat)\n",
    "    eLng = radians(eLng)\n",
    "    eLat = radians(eLat)\n",
    "    uLat = radians(53.1069302) # University of Bremen Latitude\n",
    "    uLng = radians(8.8499603)  # University of Bremen Longitude\n",
    "\n",
    "    sdlon = uLng - sLng\n",
    "    sdlat = uLat - sLat\n",
    "\n",
    "    edlon = uLng - eLng\n",
    "    edlat = uLat - eLat\n",
    "\n",
    "    sA = sin(sdlat / 2)**2 + cos(sLat) * cos(uLat) * sin(sdlon / 2)**2\n",
    "    eA = sin(edlat / 2)**2 + cos(eLat) * cos(uLat) * sin(edlon / 2)**2\n",
    "    \n",
    "    sC = 2 * atan2(sqrt(sA), sqrt(1 - sA))\n",
    "    eC = 2 * atan2(sqrt(eA), sqrt(1 - eA))\n",
    "\n",
    "    sDist = R * sC\n",
    "    eDist = R * eC\n",
    "\n",
    "    distance = sDist - eDist\n",
    "    \n",
    "    return distance\n",
    "\n",
    "def distanceToMainStation(sLng,sLat,eLng,eLat):\n",
    "    # approximate radius of earth in km\n",
    "    R = 6373.0\n",
    "    \n",
    "    sLng = radians(sLng)\n",
    "    sLat = radians(sLat)\n",
    "    eLng = radians(eLng)\n",
    "    eLat = radians(eLat)\n",
    "    msLat = radians(53.083122) # # Main station Latitude\n",
    "    msLng = radians(8.813717) # # Main station Latitude\n",
    "\n",
    "    sdlon = msLng - sLng\n",
    "    sdlat = msLat - sLat\n",
    "\n",
    "    edlon = msLng - eLng\n",
    "    edlat = msLat - eLat\n",
    "\n",
    "    sA = sin(sdlat / 2)**2 + cos(sLat) * cos(msLat) * sin(sdlon / 2)**2\n",
    "    eA = sin(edlat / 2)**2 + cos(eLat) * cos(msLat) * sin(edlon / 2)**2\n",
    "    \n",
    "    sC = 2 * atan2(sqrt(sA), sqrt(1 - sA))\n",
    "    eC = 2 * atan2(sqrt(eA), sqrt(1 - eA))\n",
    "\n",
    "    sDist = R * sC\n",
    "    eDist = R * eC\n",
    "\n",
    "    distance = sDist - eDist\n",
    "    \n",
    "    return distance"
   ]
  },
  {
   "cell_type": "markdown",
   "metadata": {},
   "source": [
    "## Example of trip moving away from the university\n",
    "\n",
    "- Red marker = University of Bremen\n",
    "- Blue marker = Start location\n",
    "- Green marker = End location"
   ]
  },
  {
   "cell_type": "code",
   "execution_count": 6,
   "metadata": {},
   "outputs": [
    {
     "data": {
      "text/html": [
       "<div>\n",
       "<style scoped>\n",
       "    .dataframe tbody tr th:only-of-type {\n",
       "        vertical-align: middle;\n",
       "    }\n",
       "\n",
       "    .dataframe tbody tr th {\n",
       "        vertical-align: top;\n",
       "    }\n",
       "\n",
       "    .dataframe thead th {\n",
       "        text-align: right;\n",
       "    }\n",
       "</style>\n",
       "<table border=\"1\" class=\"dataframe\">\n",
       "  <thead>\n",
       "    <tr style=\"text-align: right;\">\n",
       "      <th></th>\n",
       "      <th>identification</th>\n",
       "      <th>start_time</th>\n",
       "      <th>end_time</th>\n",
       "      <th>duration_sec</th>\n",
       "      <th>start_lng</th>\n",
       "      <th>start_lat</th>\n",
       "      <th>end_lng</th>\n",
       "      <th>end_lat</th>\n",
       "      <th>start_place</th>\n",
       "      <th>end_place</th>\n",
       "      <th>...</th>\n",
       "      <th>humidity_2m</th>\n",
       "      <th>dew_point_2m</th>\n",
       "      <th>max_at_2m</th>\n",
       "      <th>mean_speed_h/s</th>\n",
       "      <th>direction_degree_x</th>\n",
       "      <th>max_m/s</th>\n",
       "      <th>min_mean_m/s</th>\n",
       "      <th>max_mean_m/s</th>\n",
       "      <th>direction_degree_y</th>\n",
       "      <th>min</th>\n",
       "    </tr>\n",
       "    <tr>\n",
       "      <th>bike</th>\n",
       "      <th></th>\n",
       "      <th></th>\n",
       "      <th></th>\n",
       "      <th></th>\n",
       "      <th></th>\n",
       "      <th></th>\n",
       "      <th></th>\n",
       "      <th></th>\n",
       "      <th></th>\n",
       "      <th></th>\n",
       "      <th></th>\n",
       "      <th></th>\n",
       "      <th></th>\n",
       "      <th></th>\n",
       "      <th></th>\n",
       "      <th></th>\n",
       "      <th></th>\n",
       "      <th></th>\n",
       "      <th></th>\n",
       "      <th></th>\n",
       "      <th></th>\n",
       "    </tr>\n",
       "  </thead>\n",
       "  <tbody>\n",
       "    <tr>\n",
       "      <th>20685</th>\n",
       "      <td>12099440</td>\n",
       "      <td>2019-01-20 00:13:00</td>\n",
       "      <td>2019-01-20 00:23:00</td>\n",
       "      <td>600.0</td>\n",
       "      <td>8.812554</td>\n",
       "      <td>53.076481</td>\n",
       "      <td>8.804828</td>\n",
       "      <td>53.084196</td>\n",
       "      <td>0.0</td>\n",
       "      <td>0.0</td>\n",
       "      <td>...</td>\n",
       "      <td>92.6</td>\n",
       "      <td>-4.8</td>\n",
       "      <td>-3.4</td>\n",
       "      <td>2.6</td>\n",
       "      <td>80.0</td>\n",
       "      <td>3.1</td>\n",
       "      <td>2.1</td>\n",
       "      <td>2.6</td>\n",
       "      <td>80.0</td>\n",
       "      <td>0.0</td>\n",
       "    </tr>\n",
       "    <tr>\n",
       "      <th>20626</th>\n",
       "      <td>10278649</td>\n",
       "      <td>2019-01-20 00:16:00</td>\n",
       "      <td>2019-01-20 04:47:00</td>\n",
       "      <td>16260.0</td>\n",
       "      <td>8.884911</td>\n",
       "      <td>53.078923</td>\n",
       "      <td>8.884911</td>\n",
       "      <td>53.078923</td>\n",
       "      <td>2985.0</td>\n",
       "      <td>2985.0</td>\n",
       "      <td>...</td>\n",
       "      <td>92.6</td>\n",
       "      <td>-4.8</td>\n",
       "      <td>-3.4</td>\n",
       "      <td>2.6</td>\n",
       "      <td>80.0</td>\n",
       "      <td>3.1</td>\n",
       "      <td>2.1</td>\n",
       "      <td>2.6</td>\n",
       "      <td>80.0</td>\n",
       "      <td>0.0</td>\n",
       "    </tr>\n",
       "  </tbody>\n",
       "</table>\n",
       "<p>2 rows × 23 columns</p>\n",
       "</div>"
      ],
      "text/plain": [
       "       identification          start_time             end_time  duration_sec  \\\n",
       "bike                                                                           \n",
       "20685        12099440 2019-01-20 00:13:00  2019-01-20 00:23:00         600.0   \n",
       "20626        10278649 2019-01-20 00:16:00  2019-01-20 04:47:00       16260.0   \n",
       "\n",
       "       start_lng  start_lat   end_lng    end_lat  start_place  end_place  ...  \\\n",
       "bike                                                                      ...   \n",
       "20685   8.812554  53.076481  8.804828  53.084196          0.0        0.0  ...   \n",
       "20626   8.884911  53.078923  8.884911  53.078923       2985.0     2985.0  ...   \n",
       "\n",
       "       humidity_2m  dew_point_2m  max_at_2m  mean_speed_h/s  \\\n",
       "bike                                                          \n",
       "20685         92.6          -4.8       -3.4             2.6   \n",
       "20626         92.6          -4.8       -3.4             2.6   \n",
       "\n",
       "       direction_degree_x  max_m/s  min_mean_m/s  max_mean_m/s  \\\n",
       "bike                                                             \n",
       "20685                80.0      3.1           2.1           2.6   \n",
       "20626                80.0      3.1           2.1           2.6   \n",
       "\n",
       "       direction_degree_y  min  \n",
       "bike                            \n",
       "20685                80.0  0.0  \n",
       "20626                80.0  0.0  \n",
       "\n",
       "[2 rows x 23 columns]"
      ]
     },
     "execution_count": 6,
     "metadata": {},
     "output_type": "execute_result"
    }
   ],
   "source": [
    "bremen_trips.head(2)"
   ]
  },
  {
   "cell_type": "code",
   "execution_count": 8,
   "metadata": {},
   "outputs": [
    {
     "name": "stdout",
     "output_type": "stream",
     "text": [
      "Moved km in direction to uni:  1.2799729582841826\n",
      "Moved km in direction to main station:  -1.7491537704235693\n"
     ]
    },
    {
     "data": {
      "text/html": [
       "<div style=\"width:100%;\"><div style=\"position:relative;width:100%;height:0;padding-bottom:60%;\"><iframe src=\"about:blank\" style=\"position:absolute;width:100%;height:100%;left:0;top:0;border:none !important;\" data-html=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 onload=\"this.contentDocument.open();this.contentDocument.write(atob(this.getAttribute('data-html')));this.contentDocument.close();\" allowfullscreen webkitallowfullscreen mozallowfullscreen></iframe></div></div>"
      ],
      "text/plain": [
       "<folium.folium.Map at 0x1a229b96d0>"
      ]
     },
     "execution_count": 8,
     "metadata": {},
     "output_type": "execute_result"
    }
   ],
   "source": [
    "m = folium.Map(location=[53.1069302,8.8499603], zoom_start=13)\n",
    "\n",
    "folium.Marker([53.1069302,8.8499603], popup='<i>Uni</i>',icon=folium.Icon(color='red')).add_to(m)\n",
    "folium.Marker([53.083122,8.813717], popup='<i>Main Station</i>',icon=folium.Icon(color='red')).add_to(m)\n",
    "\n",
    "row = 35\n",
    "folium.Marker([bremen_trips.iloc[row,5],bremen_trips.iloc[row,4]], popup='<i>Start</i>').add_to(m)\n",
    "folium.Marker([bremen_trips.iloc[row,7],bremen_trips.iloc[row,6]], popup='<i>End</i>',icon=folium.Icon(color='green')).add_to(m)\n",
    "\n",
    "print('Moved km in direction to uni: ', distanceToUni(bremen_trips.iloc[row,4],bremen_trips.iloc[row,5],bremen_trips.iloc[row,6],bremen_trips.iloc[row,7]))\n",
    "print('Moved km in direction to main station: ', distanceToMainStation(bremen_trips.iloc[row,4],bremen_trips.iloc[row,5],bremen_trips.iloc[row,6],bremen_trips.iloc[row,7]))\n",
    "\n",
    "m"
   ]
  },
  {
   "cell_type": "markdown",
   "metadata": {},
   "source": [
    "## Add target variables and features to trips data"
   ]
  },
  {
   "cell_type": "code",
   "execution_count": 9,
   "metadata": {},
   "outputs": [
    {
     "name": "stderr",
     "output_type": "stream",
     "text": [
      "135443it [00:27, 4971.69it/s]\n"
     ]
    }
   ],
   "source": [
    "# Target variables\n",
    "to_uni = []\n",
    "to_main_station = []\n",
    "to_uni_bool = []\n",
    "to_main_station_bool = []\n",
    "\n",
    "# Features\n",
    "month = []\n",
    "week_day = []\n",
    "is_weekend = []\n",
    "hour = []\n",
    "\n",
    "for index, row in tqdm(bremen_trips.iterrows()):\n",
    "    \n",
    "    dist_to_uni = distanceToUni(row['start_lng'],row['start_lat'],row['end_lng'],row['end_lat'])\n",
    "    dist_to_main_station = distanceToMainStation(row['start_lng'],row['start_lat'],row['end_lng'],row['end_lat'])\n",
    "    \n",
    "    day = row['start_time'].weekday()\n",
    "    \n",
    "    # Save datetime information\n",
    "    month.append(row['start_time'].month)\n",
    "    week_day.append(day)\n",
    "    hour.append(row['start_time'].hour)\n",
    "    \n",
    "    if (day == 5) | (day == 6):\n",
    "        is_weekend.append(1)\n",
    "    else:\n",
    "        is_weekend.append(0)\n",
    "    \n",
    "    # Save distances to corresponding list\n",
    "    to_uni.append(dist_to_uni)\n",
    "    to_main_station.append(dist_to_main_station)\n",
    "    \n",
    "    if dist_to_uni < 0:\n",
    "        to_uni_bool.append(0)\n",
    "    else:\n",
    "        to_uni_bool.append(1)\n",
    "        \n",
    "    if dist_to_main_station < 0:\n",
    "        to_main_station_bool.append(0)\n",
    "    else:\n",
    "        to_main_station_bool.append(1)\n",
    "        \n",
    "\n",
    "bremen_trips['to_uni'] = to_uni\n",
    "bremen_trips['to_main_station'] = to_main_station\n",
    "bremen_trips['to_uni_bool'] = to_uni_bool\n",
    "bremen_trips['to_main_station_bool'] = to_main_station_bool\n",
    "bremen_trips['month'] = month\n",
    "bremen_trips['week_day'] = week_day\n",
    "bremen_trips['is_weekend'] = is_weekend\n",
    "bremen_trips['hour'] = hour"
   ]
  },
  {
   "cell_type": "code",
   "execution_count": 10,
   "metadata": {},
   "outputs": [
    {
     "data": {
      "text/html": [
       "<div>\n",
       "<style scoped>\n",
       "    .dataframe tbody tr th:only-of-type {\n",
       "        vertical-align: middle;\n",
       "    }\n",
       "\n",
       "    .dataframe tbody tr th {\n",
       "        vertical-align: top;\n",
       "    }\n",
       "\n",
       "    .dataframe thead th {\n",
       "        text-align: right;\n",
       "    }\n",
       "</style>\n",
       "<table border=\"1\" class=\"dataframe\">\n",
       "  <thead>\n",
       "    <tr style=\"text-align: right;\">\n",
       "      <th></th>\n",
       "      <th>identification</th>\n",
       "      <th>start_time</th>\n",
       "      <th>end_time</th>\n",
       "      <th>duration_sec</th>\n",
       "      <th>start_lng</th>\n",
       "      <th>start_lat</th>\n",
       "      <th>end_lng</th>\n",
       "      <th>end_lat</th>\n",
       "      <th>start_place</th>\n",
       "      <th>end_place</th>\n",
       "      <th>...</th>\n",
       "      <th>direction_degree_y</th>\n",
       "      <th>min</th>\n",
       "      <th>to_uni</th>\n",
       "      <th>to_main_station</th>\n",
       "      <th>to_uni_bool</th>\n",
       "      <th>to_main_station_bool</th>\n",
       "      <th>month</th>\n",
       "      <th>week_day</th>\n",
       "      <th>is_weekend</th>\n",
       "      <th>hour</th>\n",
       "    </tr>\n",
       "    <tr>\n",
       "      <th>bike</th>\n",
       "      <th></th>\n",
       "      <th></th>\n",
       "      <th></th>\n",
       "      <th></th>\n",
       "      <th></th>\n",
       "      <th></th>\n",
       "      <th></th>\n",
       "      <th></th>\n",
       "      <th></th>\n",
       "      <th></th>\n",
       "      <th></th>\n",
       "      <th></th>\n",
       "      <th></th>\n",
       "      <th></th>\n",
       "      <th></th>\n",
       "      <th></th>\n",
       "      <th></th>\n",
       "      <th></th>\n",
       "      <th></th>\n",
       "      <th></th>\n",
       "      <th></th>\n",
       "    </tr>\n",
       "  </thead>\n",
       "  <tbody>\n",
       "    <tr>\n",
       "      <th>20714</th>\n",
       "      <td>22995177</td>\n",
       "      <td>2019-10-05 09:49:00</td>\n",
       "      <td>2019-10-05 09:53:00</td>\n",
       "      <td>240.0</td>\n",
       "      <td>8.808736</td>\n",
       "      <td>53.062769</td>\n",
       "      <td>8.813996</td>\n",
       "      <td>53.057444</td>\n",
       "      <td>0.0</td>\n",
       "      <td>0.0</td>\n",
       "      <td>...</td>\n",
       "      <td>50.0</td>\n",
       "      <td>0.0</td>\n",
       "      <td>-0.374455</td>\n",
       "      <td>-0.567959</td>\n",
       "      <td>0</td>\n",
       "      <td>0</td>\n",
       "      <td>10</td>\n",
       "      <td>5</td>\n",
       "      <td>1</td>\n",
       "      <td>9</td>\n",
       "    </tr>\n",
       "    <tr>\n",
       "      <th>20697</th>\n",
       "      <td>26515455</td>\n",
       "      <td>2019-12-31 18:57:00</td>\n",
       "      <td>2019-12-31 19:19:00</td>\n",
       "      <td>1320.0</td>\n",
       "      <td>8.805219</td>\n",
       "      <td>53.097769</td>\n",
       "      <td>8.809083</td>\n",
       "      <td>53.063738</td>\n",
       "      <td>0.0</td>\n",
       "      <td>0.0</td>\n",
       "      <td>...</td>\n",
       "      <td>270.0</td>\n",
       "      <td>0.0</td>\n",
       "      <td>-2.369390</td>\n",
       "      <td>-0.453005</td>\n",
       "      <td>0</td>\n",
       "      <td>0</td>\n",
       "      <td>12</td>\n",
       "      <td>1</td>\n",
       "      <td>0</td>\n",
       "      <td>18</td>\n",
       "    </tr>\n",
       "    <tr>\n",
       "      <th>20807</th>\n",
       "      <td>12828755</td>\n",
       "      <td>2019-02-18 17:11:00</td>\n",
       "      <td>2019-02-18 17:19:00</td>\n",
       "      <td>480.0</td>\n",
       "      <td>8.799730</td>\n",
       "      <td>53.079956</td>\n",
       "      <td>8.806811</td>\n",
       "      <td>53.072031</td>\n",
       "      <td>0.0</td>\n",
       "      <td>0.0</td>\n",
       "      <td>...</td>\n",
       "      <td>140.0</td>\n",
       "      <td>0.0</td>\n",
       "      <td>-0.333924</td>\n",
       "      <td>-0.318415</td>\n",
       "      <td>0</td>\n",
       "      <td>0</td>\n",
       "      <td>2</td>\n",
       "      <td>0</td>\n",
       "      <td>0</td>\n",
       "      <td>17</td>\n",
       "    </tr>\n",
       "  </tbody>\n",
       "</table>\n",
       "<p>3 rows × 31 columns</p>\n",
       "</div>"
      ],
      "text/plain": [
       "       identification          start_time             end_time  duration_sec  \\\n",
       "bike                                                                           \n",
       "20714        22995177 2019-10-05 09:49:00  2019-10-05 09:53:00         240.0   \n",
       "20697        26515455 2019-12-31 18:57:00  2019-12-31 19:19:00        1320.0   \n",
       "20807        12828755 2019-02-18 17:11:00  2019-02-18 17:19:00         480.0   \n",
       "\n",
       "       start_lng  start_lat   end_lng    end_lat  start_place  end_place  ...  \\\n",
       "bike                                                                      ...   \n",
       "20714   8.808736  53.062769  8.813996  53.057444          0.0        0.0  ...   \n",
       "20697   8.805219  53.097769  8.809083  53.063738          0.0        0.0  ...   \n",
       "20807   8.799730  53.079956  8.806811  53.072031          0.0        0.0  ...   \n",
       "\n",
       "       direction_degree_y  min    to_uni  to_main_station  to_uni_bool  \\\n",
       "bike                                                                     \n",
       "20714                50.0  0.0 -0.374455        -0.567959            0   \n",
       "20697               270.0  0.0 -2.369390        -0.453005            0   \n",
       "20807               140.0  0.0 -0.333924        -0.318415            0   \n",
       "\n",
       "       to_main_station_bool  month  week_day  is_weekend  hour  \n",
       "bike                                                            \n",
       "20714                     0     10         5           1     9  \n",
       "20697                     0     12         1           0    18  \n",
       "20807                     0      2         0           0    17  \n",
       "\n",
       "[3 rows x 31 columns]"
      ]
     },
     "execution_count": 10,
     "metadata": {},
     "output_type": "execute_result"
    }
   ],
   "source": [
    "bremen_trips.sample(3)"
   ]
  },
  {
   "cell_type": "markdown",
   "metadata": {},
   "source": [
    "### Drop all information that are not available before a trips ends"
   ]
  },
  {
   "cell_type": "code",
   "execution_count": 14,
   "metadata": {},
   "outputs": [
    {
     "ename": "KeyError",
     "evalue": "\"['end_plz' 'end_place' 'end_lat' 'identification' 'end_time' 'end_lng'] not found in axis\"",
     "output_type": "error",
     "traceback": [
      "\u001b[0;31m---------------------------------------------------------------------------\u001b[0m",
      "\u001b[0;31mKeyError\u001b[0m                                  Traceback (most recent call last)",
      "\u001b[0;32m<ipython-input-14-cb678b121c4f>\u001b[0m in \u001b[0;36m<module>\u001b[0;34m\u001b[0m\n\u001b[0;32m----> 1\u001b[0;31m \u001b[0mbremen_trips\u001b[0m\u001b[0;34m.\u001b[0m\u001b[0mdrop\u001b[0m\u001b[0;34m(\u001b[0m\u001b[0mcolumns\u001b[0m\u001b[0;34m=\u001b[0m\u001b[0;34m{\u001b[0m\u001b[0;34m'identification'\u001b[0m\u001b[0;34m,\u001b[0m\u001b[0;34m'end_time'\u001b[0m\u001b[0;34m,\u001b[0m\u001b[0;34m'end_lng'\u001b[0m\u001b[0;34m,\u001b[0m\u001b[0;34m'end_lat'\u001b[0m\u001b[0;34m,\u001b[0m\u001b[0;34m'end_place'\u001b[0m\u001b[0;34m,\u001b[0m\u001b[0;34m'end_plz'\u001b[0m\u001b[0;34m,\u001b[0m\u001b[0;34m'duration_sec'\u001b[0m\u001b[0;34m}\u001b[0m\u001b[0;34m,\u001b[0m \u001b[0minplace\u001b[0m\u001b[0;34m=\u001b[0m\u001b[0;32mTrue\u001b[0m\u001b[0;34m)\u001b[0m\u001b[0;34m\u001b[0m\u001b[0;34m\u001b[0m\u001b[0m\n\u001b[0m",
      "\u001b[0;32m~/anaconda3/envs/PDS20/lib/python3.7/site-packages/pandas/core/frame.py\u001b[0m in \u001b[0;36mdrop\u001b[0;34m(self, labels, axis, index, columns, level, inplace, errors)\u001b[0m\n\u001b[1;32m   3995\u001b[0m             \u001b[0mlevel\u001b[0m\u001b[0;34m=\u001b[0m\u001b[0mlevel\u001b[0m\u001b[0;34m,\u001b[0m\u001b[0;34m\u001b[0m\u001b[0;34m\u001b[0m\u001b[0m\n\u001b[1;32m   3996\u001b[0m             \u001b[0minplace\u001b[0m\u001b[0;34m=\u001b[0m\u001b[0minplace\u001b[0m\u001b[0;34m,\u001b[0m\u001b[0;34m\u001b[0m\u001b[0;34m\u001b[0m\u001b[0m\n\u001b[0;32m-> 3997\u001b[0;31m             \u001b[0merrors\u001b[0m\u001b[0;34m=\u001b[0m\u001b[0merrors\u001b[0m\u001b[0;34m,\u001b[0m\u001b[0;34m\u001b[0m\u001b[0;34m\u001b[0m\u001b[0m\n\u001b[0m\u001b[1;32m   3998\u001b[0m         )\n\u001b[1;32m   3999\u001b[0m \u001b[0;34m\u001b[0m\u001b[0m\n",
      "\u001b[0;32m~/anaconda3/envs/PDS20/lib/python3.7/site-packages/pandas/core/generic.py\u001b[0m in \u001b[0;36mdrop\u001b[0;34m(self, labels, axis, index, columns, level, inplace, errors)\u001b[0m\n\u001b[1;32m   3934\u001b[0m         \u001b[0;32mfor\u001b[0m \u001b[0maxis\u001b[0m\u001b[0;34m,\u001b[0m \u001b[0mlabels\u001b[0m \u001b[0;32min\u001b[0m \u001b[0maxes\u001b[0m\u001b[0;34m.\u001b[0m\u001b[0mitems\u001b[0m\u001b[0;34m(\u001b[0m\u001b[0;34m)\u001b[0m\u001b[0;34m:\u001b[0m\u001b[0;34m\u001b[0m\u001b[0;34m\u001b[0m\u001b[0m\n\u001b[1;32m   3935\u001b[0m             \u001b[0;32mif\u001b[0m \u001b[0mlabels\u001b[0m \u001b[0;32mis\u001b[0m \u001b[0;32mnot\u001b[0m \u001b[0;32mNone\u001b[0m\u001b[0;34m:\u001b[0m\u001b[0;34m\u001b[0m\u001b[0;34m\u001b[0m\u001b[0m\n\u001b[0;32m-> 3936\u001b[0;31m                 \u001b[0mobj\u001b[0m \u001b[0;34m=\u001b[0m \u001b[0mobj\u001b[0m\u001b[0;34m.\u001b[0m\u001b[0m_drop_axis\u001b[0m\u001b[0;34m(\u001b[0m\u001b[0mlabels\u001b[0m\u001b[0;34m,\u001b[0m \u001b[0maxis\u001b[0m\u001b[0;34m,\u001b[0m \u001b[0mlevel\u001b[0m\u001b[0;34m=\u001b[0m\u001b[0mlevel\u001b[0m\u001b[0;34m,\u001b[0m \u001b[0merrors\u001b[0m\u001b[0;34m=\u001b[0m\u001b[0merrors\u001b[0m\u001b[0;34m)\u001b[0m\u001b[0;34m\u001b[0m\u001b[0;34m\u001b[0m\u001b[0m\n\u001b[0m\u001b[1;32m   3937\u001b[0m \u001b[0;34m\u001b[0m\u001b[0m\n\u001b[1;32m   3938\u001b[0m         \u001b[0;32mif\u001b[0m \u001b[0minplace\u001b[0m\u001b[0;34m:\u001b[0m\u001b[0;34m\u001b[0m\u001b[0;34m\u001b[0m\u001b[0m\n",
      "\u001b[0;32m~/anaconda3/envs/PDS20/lib/python3.7/site-packages/pandas/core/generic.py\u001b[0m in \u001b[0;36m_drop_axis\u001b[0;34m(self, labels, axis, level, errors)\u001b[0m\n\u001b[1;32m   3968\u001b[0m                 \u001b[0mnew_axis\u001b[0m \u001b[0;34m=\u001b[0m \u001b[0maxis\u001b[0m\u001b[0;34m.\u001b[0m\u001b[0mdrop\u001b[0m\u001b[0;34m(\u001b[0m\u001b[0mlabels\u001b[0m\u001b[0;34m,\u001b[0m \u001b[0mlevel\u001b[0m\u001b[0;34m=\u001b[0m\u001b[0mlevel\u001b[0m\u001b[0;34m,\u001b[0m \u001b[0merrors\u001b[0m\u001b[0;34m=\u001b[0m\u001b[0merrors\u001b[0m\u001b[0;34m)\u001b[0m\u001b[0;34m\u001b[0m\u001b[0;34m\u001b[0m\u001b[0m\n\u001b[1;32m   3969\u001b[0m             \u001b[0;32melse\u001b[0m\u001b[0;34m:\u001b[0m\u001b[0;34m\u001b[0m\u001b[0;34m\u001b[0m\u001b[0m\n\u001b[0;32m-> 3970\u001b[0;31m                 \u001b[0mnew_axis\u001b[0m \u001b[0;34m=\u001b[0m \u001b[0maxis\u001b[0m\u001b[0;34m.\u001b[0m\u001b[0mdrop\u001b[0m\u001b[0;34m(\u001b[0m\u001b[0mlabels\u001b[0m\u001b[0;34m,\u001b[0m \u001b[0merrors\u001b[0m\u001b[0;34m=\u001b[0m\u001b[0merrors\u001b[0m\u001b[0;34m)\u001b[0m\u001b[0;34m\u001b[0m\u001b[0;34m\u001b[0m\u001b[0m\n\u001b[0m\u001b[1;32m   3971\u001b[0m             \u001b[0mresult\u001b[0m \u001b[0;34m=\u001b[0m \u001b[0mself\u001b[0m\u001b[0;34m.\u001b[0m\u001b[0mreindex\u001b[0m\u001b[0;34m(\u001b[0m\u001b[0;34m**\u001b[0m\u001b[0;34m{\u001b[0m\u001b[0maxis_name\u001b[0m\u001b[0;34m:\u001b[0m \u001b[0mnew_axis\u001b[0m\u001b[0;34m}\u001b[0m\u001b[0;34m)\u001b[0m\u001b[0;34m\u001b[0m\u001b[0;34m\u001b[0m\u001b[0m\n\u001b[1;32m   3972\u001b[0m \u001b[0;34m\u001b[0m\u001b[0m\n",
      "\u001b[0;32m~/anaconda3/envs/PDS20/lib/python3.7/site-packages/pandas/core/indexes/base.py\u001b[0m in \u001b[0;36mdrop\u001b[0;34m(self, labels, errors)\u001b[0m\n\u001b[1;32m   5015\u001b[0m         \u001b[0;32mif\u001b[0m \u001b[0mmask\u001b[0m\u001b[0;34m.\u001b[0m\u001b[0many\u001b[0m\u001b[0;34m(\u001b[0m\u001b[0;34m)\u001b[0m\u001b[0;34m:\u001b[0m\u001b[0;34m\u001b[0m\u001b[0;34m\u001b[0m\u001b[0m\n\u001b[1;32m   5016\u001b[0m             \u001b[0;32mif\u001b[0m \u001b[0merrors\u001b[0m \u001b[0;34m!=\u001b[0m \u001b[0;34m\"ignore\"\u001b[0m\u001b[0;34m:\u001b[0m\u001b[0;34m\u001b[0m\u001b[0;34m\u001b[0m\u001b[0m\n\u001b[0;32m-> 5017\u001b[0;31m                 \u001b[0;32mraise\u001b[0m \u001b[0mKeyError\u001b[0m\u001b[0;34m(\u001b[0m\u001b[0;34mf\"{labels[mask]} not found in axis\"\u001b[0m\u001b[0;34m)\u001b[0m\u001b[0;34m\u001b[0m\u001b[0;34m\u001b[0m\u001b[0m\n\u001b[0m\u001b[1;32m   5018\u001b[0m             \u001b[0mindexer\u001b[0m \u001b[0;34m=\u001b[0m \u001b[0mindexer\u001b[0m\u001b[0;34m[\u001b[0m\u001b[0;34m~\u001b[0m\u001b[0mmask\u001b[0m\u001b[0;34m]\u001b[0m\u001b[0;34m\u001b[0m\u001b[0;34m\u001b[0m\u001b[0m\n\u001b[1;32m   5019\u001b[0m         \u001b[0;32mreturn\u001b[0m \u001b[0mself\u001b[0m\u001b[0;34m.\u001b[0m\u001b[0mdelete\u001b[0m\u001b[0;34m(\u001b[0m\u001b[0mindexer\u001b[0m\u001b[0;34m)\u001b[0m\u001b[0;34m\u001b[0m\u001b[0;34m\u001b[0m\u001b[0m\n",
      "\u001b[0;31mKeyError\u001b[0m: \"['end_plz' 'end_place' 'end_lat' 'identification' 'end_time' 'end_lng'] not found in axis\""
     ]
    }
   ],
   "source": [
    "bremen_trips.drop(columns={'identification','end_time','end_lng','end_lat','end_place','end_plz','duration_sec'}, inplace=True)"
   ]
  },
  {
   "cell_type": "markdown",
   "metadata": {},
   "source": [
    "## Precheck on correlations to_uni_bool"
   ]
  },
  {
   "cell_type": "code",
   "execution_count": 17,
   "metadata": {
    "scrolled": false
   },
   "outputs": [
    {
     "data": {
      "text/plain": [
       "start_lng            -0.133995\n",
       "start_lat            -0.194858\n",
       "start_place           0.046675\n",
       "start_plz            -0.043057\n",
       "temp_2m              -0.000556\n",
       "humidity_2m          -0.011194\n",
       "dew_point_2m         -0.009436\n",
       "max_at_2m            -0.000321\n",
       "mean_speed_h/s        0.007506\n",
       "direction_degree_x    0.000670\n",
       "max_m/s               0.007735\n",
       "min_mean_m/s          0.004595\n",
       "max_mean_m/s          0.007756\n",
       "direction_degree_y    0.000359\n",
       "min                   0.008262\n",
       "month                -0.018003\n",
       "week_day             -0.003862\n",
       "is_weekend           -0.004743\n",
       "hour                  0.007713\n",
       "dtype: float64"
      ]
     },
     "execution_count": 17,
     "metadata": {},
     "output_type": "execute_result"
    }
   ],
   "source": [
    "bremen_trips.drop(columns={'to_uni','to_uni_bool','to_main_station_bool','to_main_station'}).corrwith(bremen_trips['to_uni_bool'])"
   ]
  },
  {
   "cell_type": "markdown",
   "metadata": {},
   "source": [
    "- only start_lng and start_lat show significant correlations, anyway we check try to take more features into account"
   ]
  },
  {
   "cell_type": "markdown",
   "metadata": {},
   "source": [
    "### Pearson correlation only for attributes with correlation higher than 0.005"
   ]
  },
  {
   "cell_type": "code",
   "execution_count": 24,
   "metadata": {},
   "outputs": [
    {
     "data": {
      "image/png": "[encoded data removed]",
      "text/plain": [
       "<Figure size 720x576 with 2 Axes>"
      ]
     },
     "metadata": {
      "needs_background": "light"
     },
     "output_type": "display_data"
    }
   ],
   "source": [
    "#Using Pearson Correlation\n",
    "\n",
    "plt.figure(figsize=(10,8))\n",
    "cor = bremen_trips[['to_uni_bool','start_lng','start_place','start_plz','humidity_2m','dew_point_2m','max_mean_m/s','min','month','hour']].corr()\n",
    "sns.heatmap(cor, annot=True, cmap=plt.cm.coolwarm, center=0)\n",
    "plt.show()"
   ]
  },
  {
   "cell_type": "markdown",
   "metadata": {},
   "source": [
    "# Predicting to_uni_bool - Classification"
   ]
  },
  {
   "cell_type": "markdown",
   "metadata": {},
   "source": [
    "### Random Forest"
   ]
  },
  {
   "cell_type": "code",
   "execution_count": 25,
   "metadata": {},
   "outputs": [],
   "source": [
    "from sklearn.model_selection import train_test_split\n",
    "from sklearn.ensemble import RandomForestClassifier\n",
    "from sklearn.model_selection import GridSearchCV\n",
    "from sklearn.model_selection import cross_val_score\n",
    "from sklearn.metrics import confusion_matrix, classification_report"
   ]
  },
  {
   "cell_type": "markdown",
   "metadata": {},
   "source": [
    "## Feature selection\n",
    "### Train on all features with correlation > 0.005"
   ]
  },
  {
   "cell_type": "code",
   "execution_count": 67,
   "metadata": {},
   "outputs": [],
   "source": [
    "# Initialize independent and target variable\n",
    "X = bremen_trips[['start_lng','start_lat','start_place','start_plz','humidity_2m','dew_point_2m','max_mean_m/s','min','month','hour']]\n",
    "y = bremen_trips['to_uni_bool']\n",
    "\n",
    "# Splitting data into train and validation set\n",
    "X_train, X_val_test, y_train, y_val_test = train_test_split(X, y, test_size=0.60, shuffle=True, random_state=42)\n",
    "X_val, X_test, y_val, y_test = train_test_split(X_val_test, y_val_test, test_size=0.60, shuffle=True, random_state=42)"
   ]
  },
  {
   "cell_type": "code",
   "execution_count": 68,
   "metadata": {},
   "outputs": [
    {
     "data": {
      "text/plain": [
       "RandomForestClassifier(bootstrap=True, ccp_alpha=0.0,\n",
       "                       class_weight='balanced_subsample', criterion='entropy',\n",
       "                       max_depth=None, max_features='auto', max_leaf_nodes=None,\n",
       "                       max_samples=None, min_impurity_decrease=0.0,\n",
       "                       min_impurity_split=None, min_samples_leaf=1,\n",
       "                       min_samples_split=2, min_weight_fraction_leaf=0.0,\n",
       "                       n_estimators=100, n_jobs=None, oob_score=False,\n",
       "                       random_state=42, verbose=0, warm_start=False)"
      ]
     },
     "execution_count": 68,
     "metadata": {},
     "output_type": "execute_result"
    }
   ],
   "source": [
    "rf = RandomForestClassifier(criterion='entropy', class_weight='balanced_subsample', random_state=42)\n",
    "rf.fit(X_train, y_train)"
   ]
  },
  {
   "cell_type": "markdown",
   "metadata": {},
   "source": [
    "### Check on feature importance"
   ]
  },
  {
   "cell_type": "code",
   "execution_count": 69,
   "metadata": {},
   "outputs": [
    {
     "name": "stdout",
     "output_type": "stream",
     "text": [
      "[(0.1836, 'start_lng'), (0.172, 'start_lat'), (0.1489, 'humidity_2m'), (0.1404, 'dew_point_2m'), (0.1338, 'max_mean_m/s'), (0.0964, 'hour'), (0.0611, 'month'), (0.0298, 'start_plz'), (0.0173, 'min'), (0.0166, 'start_place')]\n"
     ]
    }
   ],
   "source": [
    "names = ['start_lng','start_lat','start_place','start_plz','humidity_2m','dew_point_2m','max_mean_m/s','min','month','hour']\n",
    "print(sorted(zip(map(lambda x: round(x, 4), rf.feature_importances_), names), reverse=True))"
   ]
  },
  {
   "cell_type": "markdown",
   "metadata": {},
   "source": [
    "### Only train on features with importance > 0.1"
   ]
  },
  {
   "cell_type": "code",
   "execution_count": 85,
   "metadata": {},
   "outputs": [],
   "source": [
    "# Initialize independent and target variable\n",
    "X = bremen_trips[['start_lng','start_lat','humidity_2m','dew_point_2m','max_mean_m/s','hour']]\n",
    "y = bremen_trips['to_uni_bool']\n",
    "\n",
    "# Splitting data into train and validation set\n",
    "X_train, X_val_test, y_train, y_val_test = train_test_split(X, y, test_size=0.60, shuffle=True, random_state=42)\n",
    "X_val, X_test, y_val, y_test = train_test_split(X_val_test, y_val_test, test_size=0.60, shuffle=True, random_state=42)"
   ]
  },
  {
   "cell_type": "code",
   "execution_count": 71,
   "metadata": {},
   "outputs": [
    {
     "data": {
      "text/plain": [
       "RandomForestClassifier(bootstrap=True, ccp_alpha=0.0,\n",
       "                       class_weight='balanced_subsample', criterion='entropy',\n",
       "                       max_depth=None, max_features='auto', max_leaf_nodes=None,\n",
       "                       max_samples=None, min_impurity_decrease=0.0,\n",
       "                       min_impurity_split=None, min_samples_leaf=1,\n",
       "                       min_samples_split=2, min_weight_fraction_leaf=0.0,\n",
       "                       n_estimators=100, n_jobs=None, oob_score=False,\n",
       "                       random_state=42, verbose=0, warm_start=False)"
      ]
     },
     "execution_count": 71,
     "metadata": {},
     "output_type": "execute_result"
    }
   ],
   "source": [
    "rf = RandomForestClassifier(criterion='entropy', class_weight='balanced_subsample', random_state=42)\n",
    "rf.fit(X_train, y_train)"
   ]
  },
  {
   "cell_type": "markdown",
   "metadata": {},
   "source": [
    "### Evaluation"
   ]
  },
  {
   "cell_type": "code",
   "execution_count": 72,
   "metadata": {},
   "outputs": [
    {
     "name": "stdout",
     "output_type": "stream",
     "text": [
      "Training accuracy: 0.9978773280174243\n"
     ]
    }
   ],
   "source": [
    "print('Training accuracy: ' + str(rf.score(X_train, y_train)))"
   ]
  },
  {
   "cell_type": "markdown",
   "metadata": {},
   "source": [
    "- looks like overfitting --> perform grid search to optimize hyperparameters"
   ]
  },
  {
   "cell_type": "markdown",
   "metadata": {},
   "source": [
    "### Performing grid search to optimize hyperparameters"
   ]
  },
  {
   "cell_type": "code",
   "execution_count": 73,
   "metadata": {},
   "outputs": [],
   "source": [
    "from sklearn.metrics import mean_squared_error, mean_absolute_error"
   ]
  },
  {
   "cell_type": "code",
   "execution_count": 74,
   "metadata": {},
   "outputs": [],
   "source": [
    "parameters = {'max_depth':[2, 3, 4, 5, 7],\n",
    "              'n_estimators':[1, 10, 25, 50, 100, 256, 512],\n",
    "              'random_state':[42]}\n",
    "    \n",
    "def perform_grid_search(X_data, y_data):\n",
    "    rf = RandomForestClassifier(criterion='entropy', class_weight='balanced_subsample')\n",
    "    \n",
    "    clf = GridSearchCV(rf, parameters, cv=4, scoring='accuracy', n_jobs=3)\n",
    "    \n",
    "    clf.fit(X_data, y_data)\n",
    "    \n",
    "    print(clf.cv_results_['mean_test_score'])\n",
    "    \n",
    "    return clf.best_params_['n_estimators'], clf.best_params_['max_depth']"
   ]
  },
  {
   "cell_type": "code",
   "execution_count": 75,
   "metadata": {},
   "outputs": [
    {
     "name": "stdout",
     "output_type": "stream",
     "text": [
      "[0.62496126 0.63228307 0.63603645 0.63172942 0.63262152 0.63382135\n",
      " 0.6339444  0.59533633 0.64348091 0.6422816  0.64280469 0.64178927\n",
      " 0.64200455 0.64092791 0.63077572 0.6478497  0.64824964 0.64508119\n",
      " 0.64892654 0.64892659 0.64738844 0.64055874 0.64486574 0.65489464\n",
      " 0.65375656 0.65431025 0.65514083 0.65464864 0.6418818  0.65357165\n",
      " 0.65827859 0.65892462 0.65892459 0.65920148 0.6588631 ]\n",
      "256 7 42\n"
     ]
    }
   ],
   "source": [
    "# extract parameters\n",
    "n_estimator, depth = perform_grid_search(X_val, y_val)\n",
    "c_random_state = 42\n",
    "print(n_estimator, depth, c_random_state)"
   ]
  },
  {
   "cell_type": "markdown",
   "metadata": {},
   "source": [
    "### Train model with optimized hyperparameters"
   ]
  },
  {
   "cell_type": "code",
   "execution_count": 86,
   "metadata": {},
   "outputs": [
    {
     "data": {
      "text/plain": [
       "RandomForestClassifier(bootstrap=True, ccp_alpha=0.0,\n",
       "                       class_weight='balanced_subsample', criterion='entropy',\n",
       "                       max_depth=7, max_features='auto', max_leaf_nodes=None,\n",
       "                       max_samples=None, min_impurity_decrease=0.0,\n",
       "                       min_impurity_split=None, min_samples_leaf=1,\n",
       "                       min_samples_split=2, min_weight_fraction_leaf=0.0,\n",
       "                       n_estimators=256, n_jobs=None, oob_score=False,\n",
       "                       random_state=None, verbose=0, warm_start=False)"
      ]
     },
     "execution_count": 86,
     "metadata": {},
     "output_type": "execute_result"
    }
   ],
   "source": [
    "rf = RandomForestClassifier(criterion='entropy', class_weight='balanced_subsample', n_estimators=n_estimator, max_depth=depth)\n",
    "rf.fit(X_train, y_train)"
   ]
  },
  {
   "cell_type": "markdown",
   "metadata": {},
   "source": [
    "### Evaluation"
   ]
  },
  {
   "cell_type": "code",
   "execution_count": 77,
   "metadata": {},
   "outputs": [
    {
     "name": "stdout",
     "output_type": "stream",
     "text": [
      "Training accuracy: 0.6706905144249404\n",
      "Valiation accuracy: 0.6618470436227158\n"
     ]
    }
   ],
   "source": [
    "print('Training accuracy: ' + str(rf.score(X_train, y_train)))\n",
    "print('Valiation accuracy: ' + str(rf.score(X_val, y_val)))"
   ]
  },
  {
   "cell_type": "markdown",
   "metadata": {},
   "source": [
    "- looks like the model generalizes well with optimized hyperparameters"
   ]
  },
  {
   "cell_type": "markdown",
   "metadata": {},
   "source": [
    "### Visualize predicted classes 0: trip not in direction to uni, 1: trip in direction to uni"
   ]
  },
  {
   "cell_type": "code",
   "execution_count": 78,
   "metadata": {},
   "outputs": [
    {
     "data": {
      "image/png": "[encoded data removed]",
      "text/plain": [
       "<Figure size 576x576 with 1 Axes>"
      ]
     },
     "metadata": {
      "needs_background": "light"
     },
     "output_type": "display_data"
    }
   ],
   "source": [
    "# Function that plots a confusion matrix given independent and target variable\n",
    "def confusionMatrix(y, X):\n",
    "    cm = confusion_matrix(y_val, rf.predict(X_val))\n",
    "\n",
    "    fig, ax = plt.subplots(figsize=(8, 8))\n",
    "    ax.imshow(cm)\n",
    "    ax.grid(False)\n",
    "    ax.xaxis.set(ticks=(0, 1), ticklabels=('Predicted 0s', 'Predicted 1s'))\n",
    "    ax.yaxis.set(ticks=(0, 1), ticklabels=('Actual 0s', 'Actual 1s'))\n",
    "    ax.set_ylim(1.5, -0.5)\n",
    "    for i in range(2):\n",
    "        for j in range(2):\n",
    "            ax.text(j, i, cm[i, j], ha='center', va='center', color='red')\n",
    "    plt.show()\n",
    "\n",
    "confusionMatrix(y_val, rf.predict(X_val))"
   ]
  },
  {
   "cell_type": "markdown",
   "metadata": {},
   "source": [
    "### Classification report"
   ]
  },
  {
   "cell_type": "code",
   "execution_count": 79,
   "metadata": {
    "scrolled": false
   },
   "outputs": [
    {
     "name": "stdout",
     "output_type": "stream",
     "text": [
      "              precision    recall  f1-score   support\n",
      "\n",
      "           0       0.66      0.63      0.65     15917\n",
      "           1       0.66      0.69      0.68     16589\n",
      "\n",
      "    accuracy                           0.66     32506\n",
      "   macro avg       0.66      0.66      0.66     32506\n",
      "weighted avg       0.66      0.66      0.66     32506\n",
      "\n"
     ]
    }
   ],
   "source": [
    "print(classification_report(y_val, rf.predict(X_val)))"
   ]
  },
  {
   "cell_type": "markdown",
   "metadata": {},
   "source": [
    "## Apply to test set"
   ]
  },
  {
   "cell_type": "markdown",
   "metadata": {},
   "source": [
    "### Add validation set to train set to obtain more training data"
   ]
  },
  {
   "cell_type": "code",
   "execution_count": 80,
   "metadata": {},
   "outputs": [],
   "source": [
    "X_train = X_train.append(X_val)\n",
    "y_train = y_train.append(y_val)"
   ]
  },
  {
   "cell_type": "code",
   "execution_count": 81,
   "metadata": {},
   "outputs": [
    {
     "data": {
      "text/plain": [
       "RandomForestClassifier(bootstrap=True, ccp_alpha=0.0,\n",
       "                       class_weight='balanced_subsample', criterion='entropy',\n",
       "                       max_depth=7, max_features='auto', max_leaf_nodes=None,\n",
       "                       max_samples=None, min_impurity_decrease=0.0,\n",
       "                       min_impurity_split=None, min_samples_leaf=1,\n",
       "                       min_samples_split=2, min_weight_fraction_leaf=0.0,\n",
       "                       n_estimators=256, n_jobs=None, oob_score=False,\n",
       "                       random_state=None, verbose=0, warm_start=False)"
      ]
     },
     "execution_count": 81,
     "metadata": {},
     "output_type": "execute_result"
    }
   ],
   "source": [
    "rf = RandomForestClassifier(criterion='entropy', class_weight='balanced_subsample', n_estimators=n_estimator, max_depth=depth)\n",
    "rf.fit(X_train, y_train)"
   ]
  },
  {
   "cell_type": "markdown",
   "metadata": {},
   "source": [
    "### Training + validation set performance"
   ]
  },
  {
   "cell_type": "code",
   "execution_count": 82,
   "metadata": {},
   "outputs": [
    {
     "name": "stdout",
     "output_type": "stream",
     "text": [
      "Training accuracy: 0.6677318505358606\n"
     ]
    }
   ],
   "source": [
    "print('Training accuracy: ' + str(rf.score(X_train, y_train)))"
   ]
  },
  {
   "cell_type": "markdown",
   "metadata": {},
   "source": [
    "### Test set performance\n",
    "\n",
    "### The moment of truth"
   ]
  },
  {
   "cell_type": "code",
   "execution_count": 83,
   "metadata": {},
   "outputs": [
    {
     "name": "stdout",
     "output_type": "stream",
     "text": [
      "Test accuracy: 0.6596800656275635\n"
     ]
    }
   ],
   "source": [
    "print('Test accuracy: ' + str(rf.score(X_test, y_test)))"
   ]
  },
  {
   "cell_type": "code",
   "execution_count": 84,
   "metadata": {},
   "outputs": [
    {
     "name": "stdout",
     "output_type": "stream",
     "text": [
      "              precision    recall  f1-score   support\n",
      "\n",
      "           0       0.66      0.63      0.64     23714\n",
      "           1       0.66      0.68      0.67     25046\n",
      "\n",
      "    accuracy                           0.66     48760\n",
      "   macro avg       0.66      0.66      0.66     48760\n",
      "weighted avg       0.66      0.66      0.66     48760\n",
      "\n"
     ]
    }
   ],
   "source": [
    "print(classification_report(y_test, rf.predict(X_test)))"
   ]
  },
  {
   "cell_type": "markdown",
   "metadata": {},
   "source": [
    "- model could perform better in terms of the accuracy score, however it seems to generalize very well (train, validation and test accuracy are almost the same)\n",
    "- to improve the overall accuracy we would need more features with a significant correlation"
   ]
  },
  {
   "cell_type": "code",
   "execution_count": null,
   "metadata": {},
   "outputs": [],
   "source": []
  },
  {
   "cell_type": "code",
   "execution_count": null,
   "metadata": {},
   "outputs": [],
   "source": []
  },
  {
   "cell_type": "code",
   "execution_count": null,
   "metadata": {},
   "outputs": [],
   "source": []
  },
  {
   "cell_type": "code",
   "execution_count": null,
   "metadata": {},
   "outputs": [],
   "source": []
  },
  {
   "cell_type": "code",
   "execution_count": null,
   "metadata": {},
   "outputs": [],
   "source": []
  },
  {
   "cell_type": "markdown",
   "metadata": {},
   "source": [
    "# Try Logistic regression"
   ]
  },
  {
   "cell_type": "code",
   "execution_count": null,
   "metadata": {},
   "outputs": [],
   "source": [
    "from sklearn.linear_model import LogisticRegression\n",
    "from sklearn.metrics import classification_report, confusion_matrix"
   ]
  },
  {
   "cell_type": "code",
   "execution_count": null,
   "metadata": {},
   "outputs": [],
   "source": [
    "# Initialize independent and target variable\n",
    "X = bremen_trips[['start_lng','start_lat','start_plz','month']]\n",
    "y = bremen_trips['to_uni_bool']"
   ]
  },
  {
   "cell_type": "code",
   "execution_count": null,
   "metadata": {},
   "outputs": [],
   "source": [
    "# Splitting data into train and validation set\n",
    "X_train, X_val_test, y_train, y_val_test = train_test_split(X, y, test_size=0.60, shuffle=True)\n",
    "X_val, X_test, y_val, y_test = train_test_split(X_val_test, y_val_test, test_size=0.60, shuffle=True)"
   ]
  },
  {
   "cell_type": "code",
   "execution_count": null,
   "metadata": {},
   "outputs": [],
   "source": [
    "model = LogisticRegression(solver='liblinear',multi_class='ovr', random_state=42, class_weight='balanced').fit(X_train, y_train)"
   ]
  },
  {
   "cell_type": "code",
   "execution_count": null,
   "metadata": {},
   "outputs": [],
   "source": [
    "print('Training accuracy: ' + str(model.score(X_train, y_train)))\n",
    "print('Valiation accuracy: ' + str(model.score(X_val, y_val)))"
   ]
  },
  {
   "cell_type": "code",
   "execution_count": null,
   "metadata": {},
   "outputs": [],
   "source": [
    "model.predict_proba(X_val)"
   ]
  },
  {
   "cell_type": "code",
   "execution_count": null,
   "metadata": {},
   "outputs": [],
   "source": [
    "confusionMatrix(y_val, model.predict(X_val))"
   ]
  },
  {
   "cell_type": "code",
   "execution_count": null,
   "metadata": {
    "scrolled": true
   },
   "outputs": [],
   "source": [
    "print(classification_report(y_val, model.predict(X_val)))"
   ]
  },
  {
   "cell_type": "markdown",
   "metadata": {},
   "source": [
    "### Logistic regression performs worst than random forest. Do not use it!"
   ]
  },
  {
   "cell_type": "markdown",
   "metadata": {},
   "source": [
    "## Check on correlations to_uni"
   ]
  },
  {
   "cell_type": "code",
   "execution_count": 12,
   "metadata": {},
   "outputs": [
    {
     "data": {
      "text/plain": [
       "start_lng            -0.195634\n",
       "start_lat            -0.286293\n",
       "start_place          -0.021402\n",
       "start_plz            -0.080076\n",
       "temp_2m              -0.000175\n",
       "humidity_2m          -0.000371\n",
       "dew_point_2m          0.000227\n",
       "max_at_2m            -0.000135\n",
       "mean_speed_h/s        0.000917\n",
       "direction_degree_x    0.000092\n",
       "max_m/s               0.001179\n",
       "min_mean_m/s         -0.000954\n",
       "max_mean_m/s          0.000749\n",
       "direction_degree_y   -0.000164\n",
       "min                   0.002682\n",
       "month                -0.000816\n",
       "week_day             -0.001846\n",
       "is_weekend           -0.001993\n",
       "hour                 -0.002399\n",
       "dtype: float64"
      ]
     },
     "execution_count": 12,
     "metadata": {},
     "output_type": "execute_result"
    }
   ],
   "source": [
    "bremen_trips.drop(columns={'to_uni','to_uni_bool','to_main_station_bool','to_main_station'}).corrwith(bremen_trips['to_uni'])"
   ]
  },
  {
   "cell_type": "markdown",
   "metadata": {},
   "source": [
    "### Pearson correlation only for attributes with correlation higher than 0.05"
   ]
  },
  {
   "cell_type": "code",
   "execution_count": 13,
   "metadata": {
    "scrolled": true
   },
   "outputs": [
    {
     "data": {
      "image/png": "[encoded data removed]",
      "text/plain": [
       "<Figure size 720x576 with 2 Axes>"
      ]
     },
     "metadata": {
      "needs_background": "light"
     },
     "output_type": "display_data"
    }
   ],
   "source": [
    "#Using Pearson Correlation\n",
    "\n",
    "plt.figure(figsize=(10,8))\n",
    "cor = bremen_trips[['to_uni','start_lng','start_lat','start_place']].corr()\n",
    "sns.heatmap(cor, annot=True, cmap=plt.cm.Reds)\n",
    "plt.show()"
   ]
  },
  {
   "cell_type": "markdown",
   "metadata": {},
   "source": [
    "## Check on correlations to_main_station"
   ]
  },
  {
   "cell_type": "code",
   "execution_count": 16,
   "metadata": {
    "scrolled": true
   },
   "outputs": [
    {
     "data": {
      "text/plain": [
       "start_lng             0.098213\n",
       "start_lat             0.029197\n",
       "start_place           0.098993\n",
       "start_plz             0.284381\n",
       "temp_2m               0.012753\n",
       "humidity_2m          -0.021786\n",
       "dew_point_2m         -0.001042\n",
       "max_at_2m             0.012657\n",
       "mean_speed_h/s        0.015122\n",
       "direction_degree_x    0.002625\n",
       "max_m/s               0.017047\n",
       "min_mean_m/s          0.010261\n",
       "max_mean_m/s          0.016154\n",
       "direction_degree_y    0.002530\n",
       "min                   0.003294\n",
       "month                -0.002027\n",
       "week_day             -0.008870\n",
       "is_weekend           -0.008817\n",
       "hour                 -0.013742\n",
       "dtype: float64"
      ]
     },
     "execution_count": 16,
     "metadata": {},
     "output_type": "execute_result"
    }
   ],
   "source": [
    "bremen_trips.drop(columns={'to_uni_bool','to_main_station_bool','to_uni','to_main_station'}).corrwith(bremen_trips['to_main_station'])"
   ]
  },
  {
   "cell_type": "markdown",
   "metadata": {},
   "source": [
    "### Pearson correlation only for attributes with correlation higher than 0.1"
   ]
  },
  {
   "cell_type": "code",
   "execution_count": null,
   "metadata": {
    "scrolled": true
   },
   "outputs": [],
   "source": [
    "#Using Pearson Correlation\n",
    "\n",
    "plt.figure(figsize=(10,8))\n",
    "cor = bremen_trips[['to_main_station','start_lng','start_plz','humidity_2m']].corr()\n",
    "sns.heatmap(cor, annot=True, cmap=plt.cm.Reds)\n",
    "plt.show()"
   ]
  },
  {
   "cell_type": "markdown",
   "metadata": {},
   "source": [
    "# Predicting to_main_station_bool - Classification"
   ]
  },
  {
   "cell_type": "code",
   "execution_count": null,
   "metadata": {},
   "outputs": [],
   "source": [
    "# Initialize independent and target variable\n",
    "X = bremen_trips[['start_lng','start_lat','start_plz','month']]\n",
    "y = bremen_trips['to_main_station_bool']"
   ]
  },
  {
   "cell_type": "code",
   "execution_count": null,
   "metadata": {},
   "outputs": [],
   "source": [
    "# Splitting data into train and validation set\n",
    "X_train, X_val_test, y_train, y_val_test = train_test_split(X, y, test_size=0.60, shuffle=True)\n",
    "X_val, X_test, y_val, y_test = train_test_split(X_val_test, y_val_test, test_size=0.60, shuffle=True)"
   ]
  },
  {
   "cell_type": "code",
   "execution_count": null,
   "metadata": {},
   "outputs": [],
   "source": [
    "rf = RandomForestClassifier(criterion='entropy', class_weight='balanced_subsample')\n",
    "rf.fit(X_train, y_train)"
   ]
  },
  {
   "cell_type": "markdown",
   "metadata": {},
   "source": [
    "### Evaluation"
   ]
  },
  {
   "cell_type": "code",
   "execution_count": null,
   "metadata": {},
   "outputs": [],
   "source": [
    "print('Training accuracy: ' + str(rf.score(X_train, y_train)))\n",
    "print('Valiation accuracy: ' + str(rf.score(X_val, y_val)))"
   ]
  },
  {
   "cell_type": "code",
   "execution_count": null,
   "metadata": {},
   "outputs": [],
   "source": [
    "rf.predict_proba(X_val)"
   ]
  },
  {
   "cell_type": "code",
   "execution_count": null,
   "metadata": {},
   "outputs": [],
   "source": [
    "confusionMatrix(y_val, rf.predict(X_val))"
   ]
  },
  {
   "cell_type": "code",
   "execution_count": null,
   "metadata": {
    "scrolled": false
   },
   "outputs": [],
   "source": [
    "print(classification_report(y_val, rf.predict(X_val)))"
   ]
  },
  {
   "cell_type": "markdown",
   "metadata": {},
   "source": [
    "### Performing grid search to optimize hyperparameters"
   ]
  },
  {
   "cell_type": "code",
   "execution_count": null,
   "metadata": {},
   "outputs": [],
   "source": [
    "parameters = {'max_depth':[2, 3, 4, 5, 7],\n",
    "              'n_estimators':[1, 10, 25, 50, 100, 256, 512],\n",
    "              'random_state':[42]}\n",
    "    \n",
    "def perform_grid_search(X_data, y_data):\n",
    "    rf = RandomForestClassifier(criterion='entropy', class_weight='balanced_subsample')\n",
    "    \n",
    "    clf = GridSearchCV(rf, parameters, cv=4, scoring='accuracy', n_jobs=3)\n",
    "    \n",
    "    clf.fit(X_data, y_data)\n",
    "    \n",
    "    print(clf.cv_results_['mean_test_score'])\n",
    "    \n",
    "    return clf.best_params_['n_estimators'], clf.best_params_['max_depth']"
   ]
  },
  {
   "cell_type": "code",
   "execution_count": null,
   "metadata": {},
   "outputs": [],
   "source": [
    "# extract parameters\n",
    "n_estimator, depth = perform_grid_search(X_val, y_val)\n",
    "c_random_state = 42\n",
    "print(n_estimator, depth, c_random_state)"
   ]
  },
  {
   "cell_type": "code",
   "execution_count": null,
   "metadata": {},
   "outputs": [],
   "source": [
    "rf = RandomForestClassifier(criterion='entropy', class_weight='balanced_subsample', n_estimators=n_estimator, max_depth=depth)\n",
    "rf.fit(X_train, y_train)"
   ]
  },
  {
   "cell_type": "markdown",
   "metadata": {},
   "source": [
    "### Evaluation"
   ]
  },
  {
   "cell_type": "code",
   "execution_count": null,
   "metadata": {},
   "outputs": [],
   "source": [
    "print('Training accuracy: ' + str(rf.score(X_train, y_train)))\n",
    "print('Valiation accuracy: ' + str(rf.score(X_val, y_val)))"
   ]
  },
  {
   "cell_type": "code",
   "execution_count": null,
   "metadata": {},
   "outputs": [],
   "source": [
    "confusionMatrix(y_val, rf.predict(X_val))"
   ]
  },
  {
   "cell_type": "code",
   "execution_count": null,
   "metadata": {
    "scrolled": false
   },
   "outputs": [],
   "source": [
    "print(classification_report(y_val, rf.predict(X_val)))"
   ]
  },
  {
   "cell_type": "markdown",
   "metadata": {},
   "source": [
    "## Apply to test set"
   ]
  },
  {
   "cell_type": "markdown",
   "metadata": {},
   "source": [
    "### Add validation set to train set to obtain more training data"
   ]
  },
  {
   "cell_type": "code",
   "execution_count": null,
   "metadata": {},
   "outputs": [],
   "source": [
    "X_train = X_train.append(X_val)\n",
    "y_train = y_train.append(y_val)"
   ]
  },
  {
   "cell_type": "code",
   "execution_count": null,
   "metadata": {},
   "outputs": [],
   "source": [
    "rf = RandomForestClassifier(criterion='entropy', class_weight='balanced_subsample', n_estimators=n_estimator, max_depth=depth)\n",
    "rf.fit(X_train, y_train)"
   ]
  },
  {
   "cell_type": "markdown",
   "metadata": {},
   "source": [
    "### Training + validation set performance"
   ]
  },
  {
   "cell_type": "code",
   "execution_count": null,
   "metadata": {},
   "outputs": [],
   "source": [
    "print('Training accuracy: ' + str(rf.score(X_train, y_train)))"
   ]
  },
  {
   "cell_type": "markdown",
   "metadata": {},
   "source": [
    "### Test set performance\n",
    "\n",
    "### The moment of truth"
   ]
  },
  {
   "cell_type": "code",
   "execution_count": null,
   "metadata": {},
   "outputs": [],
   "source": [
    "print('Test accuracy: ' + str(rf.score(X_test, y_test)))"
   ]
  },
  {
   "cell_type": "code",
   "execution_count": null,
   "metadata": {},
   "outputs": [],
   "source": [
    "print(classification_report(y_test, rf.predict(X_test)))"
   ]
  },
  {
   "cell_type": "markdown",
   "metadata": {},
   "source": [
    "# Predicting to_uni - Regression"
   ]
  },
  {
   "cell_type": "code",
   "execution_count": null,
   "metadata": {},
   "outputs": [],
   "source": [
    "from sklearn.linear_model import LinearRegression\n",
    "from sklearn.preprocessing import PolynomialFeatures\n",
    "from sklearn.metrics import mean_squared_error"
   ]
  },
  {
   "cell_type": "code",
   "execution_count": null,
   "metadata": {},
   "outputs": [],
   "source": [
    "# Initialize independent and target variable\n",
    "X = bremen_trips[['start_lng','start_lat','start_place']]\n",
    "y = bremen_trips['to_uni']"
   ]
  },
  {
   "cell_type": "markdown",
   "metadata": {},
   "source": [
    "### Polynomial regression"
   ]
  },
  {
   "cell_type": "code",
   "execution_count": null,
   "metadata": {},
   "outputs": [],
   "source": [
    "# Splitting data into train and validation set\n",
    "X_train, X_val_test, y_train, y_val_test = train_test_split(X, y, test_size=0.60, shuffle=True, random_state=42)\n",
    "X_val, X_test, y_val, y_test = train_test_split(X_val_test, y_val_test, test_size=0.60, shuffle=True, random_state=42)"
   ]
  },
  {
   "cell_type": "code",
   "execution_count": null,
   "metadata": {},
   "outputs": [],
   "source": [
    "def chooseDegree(X, y):\n",
    "    \n",
    "    # Splitting data into train and validation set\n",
    "    #X_train, X_val_test, y_train, y_val_test = train_test_split(X, y, test_size=0.60, shuffle=True)\n",
    "    #X_val, X_test, y_val, y_test = train_test_split(X_val_test, y_val_test, test_size=0.60, shuffle=True)\n",
    "\n",
    "    r2_train = []\n",
    "    r2_val = []\n",
    "    rmses_val = []\n",
    "    degrees = np.arange(1, 8)\n",
    "    min_rmse, min_deg = 1e10, 0\n",
    "\n",
    "    for deg in degrees:\n",
    "\n",
    "        # Train features\n",
    "        poly_features = PolynomialFeatures(degree=deg, include_bias=False)\n",
    "        X_poly_train = poly_features.fit_transform(X_train)\n",
    "\n",
    "        # Linear regression\n",
    "        poly_reg = LinearRegression()\n",
    "        poly_reg.fit(X_poly_train, y_train)\n",
    "        X_val_poly = poly_features.fit_transform(X_val)\n",
    "        \n",
    "        # Evaluate\n",
    "        r2_train.append(poly_reg.score(X_poly_train, y_train))\n",
    "        r2_val.append(poly_reg.score(X_val_poly,y_val))\n",
    "\n",
    "        # Compare with val data\n",
    "        poly_predict = poly_reg.predict(X_val_poly)\n",
    "        poly_mse = mean_squared_error(y_val, poly_predict)\n",
    "        poly_rmse = np.sqrt(poly_mse)\n",
    "        rmses_val.append(poly_rmse)\n",
    "\n",
    "        # Cross-validation of degree\n",
    "        if min_rmse > poly_rmse:\n",
    "            min_rmse = poly_rmse\n",
    "            min_deg = deg\n",
    "\n",
    "    # Plot and present results\n",
    "    print('Suggested degree {} with RMSE of validation set {}'.format(min_deg, min_rmse))\n",
    "    \n",
    "    # Create model with optimal degree\n",
    "    poly_features = PolynomialFeatures(degree=min_deg, include_bias=False)\n",
    "    X_poly_train = poly_features.fit_transform(X_train)\n",
    "\n",
    "    # Linear regression\n",
    "    poly_reg = LinearRegression()\n",
    "    poly_reg.fit(X_poly_train, y_train)\n",
    "    X_val_poly = poly_features.fit_transform(X_val)\n",
    "\n",
    "    # Evaluate\n",
    "    print('R2 train score with suggested degree: ', poly_reg.score(X_poly_train, y_train))\n",
    "    print('R2 validation score with suggested degree: ', poly_reg.score(X_val_poly,y_val))\n",
    "    \n",
    "    \n",
    "    # Evaluation plots\n",
    "    fig, axes = plt.subplots(nrows=1, ncols=2, figsize=(16, 8))\n",
    "    \n",
    "    #ax_rmses_val = fig.add_subplot(111)\n",
    "    axes[0].plot(degrees, rmses_val, label='rmses_val')\n",
    "    axes[0].set_yscale('log')\n",
    "    axes[0].set_xlabel('Degree')\n",
    "    axes[0].set_ylabel('RMSE')\n",
    "    \n",
    "    #ax_r2_train = fig.add_subplot(111)\n",
    "    axes[1].plot(degrees, r2_train, label='R2_train')\n",
    "    axes[1].set_yscale('linear')\n",
    "    axes[1].set_xlabel('Degree')\n",
    "    axes[1].set_ylabel('R2_train')\n",
    "    axes[1].set_label('R2_train')\n",
    "    #axes[1].set_ylim(0,1)\n",
    "    \n",
    "    #ax_r2_val = fig.add_subplot(111)\n",
    "    axes[1].plot(degrees, r2_val, label='R2_val')\n",
    "    axes[1].set_xlabel('Degree')\n",
    "    axes[1].set_ylabel('R2_val')\n",
    "    \n",
    "    axes[0].legend()\n",
    "    axes[1].legend()\n",
    "    fig.tight_layout()"
   ]
  },
  {
   "cell_type": "code",
   "execution_count": null,
   "metadata": {
    "scrolled": true
   },
   "outputs": [],
   "source": [
    "chooseDegree(X,y)"
   ]
  },
  {
   "cell_type": "markdown",
   "metadata": {},
   "source": [
    "## Apply to test set"
   ]
  },
  {
   "cell_type": "markdown",
   "metadata": {},
   "source": [
    "### Add validation set to train set to obtain more training data"
   ]
  },
  {
   "cell_type": "code",
   "execution_count": null,
   "metadata": {},
   "outputs": [],
   "source": [
    "X_train = X_train.append(X_val)\n",
    "y_train = y_train.append(y_val)\n",
    "\n",
    "poly = PolynomialFeatures(3)\n",
    "X_train_poly = poly.fit_transform(X_train)\n",
    "\n",
    "lin = LinearRegression()"
   ]
  },
  {
   "cell_type": "markdown",
   "metadata": {},
   "source": [
    "### Training + validation set performance"
   ]
  },
  {
   "cell_type": "code",
   "execution_count": null,
   "metadata": {},
   "outputs": [],
   "source": [
    "lin.fit(X_train_poly, y_train)\n",
    "lin.score(X_train_poly, y_train)"
   ]
  },
  {
   "cell_type": "markdown",
   "metadata": {},
   "source": [
    "### Test set performance"
   ]
  },
  {
   "cell_type": "code",
   "execution_count": null,
   "metadata": {},
   "outputs": [],
   "source": [
    "X_test_poly = poly.fit_transform(X_test)\n",
    "lin.score(X_test_poly,y_test)"
   ]
  },
  {
   "cell_type": "markdown",
   "metadata": {},
   "source": [
    "# Predicting to_main_station - Regression"
   ]
  },
  {
   "cell_type": "code",
   "execution_count": null,
   "metadata": {},
   "outputs": [],
   "source": [
    "# Initialize independent and target variable\n",
    "X = bremen_trips.dropna()[['start_lng','start_place','start_place','humidity_2m']]\n",
    "y = bremen_trips.dropna()['to_main_station']"
   ]
  },
  {
   "cell_type": "code",
   "execution_count": null,
   "metadata": {},
   "outputs": [],
   "source": [
    "# Splitting data into train and validation set\n",
    "X_train, X_val_test, y_train, y_val_test = train_test_split(X, y, test_size=0.60, shuffle=True, random_state=42)\n",
    "X_val, X_test, y_val, y_test = train_test_split(X_val_test, y_val_test, test_size=0.60, shuffle=True, random_state=42)"
   ]
  },
  {
   "cell_type": "code",
   "execution_count": null,
   "metadata": {},
   "outputs": [],
   "source": [
    "chooseDegree(X,y)"
   ]
  },
  {
   "cell_type": "markdown",
   "metadata": {},
   "source": [
    "## Apply to test set"
   ]
  },
  {
   "cell_type": "markdown",
   "metadata": {},
   "source": [
    "### Add validation set to train set to obtain more training data"
   ]
  },
  {
   "cell_type": "code",
   "execution_count": null,
   "metadata": {},
   "outputs": [],
   "source": [
    "X_train = X_train.append(X_val)\n",
    "y_train = y_train.append(y_val)\n",
    "\n",
    "poly = PolynomialFeatures(9)\n",
    "X_train_poly = poly.fit_transform(X_train)\n",
    "\n",
    "lin = LinearRegression()"
   ]
  },
  {
   "cell_type": "markdown",
   "metadata": {},
   "source": [
    "### Training + validation set performance"
   ]
  },
  {
   "cell_type": "code",
   "execution_count": null,
   "metadata": {},
   "outputs": [],
   "source": [
    "lin.fit(X_train_poly, y_train)\n",
    "lin.score(X_train_poly, y_train)"
   ]
  },
  {
   "cell_type": "markdown",
   "metadata": {},
   "source": [
    "### Test set performance"
   ]
  },
  {
   "cell_type": "code",
   "execution_count": null,
   "metadata": {},
   "outputs": [],
   "source": [
    "X_test_poly = poly.fit_transform(X_test)\n",
    "lin.score(X_test_poly,y_test)"
   ]
  }
 ],
 "metadata": {
  "kernelspec": {
   "display_name": "PyCharm (PDS_Project)",
   "language": "python",
   "name": "pycharm-c25bd02c"
  },
  "language_info": {
   "codemirror_mode": {
    "name": "ipython",
    "version": 3
   },
   "file_extension": ".py",
   "mimetype": "text/x-python",
   "name": "python",
   "nbconvert_exporter": "python",
   "pygments_lexer": "ipython3",
   "version": "3.7.7"
  }
 },
 "nbformat": 4,
 "nbformat_minor": 2
}
