{
 "cells": [
  {
   "cell_type": "markdown",
   "metadata": {},
   "source": [
    "## Import used packages"
   ]
  },
  {
   "cell_type": "code",
   "execution_count": 1,
   "metadata": {},
   "outputs": [],
   "source": [
    "import pandas as pd\n",
    "import sys\n",
    "from datetime import date, datetime\n",
    "import matplotlib.pyplot as plt\n",
    "import seaborn as sns\n",
    "import numpy as np\n",
    "from scipy import spatial\n",
    "from math import sin, cos, sqrt, atan2, radians\n",
    "import folium"
   ]
  },
  {
   "cell_type": "markdown",
   "metadata": {},
   "source": [
    "## Import data"
   ]
  },
  {
   "cell_type": "code",
   "execution_count": 2,
   "metadata": {},
   "outputs": [],
   "source": [
    "sys.path.insert(0,\"..\")\n",
    "bremen_trips = pd.read_csv(\"../data/processed/trips_weather.csv\", index_col=0)\n",
    "bremen_trips = bremen_trips.sort_values(by=['start_time'], ascending=True)\n",
    "bremen_trips[\"start_time\"] = pd.to_datetime(bremen_trips[\"start_time\"])"
   ]
  },
  {
   "cell_type": "code",
   "execution_count": 3,
   "metadata": {},
   "outputs": [
    {
     "data": {
      "text/html": [
       "<div>\n",
       "<style scoped>\n",
       "    .dataframe tbody tr th:only-of-type {\n",
       "        vertical-align: middle;\n",
       "    }\n",
       "\n",
       "    .dataframe tbody tr th {\n",
       "        vertical-align: top;\n",
       "    }\n",
       "\n",
       "    .dataframe thead th {\n",
       "        text-align: right;\n",
       "    }\n",
       "</style>\n",
       "<table border=\"1\" class=\"dataframe\">\n",
       "  <thead>\n",
       "    <tr style=\"text-align: right;\">\n",
       "      <th></th>\n",
       "      <th>bike</th>\n",
       "      <th>bike_type</th>\n",
       "      <th>identification</th>\n",
       "      <th>start_time</th>\n",
       "      <th>end_time</th>\n",
       "      <th>duration_sec</th>\n",
       "      <th>start_lng</th>\n",
       "      <th>start_lat</th>\n",
       "      <th>end_lng</th>\n",
       "      <th>end_lat</th>\n",
       "      <th>...</th>\n",
       "      <th>dew_point_2m</th>\n",
       "      <th>max_at_2m</th>\n",
       "      <th>mean_speed_h/s</th>\n",
       "      <th>direction_degree_x</th>\n",
       "      <th>max_m/s</th>\n",
       "      <th>min_mean_m/s</th>\n",
       "      <th>max_mean_m/s</th>\n",
       "      <th>direction_degree_y</th>\n",
       "      <th>min</th>\n",
       "      <th>mm</th>\n",
       "    </tr>\n",
       "  </thead>\n",
       "  <tbody>\n",
       "    <tr>\n",
       "      <th>0</th>\n",
       "      <td>20685</td>\n",
       "      <td>71</td>\n",
       "      <td>12099440</td>\n",
       "      <td>2019-01-20 00:13:00</td>\n",
       "      <td>2019-01-20 00:23:00</td>\n",
       "      <td>600.0</td>\n",
       "      <td>8.812554</td>\n",
       "      <td>53.076481</td>\n",
       "      <td>8.804828</td>\n",
       "      <td>53.084196</td>\n",
       "      <td>...</td>\n",
       "      <td>-4.8</td>\n",
       "      <td>-3.4</td>\n",
       "      <td>2.6</td>\n",
       "      <td>80.0</td>\n",
       "      <td>3.1</td>\n",
       "      <td>2.1</td>\n",
       "      <td>2.6</td>\n",
       "      <td>80.0</td>\n",
       "      <td>0.0</td>\n",
       "      <td>0.0</td>\n",
       "    </tr>\n",
       "    <tr>\n",
       "      <th>1</th>\n",
       "      <td>20626</td>\n",
       "      <td>71</td>\n",
       "      <td>10278649</td>\n",
       "      <td>2019-01-20 00:16:00</td>\n",
       "      <td>2019-01-20 04:47:00</td>\n",
       "      <td>16260.0</td>\n",
       "      <td>8.884911</td>\n",
       "      <td>53.078923</td>\n",
       "      <td>8.884911</td>\n",
       "      <td>53.078923</td>\n",
       "      <td>...</td>\n",
       "      <td>-4.8</td>\n",
       "      <td>-3.4</td>\n",
       "      <td>2.6</td>\n",
       "      <td>80.0</td>\n",
       "      <td>3.1</td>\n",
       "      <td>2.1</td>\n",
       "      <td>2.6</td>\n",
       "      <td>80.0</td>\n",
       "      <td>0.0</td>\n",
       "      <td>0.0</td>\n",
       "    </tr>\n",
       "  </tbody>\n",
       "</table>\n",
       "<p>2 rows × 35 columns</p>\n",
       "</div>"
      ],
      "text/plain": [
       "    bike  bike_type  identification          start_time             end_time  \\\n",
       "0  20685         71        12099440 2019-01-20 00:13:00  2019-01-20 00:23:00   \n",
       "1  20626         71        10278649 2019-01-20 00:16:00  2019-01-20 04:47:00   \n",
       "\n",
       "   duration_sec  start_lng  start_lat   end_lng    end_lat  ...  dew_point_2m  \\\n",
       "0         600.0   8.812554  53.076481  8.804828  53.084196  ...          -4.8   \n",
       "1       16260.0   8.884911  53.078923  8.884911  53.078923  ...          -4.8   \n",
       "\n",
       "   max_at_2m  mean_speed_h/s  direction_degree_x  max_m/s min_mean_m/s  \\\n",
       "0       -3.4             2.6                80.0      3.1          2.1   \n",
       "1       -3.4             2.6                80.0      3.1          2.1   \n",
       "\n",
       "   max_mean_m/s  direction_degree_y  min   mm  \n",
       "0           2.6                80.0  0.0  0.0  \n",
       "1           2.6                80.0  0.0  0.0  \n",
       "\n",
       "[2 rows x 35 columns]"
      ]
     },
     "execution_count": 3,
     "metadata": {},
     "output_type": "execute_result"
    }
   ],
   "source": [
    "bremen_trips.head(2)"
   ]
  },
  {
   "cell_type": "markdown",
   "metadata": {},
   "source": [
    "## Function that calculates distance moved towards the university of Bremen"
   ]
  },
  {
   "cell_type": "code",
   "execution_count": 4,
   "metadata": {},
   "outputs": [],
   "source": [
    "# Function that calculates if start or end location is closer to University of Bremen. \n",
    "# Returns the difference of the distances of the start and end location in kilometers.\n",
    "# If value positive, end locations is closer to university. That means moved towards university.\n",
    "def distanceToUni(sLng,sLat,eLng,eLat):\n",
    "    # approximate radius of earth in km\n",
    "    R = 6373.0\n",
    "    \n",
    "    sLng = radians(sLng)\n",
    "    sLat = radians(sLat)\n",
    "    eLng = radians(eLng)\n",
    "    eLat = radians(eLat)\n",
    "    uLat = radians(53.1069302) # University of Bremen Latitude\n",
    "    uLng = radians(8.8499603)  # University of Bremen Longitude\n",
    "\n",
    "    sdlon = uLng - sLng\n",
    "    sdlat = uLat - sLat\n",
    "\n",
    "    edlon = uLng - eLng\n",
    "    edlat = uLat - eLat\n",
    "\n",
    "    sA = sin(sdlat / 2)**2 + cos(sLat) * cos(uLat) * sin(sdlon / 2)**2\n",
    "    eA = sin(edlat / 2)**2 + cos(eLat) * cos(uLat) * sin(edlon / 2)**2\n",
    "    \n",
    "    sC = 2 * atan2(sqrt(sA), sqrt(1 - sA))\n",
    "    eC = 2 * atan2(sqrt(eA), sqrt(1 - eA))\n",
    "\n",
    "    sDist = R * sC\n",
    "    eDist = R * eC\n",
    "\n",
    "    distance = sDist - eDist\n",
    "    \n",
    "    return distance"
   ]
  },
  {
   "cell_type": "markdown",
   "metadata": {},
   "source": [
    "## Example of trip moving away from the university\n",
    "\n",
    "- Red marker = University of Bremen\n",
    "- Blue marker = Start location\n",
    "- Green marker = End location"
   ]
  },
  {
   "cell_type": "code",
   "execution_count": 5,
   "metadata": {},
   "outputs": [
    {
     "name": "stdout",
     "output_type": "stream",
     "text": [
      "-0.6630672878488006\n"
     ]
    },
    {
     "data": {
      "text/html": [
       "<div style=\"width:100%;\"><div style=\"position:relative;width:100%;height:0;padding-bottom:60%;\"><iframe src=\"about:blank\" style=\"position:absolute;width:100%;height:100%;left:0;top:0;border:none !important;\" data-html=PCFET0NUWVBFIGh0bWw+CjxoZWFkPiAgICAKICAgIDxtZXRhIGh0dHAtZXF1aXY9ImNvbnRlbnQtdHlwZSIgY29udGVudD0idGV4dC9odG1sOyBjaGFyc2V0PVVURi04IiAvPgogICAgCiAgICAgICAgPHNjcmlwdD4KICAgICAgICAgICAgTF9OT19UT1VDSCA9IGZhbHNlOwogICAgICAgICAgICBMX0RJU0FCTEVfM0QgPSBmYWxzZTsKICAgICAgICA8L3NjcmlwdD4KICAgIAogICAgPHNjcmlwdCBzcmM9Imh0dHBzOi8vY2RuLmpzZGVsaXZyLm5ldC9ucG0vbGVhZmxldEAxLjUuMS9kaXN0L2xlYWZsZXQuanMiPjwvc2NyaXB0PgogICAgPHNjcmlwdCBzcmM9Imh0dHBzOi8vY29kZS5qcXVlcnkuY29tL2pxdWVyeS0xLjEyLjQubWluLmpzIj48L3NjcmlwdD4KICAgIDxzY3JpcHQgc3JjPSJodHRwczovL21heGNkbi5ib290c3RyYXBjZG4uY29tL2Jvb3RzdHJhcC8zLjIuMC9qcy9ib290c3RyYXAubWluLmpzIj48L3NjcmlwdD4KICAgIDxzY3JpcHQgc3JjPSJodHRwczovL2NkbmpzLmNsb3VkZmxhcmUuY29tL2FqYXgvbGlicy9MZWFmbGV0LmF3ZXNvbWUtbWFya2Vycy8yLjAuMi9sZWFmbGV0LmF3ZXNvbWUtbWFya2Vycy5qcyI+PC9zY3JpcHQ+CiAgICA8bGluayByZWw9InN0eWxlc2hlZXQiIGhyZWY9Imh0dHBzOi8vY2RuLmpzZGVsaXZyLm5ldC9ucG0vbGVhZmxldEAxLjUuMS9kaXN0L2xlYWZsZXQuY3NzIi8+CiAgICA8bGluayByZWw9InN0eWxlc2hlZXQiIGhyZWY9Imh0dHBzOi8vbWF4Y2RuLmJvb3RzdHJhcGNkbi5jb20vYm9vdHN0cmFwLzMuMi4wL2Nzcy9ib290c3RyYXAubWluLmNzcyIvPgogICAgPGxpbmsgcmVsPSJzdHlsZXNoZWV0IiBocmVmPSJodHRwczovL21heGNkbi5ib290c3RyYXBjZG4uY29tL2Jvb3RzdHJhcC8zLjIuMC9jc3MvYm9vdHN0cmFwLXRoZW1lLm1pbi5jc3MiLz4KICAgIDxsaW5rIHJlbD0ic3R5bGVzaGVldCIgaHJlZj0iaHR0cHM6Ly9tYXhjZG4uYm9vdHN0cmFwY2RuLmNvbS9mb250LWF3ZXNvbWUvNC42LjMvY3NzL2ZvbnQtYXdlc29tZS5taW4uY3NzIi8+CiAgICA8bGluayByZWw9InN0eWxlc2hlZXQiIGhyZWY9Imh0dHBzOi8vY2RuanMuY2xvdWRmbGFyZS5jb20vYWpheC9saWJzL0xlYWZsZXQuYXdlc29tZS1tYXJrZXJzLzIuMC4yL2xlYWZsZXQuYXdlc29tZS1tYXJrZXJzLmNzcyIvPgogICAgPGxpbmsgcmVsPSJzdHlsZXNoZWV0IiBocmVmPSJodHRwczovL3Jhd2Nkbi5naXRoYWNrLmNvbS9weXRob24tdmlzdWFsaXphdGlvbi9mb2xpdW0vbWFzdGVyL2ZvbGl1bS90ZW1wbGF0ZXMvbGVhZmxldC5hd2Vzb21lLnJvdGF0ZS5jc3MiLz4KICAgIDxzdHlsZT5odG1sLCBib2R5IHt3aWR0aDogMTAwJTtoZWlnaHQ6IDEwMCU7bWFyZ2luOiAwO3BhZGRpbmc6IDA7fTwvc3R5bGU+CiAgICA8c3R5bGU+I21hcCB7cG9zaXRpb246YWJzb2x1dGU7dG9wOjA7Ym90dG9tOjA7cmlnaHQ6MDtsZWZ0OjA7fTwvc3R5bGU+CiAgICAKICAgICAgICAgICAgPG1ldGEgbmFtZT0idmlld3BvcnQiIGNvbnRlbnQ9IndpZHRoPWRldmljZS13aWR0aCwKICAgICAgICAgICAgICAgIGluaXRpYWwtc2NhbGU9MS4wLCBtYXhpbXVtLXNjYWxlPTEuMCwgdXNlci1zY2FsYWJsZT1ubyIgLz4KICAgICAgICAgICAgPHN0eWxlPgogICAgICAgICAgICAgICAgI21hcF8yNjQwZGJiOTlhYjA0YmU5YTY2MjA3MTYxY2IwNTc4NyB7CiAgICAgICAgICAgICAgICAgICAgcG9zaXRpb246IHJlbGF0aXZlOwogICAgICAgICAgICAgICAgICAgIHdpZHRoOiAxMDAuMCU7CiAgICAgICAgICAgICAgICAgICAgaGVpZ2h0OiAxMDAuMCU7CiAgICAgICAgICAgICAgICAgICAgbGVmdDogMC4wJTsKICAgICAgICAgICAgICAgICAgICB0b3A6IDAuMCU7CiAgICAgICAgICAgICAgICB9CiAgICAgICAgICAgIDwvc3R5bGU+CiAgICAgICAgCjwvaGVhZD4KPGJvZHk+ICAgIAogICAgCiAgICAgICAgICAgIDxkaXYgY2xhc3M9ImZvbGl1bS1tYXAiIGlkPSJtYXBfMjY0MGRiYjk5YWIwNGJlOWE2NjIwNzE2MWNiMDU3ODciID48L2Rpdj4KICAgICAgICAKPC9ib2R5Pgo8c2NyaXB0PiAgICAKICAgIAogICAgICAgICAgICB2YXIgbWFwXzI2NDBkYmI5OWFiMDRiZTlhNjYyMDcxNjFjYjA1Nzg3ID0gTC5tYXAoCiAgICAgICAgICAgICAgICAibWFwXzI2NDBkYmI5OWFiMDRiZTlhNjYyMDcxNjFjYjA1Nzg3IiwKICAgICAgICAgICAgICAgIHsKICAgICAgICAgICAgICAgICAgICBjZW50ZXI6IFs1My4xMDY5MzAyLCA4Ljg0OTk2MDNdLAogICAgICAgICAgICAgICAgICAgIGNyczogTC5DUlMuRVBTRzM4NTcsCiAgICAgICAgICAgICAgICAgICAgem9vbTogMTIsCiAgICAgICAgICAgICAgICAgICAgem9vbUNvbnRyb2w6IHRydWUsCiAgICAgICAgICAgICAgICAgICAgcHJlZmVyQ2FudmFzOiBmYWxzZSwKICAgICAgICAgICAgICAgIH0KICAgICAgICAgICAgKTsKCiAgICAgICAgICAgIAoKICAgICAgICAKICAgIAogICAgICAgICAgICB2YXIgdGlsZV9sYXllcl82YjNhYmQ3OGM3ZGM0YTUxODc0MmVlZjQ0ZWI4YWIwNSA9IEwudGlsZUxheWVyKAogICAgICAgICAgICAgICAgImh0dHBzOi8ve3N9LnRpbGUub3BlbnN0cmVldG1hcC5vcmcve3p9L3t4fS97eX0ucG5nIiwKICAgICAgICAgICAgICAgIHsiYXR0cmlidXRpb24iOiAiRGF0YSBieSBcdTAwMjZjb3B5OyBcdTAwM2NhIGhyZWY9XCJodHRwOi8vb3BlbnN0cmVldG1hcC5vcmdcIlx1MDAzZU9wZW5TdHJlZXRNYXBcdTAwM2MvYVx1MDAzZSwgdW5kZXIgXHUwMDNjYSBocmVmPVwiaHR0cDovL3d3dy5vcGVuc3RyZWV0bWFwLm9yZy9jb3B5cmlnaHRcIlx1MDAzZU9EYkxcdTAwM2MvYVx1MDAzZS4iLCAiZGV0ZWN0UmV0aW5hIjogZmFsc2UsICJtYXhOYXRpdmVab29tIjogMTgsICJtYXhab29tIjogMTgsICJtaW5ab29tIjogMCwgIm5vV3JhcCI6IGZhbHNlLCAib3BhY2l0eSI6IDEsICJzdWJkb21haW5zIjogImFiYyIsICJ0bXMiOiBmYWxzZX0KICAgICAgICAgICAgKS5hZGRUbyhtYXBfMjY0MGRiYjk5YWIwNGJlOWE2NjIwNzE2MWNiMDU3ODcpOwogICAgICAgIAogICAgCiAgICAgICAgICAgIHZhciBtYXJrZXJfNDM4M2I0NGE2ZWFlNDI3M2E2NzU1OWQ0ODY5NTE2MGUgPSBMLm1hcmtlcigKICAgICAgICAgICAgICAgIFs1My4xMDY5MzAyLCA4Ljg0OTk2MDNdLAogICAgICAgICAgICAgICAge30KICAgICAgICAgICAgKS5hZGRUbyhtYXBfMjY0MGRiYjk5YWIwNGJlOWE2NjIwNzE2MWNiMDU3ODcpOwogICAgICAgIAogICAgCiAgICAgICAgICAgIHZhciBpY29uX2Q0N2JhNjI5OTE2MTRkY2U5MjI4NTUxNmU5ZjhiNmExID0gTC5Bd2Vzb21lTWFya2Vycy5pY29uKAogICAgICAgICAgICAgICAgeyJleHRyYUNsYXNzZXMiOiAiZmEtcm90YXRlLTAiLCAiaWNvbiI6ICJpbmZvLXNpZ24iLCAiaWNvbkNvbG9yIjogIndoaXRlIiwgIm1hcmtlckNvbG9yIjogInJlZCIsICJwcmVmaXgiOiAiZ2x5cGhpY29uIn0KICAgICAgICAgICAgKTsKICAgICAgICAgICAgbWFya2VyXzQzODNiNDRhNmVhZTQyNzNhNjc1NTlkNDg2OTUxNjBlLnNldEljb24oaWNvbl9kNDdiYTYyOTkxNjE0ZGNlOTIyODU1MTZlOWY4YjZhMSk7CiAgICAgICAgCiAgICAKICAgICAgICB2YXIgcG9wdXBfMWQ5OWY3ZWY3NWU2NGExYTk0NGY5MmI2YmJiMmY0OWEgPSBMLnBvcHVwKHsibWF4V2lkdGgiOiAiMTAwJSJ9KTsKCiAgICAgICAgCiAgICAgICAgICAgIHZhciBodG1sX2ZkNWQ0NGFjOGFkZDRiNWFiNDg4Y2JjNmM5NzU4NGY5ID0gJChgPGRpdiBpZD0iaHRtbF9mZDVkNDRhYzhhZGQ0YjVhYjQ4OGNiYzZjOTc1ODRmOSIgc3R5bGU9IndpZHRoOiAxMDAuMCU7IGhlaWdodDogMTAwLjAlOyI+PGk+VW5pPC9pPjwvZGl2PmApWzBdOwogICAgICAgICAgICBwb3B1cF8xZDk5ZjdlZjc1ZTY0YTFhOTQ0ZjkyYjZiYmIyZjQ5YS5zZXRDb250ZW50KGh0bWxfZmQ1ZDQ0YWM4YWRkNGI1YWI0ODhjYmM2Yzk3NTg0ZjkpOwogICAgICAgIAoKICAgICAgICBtYXJrZXJfNDM4M2I0NGE2ZWFlNDI3M2E2NzU1OWQ0ODY5NTE2MGUuYmluZFBvcHVwKHBvcHVwXzFkOTlmN2VmNzVlNjRhMWE5NDRmOTJiNmJiYjJmNDlhKQogICAgICAgIDsKCiAgICAgICAgCiAgICAKICAgIAogICAgICAgICAgICB2YXIgbWFya2VyX2U1ODE2MWNmNTdjYTQyYzU5YzIyYzQzZjVhZTc2NDg5ID0gTC5tYXJrZXIoCiAgICAgICAgICAgICAgICBbNTMuMDY3ODc3Nzc3Nzc3OTk0LCA4LjgwMTYyMjVdLAogICAgICAgICAgICAgICAge30KICAgICAgICAgICAgKS5hZGRUbyhtYXBfMjY0MGRiYjk5YWIwNGJlOWE2NjIwNzE2MWNiMDU3ODcpOwogICAgICAgIAogICAgCiAgICAgICAgdmFyIHBvcHVwX2VlMjNiMmU4ZThiZjQ4YmFhOGJlOGIxMGQ2MjJlOTUyID0gTC5wb3B1cCh7Im1heFdpZHRoIjogIjEwMCUifSk7CgogICAgICAgIAogICAgICAgICAgICB2YXIgaHRtbF80Y2UyZWQ3YzgzNGI0ZDVjOTZkNmJiNjdiYThiYmYwNiA9ICQoYDxkaXYgaWQ9Imh0bWxfNGNlMmVkN2M4MzRiNGQ1Yzk2ZDZiYjY3YmE4YmJmMDYiIHN0eWxlPSJ3aWR0aDogMTAwLjAlOyBoZWlnaHQ6IDEwMC4wJTsiPjxpPlN0YXJ0PC9pPjwvZGl2PmApWzBdOwogICAgICAgICAgICBwb3B1cF9lZTIzYjJlOGU4YmY0OGJhYThiZThiMTBkNjIyZTk1Mi5zZXRDb250ZW50KGh0bWxfNGNlMmVkN2M4MzRiNGQ1Yzk2ZDZiYjY3YmE4YmJmMDYpOwogICAgICAgIAoKICAgICAgICBtYXJrZXJfZTU4MTYxY2Y1N2NhNDJjNTljMjJjNDNmNWFlNzY0ODkuYmluZFBvcHVwKHBvcHVwX2VlMjNiMmU4ZThiZjQ4YmFhOGJlOGIxMGQ2MjJlOTUyKQogICAgICAgIDsKCiAgICAgICAgCiAgICAKICAgIAogICAgICAgICAgICB2YXIgbWFya2VyX2VhMmE4ZmFiMTVkZTRmOWNhMDdkYTRiZjRkMTVhNzhiID0gTC5tYXJrZXIoCiAgICAgICAgICAgICAgICBbNTMuMDY0MjQ0NDQ0NDQ0LCA4Ljc5MzIxNjY2NjY2NjddLAogICAgICAgICAgICAgICAge30KICAgICAgICAgICAgKS5hZGRUbyhtYXBfMjY0MGRiYjk5YWIwNGJlOWE2NjIwNzE2MWNiMDU3ODcpOwogICAgICAgIAogICAgCiAgICAgICAgICAgIHZhciBpY29uX2I2MGMwYjZjMWQ2MzRkYzg5ZDA2OGExNGE2ZjVkZThhID0gTC5Bd2Vzb21lTWFya2Vycy5pY29uKAogICAgICAgICAgICAgICAgeyJleHRyYUNsYXNzZXMiOiAiZmEtcm90YXRlLTAiLCAiaWNvbiI6ICJpbmZvLXNpZ24iLCAiaWNvbkNvbG9yIjogIndoaXRlIiwgIm1hcmtlckNvbG9yIjogImdyZWVuIiwgInByZWZpeCI6ICJnbHlwaGljb24ifQogICAgICAgICAgICApOwogICAgICAgICAgICBtYXJrZXJfZWEyYThmYWIxNWRlNGY5Y2EwN2RhNGJmNGQxNWE3OGIuc2V0SWNvbihpY29uX2I2MGMwYjZjMWQ2MzRkYzg5ZDA2OGExNGE2ZjVkZThhKTsKICAgICAgICAKICAgIAogICAgICAgIHZhciBwb3B1cF80ZTk4YzEzZThhNGY0YjFjYTM2MTkyYWUzMmEzZjU1MSA9IEwucG9wdXAoeyJtYXhXaWR0aCI6ICIxMDAlIn0pOwoKICAgICAgICAKICAgICAgICAgICAgdmFyIGh0bWxfNGFkMmMzZjdkNGZjNDk0ZmE3ODcwNTJhZDgyYTg2OWMgPSAkKGA8ZGl2IGlkPSJodG1sXzRhZDJjM2Y3ZDRmYzQ5NGZhNzg3MDUyYWQ4MmE4NjljIiBzdHlsZT0id2lkdGg6IDEwMC4wJTsgaGVpZ2h0OiAxMDAuMCU7Ij48aT5FbmQ8L2k+PC9kaXY+YClbMF07CiAgICAgICAgICAgIHBvcHVwXzRlOThjMTNlOGE0ZjRiMWNhMzYxOTJhZTMyYTNmNTUxLnNldENvbnRlbnQoaHRtbF80YWQyYzNmN2Q0ZmM0OTRmYTc4NzA1MmFkODJhODY5Yyk7CiAgICAgICAgCgogICAgICAgIG1hcmtlcl9lYTJhOGZhYjE1ZGU0ZjljYTA3ZGE0YmY0ZDE1YTc4Yi5iaW5kUG9wdXAocG9wdXBfNGU5OGMxM2U4YTRmNGIxY2EzNjE5MmFlMzJhM2Y1NTEpCiAgICAgICAgOwoKICAgICAgICAKICAgIAo8L3NjcmlwdD4= onload=\"this.contentDocument.open();this.contentDocument.write(atob(this.getAttribute('data-html')));this.contentDocument.close();\" allowfullscreen webkitallowfullscreen mozallowfullscreen></iframe></div></div>"
      ],
      "text/plain": [
       "<folium.folium.Map at 0x1a1ce40350>"
      ]
     },
     "execution_count": 5,
     "metadata": {},
     "output_type": "execute_result"
    }
   ],
   "source": [
    "m = folium.Map(location=[53.1069302,8.8499603], zoom_start=12)\n",
    "\n",
    "folium.Marker([53.1069302,8.8499603], popup='<i>Uni</i>',icon=folium.Icon(color='red')).add_to(m)\n",
    "\n",
    "row = 2\n",
    "folium.Marker([bremen_trips.iloc[row,7],bremen_trips.iloc[row,6]], popup='<i>Start</i>').add_to(m)\n",
    "folium.Marker([bremen_trips.iloc[row,9],bremen_trips.iloc[row,8]], popup='<i>End</i>',icon=folium.Icon(color='green')).add_to(m)\n",
    "\n",
    "print(distanceToUni(bremen_trips.iloc[row,6],bremen_trips.iloc[row,7],bremen_trips.iloc[row,8],bremen_trips.iloc[row,9]))\n",
    "\n",
    "m"
   ]
  },
  {
   "cell_type": "markdown",
   "metadata": {},
   "source": [
    "## Add to_uni attribute to trips data"
   ]
  },
  {
   "cell_type": "code",
   "execution_count": 6,
   "metadata": {},
   "outputs": [],
   "source": [
    "to_uni = []\n",
    "to_uni_dummy = []\n",
    "\n",
    "for index, row in bremen_trips.iterrows():\n",
    "    dist_to_uni = distanceToUni(row['start_lng'],row['start_lat'],row['end_lng'],row['end_lat'])\n",
    "    to_uni.append(dist_to_uni)\n",
    "    \n",
    "    if dist_to_uni >= 0:\n",
    "        to_uni_dummy.append(1)\n",
    "    else:\n",
    "        to_uni_dummy.append(0)\n",
    "    \n",
    "bremen_trips['to_uni'] = to_uni\n",
    "bremen_trips['to_uni_dummy'] = to_uni_dummy"
   ]
  },
  {
   "cell_type": "code",
   "execution_count": 7,
   "metadata": {},
   "outputs": [
    {
     "data": {
      "text/html": [
       "<div>\n",
       "<style scoped>\n",
       "    .dataframe tbody tr th:only-of-type {\n",
       "        vertical-align: middle;\n",
       "    }\n",
       "\n",
       "    .dataframe tbody tr th {\n",
       "        vertical-align: top;\n",
       "    }\n",
       "\n",
       "    .dataframe thead th {\n",
       "        text-align: right;\n",
       "    }\n",
       "</style>\n",
       "<table border=\"1\" class=\"dataframe\">\n",
       "  <thead>\n",
       "    <tr style=\"text-align: right;\">\n",
       "      <th></th>\n",
       "      <th>bike</th>\n",
       "      <th>bike_type</th>\n",
       "      <th>identification</th>\n",
       "      <th>start_time</th>\n",
       "      <th>end_time</th>\n",
       "      <th>duration_sec</th>\n",
       "      <th>start_lng</th>\n",
       "      <th>start_lat</th>\n",
       "      <th>end_lng</th>\n",
       "      <th>end_lat</th>\n",
       "      <th>...</th>\n",
       "      <th>mean_speed_h/s</th>\n",
       "      <th>direction_degree_x</th>\n",
       "      <th>max_m/s</th>\n",
       "      <th>min_mean_m/s</th>\n",
       "      <th>max_mean_m/s</th>\n",
       "      <th>direction_degree_y</th>\n",
       "      <th>min</th>\n",
       "      <th>mm</th>\n",
       "      <th>to_uni</th>\n",
       "      <th>to_uni_dummy</th>\n",
       "    </tr>\n",
       "  </thead>\n",
       "  <tbody>\n",
       "    <tr>\n",
       "      <th>21644</th>\n",
       "      <td>20548</td>\n",
       "      <td>71</td>\n",
       "      <td>14232744</td>\n",
       "      <td>2019-04-08 13:20:00</td>\n",
       "      <td>2019-04-08 13:44:00</td>\n",
       "      <td>1440.0</td>\n",
       "      <td>8.806428</td>\n",
       "      <td>53.069693</td>\n",
       "      <td>8.805525</td>\n",
       "      <td>53.070013</td>\n",
       "      <td>...</td>\n",
       "      <td>4.7</td>\n",
       "      <td>40.0</td>\n",
       "      <td>6.7</td>\n",
       "      <td>2.2</td>\n",
       "      <td>4.8</td>\n",
       "      <td>40.0</td>\n",
       "      <td>0.0</td>\n",
       "      <td>0.0</td>\n",
       "      <td>-0.005999</td>\n",
       "      <td>0</td>\n",
       "    </tr>\n",
       "    <tr>\n",
       "      <th>124555</th>\n",
       "      <td>20979</td>\n",
       "      <td>71</td>\n",
       "      <td>24868302</td>\n",
       "      <td>2019-11-15 07:20:00</td>\n",
       "      <td>2019-11-15 07:23:00</td>\n",
       "      <td>180.0</td>\n",
       "      <td>8.798499</td>\n",
       "      <td>53.094396</td>\n",
       "      <td>8.798717</td>\n",
       "      <td>53.093773</td>\n",
       "      <td>...</td>\n",
       "      <td>7.4</td>\n",
       "      <td>80.0</td>\n",
       "      <td>11.0</td>\n",
       "      <td>5.1</td>\n",
       "      <td>7.4</td>\n",
       "      <td>80.0</td>\n",
       "      <td>0.0</td>\n",
       "      <td>0.0</td>\n",
       "      <td>-0.013214</td>\n",
       "      <td>0</td>\n",
       "    </tr>\n",
       "    <tr>\n",
       "      <th>110423</th>\n",
       "      <td>20643</td>\n",
       "      <td>71</td>\n",
       "      <td>23582910</td>\n",
       "      <td>2019-10-17 14:41:00</td>\n",
       "      <td>2019-10-17 14:54:00</td>\n",
       "      <td>780.0</td>\n",
       "      <td>8.806372</td>\n",
       "      <td>53.078147</td>\n",
       "      <td>8.784057</td>\n",
       "      <td>53.071249</td>\n",
       "      <td>...</td>\n",
       "      <td>1.6</td>\n",
       "      <td>200.0</td>\n",
       "      <td>2.6</td>\n",
       "      <td>1.0</td>\n",
       "      <td>1.8</td>\n",
       "      <td>210.0</td>\n",
       "      <td>0.0</td>\n",
       "      <td>0.0</td>\n",
       "      <td>-1.599827</td>\n",
       "      <td>0</td>\n",
       "    </tr>\n",
       "  </tbody>\n",
       "</table>\n",
       "<p>3 rows × 37 columns</p>\n",
       "</div>"
      ],
      "text/plain": [
       "         bike  bike_type  identification          start_time  \\\n",
       "21644   20548         71        14232744 2019-04-08 13:20:00   \n",
       "124555  20979         71        24868302 2019-11-15 07:20:00   \n",
       "110423  20643         71        23582910 2019-10-17 14:41:00   \n",
       "\n",
       "                   end_time  duration_sec  start_lng  start_lat   end_lng  \\\n",
       "21644   2019-04-08 13:44:00        1440.0   8.806428  53.069693  8.805525   \n",
       "124555  2019-11-15 07:23:00         180.0   8.798499  53.094396  8.798717   \n",
       "110423  2019-10-17 14:54:00         780.0   8.806372  53.078147  8.784057   \n",
       "\n",
       "          end_lat  ...  mean_speed_h/s  direction_degree_x  max_m/s  \\\n",
       "21644   53.070013  ...             4.7                40.0      6.7   \n",
       "124555  53.093773  ...             7.4                80.0     11.0   \n",
       "110423  53.071249  ...             1.6               200.0      2.6   \n",
       "\n",
       "        min_mean_m/s  max_mean_m/s direction_degree_y  min   mm    to_uni  \\\n",
       "21644            2.2           4.8               40.0  0.0  0.0 -0.005999   \n",
       "124555           5.1           7.4               80.0  0.0  0.0 -0.013214   \n",
       "110423           1.0           1.8              210.0  0.0  0.0 -1.599827   \n",
       "\n",
       "       to_uni_dummy  \n",
       "21644             0  \n",
       "124555            0  \n",
       "110423            0  \n",
       "\n",
       "[3 rows x 37 columns]"
      ]
     },
     "execution_count": 7,
     "metadata": {},
     "output_type": "execute_result"
    }
   ],
   "source": [
    "bremen_trips.sample(3)"
   ]
  },
  {
   "cell_type": "markdown",
   "metadata": {},
   "source": [
    "## Check on correlations to_uni"
   ]
  },
  {
   "cell_type": "code",
   "execution_count": 8,
   "metadata": {},
   "outputs": [
    {
     "data": {
      "text/plain": [
       "bike                  0.000211\n",
       "bike_type            -0.000414\n",
       "start_lng            -0.182360\n",
       "start_lat            -0.308355\n",
       "start_place          -0.025935\n",
       "start_plz            -0.107646\n",
       "month                 0.001459\n",
       "weekdays             -0.003260\n",
       "temp_2m              -0.001132\n",
       "humidity_2m           0.002514\n",
       "dew_point_2m          0.001915\n",
       "max_at_2m            -0.001046\n",
       "mean_speed_h/s        0.001006\n",
       "direction_degree_x    0.002561\n",
       "max_m/s               0.000813\n",
       "min_mean_m/s         -0.000848\n",
       "max_mean_m/s          0.000691\n",
       "direction_degree_y    0.001673\n",
       "min                   0.004558\n",
       "mm                    0.000559\n",
       "dtype: float64"
      ]
     },
     "execution_count": 8,
     "metadata": {},
     "output_type": "execute_result"
    }
   ],
   "source": [
    "bremen_trips.drop(columns={'end_lng','end_lat','end_place','end_plz','to_uni','to_uni_dummy','duration_sec','duration_min','identification'}).corrwith(bremen_trips['to_uni'])"
   ]
  },
  {
   "cell_type": "markdown",
   "metadata": {},
   "source": [
    "### Pearson correlation only for attributes with correlation higher than 0.1"
   ]
  },
  {
   "cell_type": "code",
   "execution_count": 9,
   "metadata": {
    "scrolled": true
   },
   "outputs": [
    {
     "data": {
      "image/png": "[encoded data removed]",
      "text/plain": [
       "<Figure size 720x576 with 2 Axes>"
      ]
     },
     "metadata": {
      "needs_background": "light"
     },
     "output_type": "display_data"
    }
   ],
   "source": [
    "#Using Pearson Correlation\n",
    "\n",
    "plt.figure(figsize=(10,8))\n",
    "cor = bremen_trips[['to_uni','start_lng','start_lat','start_plz']].corr()\n",
    "sns.heatmap(cor, annot=True, cmap=plt.cm.Reds)\n",
    "plt.show()"
   ]
  },
  {
   "cell_type": "markdown",
   "metadata": {},
   "source": [
    "## Check on correlations to_uni_dummy"
   ]
  },
  {
   "cell_type": "code",
   "execution_count": 10,
   "metadata": {},
   "outputs": [
    {
     "data": {
      "text/plain": [
       "bike                 -0.005157\n",
       "bike_type            -0.005144\n",
       "start_lng            -0.132751\n",
       "start_lat            -0.194404\n",
       "start_place           0.046905\n",
       "start_plz            -0.044664\n",
       "month                -0.016325\n",
       "weekdays             -0.003722\n",
       "temp_2m               0.000102\n",
       "humidity_2m          -0.009969\n",
       "dew_point_2m         -0.007533\n",
       "max_at_2m             0.000301\n",
       "mean_speed_h/s        0.005069\n",
       "direction_degree_x    0.001479\n",
       "max_m/s               0.005172\n",
       "min_mean_m/s          0.002308\n",
       "max_mean_m/s          0.005425\n",
       "direction_degree_y    0.000653\n",
       "min                   0.008469\n",
       "mm                    0.004347\n",
       "dtype: float64"
      ]
     },
     "execution_count": 10,
     "metadata": {},
     "output_type": "execute_result"
    }
   ],
   "source": [
    "bremen_trips.drop(columns={'end_lng','end_lat','end_place','end_plz','to_uni','to_uni_dummy','duration_sec','duration_min','identification'}).corrwith(bremen_trips['to_uni_dummy'])"
   ]
  },
  {
   "cell_type": "markdown",
   "metadata": {},
   "source": [
    "### Pearson correlation only for attributes with correlation higher than 0.1"
   ]
  },
  {
   "cell_type": "code",
   "execution_count": 11,
   "metadata": {},
   "outputs": [
    {
     "data": {
      "image/png": "[encoded data removed]",
      "text/plain": [
       "<Figure size 720x576 with 2 Axes>"
      ]
     },
     "metadata": {
      "needs_background": "light"
     },
     "output_type": "display_data"
    }
   ],
   "source": [
    "#Using Pearson Correlation\n",
    "\n",
    "plt.figure(figsize=(10,8))\n",
    "cor = bremen_trips[['to_uni_dummy','start_lng','start_lat','start_plz','month']].corr()\n",
    "sns.heatmap(cor, annot=True, cmap=plt.cm.Reds)\n",
    "plt.show()"
   ]
  },
  {
   "cell_type": "markdown",
   "metadata": {},
   "source": [
    "# Predicting to_uni - Regression"
   ]
  },
  {
   "cell_type": "code",
   "execution_count": 12,
   "metadata": {},
   "outputs": [],
   "source": [
    "from sklearn.model_selection import train_test_split\n",
    "from sklearn.linear_model import LinearRegression\n",
    "from sklearn.preprocessing import PolynomialFeatures\n",
    "from sklearn.metrics import mean_squared_error"
   ]
  },
  {
   "cell_type": "code",
   "execution_count": 13,
   "metadata": {},
   "outputs": [],
   "source": [
    "# Initialize independent and target variable\n",
    "X = bremen_trips[['start_lng','start_lat','start_plz']]\n",
    "y = bremen_trips['to_uni']"
   ]
  },
  {
   "cell_type": "markdown",
   "metadata": {},
   "source": [
    "### Polynomial regression"
   ]
  },
  {
   "cell_type": "code",
   "execution_count": 14,
   "metadata": {},
   "outputs": [],
   "source": [
    "X_train, X_val_test, y_train, y_val_test = train_test_split(X, y, test_size=0.60, shuffle=False)\n",
    "X_val, X_test, y_val, y_test = train_test_split(X_val_test, y_val_test, test_size=0.60, shuffle=False)"
   ]
  },
  {
   "cell_type": "code",
   "execution_count": 15,
   "metadata": {},
   "outputs": [],
   "source": [
    "poly = PolynomialFeatures(4)\n",
    "X_train_poly = poly.fit_transform(X_train)"
   ]
  },
  {
   "cell_type": "code",
   "execution_count": 16,
   "metadata": {},
   "outputs": [],
   "source": [
    "lin = LinearRegression()"
   ]
  },
  {
   "cell_type": "code",
   "execution_count": 17,
   "metadata": {},
   "outputs": [
    {
     "data": {
      "text/plain": [
       "0.23281285342958757"
      ]
     },
     "execution_count": 17,
     "metadata": {},
     "output_type": "execute_result"
    }
   ],
   "source": [
    "lin.fit(X_train_poly, y_train)\n",
    "lin.score(X_train_poly, y_train)"
   ]
  },
  {
   "cell_type": "code",
   "execution_count": 18,
   "metadata": {},
   "outputs": [
    {
     "data": {
      "text/plain": [
       "0.2575804962643399"
      ]
     },
     "execution_count": 18,
     "metadata": {},
     "output_type": "execute_result"
    }
   ],
   "source": [
    "X_val_poly = poly.fit_transform(X_val)\n",
    "lin.score(X_val_poly,y_val)"
   ]
  },
  {
   "cell_type": "code",
   "execution_count": 19,
   "metadata": {},
   "outputs": [],
   "source": [
    "def chooseDegree(X, y):\n",
    "    \n",
    "    # Splitting data into train and validation set\n",
    "    X_train, X_val_test, y_train, y_val_test = train_test_split(X, y, test_size=0.60, shuffle=False)\n",
    "    X_val, X_test, y_val, y_test = train_test_split(X_val_test, y_val_test, test_size=0.60, shuffle=False)\n",
    "\n",
    "    acc_train = []\n",
    "    acc_val = []\n",
    "    rmses_val = []\n",
    "    degrees = np.arange(1, 10)\n",
    "    min_rmse, min_deg = 1e10, 0\n",
    "\n",
    "    for deg in degrees:\n",
    "\n",
    "        # Train features\n",
    "        poly_features = PolynomialFeatures(degree=deg, include_bias=False)\n",
    "        X_poly_train = poly_features.fit_transform(X_train)\n",
    "\n",
    "        # Linear regression\n",
    "        poly_reg = LinearRegression()\n",
    "        poly_reg.fit(X_poly_train, y_train)\n",
    "        X_val_poly = poly_features.fit_transform(X_val)\n",
    "        \n",
    "        # Evaluate\n",
    "        acc_train.append(poly_reg.score(X_poly_train, y_train))\n",
    "        acc_val.append(poly_reg.score(X_val_poly,y_val))\n",
    "\n",
    "        # Compare with val data\n",
    "        poly_predict = poly_reg.predict(X_val_poly)\n",
    "        poly_mse = mean_squared_error(y_val, poly_predict)\n",
    "        poly_rmse = np.sqrt(poly_mse)\n",
    "        rmses_val.append(poly_rmse)\n",
    "\n",
    "        # Cross-validation of degree\n",
    "        if min_rmse > poly_rmse:\n",
    "            min_rmse = poly_rmse\n",
    "            min_deg = deg\n",
    "\n",
    "    # Plot and present results\n",
    "    print('Best degree {} with RMSE of validation set {}'.format(min_deg, min_rmse))\n",
    "\n",
    "    fig, axes = plt.subplots(nrows=1, ncols=2, figsize=(16, 8))\n",
    "    \n",
    "    #ax_rmses_val = fig.add_subplot(111)\n",
    "    axes[0].plot(degrees, rmses_val, label='rmses_val')\n",
    "    axes[0].set_yscale('log')\n",
    "    axes[0].set_xlabel('Degree')\n",
    "    axes[0].set_ylabel('RMSE')\n",
    "    \n",
    "    #ax_acc_train = fig.add_subplot(111)\n",
    "    axes[1].plot(degrees, acc_train, label='acc_train')\n",
    "    axes[1].set_yscale('linear')\n",
    "    axes[1].set_xlabel('Degree')\n",
    "    axes[1].set_ylabel('Acc_train')\n",
    "    axes[1].set_label('Acc_train')\n",
    "    \n",
    "    #ax_acc_val = fig.add_subplot(111)\n",
    "    axes[1].plot(degrees, acc_val, label='acc_val')\n",
    "    axes[1].set_xlabel('Degree')\n",
    "    axes[1].set_ylabel('Acc_val')\n",
    "    \n",
    "    axes[0].legend()\n",
    "    axes[1].legend()\n",
    "    fig.tight_layout()"
   ]
  },
  {
   "cell_type": "code",
   "execution_count": 20,
   "metadata": {},
   "outputs": [
    {
     "name": "stdout",
     "output_type": "stream",
     "text": [
      "Best degree 4 with RMSE of validation set 1.2104183741704737\n"
     ]
    },
    {
     "data": {
      "image/png": "[encoded data removed]",
      "text/plain": [
       "<Figure size 1152x576 with 2 Axes>"
      ]
     },
     "metadata": {
      "needs_background": "light"
     },
     "output_type": "display_data"
    }
   ],
   "source": [
    "chooseDegree(X,y)"
   ]
  },
  {
   "cell_type": "markdown",
   "metadata": {},
   "source": [
    "# Predicting to_uni_dummy - Classification"
   ]
  },
  {
   "cell_type": "code",
   "execution_count": 21,
   "metadata": {},
   "outputs": [],
   "source": [
    "# Initialize independent and target variable\n",
    "X = bremen_trips[['start_lng','start_lat','start_plz','month']]\n",
    "y = bremen_trips['to_uni_dummy']"
   ]
  },
  {
   "cell_type": "markdown",
   "metadata": {},
   "source": [
    "### Polynomial regression"
   ]
  },
  {
   "cell_type": "code",
   "execution_count": 22,
   "metadata": {},
   "outputs": [
    {
     "name": "stdout",
     "output_type": "stream",
     "text": [
      "Best degree 2 with RMSE of validation set 0.46936178547830015\n"
     ]
    },
    {
     "data": {
      "image/png": "[encoded data removed]",
      "text/plain": [
       "<Figure size 1152x576 with 2 Axes>"
      ]
     },
     "metadata": {
      "needs_background": "light"
     },
     "output_type": "display_data"
    }
   ],
   "source": [
    "chooseDegree(X,y)"
   ]
  }
 ],
 "metadata": {
  "kernelspec": {
   "display_name": "PyCharm (PDS_Project)",
   "language": "python",
   "name": "pycharm-c25bd02c"
  },
  "language_info": {
   "codemirror_mode": {
    "name": "ipython",
    "version": 3
   },
   "file_extension": ".py",
   "mimetype": "text/x-python",
   "name": "python",
   "nbconvert_exporter": "python",
   "pygments_lexer": "ipython3",
   "version": "3.7.7"
  }
 },
 "nbformat": 4,
 "nbformat_minor": 2
}
