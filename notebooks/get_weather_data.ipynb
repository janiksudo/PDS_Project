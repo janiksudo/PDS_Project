{
 "cells": [
  {
   "cell_type": "markdown",
   "metadata": {},
   "source": [
    "# Get weather data"
   ]
  },
  {
   "cell_type": "code",
   "execution_count": 1,
   "metadata": {
    "pycharm": {
     "is_executing": false
    }
   },
   "outputs": [],
   "source": [
    "import pandas as pd\n",
    "import requests\n",
    "import os"
   ]
  },
  {
   "cell_type": "code",
   "execution_count": 2,
   "metadata": {
    "pycharm": {
     "is_executing": false
    }
   },
   "outputs": [],
   "source": [
    "path = '../data/external/'"
   ]
  },
  {
   "cell_type": "markdown",
   "metadata": {},
   "source": [
    "## Necessary methods to download and save data as data frames."
   ]
  },
  {
   "cell_type": "code",
   "execution_count": 3,
   "metadata": {
    "pycharm": {
     "is_executing": false
    }
   },
   "outputs": [],
   "source": [
    "def saveDwdData(url, path, f_name):\n",
    "    \n",
    "    print('Download ' + f_name + ' from ' + url + ' and save to ' + path)\n",
    "    \n",
    "    file = requests.get(url)\n",
    "    open(path + f_name, 'wb').write(file.content)\n",
    "    file.close()"
   ]
  },
  {
   "cell_type": "code",
   "execution_count": 4,
   "metadata": {
    "pycharm": {
     "is_executing": false
    }
   },
   "outputs": [],
   "source": [
    "def getDwdData(url, path, f_name):\n",
    "    \n",
    "    saveDwdData(url, path, f_name)\n",
    "    \n",
    "    print()\n",
    "    \n",
    "    df = pd.read_csv(path + f_name, sep=';')\n",
    "    print('Created data frame of ' + f_name)\n",
    "    \n",
    "    os.remove(path + f_name)\n",
    "    print('Zip file removed: ' + path + f_name)\n",
    "    \n",
    "    return df"
   ]
  },
  {
   "cell_type": "markdown",
   "metadata": {},
   "source": [
    "### Dictionary with weather data urls of https://opendata.dwd.de/"
   ]
  },
  {
   "cell_type": "code",
   "execution_count": 5,
   "metadata": {
    "pycharm": {
     "is_executing": false
    }
   },
   "outputs": [],
   "source": [
    "urls = {\n",
    "        'air_temp':'https://opendata.dwd.de/climate_environment/CDC/observations_germany/climate/10_minutes/air_temperature/historical/10minutenwerte_TU_00691_20100101_20191231_hist.zip',\n",
    "        'air_temp_extr':'https://opendata.dwd.de/climate_environment/CDC/observations_germany/climate/10_minutes/extreme_temperature/historical/10minutenwerte_extrema_temp_00691_20100101_20191231_hist.zip',\n",
    "        'wind':'https://opendata.dwd.de/climate_environment/CDC/observations_germany/climate/10_minutes/wind/historical/10minutenwerte_wind_00691_20100101_20191231_hist.zip',\n",
    "        'wind_extr':'https://opendata.dwd.de/climate_environment/CDC/observations_germany/climate/10_minutes/extreme_wind/historical/10minutenwerte_extrema_wind_00691_20100101_20191231_hist.zip',\n",
    "        'precipitation':'https://opendata.dwd.de/climate_environment/CDC/observations_germany/climate/10_minutes/precipitation/historical/10minutenwerte_nieder_00691_20100101_20191231_hist.zip',\n",
    "        'solar':'https://opendata.dwd.de/climate_environment/CDC/observations_germany/climate/10_minutes/solar/historical/10minutenwerte_SOLAR_00691_20100101_20191231_hist.zip'       \n",
    "       }"
   ]
  },
  {
   "cell_type": "markdown",
   "metadata": {},
   "source": [
    "### Create data frames."
   ]
  },
  {
   "cell_type": "code",
   "execution_count": 6,
   "metadata": {
    "pycharm": {
     "is_executing": false
    }
   },
   "outputs": [
    {
     "name": "stdout",
     "output_type": "stream",
     "text": [
      "Download air_temp.zip from https://opendata.dwd.de/climate_environment/CDC/observations_germany/climate/10_minutes/air_temperature/historical/10minutenwerte_TU_00691_20100101_20191231_hist.zip and save to ../data/external/\n",
      "\n",
      "Created data frame of air_temp.zip\n",
      "Zip file removed: ../data/external/air_temp.zip\n",
      "Download air_temp_extr.zip from https://opendata.dwd.de/climate_environment/CDC/observations_germany/climate/10_minutes/extreme_temperature/historical/10minutenwerte_extrema_temp_00691_20100101_20191231_hist.zip and save to ../data/external/\n",
      "\n",
      "Created data frame of air_temp_extr.zip\n",
      "Zip file removed: ../data/external/air_temp_extr.zip\n",
      "Download wind.zip from https://opendata.dwd.de/climate_environment/CDC/observations_germany/climate/10_minutes/wind/historical/10minutenwerte_wind_00691_20100101_20191231_hist.zip and save to ../data/external/\n",
      "\n",
      "Created data frame of wind.zip\n",
      "Zip file removed: ../data/external/wind.zip\n",
      "Download wind_extr.zip from https://opendata.dwd.de/climate_environment/CDC/observations_germany/climate/10_minutes/extreme_wind/historical/10minutenwerte_extrema_wind_00691_20100101_20191231_hist.zip and save to ../data/external/\n",
      "\n",
      "Created data frame of wind_extr.zip\n",
      "Zip file removed: ../data/external/wind_extr.zip\n",
      "Download precipitation.zip from https://opendata.dwd.de/climate_environment/CDC/observations_germany/climate/10_minutes/precipitation/historical/10minutenwerte_nieder_00691_20100101_20191231_hist.zip and save to ../data/external/\n",
      "\n",
      "Created data frame of precipitation.zip\n",
      "Zip file removed: ../data/external/precipitation.zip\n",
      "Download solar.zip from https://opendata.dwd.de/climate_environment/CDC/observations_germany/climate/10_minutes/solar/historical/10minutenwerte_SOLAR_00691_20100101_20191231_hist.zip and save to ../data/external/\n",
      "\n",
      "Created data frame of solar.zip\n",
      "Zip file removed: ../data/external/solar.zip\n"
     ]
    }
   ],
   "source": [
    "air_temp = getDwdData(urls['air_temp'], path,'air_temp.zip')\n",
    "\n",
    "air_temp_extr = getDwdData(urls['air_temp_extr'], path,'air_temp_extr.zip')\n",
    "\n",
    "wind = getDwdData(urls['wind'], path,'wind.zip')\n",
    "\n",
    "wind_extr = getDwdData(urls['wind_extr'], path,'wind_extr.zip')\n",
    "\n",
    "precipitation = getDwdData(urls['precipitation'], path,'precipitation.zip')\n",
    "\n",
    "solar = getDwdData(urls['solar'], path,'solar.zip')"
   ]
  },
  {
   "cell_type": "markdown",
   "metadata": {},
   "source": [
    "### Change to code if wanna save as csv"
   ]
  },
  {
   "cell_type": "markdown",
   "metadata": {},
   "source": [
    "air_temp.to_csv(path + 'air_temp.csv', index=False)\n",
    "\n",
    "air_temp_extr.to_csv(path + 'air_temp_extr.csv', index=False)\n",
    "\n",
    "wind.to_csv(path + 'to_csv.csv', index=False)\n",
    "\n",
    "wind_extr.to_csv(path + 'wind_extr.csv', index=False)\n",
    "\n",
    "precipitation.to_csv(path + 'precipitation.csv', index=False)\n",
    "\n",
    "solar.to_csv(path + 'solar.csv', index=False)"
   ]
  },
  {
   "cell_type": "markdown",
   "metadata": {},
   "source": [
    "# Clean data"
   ]
  },
  {
   "cell_type": "markdown",
   "metadata": {},
   "source": [
    "## Method to filter data set for a specific year."
   ]
  },
  {
   "cell_type": "code",
   "execution_count": 7,
   "metadata": {
    "pycharm": {
     "is_executing": false
    }
   },
   "outputs": [],
   "source": [
    "def filterForYear(df, year):\n",
    "    \n",
    "    df.rename(columns={\"MESS_DATUM\": \"timestamp\"}, inplace=True)\n",
    "    \n",
    "    df['timestamp'] = pd.to_datetime(df['timestamp'].astype(str))\n",
    "    \n",
    "    df.set_index('timestamp', inplace=True)\n",
    "    \n",
    "    df = df[df.index.year == year]\n",
    "    \n",
    "    return df"
   ]
  },
  {
   "cell_type": "markdown",
   "metadata": {},
   "source": [
    "## Clean air_temp"
   ]
  },
  {
   "cell_type": "code",
   "execution_count": 8,
   "metadata": {
    "pycharm": {
     "is_executing": false
    },
    "scrolled": false
   },
   "outputs": [
    {
     "name": "stdout",
     "output_type": "stream",
     "text": [
      "Cleaning air_temp\n"
     ]
    },
    {
     "data": {
      "text/html": [
       "<style  type=\"text/css\" >\n",
       "    #T_cf598654_a42a_11ea_8dff_ffe56b05fbcbrow0_col0 {\n",
       "            background-color:  #b40426;\n",
       "            color:  #f1f1f1;\n",
       "        }    #T_cf598654_a42a_11ea_8dff_ffe56b05fbcbrow0_col1 {\n",
       "            background-color:  #c5d6f2;\n",
       "            color:  #000000;\n",
       "        }    #T_cf598654_a42a_11ea_8dff_ffe56b05fbcbrow0_col2 {\n",
       "            background-color:  #b5cdfa;\n",
       "            color:  #000000;\n",
       "        }    #T_cf598654_a42a_11ea_8dff_ffe56b05fbcbrow0_col3 {\n",
       "            background-color:  #f5c2aa;\n",
       "            color:  #000000;\n",
       "        }    #T_cf598654_a42a_11ea_8dff_ffe56b05fbcbrow1_col0 {\n",
       "            background-color:  #536edd;\n",
       "            color:  #000000;\n",
       "        }    #T_cf598654_a42a_11ea_8dff_ffe56b05fbcbrow1_col1 {\n",
       "            background-color:  #b40426;\n",
       "            color:  #f1f1f1;\n",
       "        }    #T_cf598654_a42a_11ea_8dff_ffe56b05fbcbrow1_col2 {\n",
       "            background-color:  #3b4cc0;\n",
       "            color:  #f1f1f1;\n",
       "        }    #T_cf598654_a42a_11ea_8dff_ffe56b05fbcbrow1_col3 {\n",
       "            background-color:  #3b4cc0;\n",
       "            color:  #f1f1f1;\n",
       "        }    #T_cf598654_a42a_11ea_8dff_ffe56b05fbcbrow2_col0 {\n",
       "            background-color:  #3b4cc0;\n",
       "            color:  #f1f1f1;\n",
       "        }    #T_cf598654_a42a_11ea_8dff_ffe56b05fbcbrow2_col1 {\n",
       "            background-color:  #3b4cc0;\n",
       "            color:  #f1f1f1;\n",
       "        }    #T_cf598654_a42a_11ea_8dff_ffe56b05fbcbrow2_col2 {\n",
       "            background-color:  #b40426;\n",
       "            color:  #f1f1f1;\n",
       "        }    #T_cf598654_a42a_11ea_8dff_ffe56b05fbcbrow2_col3 {\n",
       "            background-color:  #dadce0;\n",
       "            color:  #000000;\n",
       "        }    #T_cf598654_a42a_11ea_8dff_ffe56b05fbcbrow3_col0 {\n",
       "            background-color:  #f7b89c;\n",
       "            color:  #000000;\n",
       "        }    #T_cf598654_a42a_11ea_8dff_ffe56b05fbcbrow3_col1 {\n",
       "            background-color:  #c9d7f0;\n",
       "            color:  #000000;\n",
       "        }    #T_cf598654_a42a_11ea_8dff_ffe56b05fbcbrow3_col2 {\n",
       "            background-color:  #f7a98b;\n",
       "            color:  #000000;\n",
       "        }    #T_cf598654_a42a_11ea_8dff_ffe56b05fbcbrow3_col3 {\n",
       "            background-color:  #b40426;\n",
       "            color:  #f1f1f1;\n",
       "        }</style><table id=\"T_cf598654_a42a_11ea_8dff_ffe56b05fbcb\" ><thead>    <tr>        <th class=\"blank level0\" ></th>        <th class=\"col_heading level0 col0\" >temp_2m</th>        <th class=\"col_heading level0 col1\" >temp_5cm</th>        <th class=\"col_heading level0 col2\" >humidity_2m</th>        <th class=\"col_heading level0 col3\" >dew_point_2m</th>    </tr></thead><tbody>\n",
       "                <tr>\n",
       "                        <th id=\"T_cf598654_a42a_11ea_8dff_ffe56b05fbcblevel0_row0\" class=\"row_heading level0 row0\" >temp_2m</th>\n",
       "                        <td id=\"T_cf598654_a42a_11ea_8dff_ffe56b05fbcbrow0_col0\" class=\"data row0 col0\" >1</td>\n",
       "                        <td id=\"T_cf598654_a42a_11ea_8dff_ffe56b05fbcbrow0_col1\" class=\"data row0 col1\" >0.897511</td>\n",
       "                        <td id=\"T_cf598654_a42a_11ea_8dff_ffe56b05fbcbrow0_col2\" class=\"data row0 col2\" >0.888592</td>\n",
       "                        <td id=\"T_cf598654_a42a_11ea_8dff_ffe56b05fbcbrow0_col3\" class=\"data row0 col3\" >0.962784</td>\n",
       "            </tr>\n",
       "            <tr>\n",
       "                        <th id=\"T_cf598654_a42a_11ea_8dff_ffe56b05fbcblevel0_row1\" class=\"row_heading level0 row1\" >temp_5cm</th>\n",
       "                        <td id=\"T_cf598654_a42a_11ea_8dff_ffe56b05fbcbrow1_col0\" class=\"data row1 col0\" >0.897511</td>\n",
       "                        <td id=\"T_cf598654_a42a_11ea_8dff_ffe56b05fbcbrow1_col1\" class=\"data row1 col1\" >1</td>\n",
       "                        <td id=\"T_cf598654_a42a_11ea_8dff_ffe56b05fbcbrow1_col2\" class=\"data row1 col2\" >0.824193</td>\n",
       "                        <td id=\"T_cf598654_a42a_11ea_8dff_ffe56b05fbcbrow1_col3\" class=\"data row1 col3\" >0.899505</td>\n",
       "            </tr>\n",
       "            <tr>\n",
       "                        <th id=\"T_cf598654_a42a_11ea_8dff_ffe56b05fbcblevel0_row2\" class=\"row_heading level0 row2\" >humidity_2m</th>\n",
       "                        <td id=\"T_cf598654_a42a_11ea_8dff_ffe56b05fbcbrow2_col0\" class=\"data row2 col0\" >0.888592</td>\n",
       "                        <td id=\"T_cf598654_a42a_11ea_8dff_ffe56b05fbcbrow2_col1\" class=\"data row2 col1\" >0.824193</td>\n",
       "                        <td id=\"T_cf598654_a42a_11ea_8dff_ffe56b05fbcbrow2_col2\" class=\"data row2 col2\" >1</td>\n",
       "                        <td id=\"T_cf598654_a42a_11ea_8dff_ffe56b05fbcbrow2_col3\" class=\"data row2 col3\" >0.948762</td>\n",
       "            </tr>\n",
       "            <tr>\n",
       "                        <th id=\"T_cf598654_a42a_11ea_8dff_ffe56b05fbcblevel0_row3\" class=\"row_heading level0 row3\" >dew_point_2m</th>\n",
       "                        <td id=\"T_cf598654_a42a_11ea_8dff_ffe56b05fbcbrow3_col0\" class=\"data row3 col0\" >0.962784</td>\n",
       "                        <td id=\"T_cf598654_a42a_11ea_8dff_ffe56b05fbcbrow3_col1\" class=\"data row3 col1\" >0.899505</td>\n",
       "                        <td id=\"T_cf598654_a42a_11ea_8dff_ffe56b05fbcbrow3_col2\" class=\"data row3 col2\" >0.948762</td>\n",
       "                        <td id=\"T_cf598654_a42a_11ea_8dff_ffe56b05fbcbrow3_col3\" class=\"data row3 col3\" >1</td>\n",
       "            </tr>\n",
       "    </tbody></table>"
      ],
      "text/plain": [
       "<pandas.io.formats.style.Styler at 0x7fbeca222d10>"
      ]
     },
     "execution_count": 8,
     "metadata": {},
     "output_type": "execute_result"
    }
   ],
   "source": [
    "print('Cleaning air_temp')\n",
    "\n",
    "air_temp = filterForYear(air_temp, 2019)\n",
    "\n",
    "# Drop unnecessary columns\n",
    "air_temp.drop(columns={'STATIONS_ID','  QN', 'PP_10','eor'}, inplace=True)\n",
    "\n",
    "# Assign interpretable column names\n",
    "air_temp.rename(columns={\"TT_10\": \"temp_2m\", \"TM5_10\": \"temp_5cm\", \"RF_10\":\"humidity_2m\",\"TD_10\":\"dew_point_2m\"}, inplace=True)\n",
    "\n",
    "# Check for correlation to keep only on of the features with strong correlation\n",
    "air_temp.corr().style.background_gradient(cmap='coolwarm')"
   ]
  },
  {
   "cell_type": "code",
   "execution_count": 9,
   "metadata": {
    "pycharm": {
     "is_executing": false
    }
   },
   "outputs": [],
   "source": [
    "air_temp.drop(columns={'temp_5cm'}, inplace=True)"
   ]
  },
  {
   "cell_type": "markdown",
   "metadata": {},
   "source": [
    "## Null values"
   ]
  },
  {
   "cell_type": "code",
   "execution_count": 10,
   "metadata": {
    "pycharm": {
     "is_executing": false
    },
    "scrolled": true
   },
   "outputs": [
    {
     "data": {
      "text/plain": [
       "temp_2m         137\n",
       "humidity_2m     147\n",
       "dew_point_2m    147\n",
       "dtype: int64"
      ]
     },
     "execution_count": 10,
     "metadata": {},
     "output_type": "execute_result"
    }
   ],
   "source": [
    "air_temp.where(air_temp==-999).count()"
   ]
  },
  {
   "cell_type": "markdown",
   "metadata": {},
   "source": [
    "## Clean air_temp_extr"
   ]
  },
  {
   "cell_type": "code",
   "execution_count": 11,
   "metadata": {
    "pycharm": {
     "is_executing": false
    },
    "scrolled": true
   },
   "outputs": [
    {
     "name": "stdout",
     "output_type": "stream",
     "text": [
      "Cleaning air_temp_extr\n"
     ]
    },
    {
     "name": "stderr",
     "output_type": "stream",
     "text": [
      "/home/channaholic/miniconda3/lib/python3.7/site-packages/matplotlib/colors.py:527: RuntimeWarning: invalid value encountered in less\n",
      "  xa[xa < 0] = -1\n"
     ]
    },
    {
     "data": {
      "text/html": [
       "<style  type=\"text/css\" >\n",
       "    #T_e632a0ae_a42a_11ea_8dff_ffe56b05fbcbrow0_col0 {\n",
       "            background-color:  #3b4cc0;\n",
       "            color:  #f1f1f1;\n",
       "        }    #T_e632a0ae_a42a_11ea_8dff_ffe56b05fbcbrow0_col1 {\n",
       "            background-color:  #3b4cc0;\n",
       "            color:  #f1f1f1;\n",
       "        }    #T_e632a0ae_a42a_11ea_8dff_ffe56b05fbcbrow0_col2 {\n",
       "            background-color:  #3b4cc0;\n",
       "            color:  #f1f1f1;\n",
       "        }    #T_e632a0ae_a42a_11ea_8dff_ffe56b05fbcbrow0_col3 {\n",
       "            background-color:  #3b4cc0;\n",
       "            color:  #f1f1f1;\n",
       "        }    #T_e632a0ae_a42a_11ea_8dff_ffe56b05fbcbrow1_col0 {\n",
       "            background-color:  #3b4cc0;\n",
       "            color:  #f1f1f1;\n",
       "        }    #T_e632a0ae_a42a_11ea_8dff_ffe56b05fbcbrow1_col1 {\n",
       "            background-color:  #3b4cc0;\n",
       "            color:  #f1f1f1;\n",
       "        }    #T_e632a0ae_a42a_11ea_8dff_ffe56b05fbcbrow1_col2 {\n",
       "            background-color:  #3b4cc0;\n",
       "            color:  #f1f1f1;\n",
       "        }    #T_e632a0ae_a42a_11ea_8dff_ffe56b05fbcbrow1_col3 {\n",
       "            background-color:  #3b4cc0;\n",
       "            color:  #f1f1f1;\n",
       "        }    #T_e632a0ae_a42a_11ea_8dff_ffe56b05fbcbrow2_col0 {\n",
       "            background-color:  #3b4cc0;\n",
       "            color:  #f1f1f1;\n",
       "        }    #T_e632a0ae_a42a_11ea_8dff_ffe56b05fbcbrow2_col1 {\n",
       "            background-color:  #3b4cc0;\n",
       "            color:  #f1f1f1;\n",
       "        }    #T_e632a0ae_a42a_11ea_8dff_ffe56b05fbcbrow2_col2 {\n",
       "            background-color:  #3b4cc0;\n",
       "            color:  #f1f1f1;\n",
       "        }    #T_e632a0ae_a42a_11ea_8dff_ffe56b05fbcbrow2_col3 {\n",
       "            background-color:  #3b4cc0;\n",
       "            color:  #f1f1f1;\n",
       "        }    #T_e632a0ae_a42a_11ea_8dff_ffe56b05fbcbrow3_col0 {\n",
       "            background-color:  #3b4cc0;\n",
       "            color:  #f1f1f1;\n",
       "        }    #T_e632a0ae_a42a_11ea_8dff_ffe56b05fbcbrow3_col1 {\n",
       "            background-color:  #3b4cc0;\n",
       "            color:  #f1f1f1;\n",
       "        }    #T_e632a0ae_a42a_11ea_8dff_ffe56b05fbcbrow3_col2 {\n",
       "            background-color:  #3b4cc0;\n",
       "            color:  #f1f1f1;\n",
       "        }    #T_e632a0ae_a42a_11ea_8dff_ffe56b05fbcbrow3_col3 {\n",
       "            background-color:  #3b4cc0;\n",
       "            color:  #f1f1f1;\n",
       "        }</style><table id=\"T_e632a0ae_a42a_11ea_8dff_ffe56b05fbcb\" ><thead>    <tr>        <th class=\"blank level0\" ></th>        <th class=\"col_heading level0 col0\" >max_at_2m</th>        <th class=\"col_heading level0 col1\" >max_at_5cm</th>        <th class=\"col_heading level0 col2\" >min_at_2m</th>        <th class=\"col_heading level0 col3\" >min_at_5cm</th>    </tr></thead><tbody>\n",
       "                <tr>\n",
       "                        <th id=\"T_e632a0ae_a42a_11ea_8dff_ffe56b05fbcblevel0_row0\" class=\"row_heading level0 row0\" >max_at_2m</th>\n",
       "                        <td id=\"T_e632a0ae_a42a_11ea_8dff_ffe56b05fbcbrow0_col0\" class=\"data row0 col0\" >1</td>\n",
       "                        <td id=\"T_e632a0ae_a42a_11ea_8dff_ffe56b05fbcbrow0_col1\" class=\"data row0 col1\" >nan</td>\n",
       "                        <td id=\"T_e632a0ae_a42a_11ea_8dff_ffe56b05fbcbrow0_col2\" class=\"data row0 col2\" >0.999986</td>\n",
       "                        <td id=\"T_e632a0ae_a42a_11ea_8dff_ffe56b05fbcbrow0_col3\" class=\"data row0 col3\" >0.98142</td>\n",
       "            </tr>\n",
       "            <tr>\n",
       "                        <th id=\"T_e632a0ae_a42a_11ea_8dff_ffe56b05fbcblevel0_row1\" class=\"row_heading level0 row1\" >max_at_5cm</th>\n",
       "                        <td id=\"T_e632a0ae_a42a_11ea_8dff_ffe56b05fbcbrow1_col0\" class=\"data row1 col0\" >nan</td>\n",
       "                        <td id=\"T_e632a0ae_a42a_11ea_8dff_ffe56b05fbcbrow1_col1\" class=\"data row1 col1\" >nan</td>\n",
       "                        <td id=\"T_e632a0ae_a42a_11ea_8dff_ffe56b05fbcbrow1_col2\" class=\"data row1 col2\" >nan</td>\n",
       "                        <td id=\"T_e632a0ae_a42a_11ea_8dff_ffe56b05fbcbrow1_col3\" class=\"data row1 col3\" >nan</td>\n",
       "            </tr>\n",
       "            <tr>\n",
       "                        <th id=\"T_e632a0ae_a42a_11ea_8dff_ffe56b05fbcblevel0_row2\" class=\"row_heading level0 row2\" >min_at_2m</th>\n",
       "                        <td id=\"T_e632a0ae_a42a_11ea_8dff_ffe56b05fbcbrow2_col0\" class=\"data row2 col0\" >0.999986</td>\n",
       "                        <td id=\"T_e632a0ae_a42a_11ea_8dff_ffe56b05fbcbrow2_col1\" class=\"data row2 col1\" >nan</td>\n",
       "                        <td id=\"T_e632a0ae_a42a_11ea_8dff_ffe56b05fbcbrow2_col2\" class=\"data row2 col2\" >1</td>\n",
       "                        <td id=\"T_e632a0ae_a42a_11ea_8dff_ffe56b05fbcbrow2_col3\" class=\"data row2 col3\" >0.981395</td>\n",
       "            </tr>\n",
       "            <tr>\n",
       "                        <th id=\"T_e632a0ae_a42a_11ea_8dff_ffe56b05fbcblevel0_row3\" class=\"row_heading level0 row3\" >min_at_5cm</th>\n",
       "                        <td id=\"T_e632a0ae_a42a_11ea_8dff_ffe56b05fbcbrow3_col0\" class=\"data row3 col0\" >0.98142</td>\n",
       "                        <td id=\"T_e632a0ae_a42a_11ea_8dff_ffe56b05fbcbrow3_col1\" class=\"data row3 col1\" >nan</td>\n",
       "                        <td id=\"T_e632a0ae_a42a_11ea_8dff_ffe56b05fbcbrow3_col2\" class=\"data row3 col2\" >0.981395</td>\n",
       "                        <td id=\"T_e632a0ae_a42a_11ea_8dff_ffe56b05fbcbrow3_col3\" class=\"data row3 col3\" >1</td>\n",
       "            </tr>\n",
       "    </tbody></table>"
      ],
      "text/plain": [
       "<pandas.io.formats.style.Styler at 0x7fbe9b3c9c90>"
      ]
     },
     "execution_count": 11,
     "metadata": {},
     "output_type": "execute_result"
    }
   ],
   "source": [
    "print('Cleaning air_temp_extr')\n",
    "\n",
    "air_temp_extr = filterForYear(air_temp_extr, 2019)\n",
    "\n",
    "# Drop unnecessary columns\n",
    "air_temp_extr.drop(columns=['STATIONS_ID', '  QN','eor'], inplace=True)\n",
    "\n",
    "# Assign interpretable column names\n",
    "air_temp_extr.rename(columns={'TX_10':'max_at_2m', 'TX5_10':'max_at_5cm','TN_10':'min_at_2m','TN5_10':'min_at_5cm'}, inplace=True)\n",
    "\n",
    "# Check for correlation to keep only on of the features with strong correlation\n",
    "air_temp_extr.corr().style.background_gradient(cmap='coolwarm')"
   ]
  },
  {
   "cell_type": "code",
   "execution_count": 12,
   "metadata": {
    "pycharm": {
     "is_executing": false
    }
   },
   "outputs": [],
   "source": [
    "air_temp_extr.drop(columns={'min_at_2m','min_at_5cm'}, inplace=True)"
   ]
  },
  {
   "cell_type": "markdown",
   "metadata": {},
   "source": [
    "## Null values"
   ]
  },
  {
   "cell_type": "code",
   "execution_count": 13,
   "metadata": {
    "pycharm": {
     "is_executing": false
    }
   },
   "outputs": [
    {
     "data": {
      "text/plain": [
       "max_at_2m       157\n",
       "max_at_5cm    52560\n",
       "dtype: int64"
      ]
     },
     "execution_count": 13,
     "metadata": {},
     "output_type": "execute_result"
    }
   ],
   "source": [
    "air_temp_extr.where(air_temp_extr==-999).count()"
   ]
  },
  {
   "cell_type": "code",
   "execution_count": 14,
   "metadata": {
    "pycharm": {
     "is_executing": false
    }
   },
   "outputs": [],
   "source": [
    "air_temp_extr.drop(columns={'max_at_5cm'}, inplace=True)"
   ]
  },
  {
   "cell_type": "markdown",
   "metadata": {},
   "source": [
    "## Clean wind"
   ]
  },
  {
   "cell_type": "code",
   "execution_count": 15,
   "metadata": {
    "pycharm": {
     "is_executing": false
    },
    "scrolled": false
   },
   "outputs": [
    {
     "name": "stdout",
     "output_type": "stream",
     "text": [
      "Cleaning wind\n"
     ]
    },
    {
     "data": {
      "text/html": [
       "<style  type=\"text/css\" >\n",
       "    #T_025cb3c8_a42b_11ea_8dff_ffe56b05fbcbrow0_col0 {\n",
       "            background-color:  #b40426;\n",
       "            color:  #f1f1f1;\n",
       "        }    #T_025cb3c8_a42b_11ea_8dff_ffe56b05fbcbrow0_col1 {\n",
       "            background-color:  #3b4cc0;\n",
       "            color:  #f1f1f1;\n",
       "        }    #T_025cb3c8_a42b_11ea_8dff_ffe56b05fbcbrow1_col0 {\n",
       "            background-color:  #3b4cc0;\n",
       "            color:  #f1f1f1;\n",
       "        }    #T_025cb3c8_a42b_11ea_8dff_ffe56b05fbcbrow1_col1 {\n",
       "            background-color:  #b40426;\n",
       "            color:  #f1f1f1;\n",
       "        }</style><table id=\"T_025cb3c8_a42b_11ea_8dff_ffe56b05fbcb\" ><thead>    <tr>        <th class=\"blank level0\" ></th>        <th class=\"col_heading level0 col0\" >mean_speed_h/s</th>        <th class=\"col_heading level0 col1\" >direction_degree</th>    </tr></thead><tbody>\n",
       "                <tr>\n",
       "                        <th id=\"T_025cb3c8_a42b_11ea_8dff_ffe56b05fbcblevel0_row0\" class=\"row_heading level0 row0\" >mean_speed_h/s</th>\n",
       "                        <td id=\"T_025cb3c8_a42b_11ea_8dff_ffe56b05fbcbrow0_col0\" class=\"data row0 col0\" >1</td>\n",
       "                        <td id=\"T_025cb3c8_a42b_11ea_8dff_ffe56b05fbcbrow0_col1\" class=\"data row0 col1\" >0.659731</td>\n",
       "            </tr>\n",
       "            <tr>\n",
       "                        <th id=\"T_025cb3c8_a42b_11ea_8dff_ffe56b05fbcblevel0_row1\" class=\"row_heading level0 row1\" >direction_degree</th>\n",
       "                        <td id=\"T_025cb3c8_a42b_11ea_8dff_ffe56b05fbcbrow1_col0\" class=\"data row1 col0\" >0.659731</td>\n",
       "                        <td id=\"T_025cb3c8_a42b_11ea_8dff_ffe56b05fbcbrow1_col1\" class=\"data row1 col1\" >1</td>\n",
       "            </tr>\n",
       "    </tbody></table>"
      ],
      "text/plain": [
       "<pandas.io.formats.style.Styler at 0x7fbec82ea1d0>"
      ]
     },
     "execution_count": 15,
     "metadata": {},
     "output_type": "execute_result"
    }
   ],
   "source": [
    "print('Cleaning wind')\n",
    "\n",
    "wind = filterForYear(wind, 2019)\n",
    "\n",
    "# Drop unnecessary columns\n",
    "wind.drop(columns={'STATIONS_ID','  QN','eor'}, inplace=True)\n",
    "\n",
    "# Assign interpretable column names\n",
    "wind.rename(columns={'FF_10':'mean_speed_h/s','DD_10':'direction_degree'}, inplace=True)\n",
    "\n",
    "# Check for correlation to keep only on of the features with strong correlation\n",
    "wind.corr().style.background_gradient(cmap='coolwarm')"
   ]
  },
  {
   "cell_type": "markdown",
   "metadata": {},
   "source": [
    "## Null values"
   ]
  },
  {
   "cell_type": "code",
   "execution_count": 16,
   "metadata": {
    "pycharm": {
     "is_executing": false
    },
    "scrolled": true
   },
   "outputs": [
    {
     "data": {
      "text/plain": [
       "mean_speed_h/s      193\n",
       "direction_degree    193\n",
       "dtype: int64"
      ]
     },
     "execution_count": 16,
     "metadata": {},
     "output_type": "execute_result"
    }
   ],
   "source": [
    "wind.where(wind==-999).count()"
   ]
  },
  {
   "cell_type": "markdown",
   "metadata": {},
   "source": [
    "## Clean wind_extr"
   ]
  },
  {
   "cell_type": "code",
   "execution_count": 17,
   "metadata": {
    "pycharm": {
     "is_executing": false
    },
    "scrolled": false
   },
   "outputs": [
    {
     "name": "stdout",
     "output_type": "stream",
     "text": [
      "Cleaning wind_extr\n"
     ]
    },
    {
     "data": {
      "text/html": [
       "<style  type=\"text/css\" >\n",
       "    #T_20316178_a42b_11ea_8dff_ffe56b05fbcbrow0_col0 {\n",
       "            background-color:  #b40426;\n",
       "            color:  #f1f1f1;\n",
       "        }    #T_20316178_a42b_11ea_8dff_ffe56b05fbcbrow0_col1 {\n",
       "            background-color:  #c53334;\n",
       "            color:  #f1f1f1;\n",
       "        }    #T_20316178_a42b_11ea_8dff_ffe56b05fbcbrow0_col2 {\n",
       "            background-color:  #b40426;\n",
       "            color:  #f1f1f1;\n",
       "        }    #T_20316178_a42b_11ea_8dff_ffe56b05fbcbrow0_col3 {\n",
       "            background-color:  #4961d2;\n",
       "            color:  #f1f1f1;\n",
       "        }    #T_20316178_a42b_11ea_8dff_ffe56b05fbcbrow1_col0 {\n",
       "            background-color:  #c53334;\n",
       "            color:  #f1f1f1;\n",
       "        }    #T_20316178_a42b_11ea_8dff_ffe56b05fbcbrow1_col1 {\n",
       "            background-color:  #b40426;\n",
       "            color:  #f1f1f1;\n",
       "        }    #T_20316178_a42b_11ea_8dff_ffe56b05fbcbrow1_col2 {\n",
       "            background-color:  #c53334;\n",
       "            color:  #f1f1f1;\n",
       "        }    #T_20316178_a42b_11ea_8dff_ffe56b05fbcbrow1_col3 {\n",
       "            background-color:  #3b4cc0;\n",
       "            color:  #f1f1f1;\n",
       "        }    #T_20316178_a42b_11ea_8dff_ffe56b05fbcbrow2_col0 {\n",
       "            background-color:  #b40426;\n",
       "            color:  #f1f1f1;\n",
       "        }    #T_20316178_a42b_11ea_8dff_ffe56b05fbcbrow2_col1 {\n",
       "            background-color:  #c43032;\n",
       "            color:  #f1f1f1;\n",
       "        }    #T_20316178_a42b_11ea_8dff_ffe56b05fbcbrow2_col2 {\n",
       "            background-color:  #b40426;\n",
       "            color:  #f1f1f1;\n",
       "        }    #T_20316178_a42b_11ea_8dff_ffe56b05fbcbrow2_col3 {\n",
       "            background-color:  #465ecf;\n",
       "            color:  #f1f1f1;\n",
       "        }    #T_20316178_a42b_11ea_8dff_ffe56b05fbcbrow3_col0 {\n",
       "            background-color:  #3b4cc0;\n",
       "            color:  #f1f1f1;\n",
       "        }    #T_20316178_a42b_11ea_8dff_ffe56b05fbcbrow3_col1 {\n",
       "            background-color:  #3b4cc0;\n",
       "            color:  #f1f1f1;\n",
       "        }    #T_20316178_a42b_11ea_8dff_ffe56b05fbcbrow3_col2 {\n",
       "            background-color:  #3b4cc0;\n",
       "            color:  #f1f1f1;\n",
       "        }    #T_20316178_a42b_11ea_8dff_ffe56b05fbcbrow3_col3 {\n",
       "            background-color:  #b40426;\n",
       "            color:  #f1f1f1;\n",
       "        }</style><table id=\"T_20316178_a42b_11ea_8dff_ffe56b05fbcb\" ><thead>    <tr>        <th class=\"blank level0\" ></th>        <th class=\"col_heading level0 col0\" >max_m/s</th>        <th class=\"col_heading level0 col1\" >min_mean_m/s</th>        <th class=\"col_heading level0 col2\" >max_mean_m/s</th>        <th class=\"col_heading level0 col3\" >direction_degree</th>    </tr></thead><tbody>\n",
       "                <tr>\n",
       "                        <th id=\"T_20316178_a42b_11ea_8dff_ffe56b05fbcblevel0_row0\" class=\"row_heading level0 row0\" >max_m/s</th>\n",
       "                        <td id=\"T_20316178_a42b_11ea_8dff_ffe56b05fbcbrow0_col0\" class=\"data row0 col0\" >1</td>\n",
       "                        <td id=\"T_20316178_a42b_11ea_8dff_ffe56b05fbcbrow0_col1\" class=\"data row0 col1\" >0.984742</td>\n",
       "                        <td id=\"T_20316178_a42b_11ea_8dff_ffe56b05fbcbrow0_col2\" class=\"data row0 col2\" >0.999845</td>\n",
       "                        <td id=\"T_20316178_a42b_11ea_8dff_ffe56b05fbcbrow0_col3\" class=\"data row0 col3\" >0.696295</td>\n",
       "            </tr>\n",
       "            <tr>\n",
       "                        <th id=\"T_20316178_a42b_11ea_8dff_ffe56b05fbcblevel0_row1\" class=\"row_heading level0 row1\" >min_mean_m/s</th>\n",
       "                        <td id=\"T_20316178_a42b_11ea_8dff_ffe56b05fbcbrow1_col0\" class=\"data row1 col0\" >0.984742</td>\n",
       "                        <td id=\"T_20316178_a42b_11ea_8dff_ffe56b05fbcbrow1_col1\" class=\"data row1 col1\" >1</td>\n",
       "                        <td id=\"T_20316178_a42b_11ea_8dff_ffe56b05fbcbrow1_col2\" class=\"data row1 col2\" >0.985088</td>\n",
       "                        <td id=\"T_20316178_a42b_11ea_8dff_ffe56b05fbcbrow1_col3\" class=\"data row1 col3\" >0.681196</td>\n",
       "            </tr>\n",
       "            <tr>\n",
       "                        <th id=\"T_20316178_a42b_11ea_8dff_ffe56b05fbcblevel0_row2\" class=\"row_heading level0 row2\" >max_mean_m/s</th>\n",
       "                        <td id=\"T_20316178_a42b_11ea_8dff_ffe56b05fbcbrow2_col0\" class=\"data row2 col0\" >0.999845</td>\n",
       "                        <td id=\"T_20316178_a42b_11ea_8dff_ffe56b05fbcbrow2_col1\" class=\"data row2 col1\" >0.985088</td>\n",
       "                        <td id=\"T_20316178_a42b_11ea_8dff_ffe56b05fbcbrow2_col2\" class=\"data row2 col2\" >1</td>\n",
       "                        <td id=\"T_20316178_a42b_11ea_8dff_ffe56b05fbcbrow2_col3\" class=\"data row2 col3\" >0.694522</td>\n",
       "            </tr>\n",
       "            <tr>\n",
       "                        <th id=\"T_20316178_a42b_11ea_8dff_ffe56b05fbcblevel0_row3\" class=\"row_heading level0 row3\" >direction_degree</th>\n",
       "                        <td id=\"T_20316178_a42b_11ea_8dff_ffe56b05fbcbrow3_col0\" class=\"data row3 col0\" >0.696295</td>\n",
       "                        <td id=\"T_20316178_a42b_11ea_8dff_ffe56b05fbcbrow3_col1\" class=\"data row3 col1\" >0.681196</td>\n",
       "                        <td id=\"T_20316178_a42b_11ea_8dff_ffe56b05fbcbrow3_col2\" class=\"data row3 col2\" >0.694522</td>\n",
       "                        <td id=\"T_20316178_a42b_11ea_8dff_ffe56b05fbcbrow3_col3\" class=\"data row3 col3\" >1</td>\n",
       "            </tr>\n",
       "    </tbody></table>"
      ],
      "text/plain": [
       "<pandas.io.formats.style.Styler at 0x7fbec82ea190>"
      ]
     },
     "execution_count": 17,
     "metadata": {},
     "output_type": "execute_result"
    }
   ],
   "source": [
    "print('Cleaning wind_extr')\n",
    "\n",
    "wind_extr = filterForYear(wind_extr, 2019)\n",
    "\n",
    "# Drop unnecessary columns\n",
    "wind_extr.drop(columns={'STATIONS_ID','  QN','eor'}, inplace=True)\n",
    "\n",
    "# Assign interpretable column names\n",
    "wind_extr.rename(columns={'FX_10':'max_m/s','FNX_10':'min_mean_m/s','FMX_10':'max_mean_m/s','DX_10':'direction_degree'}, inplace=True)\n",
    "\n",
    "# Check for correlation to keep only on of the features with strong correlation\n",
    "wind_extr.corr().style.background_gradient(cmap='coolwarm')"
   ]
  },
  {
   "cell_type": "markdown",
   "metadata": {},
   "source": [
    "## Null values"
   ]
  },
  {
   "cell_type": "code",
   "execution_count": 18,
   "metadata": {
    "pycharm": {
     "is_executing": false
    },
    "scrolled": false
   },
   "outputs": [
    {
     "data": {
      "text/plain": [
       "max_m/s             236\n",
       "min_mean_m/s        239\n",
       "max_mean_m/s        236\n",
       "direction_degree    236\n",
       "dtype: int64"
      ]
     },
     "execution_count": 18,
     "metadata": {},
     "output_type": "execute_result"
    }
   ],
   "source": [
    "wind_extr.where(wind_extr==-999).count()"
   ]
  },
  {
   "cell_type": "markdown",
   "metadata": {},
   "source": [
    "## Clean precipitation"
   ]
  },
  {
   "cell_type": "code",
   "execution_count": 19,
   "metadata": {
    "pycharm": {
     "is_executing": false
    },
    "scrolled": false
   },
   "outputs": [
    {
     "name": "stdout",
     "output_type": "stream",
     "text": [
      "Cleaning precipitation\n"
     ]
    },
    {
     "data": {
      "text/html": [
       "<style  type=\"text/css\" >\n",
       "    #T_3be020ee_a42b_11ea_8dff_ffe56b05fbcbrow0_col0 {\n",
       "            background-color:  #b40426;\n",
       "            color:  #f1f1f1;\n",
       "        }    #T_3be020ee_a42b_11ea_8dff_ffe56b05fbcbrow0_col1 {\n",
       "            background-color:  #3b4cc0;\n",
       "            color:  #f1f1f1;\n",
       "        }    #T_3be020ee_a42b_11ea_8dff_ffe56b05fbcbrow1_col0 {\n",
       "            background-color:  #3b4cc0;\n",
       "            color:  #f1f1f1;\n",
       "        }    #T_3be020ee_a42b_11ea_8dff_ffe56b05fbcbrow1_col1 {\n",
       "            background-color:  #b40426;\n",
       "            color:  #f1f1f1;\n",
       "        }</style><table id=\"T_3be020ee_a42b_11ea_8dff_ffe56b05fbcb\" ><thead>    <tr>        <th class=\"blank level0\" ></th>        <th class=\"col_heading level0 col0\" >min</th>        <th class=\"col_heading level0 col1\" >mm</th>    </tr></thead><tbody>\n",
       "                <tr>\n",
       "                        <th id=\"T_3be020ee_a42b_11ea_8dff_ffe56b05fbcblevel0_row0\" class=\"row_heading level0 row0\" >min</th>\n",
       "                        <td id=\"T_3be020ee_a42b_11ea_8dff_ffe56b05fbcbrow0_col0\" class=\"data row0 col0\" >1</td>\n",
       "                        <td id=\"T_3be020ee_a42b_11ea_8dff_ffe56b05fbcbrow0_col1\" class=\"data row0 col1\" >-0.0414883</td>\n",
       "            </tr>\n",
       "            <tr>\n",
       "                        <th id=\"T_3be020ee_a42b_11ea_8dff_ffe56b05fbcblevel0_row1\" class=\"row_heading level0 row1\" >mm</th>\n",
       "                        <td id=\"T_3be020ee_a42b_11ea_8dff_ffe56b05fbcbrow1_col0\" class=\"data row1 col0\" >-0.0414883</td>\n",
       "                        <td id=\"T_3be020ee_a42b_11ea_8dff_ffe56b05fbcbrow1_col1\" class=\"data row1 col1\" >1</td>\n",
       "            </tr>\n",
       "    </tbody></table>"
      ],
      "text/plain": [
       "<pandas.io.formats.style.Styler at 0x7fbe97341f90>"
      ]
     },
     "execution_count": 19,
     "metadata": {},
     "output_type": "execute_result"
    }
   ],
   "source": [
    "print('Cleaning precipitation')\n",
    "\n",
    "precipitation = filterForYear(precipitation, 2019)\n",
    "\n",
    "# Drop unnecessary columns\n",
    "precipitation.drop(columns={'STATIONS_ID','  QN','eor','RWS_IND_10'}, inplace=True)\n",
    "\n",
    "# Assign interpretable column names\n",
    "precipitation.rename(columns={'RWS_DAU_10':'min','RWS_10':'mm'}, inplace=True)\n",
    "\n",
    "# Check for correlation to keep only on of the features with strong correlation\n",
    "precipitation.corr().style.background_gradient(cmap='coolwarm')"
   ]
  },
  {
   "cell_type": "markdown",
   "metadata": {},
   "source": [
    "## Null values"
   ]
  },
  {
   "cell_type": "code",
   "execution_count": 20,
   "metadata": {
    "pycharm": {
     "is_executing": false
    },
    "scrolled": false
   },
   "outputs": [
    {
     "data": {
      "text/plain": [
       "min     0\n",
       "mm     54\n",
       "dtype: int64"
      ]
     },
     "execution_count": 20,
     "metadata": {},
     "output_type": "execute_result"
    }
   ],
   "source": [
    "precipitation.where(precipitation==-999).count()"
   ]
  },
  {
   "cell_type": "markdown",
   "metadata": {},
   "source": [
    "## Clean solar"
   ]
  },
  {
   "cell_type": "code",
   "execution_count": 21,
   "metadata": {
    "pycharm": {
     "is_executing": false
    },
    "scrolled": false
   },
   "outputs": [
    {
     "name": "stdout",
     "output_type": "stream",
     "text": [
      "Cleaning solar\n"
     ]
    },
    {
     "data": {
      "text/html": [
       "<style  type=\"text/css\" >\n",
       "    #T_58d71a40_a42b_11ea_8dff_ffe56b05fbcbrow0_col0 {\n",
       "            background-color:  #3b4cc0;\n",
       "            color:  #f1f1f1;\n",
       "        }    #T_58d71a40_a42b_11ea_8dff_ffe56b05fbcbrow0_col1 {\n",
       "            background-color:  #3b4cc0;\n",
       "            color:  #f1f1f1;\n",
       "        }    #T_58d71a40_a42b_11ea_8dff_ffe56b05fbcbrow0_col2 {\n",
       "            background-color:  #3b4cc0;\n",
       "            color:  #f1f1f1;\n",
       "        }    #T_58d71a40_a42b_11ea_8dff_ffe56b05fbcbrow0_col3 {\n",
       "            background-color:  #3b4cc0;\n",
       "            color:  #f1f1f1;\n",
       "        }    #T_58d71a40_a42b_11ea_8dff_ffe56b05fbcbrow1_col0 {\n",
       "            background-color:  #3b4cc0;\n",
       "            color:  #f1f1f1;\n",
       "        }    #T_58d71a40_a42b_11ea_8dff_ffe56b05fbcbrow1_col1 {\n",
       "            background-color:  #3b4cc0;\n",
       "            color:  #f1f1f1;\n",
       "        }    #T_58d71a40_a42b_11ea_8dff_ffe56b05fbcbrow1_col2 {\n",
       "            background-color:  #3b4cc0;\n",
       "            color:  #f1f1f1;\n",
       "        }    #T_58d71a40_a42b_11ea_8dff_ffe56b05fbcbrow1_col3 {\n",
       "            background-color:  #3b4cc0;\n",
       "            color:  #f1f1f1;\n",
       "        }    #T_58d71a40_a42b_11ea_8dff_ffe56b05fbcbrow2_col0 {\n",
       "            background-color:  #3b4cc0;\n",
       "            color:  #f1f1f1;\n",
       "        }    #T_58d71a40_a42b_11ea_8dff_ffe56b05fbcbrow2_col1 {\n",
       "            background-color:  #3b4cc0;\n",
       "            color:  #f1f1f1;\n",
       "        }    #T_58d71a40_a42b_11ea_8dff_ffe56b05fbcbrow2_col2 {\n",
       "            background-color:  #3b4cc0;\n",
       "            color:  #f1f1f1;\n",
       "        }    #T_58d71a40_a42b_11ea_8dff_ffe56b05fbcbrow2_col3 {\n",
       "            background-color:  #3b4cc0;\n",
       "            color:  #f1f1f1;\n",
       "        }    #T_58d71a40_a42b_11ea_8dff_ffe56b05fbcbrow3_col0 {\n",
       "            background-color:  #3b4cc0;\n",
       "            color:  #f1f1f1;\n",
       "        }    #T_58d71a40_a42b_11ea_8dff_ffe56b05fbcbrow3_col1 {\n",
       "            background-color:  #3b4cc0;\n",
       "            color:  #f1f1f1;\n",
       "        }    #T_58d71a40_a42b_11ea_8dff_ffe56b05fbcbrow3_col2 {\n",
       "            background-color:  #3b4cc0;\n",
       "            color:  #f1f1f1;\n",
       "        }    #T_58d71a40_a42b_11ea_8dff_ffe56b05fbcbrow3_col3 {\n",
       "            background-color:  #3b4cc0;\n",
       "            color:  #f1f1f1;\n",
       "        }</style><table id=\"T_58d71a40_a42b_11ea_8dff_ffe56b05fbcb\" ><thead>    <tr>        <th class=\"blank level0\" ></th>        <th class=\"col_heading level0 col0\" >diffuse_radiation</th>        <th class=\"col_heading level0 col1\" >incoming_radiation</th>        <th class=\"col_heading level0 col2\" >duration_h</th>        <th class=\"col_heading level0 col3\" >longwave_downward_radiation</th>    </tr></thead><tbody>\n",
       "                <tr>\n",
       "                        <th id=\"T_58d71a40_a42b_11ea_8dff_ffe56b05fbcblevel0_row0\" class=\"row_heading level0 row0\" >diffuse_radiation</th>\n",
       "                        <td id=\"T_58d71a40_a42b_11ea_8dff_ffe56b05fbcbrow0_col0\" class=\"data row0 col0\" >1</td>\n",
       "                        <td id=\"T_58d71a40_a42b_11ea_8dff_ffe56b05fbcbrow0_col1\" class=\"data row0 col1\" >0.989635</td>\n",
       "                        <td id=\"T_58d71a40_a42b_11ea_8dff_ffe56b05fbcbrow0_col2\" class=\"data row0 col2\" >0.0682492</td>\n",
       "                        <td id=\"T_58d71a40_a42b_11ea_8dff_ffe56b05fbcbrow0_col3\" class=\"data row0 col3\" >nan</td>\n",
       "            </tr>\n",
       "            <tr>\n",
       "                        <th id=\"T_58d71a40_a42b_11ea_8dff_ffe56b05fbcblevel0_row1\" class=\"row_heading level0 row1\" >incoming_radiation</th>\n",
       "                        <td id=\"T_58d71a40_a42b_11ea_8dff_ffe56b05fbcbrow1_col0\" class=\"data row1 col0\" >0.989635</td>\n",
       "                        <td id=\"T_58d71a40_a42b_11ea_8dff_ffe56b05fbcbrow1_col1\" class=\"data row1 col1\" >1</td>\n",
       "                        <td id=\"T_58d71a40_a42b_11ea_8dff_ffe56b05fbcbrow1_col2\" class=\"data row1 col2\" >0.182328</td>\n",
       "                        <td id=\"T_58d71a40_a42b_11ea_8dff_ffe56b05fbcbrow1_col3\" class=\"data row1 col3\" >nan</td>\n",
       "            </tr>\n",
       "            <tr>\n",
       "                        <th id=\"T_58d71a40_a42b_11ea_8dff_ffe56b05fbcblevel0_row2\" class=\"row_heading level0 row2\" >duration_h</th>\n",
       "                        <td id=\"T_58d71a40_a42b_11ea_8dff_ffe56b05fbcbrow2_col0\" class=\"data row2 col0\" >0.0682492</td>\n",
       "                        <td id=\"T_58d71a40_a42b_11ea_8dff_ffe56b05fbcbrow2_col1\" class=\"data row2 col1\" >0.182328</td>\n",
       "                        <td id=\"T_58d71a40_a42b_11ea_8dff_ffe56b05fbcbrow2_col2\" class=\"data row2 col2\" >1</td>\n",
       "                        <td id=\"T_58d71a40_a42b_11ea_8dff_ffe56b05fbcbrow2_col3\" class=\"data row2 col3\" >nan</td>\n",
       "            </tr>\n",
       "            <tr>\n",
       "                        <th id=\"T_58d71a40_a42b_11ea_8dff_ffe56b05fbcblevel0_row3\" class=\"row_heading level0 row3\" >longwave_downward_radiation</th>\n",
       "                        <td id=\"T_58d71a40_a42b_11ea_8dff_ffe56b05fbcbrow3_col0\" class=\"data row3 col0\" >nan</td>\n",
       "                        <td id=\"T_58d71a40_a42b_11ea_8dff_ffe56b05fbcbrow3_col1\" class=\"data row3 col1\" >nan</td>\n",
       "                        <td id=\"T_58d71a40_a42b_11ea_8dff_ffe56b05fbcbrow3_col2\" class=\"data row3 col2\" >nan</td>\n",
       "                        <td id=\"T_58d71a40_a42b_11ea_8dff_ffe56b05fbcbrow3_col3\" class=\"data row3 col3\" >nan</td>\n",
       "            </tr>\n",
       "    </tbody></table>"
      ],
      "text/plain": [
       "<pandas.io.formats.style.Styler at 0x7fbe98e98790>"
      ]
     },
     "execution_count": 21,
     "metadata": {},
     "output_type": "execute_result"
    }
   ],
   "source": [
    "print('Cleaning solar')\n",
    "\n",
    "solar = filterForYear(solar, 2019)\n",
    "\n",
    "# Drop unnecessary columns\n",
    "solar.drop(columns={'STATIONS_ID','  QN','eor'}, inplace=True)\n",
    "\n",
    "# Assign interpretable column names\n",
    "solar.rename(columns={'DS_10':'diffuse_radiation','GS_10':'incoming_radiation','SD_10':'duration_h','LS_10':'longwave_downward_radiation'}, inplace=True)\n",
    "\n",
    "# Check for correlation to keep only on of the features with strong correlation\n",
    "solar.corr().style.background_gradient(cmap='coolwarm')"
   ]
  },
  {
   "cell_type": "code",
   "execution_count": 22,
   "metadata": {
    "pycharm": {
     "is_executing": false
    }
   },
   "outputs": [],
   "source": [
    "solar.drop(columns={'longwave_downward_radiation'}, inplace=True)"
   ]
  },
  {
   "cell_type": "markdown",
   "metadata": {},
   "source": [
    "## Null values"
   ]
  },
  {
   "cell_type": "code",
   "execution_count": 23,
   "metadata": {
    "pycharm": {
     "is_executing": false
    },
    "scrolled": false
   },
   "outputs": [
    {
     "data": {
      "text/plain": [
       "diffuse_radiation     192\n",
       "incoming_radiation    192\n",
       "duration_h              0\n",
       "dtype: int64"
      ]
     },
     "execution_count": 23,
     "metadata": {},
     "output_type": "execute_result"
    }
   ],
   "source": [
    "solar.where(solar==-999).count()"
   ]
  },
  {
   "cell_type": "markdown",
   "metadata": {},
   "source": [
    "# Create one data frame for all weather data"
   ]
  },
  {
   "cell_type": "code",
   "execution_count": 24,
   "metadata": {
    "pycharm": {
     "is_executing": false
    }
   },
   "outputs": [
    {
     "name": "stdout",
     "output_type": "stream",
     "text": [
      "Merging all weather data...\n"
     ]
    },
    {
     "data": {
      "text/plain": [
       "temp_2m               137\n",
       "humidity_2m           147\n",
       "dew_point_2m          147\n",
       "max_at_2m             157\n",
       "mean_speed_h/s        193\n",
       "direction_degree_x    193\n",
       "max_m/s               236\n",
       "min_mean_m/s          239\n",
       "max_mean_m/s          236\n",
       "direction_degree_y    236\n",
       "min                     0\n",
       "mm                     54\n",
       "dtype: int64"
      ]
     },
     "execution_count": 24,
     "metadata": {},
     "output_type": "execute_result"
    }
   ],
   "source": [
    "print('Merging all weather data...')\n",
    "\n",
    "all_weather = pd.merge(air_temp, air_temp_extr, on='timestamp')\n",
    "\n",
    "all_weather = pd.merge(all_weather, wind, on='timestamp')\n",
    "\n",
    "all_weather = pd.merge(all_weather, wind_extr, on='timestamp')\n",
    "\n",
    "all_weather = pd.merge(all_weather, precipitation, on='timestamp')\n",
    "\n",
    "all_weather.where(all_weather==-999).count()"
   ]
  },
  {
   "cell_type": "markdown",
   "metadata": {},
   "source": [
    "# Export weather data"
   ]
  },
  {
   "cell_type": "code",
   "execution_count": 25,
   "metadata": {
    "pycharm": {
     "is_executing": false
    }
   },
   "outputs": [],
   "source": [
    "all_weather.to_csv(path + 'weather.gz', compression='gzip')"
   ]
  },
  {
   "cell_type": "code",
   "execution_count": 26,
   "metadata": {
    "pycharm": {
     "is_executing": false
    }
   },
   "outputs": [
    {
     "name": "stdout",
     "output_type": "stream",
     "text": [
      "Getting and cleaning of weather data successful!\n",
      "Data saved as ../data/external/weather.gz\n"
     ]
    }
   ],
   "source": [
    "print('Getting and cleaning of weather data successful!')\n",
    "print('Data saved as ' + path + 'weather.gz')"
   ]
  },
  {
   "cell_type": "code",
   "execution_count": 27,
   "metadata": {
    "pycharm": {
     "is_executing": false
    }
   },
   "outputs": [
    {
     "name": "stdout",
     "output_type": "stream",
     "text": [
      "To import the data use the following command:\n",
      "pd.read_csv(path + 'weather.gz', index_col='timestamp')\n"
     ]
    }
   ],
   "source": [
    "print('To import the data use the following command:')\n",
    "print(\"pd.read_csv(path + 'weather.gz', index_col='timestamp')\")"
   ]
  },
  {
   "cell_type": "code",
   "execution_count": null,
   "metadata": {
    "pycharm": {
     "name": "#%%\n"
    }
   },
   "outputs": [],
   "source": [
    "\n"
   ]
  }
 ],
 "metadata": {
  "kernelspec": {
   "display_name": "Python 3",
   "language": "python",
   "name": "python3"
  },
  "language_info": {
   "codemirror_mode": {
    "name": "ipython",
    "version": 3
   },
   "file_extension": ".py",
   "mimetype": "text/x-python",
   "name": "python",
   "nbconvert_exporter": "python",
   "pygments_lexer": "ipython3",
   "version": "3.7.6"
  }
 },
 "nbformat": 4,
 "nbformat_minor": 4
}
