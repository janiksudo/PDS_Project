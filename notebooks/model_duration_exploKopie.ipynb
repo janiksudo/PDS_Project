{
 "cells": [
  {
   "cell_type": "code",
   "execution_count": 1,
   "metadata": {},
   "outputs": [],
   "source": [
    "import pandas as pd\n",
    "import sys\n",
    "from datetime import date, datetime\n",
    "import matplotlib.pyplot as plt\n",
    "import seaborn as sns\n",
    "import numpy as np"
   ]
  },
  {
   "cell_type": "code",
   "execution_count": 2,
   "metadata": {},
   "outputs": [],
   "source": [
    "sys.path.insert(0,\"..\")\n",
    "bremen_trips = pd.read_csv(\"../data/processed/trips_weather.csv\", index_col=0)\n",
    "bremen_trips = bremen_trips.sort_values(by=['start_time'], ascending=True)\n",
    "bremen_trips[\"start_time\"] = pd.to_datetime(bremen_trips[\"start_time\"])"
   ]
  },
  {
   "cell_type": "code",
   "execution_count": 3,
   "metadata": {},
   "outputs": [],
   "source": [
    "\n",
    "for col in ['start_time']:\n",
    "    bremen_trips['month'] = pd.DatetimeIndex(bremen_trips['start_time']).month\n",
    "    bremen_trips['booking_date'] = bremen_trips.start_time.dt.date\n",
    "    bremen_trips['weekdays'] = pd.DatetimeIndex(bremen_trips['start_time']).weekday"
   ]
  },
  {
   "cell_type": "code",
   "execution_count": 4,
   "metadata": {},
   "outputs": [
    {
     "data": {
      "text/html": [
       "<div>\n",
       "<style scoped>\n",
       "    .dataframe tbody tr th:only-of-type {\n",
       "        vertical-align: middle;\n",
       "    }\n",
       "\n",
       "    .dataframe tbody tr th {\n",
       "        vertical-align: top;\n",
       "    }\n",
       "\n",
       "    .dataframe thead th {\n",
       "        text-align: right;\n",
       "    }\n",
       "</style>\n",
       "<table border=\"1\" class=\"dataframe\">\n",
       "  <thead>\n",
       "    <tr style=\"text-align: right;\">\n",
       "      <th></th>\n",
       "      <th>bike</th>\n",
       "      <th>bike_type</th>\n",
       "      <th>identification</th>\n",
       "      <th>start_time</th>\n",
       "      <th>end_time</th>\n",
       "      <th>duration_sec</th>\n",
       "      <th>start_lng</th>\n",
       "      <th>start_lat</th>\n",
       "      <th>end_lng</th>\n",
       "      <th>end_lat</th>\n",
       "      <th>...</th>\n",
       "      <th>dew_point_2m</th>\n",
       "      <th>max_at_2m</th>\n",
       "      <th>mean_speed_h/s</th>\n",
       "      <th>direction_degree_x</th>\n",
       "      <th>max_m/s</th>\n",
       "      <th>min_mean_m/s</th>\n",
       "      <th>max_mean_m/s</th>\n",
       "      <th>direction_degree_y</th>\n",
       "      <th>min</th>\n",
       "      <th>mm</th>\n",
       "    </tr>\n",
       "  </thead>\n",
       "  <tbody>\n",
       "    <tr>\n",
       "      <th>0</th>\n",
       "      <td>20685</td>\n",
       "      <td>71</td>\n",
       "      <td>12099440</td>\n",
       "      <td>2019-01-20 00:13:00</td>\n",
       "      <td>2019-01-20 00:23:00</td>\n",
       "      <td>600.0</td>\n",
       "      <td>8.812554</td>\n",
       "      <td>53.076481</td>\n",
       "      <td>8.804828</td>\n",
       "      <td>53.084196</td>\n",
       "      <td>...</td>\n",
       "      <td>-4.8</td>\n",
       "      <td>-3.4</td>\n",
       "      <td>2.6</td>\n",
       "      <td>80.0</td>\n",
       "      <td>3.1</td>\n",
       "      <td>2.1</td>\n",
       "      <td>2.6</td>\n",
       "      <td>80.0</td>\n",
       "      <td>0.0</td>\n",
       "      <td>0.0</td>\n",
       "    </tr>\n",
       "    <tr>\n",
       "      <th>1</th>\n",
       "      <td>20626</td>\n",
       "      <td>71</td>\n",
       "      <td>10278649</td>\n",
       "      <td>2019-01-20 00:16:00</td>\n",
       "      <td>2019-01-20 04:47:00</td>\n",
       "      <td>16260.0</td>\n",
       "      <td>8.884911</td>\n",
       "      <td>53.078923</td>\n",
       "      <td>8.884911</td>\n",
       "      <td>53.078923</td>\n",
       "      <td>...</td>\n",
       "      <td>-4.8</td>\n",
       "      <td>-3.4</td>\n",
       "      <td>2.6</td>\n",
       "      <td>80.0</td>\n",
       "      <td>3.1</td>\n",
       "      <td>2.1</td>\n",
       "      <td>2.6</td>\n",
       "      <td>80.0</td>\n",
       "      <td>0.0</td>\n",
       "      <td>0.0</td>\n",
       "    </tr>\n",
       "    <tr>\n",
       "      <th>2</th>\n",
       "      <td>20617</td>\n",
       "      <td>71</td>\n",
       "      <td>12099749</td>\n",
       "      <td>2019-01-20 00:40:00</td>\n",
       "      <td>2019-01-20 00:44:00</td>\n",
       "      <td>240.0</td>\n",
       "      <td>8.801623</td>\n",
       "      <td>53.067878</td>\n",
       "      <td>8.793217</td>\n",
       "      <td>53.064244</td>\n",
       "      <td>...</td>\n",
       "      <td>-4.6</td>\n",
       "      <td>-3.6</td>\n",
       "      <td>2.6</td>\n",
       "      <td>80.0</td>\n",
       "      <td>3.1</td>\n",
       "      <td>2.4</td>\n",
       "      <td>2.6</td>\n",
       "      <td>80.0</td>\n",
       "      <td>0.0</td>\n",
       "      <td>0.0</td>\n",
       "    </tr>\n",
       "    <tr>\n",
       "      <th>3</th>\n",
       "      <td>20795</td>\n",
       "      <td>71</td>\n",
       "      <td>12099872</td>\n",
       "      <td>2019-01-20 00:47:00</td>\n",
       "      <td>2019-01-20 00:54:00</td>\n",
       "      <td>420.0</td>\n",
       "      <td>8.814744</td>\n",
       "      <td>53.084841</td>\n",
       "      <td>8.801135</td>\n",
       "      <td>53.094596</td>\n",
       "      <td>...</td>\n",
       "      <td>-4.6</td>\n",
       "      <td>-3.6</td>\n",
       "      <td>2.6</td>\n",
       "      <td>80.0</td>\n",
       "      <td>3.1</td>\n",
       "      <td>2.4</td>\n",
       "      <td>2.6</td>\n",
       "      <td>80.0</td>\n",
       "      <td>0.0</td>\n",
       "      <td>0.0</td>\n",
       "    </tr>\n",
       "    <tr>\n",
       "      <th>4</th>\n",
       "      <td>20813</td>\n",
       "      <td>71</td>\n",
       "      <td>7873840</td>\n",
       "      <td>2019-01-20 00:55:00</td>\n",
       "      <td>2019-01-20 23:10:00</td>\n",
       "      <td>80100.0</td>\n",
       "      <td>8.845743</td>\n",
       "      <td>53.106418</td>\n",
       "      <td>8.845743</td>\n",
       "      <td>53.106418</td>\n",
       "      <td>...</td>\n",
       "      <td>-4.1</td>\n",
       "      <td>-3.2</td>\n",
       "      <td>2.4</td>\n",
       "      <td>80.0</td>\n",
       "      <td>2.6</td>\n",
       "      <td>2.1</td>\n",
       "      <td>2.6</td>\n",
       "      <td>80.0</td>\n",
       "      <td>0.0</td>\n",
       "      <td>0.0</td>\n",
       "    </tr>\n",
       "  </tbody>\n",
       "</table>\n",
       "<p>5 rows × 35 columns</p>\n",
       "</div>"
      ],
      "text/plain": [
       "    bike  bike_type  identification          start_time             end_time  \\\n",
       "0  20685         71        12099440 2019-01-20 00:13:00  2019-01-20 00:23:00   \n",
       "1  20626         71        10278649 2019-01-20 00:16:00  2019-01-20 04:47:00   \n",
       "2  20617         71        12099749 2019-01-20 00:40:00  2019-01-20 00:44:00   \n",
       "3  20795         71        12099872 2019-01-20 00:47:00  2019-01-20 00:54:00   \n",
       "4  20813         71         7873840 2019-01-20 00:55:00  2019-01-20 23:10:00   \n",
       "\n",
       "   duration_sec  start_lng  start_lat   end_lng    end_lat  ...  dew_point_2m  \\\n",
       "0         600.0   8.812554  53.076481  8.804828  53.084196  ...          -4.8   \n",
       "1       16260.0   8.884911  53.078923  8.884911  53.078923  ...          -4.8   \n",
       "2         240.0   8.801623  53.067878  8.793217  53.064244  ...          -4.6   \n",
       "3         420.0   8.814744  53.084841  8.801135  53.094596  ...          -4.6   \n",
       "4       80100.0   8.845743  53.106418  8.845743  53.106418  ...          -4.1   \n",
       "\n",
       "   max_at_2m  mean_speed_h/s  direction_degree_x  max_m/s min_mean_m/s  \\\n",
       "0       -3.4             2.6                80.0      3.1          2.1   \n",
       "1       -3.4             2.6                80.0      3.1          2.1   \n",
       "2       -3.6             2.6                80.0      3.1          2.4   \n",
       "3       -3.6             2.6                80.0      3.1          2.4   \n",
       "4       -3.2             2.4                80.0      2.6          2.1   \n",
       "\n",
       "   max_mean_m/s  direction_degree_y  min   mm  \n",
       "0           2.6                80.0  0.0  0.0  \n",
       "1           2.6                80.0  0.0  0.0  \n",
       "2           2.6                80.0  0.0  0.0  \n",
       "3           2.6                80.0  0.0  0.0  \n",
       "4           2.6                80.0  0.0  0.0  \n",
       "\n",
       "[5 rows x 35 columns]"
      ]
     },
     "execution_count": 4,
     "metadata": {},
     "output_type": "execute_result"
    }
   ],
   "source": [
    "bremen_trips.head()\n"
   ]
  },
  {
   "cell_type": "code",
   "execution_count": 5,
   "metadata": {},
   "outputs": [],
   "source": [
    "bremen_trips['duration_min'] = bremen_trips['duration_sec']/60"
   ]
  },
  {
   "cell_type": "code",
   "execution_count": 6,
   "metadata": {},
   "outputs": [],
   "source": [
    "# drop entries with booking durations longer than 2 days\n",
    "# bremen_trips = bremen_trips[bremen_trips['duration_min'] < 200]\n",
    "# bremen_trips = bremen_trips[(bremen_trips['start_place'] != 0) & (bremen_trips['end_place'] != 0)]\n",
    "# bremen_trips = bremen_trips[bremen_trips['month'] != 1]"
   ]
  },
  {
   "cell_type": "code",
   "execution_count": 7,
   "metadata": {},
   "outputs": [
    {
     "data": {
      "text/plain": [
       "<matplotlib.axes._subplots.AxesSubplot at 0x12ae6b128>"
      ]
     },
     "execution_count": 7,
     "metadata": {},
     "output_type": "execute_result"
    },
    {
     "data": {
      "image/png": "[encoded data removed]",
      "text/plain": [
       "<Figure size 432x288 with 1 Axes>"
      ]
     },
     "metadata": {
      "needs_background": "light"
     },
     "output_type": "display_data"
    }
   ],
   "source": [
    "# avg duration per month (looks like we have some outliers)\n",
    "\n",
    "df = bremen_trips.groupby('month').duration_min.mean().to_frame()\n",
    "df.plot(kind=\"bar\")"
   ]
  },
  {
   "cell_type": "code",
   "execution_count": 8,
   "metadata": {},
   "outputs": [
    {
     "name": "stdout",
     "output_type": "stream",
     "text": [
      "<class 'pandas.core.frame.DataFrame'>\n",
      "Int64Index: 143665 entries, 0 to 143664\n",
      "Data columns (total 35 columns):\n",
      "bike                  143665 non-null int64\n",
      "bike_type             143665 non-null int64\n",
      "identification        143665 non-null int64\n",
      "start_time            143665 non-null datetime64[ns]\n",
      "end_time              143665 non-null object\n",
      "duration_sec          143665 non-null float64\n",
      "start_lng             143665 non-null float64\n",
      "start_lat             143665 non-null float64\n",
      "end_lng               143665 non-null float64\n",
      "end_lat               143665 non-null float64\n",
      "start_place           143665 non-null int64\n",
      "end_place             143665 non-null int64\n",
      "start_plz             143665 non-null int64\n",
      "end_plz               143665 non-null int64\n",
      "month                 143665 non-null int64\n",
      "booking_date          143665 non-null object\n",
      "weekdays              143665 non-null int64\n",
      "duration_min          143665 non-null float64\n",
      "start_name            36093 non-null object\n",
      "end_name              31320 non-null object\n",
      "sTime                 143665 non-null object\n",
      "eTime                 143665 non-null object\n",
      "timestamp             142926 non-null object\n",
      "temp_2m               142926 non-null float64\n",
      "humidity_2m           142926 non-null float64\n",
      "dew_point_2m          142926 non-null float64\n",
      "max_at_2m             142926 non-null float64\n",
      "mean_speed_h/s        142926 non-null float64\n",
      "direction_degree_x    142926 non-null float64\n",
      "max_m/s               142926 non-null float64\n",
      "min_mean_m/s          142926 non-null float64\n",
      "max_mean_m/s          142926 non-null float64\n",
      "direction_degree_y    142926 non-null float64\n",
      "min                   142926 non-null float64\n",
      "mm                    142926 non-null float64\n",
      "dtypes: datetime64[ns](1), float64(18), int64(9), object(7)\n",
      "memory usage: 39.5+ MB\n"
     ]
    }
   ],
   "source": [
    "bremen_trips.info()"
   ]
  },
  {
   "cell_type": "code",
   "execution_count": 9,
   "metadata": {},
   "outputs": [],
   "source": [
    "data_raw = bremen_trips #[['bike','bike_type','identification', 'start_time', 'duration_min', 'start_lng', 'start_lat', 'start_place', 'month', 'weekdays']]"
   ]
  },
  {
   "cell_type": "code",
   "execution_count": 10,
   "metadata": {},
   "outputs": [],
   "source": [
    "data_raw['hour'] = data_raw['start_time'].dt.hour\n",
    "data_raw['min'] = data_raw['start_time'].dt.minute\n",
    "data_raw['day_of_month'] = data_raw['start_time'].dt.day\n",
    "data_raw.drop(axis = 1, columns = 'start_time', inplace=True)"
   ]
  },
  {
   "cell_type": "code",
   "execution_count": 11,
   "metadata": {},
   "outputs": [
    {
     "name": "stdout",
     "output_type": "stream",
     "text": [
      "bike_type: 99.84478%\n",
      "71    143442\n",
      "29       223\n",
      "Name: bike_type, dtype: int64\n",
      "\n",
      "mm: 95.91271%\n",
      "0.00    137793\n",
      "0.03       821\n",
      "NaN        739\n",
      "0.04       736\n",
      "0.06       260\n",
      "         ...  \n",
      "1.76         1\n",
      "1.23         1\n",
      "1.10         1\n",
      "0.73         1\n",
      "1.25         1\n",
      "Name: mm, Length: 117, dtype: int64\n",
      "\n"
     ]
    }
   ],
   "source": [
    "# get uniformative features meaning that they contain over 95% of the time the same value\n",
    "num_rows = len(data_raw.index)\n",
    "low_information_cols = [] #\n",
    "\n",
    "for col in data_raw.columns:\n",
    "    cnts = data_raw[col].value_counts(dropna=False)\n",
    "    top_pct = (cnts/num_rows).iloc[0]\n",
    "    \n",
    "    if top_pct > 0.95:\n",
    "        low_information_cols.append(col)\n",
    "        print('{0}: {1:.5f}%'.format(col, top_pct*100))\n",
    "        print(cnts)\n",
    "        print()"
   ]
  },
  {
   "cell_type": "code",
   "execution_count": 12,
   "metadata": {},
   "outputs": [],
   "source": [
    "data_raw.drop(columns=[\"bike_type\"], inplace=True)"
   ]
  },
  {
   "cell_type": "code",
   "execution_count": 13,
   "metadata": {
    "scrolled": true
   },
   "outputs": [],
   "source": [
    "#data_raw['is_freefloat'] = np.where(data_raw['start_place'] == 0, 1, 0)\n"
   ]
  },
  {
   "cell_type": "code",
   "execution_count": 14,
   "metadata": {},
   "outputs": [],
   "source": [
    "data_raw = data_raw.merge(pd.get_dummies(data_raw['start_plz']), left_index=True,right_index=True)"
   ]
  },
  {
   "cell_type": "code",
   "execution_count": 52,
   "metadata": {},
   "outputs": [],
   "source": [
    "data_raw.dropna(inplace=True)"
   ]
  },
  {
   "cell_type": "code",
   "execution_count": 53,
   "metadata": {
    "scrolled": true
   },
   "outputs": [
    {
     "data": {
      "text/plain": [
       "bike                 -0.064734\n",
       "identification       -0.020385\n",
       "duration_sec          1.000000\n",
       "start_lng             0.053890\n",
       "start_lat             0.026620\n",
       "end_lng               0.027966\n",
       "end_lat               0.001249\n",
       "start_place           0.003293\n",
       "end_place            -0.005627\n",
       "start_plz             0.110969\n",
       "end_plz               0.009275\n",
       "month                -0.116104\n",
       "weekdays              0.021738\n",
       "duration_min          1.000000\n",
       "temp_2m              -0.029558\n",
       "humidity_2m          -0.016062\n",
       "dew_point_2m         -0.051594\n",
       "max_at_2m            -0.029517\n",
       "mean_speed_h/s        0.031707\n",
       "direction_degree_x    0.014891\n",
       "max_m/s               0.032463\n",
       "min_mean_m/s          0.026534\n",
       "max_mean_m/s          0.033036\n",
       "direction_degree_y    0.017708\n",
       "min                  -0.007198\n",
       "mm                    0.012460\n",
       "hour                 -0.083071\n",
       "day_of_month          0.021795\n",
       "28195                -0.068241\n",
       "28197                 0.041065\n",
       "28199                -0.017672\n",
       "28201                -0.002621\n",
       "28203                -0.025767\n",
       "28205                 0.013031\n",
       "28207                 0.015858\n",
       "28209                 0.021061\n",
       "28211                 0.009883\n",
       "28213                 0.003259\n",
       "28215                -0.002061\n",
       "28217                -0.054542\n",
       "28219                -0.035026\n",
       "28237                 0.062524\n",
       "28239                      NaN\n",
       "28259                      NaN\n",
       "28277                 0.014166\n",
       "28279                 0.069119\n",
       "28307                 0.072298\n",
       "28309                 0.001376\n",
       "28325                      NaN\n",
       "28327                 0.023509\n",
       "28329                 0.030956\n",
       "28355                 0.047859\n",
       "28357                 0.102956\n",
       "28359                 0.002525\n",
       "28717                      NaN\n",
       "28719                      NaN\n",
       "28755                      NaN\n",
       "28757                 0.060416\n",
       "28759                 0.006681\n",
       "28777                 0.033716\n",
       "dtype: float64"
      ]
     },
     "execution_count": 53,
     "metadata": {},
     "output_type": "execute_result"
    }
   ],
   "source": [
    "data_raw.corrwith(data_raw['duration_min'])[:60]"
   ]
  },
  {
   "cell_type": "code",
   "execution_count": 18,
   "metadata": {},
   "outputs": [
    {
     "data": {
      "text/plain": [
       "Index([              'bike',     'identification',           'end_time',\n",
       "             'duration_sec',          'start_lng',          'start_lat',\n",
       "                  'end_lng',            'end_lat',        'start_place',\n",
       "                'end_place',          'start_plz',            'end_plz',\n",
       "                    'month',       'booking_date',           'weekdays',\n",
       "             'duration_min',         'start_name',           'end_name',\n",
       "                    'sTime',              'eTime',          'timestamp',\n",
       "                  'temp_2m',        'humidity_2m',       'dew_point_2m',\n",
       "                'max_at_2m',     'mean_speed_h/s', 'direction_degree_x',\n",
       "                  'max_m/s',       'min_mean_m/s',       'max_mean_m/s',\n",
       "       'direction_degree_y',                'min',                 'mm',\n",
       "                     'hour',       'day_of_month',                28195,\n",
       "                      28197,                28199,                28201,\n",
       "                      28203,                28205,                28207,\n",
       "                      28209,                28211,                28213,\n",
       "                      28215,                28217,                28219,\n",
       "                      28237,                28239,                28259,\n",
       "                      28277,                28279,                28307,\n",
       "                      28309,                28325,                28327,\n",
       "                      28329,                28355,                28357,\n",
       "                      28359,                28717,                28719,\n",
       "                      28755,                28757,                28759,\n",
       "                      28777,                28779],\n",
       "      dtype='object')"
      ]
     },
     "execution_count": 18,
     "metadata": {},
     "output_type": "execute_result"
    }
   ],
   "source": [
    "data_raw.keys()"
   ]
  },
  {
   "cell_type": "code",
   "execution_count": 54,
   "metadata": {},
   "outputs": [],
   "source": [
    "#X = data_raw.drop(columns={'end_place','end_lng','end_lat','duration_min','end_time','timestamp','sTime','eTime','booking_date','start_name','end_name','duration_sec','start_plz','end_plz','identification'})\n",
    "X = data_raw[['start_plz','month']]\n",
    "y = data_raw['duration_min']"
   ]
  },
  {
   "cell_type": "code",
   "execution_count": 55,
   "metadata": {},
   "outputs": [
    {
     "name": "stdout",
     "output_type": "stream",
     "text": [
      "<class 'pandas.core.frame.DataFrame'>\n",
      "Int64Index: 10966 entries, 1 to 143657\n",
      "Data columns (total 2 columns):\n",
      "start_plz    10966 non-null int64\n",
      "month        10966 non-null int64\n",
      "dtypes: int64(2)\n",
      "memory usage: 257.0 KB\n"
     ]
    }
   ],
   "source": [
    "X.info()"
   ]
  },
  {
   "cell_type": "code",
   "execution_count": 56,
   "metadata": {},
   "outputs": [
    {
     "data": {
      "text/html": [
       "<div>\n",
       "<style scoped>\n",
       "    .dataframe tbody tr th:only-of-type {\n",
       "        vertical-align: middle;\n",
       "    }\n",
       "\n",
       "    .dataframe tbody tr th {\n",
       "        vertical-align: top;\n",
       "    }\n",
       "\n",
       "    .dataframe thead th {\n",
       "        text-align: right;\n",
       "    }\n",
       "</style>\n",
       "<table border=\"1\" class=\"dataframe\">\n",
       "  <thead>\n",
       "    <tr style=\"text-align: right;\">\n",
       "      <th></th>\n",
       "      <th>start_plz</th>\n",
       "      <th>month</th>\n",
       "    </tr>\n",
       "  </thead>\n",
       "  <tbody>\n",
       "    <tr>\n",
       "      <th>1</th>\n",
       "      <td>28329</td>\n",
       "      <td>1</td>\n",
       "    </tr>\n",
       "    <tr>\n",
       "      <th>4</th>\n",
       "      <td>28359</td>\n",
       "      <td>1</td>\n",
       "    </tr>\n",
       "    <tr>\n",
       "      <th>14</th>\n",
       "      <td>28195</td>\n",
       "      <td>1</td>\n",
       "    </tr>\n",
       "    <tr>\n",
       "      <th>16</th>\n",
       "      <td>28359</td>\n",
       "      <td>1</td>\n",
       "    </tr>\n",
       "    <tr>\n",
       "      <th>21</th>\n",
       "      <td>28359</td>\n",
       "      <td>1</td>\n",
       "    </tr>\n",
       "  </tbody>\n",
       "</table>\n",
       "</div>"
      ],
      "text/plain": [
       "    start_plz  month\n",
       "1       28329      1\n",
       "4       28359      1\n",
       "14      28195      1\n",
       "16      28359      1\n",
       "21      28359      1"
      ]
     },
     "execution_count": 56,
     "metadata": {},
     "output_type": "execute_result"
    }
   ],
   "source": [
    "X.head()"
   ]
  },
  {
   "cell_type": "code",
   "execution_count": 57,
   "metadata": {},
   "outputs": [],
   "source": [
    "from sklearn.model_selection import train_test_split\n",
    "\n",
    "\n",
    "X_train, X_val_test, y_train, y_val_test = train_test_split(X, y, test_size=0.60, shuffle=False)\n",
    "X_val, X_test, y_val, y_test = train_test_split(X_val_test, y_val_test, test_size=0.60, shuffle=False)"
   ]
  },
  {
   "cell_type": "code",
   "execution_count": 58,
   "metadata": {},
   "outputs": [],
   "source": [
    "from sklearn.linear_model import LinearRegression\n",
    "from sklearn.preprocessing import PolynomialFeatures"
   ]
  },
  {
   "cell_type": "code",
   "execution_count": 131,
   "metadata": {},
   "outputs": [],
   "source": [
    "poly = PolynomialFeatures(3)\n",
    "X_train_poly = poly.fit_transform(X_train)"
   ]
  },
  {
   "cell_type": "code",
   "execution_count": 132,
   "metadata": {},
   "outputs": [],
   "source": [
    "lin = LinearRegression()"
   ]
  },
  {
   "cell_type": "code",
   "execution_count": 133,
   "metadata": {},
   "outputs": [
    {
     "data": {
      "text/plain": [
       "LinearRegression(copy_X=True, fit_intercept=True, n_jobs=None, normalize=False)"
      ]
     },
     "execution_count": 133,
     "metadata": {},
     "output_type": "execute_result"
    },
    {
     "data": {
      "text/plain": [
       "0.03643645207144153"
      ]
     },
     "execution_count": 133,
     "metadata": {},
     "output_type": "execute_result"
    }
   ],
   "source": [
    "lin.fit(X_train_poly, y_train)\n",
    "lin.score(X_train_poly, y_train)"
   ]
  },
  {
   "cell_type": "code",
   "execution_count": 134,
   "metadata": {},
   "outputs": [
    {
     "data": {
      "text/plain": [
       "0.012559039015422544"
      ]
     },
     "execution_count": 134,
     "metadata": {},
     "output_type": "execute_result"
    }
   ],
   "source": [
    "X_val_poly = poly.fit_transform(X_val)\n",
    "lin.score(X_val_poly,y_val)"
   ]
  },
  {
   "cell_type": "code",
   "execution_count": 135,
   "metadata": {},
   "outputs": [],
   "source": [
    "from sklearn.ensemble import RandomForestRegressor\n",
    "from sklearn.model_selection import GridSearchCV\n",
    "from sklearn.model_selection import cross_val_score"
   ]
  },
  {
   "cell_type": "code",
   "execution_count": 136,
   "metadata": {},
   "outputs": [],
   "source": [
    "parameters = {'max_depth':[2, 3, 4, 5, 7],\n",
    "              'n_estimators':[1, 10, 25, 50, 100, 256, 512],\n",
    "              'random_state':[42]}\n",
    "    \n",
    "def perform_grid_search(X_data, y_data):\n",
    "    rf = RandomForestRegressor(criterion='mse')\n",
    "    \n",
    "    clf = GridSearchCV(rf, parameters, cv=4, scoring='r2', n_jobs=3)\n",
    "    \n",
    "    clf.fit(X_data, y_data)\n",
    "    \n",
    "    print(clf.cv_results_['mean_test_score'])\n",
    "    \n",
    "    return clf.best_params_['n_estimators'], clf.best_params_['max_depth']"
   ]
  },
  {
   "cell_type": "code",
   "execution_count": 137,
   "metadata": {},
   "outputs": [
    {
     "name": "stdout",
     "output_type": "stream",
     "text": [
      "[ 0.00948408  0.01434006  0.01197755  0.01549719  0.01703563  0.01710094\n",
      "  0.01691182  0.01038098  0.02736511  0.02565955  0.02824473  0.03034348\n",
      "  0.03091979  0.0300638  -0.02478662  0.02176968  0.01924592  0.02177784\n",
      "  0.02471591  0.02553426  0.02558391 -0.0747195   0.01529336  0.00885957\n",
      "  0.01301461  0.01588311  0.01541091  0.0157104  -0.07502949 -0.00744773\n",
      " -0.01977203 -0.01238211 -0.00838997 -0.00901166 -0.0069959 ]\n",
      "256 3 42\n"
     ]
    }
   ],
   "source": [
    "# extract parameters\n",
    "n_estimator, depth = perform_grid_search(X_train, y_train)\n",
    "c_random_state = 42\n",
    "print(n_estimator, depth, c_random_state)"
   ]
  },
  {
   "cell_type": "code",
   "execution_count": 138,
   "metadata": {},
   "outputs": [
    {
     "data": {
      "text/plain": [
       "RandomForestRegressor(bootstrap=True, criterion='mse', max_depth=5,\n",
       "                      max_features='auto', max_leaf_nodes=None,\n",
       "                      min_impurity_decrease=0.0, min_impurity_split=None,\n",
       "                      min_samples_leaf=1, min_samples_split=2,\n",
       "                      min_weight_fraction_leaf=0.0, n_estimators=512,\n",
       "                      n_jobs=None, oob_score=False, random_state=42, verbose=0,\n",
       "                      warm_start=False)"
      ]
     },
     "execution_count": 138,
     "metadata": {},
     "output_type": "execute_result"
    }
   ],
   "source": [
    "rf = RandomForestRegressor(criterion='mse', max_depth=5, n_estimators=512, random_state=42)\n",
    "rf.fit(X_train, y_train)"
   ]
  },
  {
   "cell_type": "code",
   "execution_count": 139,
   "metadata": {},
   "outputs": [],
   "source": [
    "y_pred = rf.predict(X_train)"
   ]
  },
  {
   "cell_type": "code",
   "execution_count": 142,
   "metadata": {},
   "outputs": [],
   "source": [
    "from sklearn.metrics import mean_squared_error, mean_absolute_error"
   ]
  },
  {
   "cell_type": "code",
   "execution_count": 141,
   "metadata": {},
   "outputs": [
    {
     "data": {
      "text/plain": [
       "39053.37382574634"
      ]
     },
     "execution_count": 141,
     "metadata": {},
     "output_type": "execute_result"
    }
   ],
   "source": [
    "mean_squared_error(y_train, y_pred)"
   ]
  },
  {
   "cell_type": "code",
   "execution_count": 143,
   "metadata": {},
   "outputs": [
    {
     "data": {
      "text/plain": [
       "115.66346428447538"
      ]
     },
     "execution_count": 143,
     "metadata": {},
     "output_type": "execute_result"
    }
   ],
   "source": [
    "mean_absolute_error(y_train, y_pred)"
   ]
  },
  {
   "cell_type": "code",
   "execution_count": null,
   "metadata": {},
   "outputs": [],
   "source": []
  }
 ],
 "metadata": {
  "kernelspec": {
   "display_name": "Python 3",
   "language": "python",
   "name": "python3"
  },
  "language_info": {
   "codemirror_mode": {
    "name": "ipython",
    "version": 3
   },
   "file_extension": ".py",
   "mimetype": "text/x-python",
   "name": "python",
   "nbconvert_exporter": "python",
   "pygments_lexer": "ipython3",
   "version": "3.7.3"
  }
 },
 "nbformat": 4,
 "nbformat_minor": 4
}
