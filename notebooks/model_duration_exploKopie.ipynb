{
 "cells": [
  {
   "cell_type": "code",
   "execution_count": 49,
   "metadata": {},
   "outputs": [],
   "source": [
    "import pandas as pd\n",
    "import sys\n",
    "from datetime import date, datetime\n",
    "import matplotlib.pyplot as plt\n",
    "import seaborn as sns\n",
    "import numpy as np"
   ]
  },
  {
   "cell_type": "code",
   "execution_count": 50,
   "metadata": {},
   "outputs": [],
   "source": [
    "sys.path.insert(0,\"..\")\n",
    "bremen_trips = pd.read_csv(\"../data/processed/trips_weather.csv\", index_col=0)\n",
    "bremen_trips = bremen_trips.sort_values(by=['start_time'], ascending=True)\n",
    "bremen_trips[\"start_time\"] = pd.to_datetime(bremen_trips[\"start_time\"])"
   ]
  },
  {
   "cell_type": "code",
   "execution_count": 51,
   "metadata": {},
   "outputs": [],
   "source": [
    "\n",
    "for col in ['start_time']:\n",
    "    bremen_trips['month'] = pd.DatetimeIndex(bremen_trips['start_time']).month\n",
    "    bremen_trips['booking_date'] = bremen_trips.start_time.dt.date\n",
    "    bremen_trips['weekdays'] = pd.DatetimeIndex(bremen_trips['start_time']).weekday"
   ]
  },
  {
   "cell_type": "code",
   "execution_count": 54,
   "metadata": {},
   "outputs": [],
   "source": [
    "bremen_trips['duration_min'] = bremen_trips['duration_sec']/60\n",
    "data_raw =bremen_trips"
   ]
  },
  {
   "cell_type": "code",
   "execution_count": 55,
   "metadata": {},
   "outputs": [],
   "source": [
    "data_raw['hour'] = data_raw['start_time'].dt.hour\n",
    "data_raw['min'] = data_raw['start_time'].dt.minute\n",
    "data_raw['day_of_month'] = data_raw['start_time'].dt.day\n",
    "data_raw.drop(axis = 1, columns = 'start_time', inplace=True)"
   ]
  },
  {
   "cell_type": "code",
   "execution_count": 57,
   "metadata": {
    "scrolled": false
   },
   "outputs": [
    {
     "name": "stdout",
     "output_type": "stream",
     "text": [
      "identification - 0.0%\n",
      "end_time - 0.0%\n",
      "duration_sec - 0.0%\n",
      "start_lng - 0.0%\n",
      "start_lat - 0.0%\n",
      "end_lng - 0.0%\n",
      "end_lat - 0.0%\n",
      "start_place - 0.0%\n",
      "end_place - 0.0%\n",
      "start_plz - 0.0%\n",
      "end_plz - 0.0%\n",
      "month - 0.0%\n",
      "booking_date - 0.0%\n",
      "weekdays - 0.0%\n",
      "duration_min - 0.0%\n",
      "timestamp - 0.0%\n",
      "temp_2m - 0.0%\n",
      "humidity_2m - 0.0%\n",
      "dew_point_2m - 0.0%\n",
      "max_at_2m - 0.0%\n",
      "mean_speed_h/s - 0.0%\n",
      "direction_degree_x - 0.0%\n",
      "max_m/s - 0.0%\n",
      "min_mean_m/s - 0.0%\n",
      "max_mean_m/s - 0.0%\n",
      "direction_degree_y - 0.0%\n",
      "min - 0.0%\n",
      "hour - 0.0%\n",
      "day_of_month - 0.0%\n"
     ]
    }
   ],
   "source": [
    "for col in data_raw.columns:\n",
    "    pct_missing = np.mean(data_raw[col].isnull())\n",
    "    print('{} - {}%'.format(col, round(pct_missing*100)))"
   ]
  },
  {
   "cell_type": "code",
   "execution_count": 59,
   "metadata": {},
   "outputs": [],
   "source": [
    "data_raw.drop(columns=[\"identification\", \"end_time\", \"end_lng\", \"end_lat\", \"end_place\", \"end_plz\", \"booking_date\", \"timestamp\"], inplace=True)"
   ]
  },
  {
   "cell_type": "code",
   "execution_count": 61,
   "metadata": {
    "scrolled": false
   },
   "outputs": [
    {
     "data": {
      "text/plain": [
       "duration_sec          1.000000\n",
       "start_lng             0.006962\n",
       "start_lat             0.039297\n",
       "start_place           0.057302\n",
       "start_plz             0.048741\n",
       "month                -0.106360\n",
       "weekdays              0.011312\n",
       "duration_min          1.000000\n",
       "temp_2m               0.017365\n",
       "humidity_2m          -0.058349\n",
       "dew_point_2m         -0.026082\n",
       "max_at_2m             0.017693\n",
       "mean_speed_h/s        0.021873\n",
       "direction_degree_x   -0.000834\n",
       "max_m/s               0.027060\n",
       "min_mean_m/s          0.008624\n",
       "max_mean_m/s          0.022586\n",
       "direction_degree_y   -0.001909\n",
       "min                  -0.004710\n",
       "hour                 -0.028797\n",
       "day_of_month          0.007346\n",
       "dtype: float64"
      ]
     },
     "execution_count": 61,
     "metadata": {},
     "output_type": "execute_result"
    }
   ],
   "source": [
    "data_raw.corrwith(data_raw['duration_min'])[:60]"
   ]
  },
  {
   "cell_type": "markdown",
   "metadata": {},
   "source": [
    "It is evident, that almost none of the features correlates to the trip duration. Thus we could conclude already that it is not possible to predict "
   ]
  },
  {
   "cell_type": "code",
   "execution_count": 62,
   "metadata": {},
   "outputs": [],
   "source": [
    "X = data_raw.drop(columns={'duration_min','duration_sec'})\n",
    "#X = data_raw[['start_plz','month','start_lng','start_lat','hour']]\n",
    "y = data_raw['duration_min']"
   ]
  },
  {
   "cell_type": "code",
   "execution_count": 64,
   "metadata": {},
   "outputs": [],
   "source": [
    "from sklearn.model_selection import train_test_split\n",
    "\n",
    "\n",
    "X_train, X_val_test, y_train, y_val_test = train_test_split(X, y, test_size=0.60, shuffle=False)\n",
    "X_val, X_test, y_val, y_test = train_test_split(X_val_test, y_val_test, test_size=0.60, shuffle=False)"
   ]
  },
  {
   "cell_type": "code",
   "execution_count": 65,
   "metadata": {},
   "outputs": [],
   "source": [
    "from sklearn.linear_model import LinearRegression\n",
    "from sklearn.preprocessing import PolynomialFeatures"
   ]
  },
  {
   "cell_type": "code",
   "execution_count": 66,
   "metadata": {},
   "outputs": [],
   "source": [
    "poly = PolynomialFeatures(2)\n",
    "X_train_poly = poly.fit_transform(X_train)"
   ]
  },
  {
   "cell_type": "code",
   "execution_count": 67,
   "metadata": {},
   "outputs": [],
   "source": [
    "lin = LinearRegression()"
   ]
  },
  {
   "cell_type": "code",
   "execution_count": 68,
   "metadata": {},
   "outputs": [
    {
     "data": {
      "text/plain": [
       "0.03328200584412799"
      ]
     },
     "execution_count": 68,
     "metadata": {},
     "output_type": "execute_result"
    }
   ],
   "source": [
    "lin.fit(X_train_poly, y_train)\n",
    "lin.score(X_train_poly, y_train)"
   ]
  },
  {
   "cell_type": "code",
   "execution_count": 69,
   "metadata": {},
   "outputs": [
    {
     "data": {
      "text/plain": [
       "-0.03630686139425232"
      ]
     },
     "execution_count": 69,
     "metadata": {},
     "output_type": "execute_result"
    }
   ],
   "source": [
    "X_val_poly = poly.fit_transform(X_val)\n",
    "lin.score(X_val_poly,y_val)"
   ]
  },
  {
   "cell_type": "code",
   "execution_count": 70,
   "metadata": {},
   "outputs": [],
   "source": [
    "from sklearn.ensemble import RandomForestRegressor\n"
   ]
  },
  {
   "cell_type": "code",
   "execution_count": 71,
   "metadata": {},
   "outputs": [
    {
     "data": {
      "text/plain": [
       "RandomForestRegressor(bootstrap=True, ccp_alpha=0.0, criterion='mse',\n",
       "                      max_depth=5, max_features='auto', max_leaf_nodes=None,\n",
       "                      max_samples=None, min_impurity_decrease=0.0,\n",
       "                      min_impurity_split=None, min_samples_leaf=1,\n",
       "                      min_samples_split=2, min_weight_fraction_leaf=0.0,\n",
       "                      n_estimators=512, n_jobs=None, oob_score=False,\n",
       "                      random_state=42, verbose=0, warm_start=False)"
      ]
     },
     "execution_count": 71,
     "metadata": {},
     "output_type": "execute_result"
    }
   ],
   "source": [
    "rf = RandomForestRegressor(criterion='mse', max_depth=5, n_estimators=512, random_state=42)\n",
    "rf.fit(X_train, y_train)"
   ]
  },
  {
   "cell_type": "code",
   "execution_count": 72,
   "metadata": {},
   "outputs": [],
   "source": [
    "y_pred = rf.predict(X_train)"
   ]
  },
  {
   "cell_type": "code",
   "execution_count": 73,
   "metadata": {},
   "outputs": [
    {
     "data": {
      "text/plain": [
       "64.92769523946832"
      ]
     },
     "execution_count": 73,
     "metadata": {},
     "output_type": "execute_result"
    }
   ],
   "source": [
    "from sklearn.metrics import mean_squared_error, mean_absolute_error\n",
    "\n",
    "mean_absolute_error(y_train, y_pred)"
   ]
  },
  {
   "cell_type": "code",
   "execution_count": 136,
   "metadata": {},
   "outputs": [],
   "source": [
    "from sklearn.model_selection import GridSearchCV\n",
    "from sklearn.model_selection import cross_val_score\n",
    "\n",
    "parameters = {'max_depth':[2, 3, 4, 5, 7],\n",
    "              'n_estimators':[1, 10, 25, 50, 100, 256, 512],\n",
    "              'random_state':[42]}\n",
    "    \n",
    "def perform_grid_search(X_data, y_data):\n",
    "    rf = RandomForestRegressor(criterion='mse')\n",
    "    \n",
    "    clf = GridSearchCV(rf, parameters, cv=4, scoring='r2', n_jobs=3)\n",
    "    \n",
    "    clf.fit(X_data, y_data)\n",
    "    \n",
    "    print(clf.cv_results_['mean_test_score'])\n",
    "    \n",
    "    return clf.best_params_['n_estimators'], clf.best_params_['max_depth']"
   ]
  },
  {
   "cell_type": "code",
   "execution_count": 137,
   "metadata": {},
   "outputs": [
    {
     "name": "stdout",
     "output_type": "stream",
     "text": [
      "[ 0.00948408  0.01434006  0.01197755  0.01549719  0.01703563  0.01710094\n",
      "  0.01691182  0.01038098  0.02736511  0.02565955  0.02824473  0.03034348\n",
      "  0.03091979  0.0300638  -0.02478662  0.02176968  0.01924592  0.02177784\n",
      "  0.02471591  0.02553426  0.02558391 -0.0747195   0.01529336  0.00885957\n",
      "  0.01301461  0.01588311  0.01541091  0.0157104  -0.07502949 -0.00744773\n",
      " -0.01977203 -0.01238211 -0.00838997 -0.00901166 -0.0069959 ]\n",
      "256 3 42\n"
     ]
    }
   ],
   "source": [
    "# extract parameters\n",
    "n_estimator, depth = perform_grid_search(X_train, y_train)\n",
    "c_random_state = 42\n",
    "print(n_estimator, depth, c_random_state)"
   ]
  }
 ],
 "metadata": {
  "kernelspec": {
   "display_name": "Python 3",
   "language": "python",
   "name": "python3"
  },
  "language_info": {
   "codemirror_mode": {
    "name": "ipython",
    "version": 3
   },
   "file_extension": ".py",
   "mimetype": "text/x-python",
   "name": "python",
   "nbconvert_exporter": "python",
   "pygments_lexer": "ipython3",
   "version": "3.7.6"
  }
 },
 "nbformat": 4,
 "nbformat_minor": 4
}
