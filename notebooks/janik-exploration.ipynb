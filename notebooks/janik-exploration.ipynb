{
 "cells": [
  {
   "cell_type": "code",
   "execution_count": 1,
   "metadata": {
    "collapsed": true
   },
   "outputs": [
    {
     "name": "stdout",
     "output_type": "stream",
     "text": [
      "<class 'pandas.core.frame.DataFrame'>\n",
      "RangeIndex: 3585591 entries, 0 to 3585590\n",
      "Data columns (total 14 columns):\n",
      " #   Column        Dtype  \n",
      "---  ------        -----  \n",
      " 0   Unnamed: 0    int64  \n",
      " 1   p_spot        bool   \n",
      " 2   p_place_type  int64  \n",
      " 3   datetime      object \n",
      " 4   b_number      int64  \n",
      " 5   trip          object \n",
      " 6   p_uid         int64  \n",
      " 7   p_bikes       int64  \n",
      " 8   p_lat         float64\n",
      " 9   b_bike_type   int64  \n",
      " 10  p_name        object \n",
      " 11  p_number      float64\n",
      " 12  p_lng         float64\n",
      " 13  p_bike        bool   \n",
      "dtypes: bool(2), float64(3), int64(6), object(3)\n",
      "memory usage: 335.1+ MB\n"
     ]
    }
   ],
   "source": [
    "import pandas as pd\n",
    "\n",
    "raw = pd.read_csv('../data/raw/bremen.csv')\n",
    "\n",
    "raw.info()"
   ]
  },
  {
   "cell_type": "code",
   "execution_count": 3,
   "outputs": [
    {
     "data": {
      "text/plain": "         Unnamed: 0  p_spot  p_place_type             datetime  b_number  \\\n1955221     1955221   False            12  2019-08-14 02:02:00     54018   \n695894       695894    True             0  2019-08-15 15:00:00     90386   \n2806757     2806757   False            12  2019-11-01 09:48:00     20679   \n2889744     2889744   False            12  2019-12-17 23:59:00     20638   \n637543       637543   False            12  2019-06-20 19:53:00     90027   \n\n          trip     p_uid  p_bikes      p_lat  b_bike_type       p_name  \\\n1955221    end  20443882        1  49.007991           71   BIKE 54018   \n695894   start     66146        6  49.440019           71  Aufseßplatz   \n2806757    end  24333495        1  53.076431           71   BIKE 20679   \n2889744   last  26113535        1  53.077329           71   BIKE 20638   \n637543     end  17723141        1  49.450538           71   BIKE 90027   \n\n         p_number      p_lng  p_bike  \n1955221       0.0   8.441022    True  \n695894     4649.0  11.080526   False  \n2806757       0.0   8.886413    True  \n2889744       0.0   8.896274    True  \n637543        0.0  11.076410    True  ",
      "text/html": "<div>\n<style scoped>\n    .dataframe tbody tr th:only-of-type {\n        vertical-align: middle;\n    }\n\n    .dataframe tbody tr th {\n        vertical-align: top;\n    }\n\n    .dataframe thead th {\n        text-align: right;\n    }\n</style>\n<table border=\"1\" class=\"dataframe\">\n  <thead>\n    <tr style=\"text-align: right;\">\n      <th></th>\n      <th>Unnamed: 0</th>\n      <th>p_spot</th>\n      <th>p_place_type</th>\n      <th>datetime</th>\n      <th>b_number</th>\n      <th>trip</th>\n      <th>p_uid</th>\n      <th>p_bikes</th>\n      <th>p_lat</th>\n      <th>b_bike_type</th>\n      <th>p_name</th>\n      <th>p_number</th>\n      <th>p_lng</th>\n      <th>p_bike</th>\n    </tr>\n  </thead>\n  <tbody>\n    <tr>\n      <th>1955221</th>\n      <td>1955221</td>\n      <td>False</td>\n      <td>12</td>\n      <td>2019-08-14 02:02:00</td>\n      <td>54018</td>\n      <td>end</td>\n      <td>20443882</td>\n      <td>1</td>\n      <td>49.007991</td>\n      <td>71</td>\n      <td>BIKE 54018</td>\n      <td>0.0</td>\n      <td>8.441022</td>\n      <td>True</td>\n    </tr>\n    <tr>\n      <th>695894</th>\n      <td>695894</td>\n      <td>True</td>\n      <td>0</td>\n      <td>2019-08-15 15:00:00</td>\n      <td>90386</td>\n      <td>start</td>\n      <td>66146</td>\n      <td>6</td>\n      <td>49.440019</td>\n      <td>71</td>\n      <td>Aufseßplatz</td>\n      <td>4649.0</td>\n      <td>11.080526</td>\n      <td>False</td>\n    </tr>\n    <tr>\n      <th>2806757</th>\n      <td>2806757</td>\n      <td>False</td>\n      <td>12</td>\n      <td>2019-11-01 09:48:00</td>\n      <td>20679</td>\n      <td>end</td>\n      <td>24333495</td>\n      <td>1</td>\n      <td>53.076431</td>\n      <td>71</td>\n      <td>BIKE 20679</td>\n      <td>0.0</td>\n      <td>8.886413</td>\n      <td>True</td>\n    </tr>\n    <tr>\n      <th>2889744</th>\n      <td>2889744</td>\n      <td>False</td>\n      <td>12</td>\n      <td>2019-12-17 23:59:00</td>\n      <td>20638</td>\n      <td>last</td>\n      <td>26113535</td>\n      <td>1</td>\n      <td>53.077329</td>\n      <td>71</td>\n      <td>BIKE 20638</td>\n      <td>0.0</td>\n      <td>8.896274</td>\n      <td>True</td>\n    </tr>\n    <tr>\n      <th>637543</th>\n      <td>637543</td>\n      <td>False</td>\n      <td>12</td>\n      <td>2019-06-20 19:53:00</td>\n      <td>90027</td>\n      <td>end</td>\n      <td>17723141</td>\n      <td>1</td>\n      <td>49.450538</td>\n      <td>71</td>\n      <td>BIKE 90027</td>\n      <td>0.0</td>\n      <td>11.076410</td>\n      <td>True</td>\n    </tr>\n  </tbody>\n</table>\n</div>"
     },
     "execution_count": 3,
     "metadata": {},
     "output_type": "execute_result"
    }
   ],
   "source": [
    "raw.sample(5)\n"
   ],
   "metadata": {
    "collapsed": false,
    "pycharm": {
     "name": "#%%\n"
    }
   }
  }
 ],
 "metadata": {
  "kernelspec": {
   "display_name": "Python 3",
   "language": "python",
   "name": "python3"
  },
  "language_info": {
   "codemirror_mode": {
    "name": "ipython",
    "version": 2
   },
   "file_extension": ".py",
   "mimetype": "text/x-python",
   "name": "python",
   "nbconvert_exporter": "python",
   "pygments_lexer": "ipython2",
   "version": "2.7.6"
  }
 },
 "nbformat": 4,
 "nbformat_minor": 0
}