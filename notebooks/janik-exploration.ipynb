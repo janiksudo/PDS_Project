{
 "cells": [
  {
   "cell_type": "code",
   "execution_count": 16,
   "metadata": {},
   "outputs": [
    {
     "name": "stdout",
     "output_type": "stream",
     "text": [
      "<class 'pandas.core.frame.DataFrame'>\n",
      "RangeIndex: 3585591 entries, 0 to 3585590\n",
      "Data columns (total 14 columns):\n",
      " #   Column        Dtype  \n",
      "---  ------        -----  \n",
      " 0   Unnamed: 0    int64  \n",
      " 1   p_spot        bool   \n",
      " 2   p_place_type  int64  \n",
      " 3   datetime      object \n",
      " 4   b_number      int64  \n",
      " 5   trip          object \n",
      " 6   p_uid         int64  \n",
      " 7   p_bikes       int64  \n",
      " 8   p_lat         float64\n",
      " 9   b_bike_type   int64  \n",
      " 10  p_name        object \n",
      " 11  p_number      float64\n",
      " 12  p_lng         float64\n",
      " 13  p_bike        bool   \n",
      "dtypes: bool(2), float64(3), int64(6), object(3)\n",
      "memory usage: 335.1+ MB\n"
     ]
    }
   ],
   "source": [
    "import pandas as pd\n",
    "import numpy as np\n",
    "\n",
    "raw = pd.read_csv('../data/raw/bremen.csv')\n",
    "\n",
    "raw.info()"
   ]
  },
  {
   "cell_type": "code",
   "execution_count": 11,
   "metadata": {},
   "outputs": [
    {
     "data": {
      "text/html": [
       "<div>\n",
       "<style scoped>\n",
       "    .dataframe tbody tr th:only-of-type {\n",
       "        vertical-align: middle;\n",
       "    }\n",
       "\n",
       "    .dataframe tbody tr th {\n",
       "        vertical-align: top;\n",
       "    }\n",
       "\n",
       "    .dataframe thead th {\n",
       "        text-align: right;\n",
       "    }\n",
       "</style>\n",
       "<table border=\"1\" class=\"dataframe\">\n",
       "  <thead>\n",
       "    <tr style=\"text-align: right;\">\n",
       "      <th></th>\n",
       "      <th>Unnamed: 0</th>\n",
       "      <th>p_spot</th>\n",
       "      <th>p_place_type</th>\n",
       "      <th>datetime</th>\n",
       "      <th>b_number</th>\n",
       "      <th>trip</th>\n",
       "      <th>p_uid</th>\n",
       "      <th>p_bikes</th>\n",
       "      <th>p_lat</th>\n",
       "      <th>b_bike_type</th>\n",
       "      <th>p_name</th>\n",
       "      <th>p_number</th>\n",
       "      <th>p_lng</th>\n",
       "      <th>p_bike</th>\n",
       "    </tr>\n",
       "  </thead>\n",
       "  <tbody>\n",
       "    <tr>\n",
       "      <th>1470212</th>\n",
       "      <td>1470212</td>\n",
       "      <td>True</td>\n",
       "      <td>0</td>\n",
       "      <td>2019-09-27 00:00:00</td>\n",
       "      <td>42917</td>\n",
       "      <td>first</td>\n",
       "      <td>660978</td>\n",
       "      <td>6</td>\n",
       "      <td>49.508376</td>\n",
       "      <td>71</td>\n",
       "      <td>Neckarstadt-Ost  - Carl-Zuckmayer-Straße</td>\n",
       "      <td>2536.0</td>\n",
       "      <td>8.476054</td>\n",
       "      <td>False</td>\n",
       "    </tr>\n",
       "    <tr>\n",
       "      <th>527416</th>\n",
       "      <td>527416</td>\n",
       "      <td>True</td>\n",
       "      <td>0</td>\n",
       "      <td>2019-01-31 23:59:00</td>\n",
       "      <td>90133</td>\n",
       "      <td>last</td>\n",
       "      <td>66150</td>\n",
       "      <td>5</td>\n",
       "      <td>49.429569</td>\n",
       "      <td>4</td>\n",
       "      <td>Südwestpark (Fitnessstudio)</td>\n",
       "      <td>4651.0</td>\n",
       "      <td>11.017651</td>\n",
       "      <td>False</td>\n",
       "    </tr>\n",
       "    <tr>\n",
       "      <th>2532572</th>\n",
       "      <td>2532572</td>\n",
       "      <td>False</td>\n",
       "      <td>12</td>\n",
       "      <td>2019-06-10 23:59:00</td>\n",
       "      <td>20536</td>\n",
       "      <td>last</td>\n",
       "      <td>17084330</td>\n",
       "      <td>1</td>\n",
       "      <td>53.070182</td>\n",
       "      <td>71</td>\n",
       "      <td>BIKE 20536</td>\n",
       "      <td>0.0</td>\n",
       "      <td>8.790753</td>\n",
       "      <td>True</td>\n",
       "    </tr>\n",
       "    <tr>\n",
       "      <th>1450556</th>\n",
       "      <td>1450556</td>\n",
       "      <td>True</td>\n",
       "      <td>0</td>\n",
       "      <td>2019-09-18 04:40:00</td>\n",
       "      <td>430323</td>\n",
       "      <td>start</td>\n",
       "      <td>339464</td>\n",
       "      <td>1</td>\n",
       "      <td>49.489012</td>\n",
       "      <td>71</td>\n",
       "      <td>E4 - Rathaus</td>\n",
       "      <td>2512.0</td>\n",
       "      <td>8.462997</td>\n",
       "      <td>False</td>\n",
       "    </tr>\n",
       "    <tr>\n",
       "      <th>928965</th>\n",
       "      <td>928965</td>\n",
       "      <td>False</td>\n",
       "      <td>12</td>\n",
       "      <td>2019-10-23 23:59:00</td>\n",
       "      <td>90241</td>\n",
       "      <td>last</td>\n",
       "      <td>23905884</td>\n",
       "      <td>1</td>\n",
       "      <td>49.460604</td>\n",
       "      <td>71</td>\n",
       "      <td>BIKE 90241</td>\n",
       "      <td>0.0</td>\n",
       "      <td>11.055309</td>\n",
       "      <td>True</td>\n",
       "    </tr>\n",
       "  </tbody>\n",
       "</table>\n",
       "</div>"
      ],
      "text/plain": [
       "         Unnamed: 0  p_spot  p_place_type             datetime  b_number  \\\n",
       "1470212     1470212    True             0  2019-09-27 00:00:00     42917   \n",
       "527416       527416    True             0  2019-01-31 23:59:00     90133   \n",
       "2532572     2532572   False            12  2019-06-10 23:59:00     20536   \n",
       "1450556     1450556    True             0  2019-09-18 04:40:00    430323   \n",
       "928965       928965   False            12  2019-10-23 23:59:00     90241   \n",
       "\n",
       "          trip     p_uid  p_bikes      p_lat  b_bike_type  \\\n",
       "1470212  first    660978        6  49.508376           71   \n",
       "527416    last     66150        5  49.429569            4   \n",
       "2532572   last  17084330        1  53.070182           71   \n",
       "1450556  start    339464        1  49.489012           71   \n",
       "928965    last  23905884        1  49.460604           71   \n",
       "\n",
       "                                           p_name  p_number      p_lng  p_bike  \n",
       "1470212  Neckarstadt-Ost  - Carl-Zuckmayer-Straße    2536.0   8.476054   False  \n",
       "527416                Südwestpark (Fitnessstudio)    4651.0  11.017651   False  \n",
       "2532572                                BIKE 20536       0.0   8.790753    True  \n",
       "1450556                              E4 - Rathaus    2512.0   8.462997   False  \n",
       "928965                                 BIKE 90241       0.0  11.055309    True  "
      ]
     },
     "execution_count": 11,
     "metadata": {},
     "output_type": "execute_result"
    }
   ],
   "source": [
    "raw.sample(5)"
   ]
  },
  {
   "cell_type": "code",
   "execution_count": 7,
   "metadata": {},
   "outputs": [
    {
     "data": {
      "text/plain": [
       "array([ True, False])"
      ]
     },
     "execution_count": 7,
     "metadata": {},
     "output_type": "execute_result"
    }
   ],
   "source": [
    "raw['p_spot'].unique()"
   ]
  },
  {
   "cell_type": "code",
   "execution_count": 8,
   "metadata": {},
   "outputs": [
    {
     "data": {
      "text/plain": [
       "array([ 0, 12, 14,  3])"
      ]
     },
     "execution_count": 8,
     "metadata": {},
     "output_type": "execute_result"
    }
   ],
   "source": [
    "raw['p_place_type'].unique()"
   ]
  },
  {
   "cell_type": "code",
   "execution_count": 10,
   "metadata": {},
   "outputs": [
    {
     "data": {
      "text/plain": [
       "array(['first', 'last', 'start', 'end'], dtype=object)"
      ]
     },
     "execution_count": 10,
     "metadata": {},
     "output_type": "execute_result"
    }
   ],
   "source": [
    "raw['trip'].unique()"
   ]
  },
  {
   "cell_type": "code",
   "execution_count": 12,
   "metadata": {},
   "outputs": [
    {
     "data": {
      "text/plain": [
       "array([ 5,  4,  3,  1,  2,  0,  6,  7,  8, 11, 10,  9, 15, 14, 12, 13, 17,\n",
       "       23, 20, 18, 22, 21, 16, 19, 24, 26, 25, 27, 28, 29, 30, 31, 32, 33,\n",
       "       36, 35, 34, 38, 37, 39, 42, 43, 44, 40, 41, 47, 46, 48, 45, 49, 53,\n",
       "       50, 54, 51, 52, 57, 60, 56, 64, 58, 61, 63, 62, 59, 55, 68, 69, 65,\n",
       "       66, 67, 71, 70, 72])"
      ]
     },
     "execution_count": 12,
     "metadata": {},
     "output_type": "execute_result"
    }
   ],
   "source": [
    "raw['p_bikes'].unique()"
   ]
  },
  {
   "cell_type": "code",
   "execution_count": 13,
   "metadata": {},
   "outputs": [
    {
     "data": {
      "text/plain": [
       "array([ 15,   0,   4,  71,  14, 120, 150,  17,  19,   5,  29])"
      ]
     },
     "execution_count": 13,
     "metadata": {},
     "output_type": "execute_result"
    }
   ],
   "source": [
    "raw['b_bike_type'].unique()"
   ]
  },
  {
   "cell_type": "code",
   "execution_count": 14,
   "metadata": {},
   "outputs": [
    {
     "data": {
      "text/plain": [
       "array([False,  True])"
      ]
     },
     "execution_count": 14,
     "metadata": {},
     "output_type": "execute_result"
    }
   ],
   "source": [
    "raw['p_bike'].unique()"
   ]
  }
 ],
 "metadata": {
  "kernelspec": {
   "display_name": "Python 3",
   "language": "python",
   "name": "python3"
  },
  "language_info": {
   "codemirror_mode": {
    "name": "ipython",
    "version": 3
   },
   "file_extension": ".py",
   "mimetype": "text/x-python",
   "name": "python",
   "nbconvert_exporter": "python",
   "pygments_lexer": "ipython3",
   "version": "3.6.9"
  }
 },
 "nbformat": 4,
 "nbformat_minor": 1
}
