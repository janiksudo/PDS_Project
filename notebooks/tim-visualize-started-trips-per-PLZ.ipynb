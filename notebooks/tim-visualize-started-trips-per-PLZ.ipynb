{
 "cells": [
  {
   "cell_type": "code",
   "execution_count": null,
   "metadata": {},
   "outputs": [],
   "source": [
    "import numpy as np\n",
    "import pandas as pd\n",
    "import folium\n",
    "import branca.colormap as cm\n",
    "import geopandas as gpd\n",
    "from geopandas.tools import sjoin\n",
    "from shapely.geometry import Point, Polygon\n",
    "import seaborn as sns\n",
    "from h3 import h3"
   ]
  },
  {
   "cell_type": "markdown",
   "metadata": {},
   "source": [
    "# Import data and convert to geopandas df"
   ]
  },
  {
   "cell_type": "code",
   "execution_count": null,
   "metadata": {},
   "outputs": [],
   "source": [
    "trips = pd.read_csv('../data/processed/trips.csv')"
   ]
  },
  {
   "cell_type": "markdown",
   "metadata": {},
   "source": [
    "## Create geopandas df for start locations"
   ]
  },
  {
   "cell_type": "code",
   "execution_count": null,
   "metadata": {},
   "outputs": [],
   "source": [
    "geo_trips_start = gpd.GeoDataFrame(trips, geometry=gpd.points_from_xy(trips.start_lng, trips.start_lat)).copy()\n",
    "\n",
    "geo_trips_start.head(2)"
   ]
  },
  {
   "cell_type": "markdown",
   "metadata": {},
   "source": [
    "## Import geodata of Bremen (PLZ based)\n",
    "https://public.opendatasoft.com/explore/dataset/postleitzahlen-deutschland/table/?refine.note=Bremen"
   ]
  },
  {
   "cell_type": "code",
   "execution_count": null,
   "metadata": {},
   "outputs": [],
   "source": [
    "plz_df = gpd.read_file('../data/external/plz_bremen.geojson')\n",
    "\n",
    "plz_df.head(2)"
   ]
  },
  {
   "cell_type": "markdown",
   "metadata": {},
   "source": [
    "## Visualization of plz areas of Bremen\n",
    "\n",
    "Note: 28329 comprises two disjunct areas - anyway the task is to count starts and end per PLZ"
   ]
  },
  {
   "cell_type": "code",
   "execution_count": null,
   "metadata": {},
   "outputs": [],
   "source": [
    "plz_bremen = folium.Map(location=[53.113780905428636,8.72900247893676], zoom_start=11)\n",
    "\n",
    "folium.TileLayer('CartoDB positron',name=\"Light Map\",control=False).add_to(plz_bremen)\n",
    "\n",
    "folium.Choropleth(geo_data=plz_df).add_to(plz_bremen)\n",
    "\n",
    "folium.LayerControl().add_to(plz_bremen)\n",
    "\n",
    "plz_bremen"
   ]
  },
  {
   "cell_type": "markdown",
   "metadata": {},
   "source": [
    "# Create new data frame with plz, the corresponding geometry and number of trips started and ended in this area"
   ]
  },
  {
   "cell_type": "markdown",
   "metadata": {},
   "source": [
    "## Starts"
   ]
  },
  {
   "cell_type": "code",
   "execution_count": null,
   "metadata": {},
   "outputs": [],
   "source": [
    "def get_trips_per_plz_df(trips_df, plz_df):\n",
    "\n",
    "    trips_df['count'] = 1\n",
    "\n",
    "    dfsjoin = gpd.sjoin(plz_df,trips_df[['geometry','count']])\n",
    "\n",
    "    dfpivot = pd.pivot_table(dfsjoin,index='plz',columns='count',aggfunc={'count':len})\n",
    "\n",
    "    dfpivot.columns = dfpivot.rename(columns={1:'trips_count'}).columns.droplevel()\n",
    "\n",
    "    trips_per_plz_df = plz_df.merge(dfpivot, how='left',on='plz')\n",
    "    \n",
    "    return trips_per_plz_df"
   ]
  },
  {
   "cell_type": "code",
   "execution_count": null,
   "metadata": {},
   "outputs": [],
   "source": [
    "plz_starts = get_trips_per_plz_df(geo_trips_start, plz_df)"
   ]
  },
  {
   "cell_type": "code",
   "execution_count": null,
   "metadata": {},
   "outputs": [],
   "source": [
    "def visualize_trips_per_plz_1(plz_starts, aliases, legend_name):\n",
    "\n",
    "    # Can be used for checking individual quantiles.\n",
    "    myscale = (plz_starts['trips_count'].quantile((0,0.6,0.75,0.9,0.98,1))).tolist()\n",
    "\n",
    "    m = folium.Map(location=[53.113780905428636,8.72900247893676], zoom_start=11)\n",
    "    folium.TileLayer('CartoDB positron',name=\"Light Map\",control=False).add_to(m)\n",
    "\n",
    "    folium.Choropleth(\n",
    "        geo_data=plz_starts,\n",
    "        name='choropleth',\n",
    "        data=plz_starts,\n",
    "        columns=['plz','trips_count'],\n",
    "        key_on=\"feature.properties.plz\",\n",
    "        fill_color='YlGnBu',\n",
    "        #threshold_scale=myscale,\n",
    "        fill_opacity=1,\n",
    "        line_opacity=0.5,\n",
    "        legend_name=legend_name\n",
    "    ).add_to(m)\n",
    "\n",
    "    folium.LayerControl().add_to(m)\n",
    "\n",
    "    style_function = lambda x: {'fillColor': '#ffffff',\n",
    "                                'color':'#ffffff', \n",
    "                                'fillOpacity': 0, \n",
    "                                'weight': 0.1}\n",
    "    highlight_function = lambda x: {'fillColor': '#000000', \n",
    "                                    'color':'#000000', \n",
    "                                    'fillOpacity': 0.5, \n",
    "                                    'weight': 0.1}\n",
    "    popup = folium.features.GeoJson(\n",
    "        plz_starts,\n",
    "        style_function=style_function, \n",
    "        control=False,\n",
    "        highlight_function=highlight_function, \n",
    "        tooltip=folium.features.GeoJsonTooltip(\n",
    "            fields=['plz','trips_count'],\n",
    "            aliases=aliases,\n",
    "            style=(\"background-color: white; color: #333333; font-family: arial; font-size: 12px; padding: 10px;\") \n",
    "        )\n",
    "    )\n",
    "\n",
    "    m.add_child(popup)\n",
    "    m.keep_in_front(popup)\n",
    "\n",
    "    return m"
   ]
  },
  {
   "cell_type": "code",
   "execution_count": null,
   "metadata": {
    "scrolled": true
   },
   "outputs": [],
   "source": [
    "def visualize_trips_per_plz_2(plz_starts, aliases):\n",
    "\n",
    "    colormap = cm.linear.YlGnBu_09.scale(0, plz_starts.trips_count.max())\n",
    "\n",
    "    mymap = folium.Map(location=[53.113780905428636,8.72900247893676], zoom_start=11)\n",
    "    \n",
    "    folium.TileLayer('CartoDB positron',name=\"Light Map\",control=False).add_to(mymap)\n",
    "    \n",
    "    colormap.caption = aliases[1]\n",
    "    \n",
    "    style_function = lambda x: {\"weight\":0.5, \n",
    "                                'color':'black',\n",
    "                                'fillColor':colormap(x['properties']['trips_count']), \n",
    "                                'fillOpacity':1}\n",
    "    highlight_function = lambda x: {'fillColor': '#000000', \n",
    "                                    'color':'#000000', \n",
    "                                    'fillOpacity': 0.50, \n",
    "                                    'weight': 0.1}\n",
    "    \n",
    "    trips_count=folium.features.GeoJson(\n",
    "            plz_starts,\n",
    "            style_function=style_function,\n",
    "            control=False,\n",
    "            highlight_function=highlight_function,\n",
    "            tooltip=folium.features.GeoJsonTooltip(fields=['plz','trips_count'],\n",
    "                aliases=aliases,\n",
    "                style=(\"background-color: white; color: #333333; font-family: arial; font-size: 12px; padding: 10px;\"),\n",
    "                sticky=True\n",
    "            )\n",
    "        )\n",
    "    colormap.add_to(mymap)\n",
    "    mymap.add_child(trips_count)\n",
    "    \n",
    "    return mymap"
   ]
  },
  {
   "cell_type": "markdown",
   "metadata": {},
   "source": [
    "## Visualizations of starts per plz of all available data of the year 2019"
   ]
  },
  {
   "cell_type": "code",
   "execution_count": null,
   "metadata": {
    "scrolled": true
   },
   "outputs": [],
   "source": [
    "visualize_trips_per_plz_2(plz_starts, ['Postleitzahl: ', 'Number of starts in 2019: '])"
   ]
  },
  {
   "cell_type": "markdown",
   "metadata": {},
   "source": [
    "### Save to reports"
   ]
  },
  {
   "cell_type": "code",
   "execution_count": null,
   "metadata": {},
   "outputs": [],
   "source": [
    "visualize_trips_per_plz_2(plz_starts, ['Postleitzahl: ', 'Number of starts in 2019: ']).save('../reports/figures/starts_per_plz_2019.html')"
   ]
  },
  {
   "cell_type": "markdown",
   "metadata": {},
   "source": [
    "- most trips in august start around the center of Bremen close to the main station"
   ]
  },
  {
   "cell_type": "markdown",
   "metadata": {},
   "source": [
    "### Check the number of trips per month"
   ]
  },
  {
   "cell_type": "code",
   "execution_count": null,
   "metadata": {},
   "outputs": [],
   "source": [
    "trips['start_time'] = pd.to_datetime(trips['start_time'])\n",
    "num_trips_month = []\n",
    "for i in range(1,13):\n",
    "    num_trips_month.append(len(trips[trips.set_index('start_time').index.month == i]))\n",
    "ax = sns.barplot(x=np.arange(1,13), y=num_trips_month, palette=\"Blues_d\")\n",
    "ax.set(ylabel='Number of bookings', xlabel='month of the year 2019') \n",
    "ax.set_title('Number of bookings per month (2019)')"
   ]
  },
  {
   "cell_type": "markdown",
   "metadata": {},
   "source": [
    "## Visualizations of trips per plz of all available data of august 2019"
   ]
  },
  {
   "cell_type": "code",
   "execution_count": null,
   "metadata": {},
   "outputs": [],
   "source": [
    "geo_trips_start['start_time'] = pd.to_datetime(geo_trips_start['start_time'])"
   ]
  },
  {
   "cell_type": "code",
   "execution_count": null,
   "metadata": {},
   "outputs": [],
   "source": [
    "geo_trips_start_august = geo_trips_start[geo_trips_start.set_index('start_time').index.month == 8]"
   ]
  },
  {
   "cell_type": "code",
   "execution_count": null,
   "metadata": {
    "scrolled": true
   },
   "outputs": [],
   "source": [
    "plz_starts_august = get_trips_per_plz_df(geo_trips_start_august, plz_df)"
   ]
  },
  {
   "cell_type": "code",
   "execution_count": null,
   "metadata": {},
   "outputs": [],
   "source": [
    "# Replace null values with 0\n",
    "plz_starts_august['trips_count'] = pd.DataFrame(plz_starts_august['trips_count']).fillna(0)"
   ]
  },
  {
   "cell_type": "code",
   "execution_count": null,
   "metadata": {
    "scrolled": true
   },
   "outputs": [],
   "source": [
    "visualize_trips_per_plz_2(plz_starts_august,['Postleitzahl: ', 'Number of starts in august 2019: '])"
   ]
  },
  {
   "cell_type": "markdown",
   "metadata": {},
   "source": [
    "- like for the whole year 2019 most trips in august start around the center of Bremen close to the main station"
   ]
  },
  {
   "cell_type": "markdown",
   "metadata": {},
   "source": [
    "### Save to reports"
   ]
  },
  {
   "cell_type": "code",
   "execution_count": null,
   "metadata": {},
   "outputs": [],
   "source": [
    "visualize_trips_per_plz_2(plz_starts_august,['Postleitzahl: ', 'Number of starts in august 2019: ']).save('../reports/figures/starts_per_plz_august_2019.html')"
   ]
  },
  {
   "cell_type": "markdown",
   "metadata": {},
   "source": [
    "# Visualization of starts and ends per hexagon resolution 9"
   ]
  },
  {
   "cell_type": "markdown",
   "metadata": {},
   "source": [
    "### Add h3 hexagon (resolution 9) addresses to trips data frame"
   ]
  },
  {
   "cell_type": "code",
   "execution_count": null,
   "metadata": {},
   "outputs": [],
   "source": [
    "resolution = 9\n",
    "\n",
    "sHex = []\n",
    "eHex = []\n",
    "\n",
    "for index, row in trips.iterrows():\n",
    "    sHex.append(h3.geo_to_h3(row['start_lat'], row['start_lng'], resolution))\n",
    "    eHex.append(h3.geo_to_h3(row['end_lat'], row['end_lng'], resolution))"
   ]
  },
  {
   "cell_type": "code",
   "execution_count": null,
   "metadata": {},
   "outputs": [],
   "source": [
    "trips['sHex'] = sHex\n",
    "trips['eHex'] = eHex"
   ]
  },
  {
   "cell_type": "code",
   "execution_count": null,
   "metadata": {
    "scrolled": true
   },
   "outputs": [],
   "source": [
    "trips.head(2)"
   ]
  },
  {
   "cell_type": "markdown",
   "metadata": {},
   "source": [
    "## Visualize start locations"
   ]
  },
  {
   "cell_type": "code",
   "execution_count": null,
   "metadata": {},
   "outputs": [],
   "source": [
    "trips['count'] = 1 # Add count column to count number of trips per hexagon\n",
    "\n",
    "starts = trips.groupby(['sHex']).agg({'count':'sum'}) # Aggregate all starts related to the corresponding hexagon\n",
    "\n",
    "starts.reset_index(inplace=True)"
   ]
  },
  {
   "cell_type": "markdown",
   "metadata": {},
   "source": [
    "There are many hexagons with only one trip in 2019, so we visualize only hexagons with at least 50 trips in 2019."
   ]
  },
  {
   "cell_type": "code",
   "execution_count": null,
   "metadata": {},
   "outputs": [],
   "source": [
    "starts.sort_values(by='count')"
   ]
  },
  {
   "cell_type": "markdown",
   "metadata": {},
   "source": [
    "## Functions for visualization"
   ]
  },
  {
   "cell_type": "code",
   "execution_count": null,
   "metadata": {},
   "outputs": [],
   "source": [
    "# Function that takes a list of and latitude and longitude coordinates reverses them and returns a list.\n",
    "def reverse_lat_lon(hex_coords):\n",
    "    geom_hex = []\n",
    "\n",
    "    for lat_lon in hex_coords:\n",
    "        geom_hex.append([lat_lon[1], lat_lon[0]])\n",
    "\n",
    "    return geom_hex\n",
    "\n",
    "# Function that draws a polygon onto a folium map.\n",
    "def add_poly_to_map(polygon, m, color, fillColor, weight, colormap):\n",
    "    \n",
    "    style_function = lambda x: {\"weight\":0, \n",
    "                                'color':'black',\n",
    "                                'fillColor':colormap(weight), \n",
    "                                'fillOpacity':0.4}\n",
    "    \n",
    "    popup = folium.Popup('Number of trips in 2019: ' + str(weight))\n",
    "    \n",
    "    gj = folium.GeoJson(polygon, style_function=style_function)\n",
    "    \n",
    "    gj.add_child(popup)\n",
    "    \n",
    "    gj.add_to(m)\n",
    "\n",
    "# Function that draws one or multiple h3 hexagon onto a folium map.\n",
    "def add_hex_to_map(hex_address, m, color, fillColor, weight, colormap):\n",
    "    if isinstance(hex_address, str):\n",
    "        hex_poly = Polygon(reverse_lat_lon(h3.h3_to_geo_boundary(h3_address=hex_address)))\n",
    "\n",
    "        add_poly_to_map(hex_poly, m, color, fillColor, weight, colormap)\n",
    "\n",
    "    if isinstance(hex_address, list):\n",
    "\n",
    "        for address in hex_address:\n",
    "            hex_poly = Polygon(reverse_lat_lon(h3.h3_to_geo_boundary(h3_address=address)))\n",
    "\n",
    "            add_poly_to_map(hex_poly, m, color, fillColor, weight, colormap)"
   ]
  },
  {
   "cell_type": "markdown",
   "metadata": {},
   "source": [
    "## Visualize starts per hexagon in 2019 (at least 50)"
   ]
  },
  {
   "cell_type": "code",
   "execution_count": null,
   "metadata": {
    "scrolled": true
   },
   "outputs": [],
   "source": [
    "# Create map\n",
    "m = folium.Map(location=[53.0792962,8.8016937], zoom_start=12)\n",
    "\n",
    "# Add style elements to map\n",
    "folium.TileLayer('CartoDB positron',name=\"Light Map\",control=False).add_to(m)\n",
    "colormap = cm.LinearColormap(colors=['blue','red'], index=[50,3320],vmin=0,vmax=3320) # Create colormap\n",
    "colormap.caption = \"number of starts in 2019\"\n",
    "colormap.add_to(m) # Add colormap to map\n",
    "\n",
    "# Add hexagons with more than 49 to map\n",
    "for index, row in starts.sort_values(by='count')[:len(starts)-1][starts['count'] > 49].iterrows():\n",
    "    weight = row['count']\n",
    "    add_hex_to_map(row['sHex'], m, 'royalblue', 'royalblue', weight, colormap)\n",
    "\n",
    "# Add hexagon with most trips to the map - seperately for nicer visualization\n",
    "add_hex_to_map('891f1559917ffff', m, 'royalblue', 'royalblue', 8839, colormap)\n",
    "\n",
    "# Save map to reports\n",
    "m.save('../reports/figures/start_locations_hexmap_2019.html')\n",
    "\n",
    "# Show map\n",
    "m"
   ]
  },
  {
   "cell_type": "markdown",
   "metadata": {},
   "source": [
    "- one can see that most trips starts around the city center as the plot shows only hexagons with at least 50 starts in 2019\n",
    "- we can clearly identify the main station as the area with the most starts"
   ]
  },
  {
   "cell_type": "markdown",
   "metadata": {},
   "source": [
    "## Visualize end locations"
   ]
  },
  {
   "cell_type": "code",
   "execution_count": null,
   "metadata": {},
   "outputs": [],
   "source": [
    "ends = trips.groupby(['eHex']).agg({'count':'sum'}) # Aggregate all ends related to the corresponding hexagon"
   ]
  },
  {
   "cell_type": "code",
   "execution_count": null,
   "metadata": {},
   "outputs": [],
   "source": [
    "ends.reset_index(inplace=True)"
   ]
  },
  {
   "cell_type": "markdown",
   "metadata": {},
   "source": [
    "There are many hexagons with only one trip in 2019, so we visualize only hexagons with at least 50 trips in 2019."
   ]
  },
  {
   "cell_type": "code",
   "execution_count": null,
   "metadata": {},
   "outputs": [],
   "source": [
    "ends.sort_values(by='count')"
   ]
  },
  {
   "cell_type": "markdown",
   "metadata": {},
   "source": [
    "# Visualize ends per hexagon in 2019 (at least 50)"
   ]
  },
  {
   "cell_type": "code",
   "execution_count": null,
   "metadata": {},
   "outputs": [],
   "source": [
    "# Create map\n",
    "m = folium.Map(location=[53.0792962,8.8016937], zoom_start=12) # Create map\n",
    "\n",
    "# Add style elements to map\n",
    "folium.TileLayer('CartoDB positron',name=\"Light Map\",control=False).add_to(m)\n",
    "colormap = cm.LinearColormap(colors=['blue','red'], index=[50,3260],vmin=0,vmax=3260) # Create colormap\n",
    "colormap.caption = \"number of starts in 2019\"\n",
    "colormap.add_to(m) # Add colormap to map\n",
    "\n",
    "# Add hexagons with more than 49 to map\n",
    "for index, row in ends.sort_values(by='count')[:len(ends)-1][ends['count'] >= 50].iterrows():\n",
    "    weight = row['count']\n",
    "    add_hex_to_map(row['eHex'], m, 'royalblue', 'royalblue', weight, colormap)\n",
    "\n",
    "# Add hexagon with most trips to the map - seperately for nicer visualization\n",
    "add_hex_to_map('891f1559917ffff', m, 'royalblue', 'royalblue', 8315, colormap)\n",
    "\n",
    "# Save map to reports\n",
    "m.save('../reports/figures/end_locations_hexmap_2019.html')\n",
    "\n",
    "# Show map\n",
    "m"
   ]
  },
  {
   "cell_type": "markdown",
   "metadata": {},
   "source": [
    "- start and end locations are almost the same regarding the number of trips related to them.\n",
    "- Genereally, there are some more end locations (1110 - 1088 = 22) than start locations (for hexagons with resolution of 9) that have at least 50 related trips in 2019."
   ]
  },
  {
   "cell_type": "code",
   "execution_count": null,
   "metadata": {},
   "outputs": [],
   "source": []
  }
 ],
 "metadata": {
  "kernelspec": {
   "display_name": "Python 3",
   "language": "python",
   "name": "python3"
  },
  "language_info": {
   "codemirror_mode": {
    "name": "ipython",
    "version": 3
   },
   "file_extension": ".py",
   "mimetype": "text/x-python",
   "name": "python",
   "nbconvert_exporter": "python",
   "pygments_lexer": "ipython3",
   "version": "3.7.3"
  }
 },
 "nbformat": 4,
 "nbformat_minor": 2
}
