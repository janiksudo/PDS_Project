{
 "cells": [
  {
   "cell_type": "code",
   "execution_count": 49,
   "metadata": {},
   "outputs": [],
   "source": [
    "\n",
    "import pandas as pd\n",
    "import sys\n",
    "from datetime import date, datetime\n",
    "import matplotlib.pyplot as plt\n",
    "import seaborn as sns\n",
    "import numpy as np"
   ]
  },
  {
   "cell_type": "code",
   "execution_count": 50,
   "metadata": {},
   "outputs": [],
   "source": [
    "sys.path.insert(0,\"..\")\n",
    "bremen_trips = pd.read_csv(\"../data/processed/trips.csv\")\n",
    "bremen_trips = bremen_trips.sort_values(by=['start_time'], ascending=True)\n",
    "bremen_trips[\"start_time\"] = pd.to_datetime(bremen_trips[\"start_time\"])\n",
    "bremen_trips = bremen_trips[(bremen_trips['start_lng'] != bremen_trips['end_lng']) | (bremen_trips['start_lat'] != bremen_trips['end_lat'])]"
   ]
  },
  {
   "cell_type": "code",
   "execution_count": 51,
   "metadata": {},
   "outputs": [],
   "source": [
    "\n",
    "for col in ['start_time']:\n",
    "    bremen_trips['month'] = pd.DatetimeIndex(bremen_trips['start_time']).month\n",
    "    bremen_trips['booking_date'] = bremen_trips.start_time.dt.date\n",
    "    bremen_trips['weekdays'] = pd.DatetimeIndex(bremen_trips['start_time']).weekday"
   ]
  },
  {
   "cell_type": "code",
   "execution_count": 52,
   "metadata": {},
   "outputs": [
    {
     "data": {
      "text/html": [
       "<div>\n",
       "<style scoped>\n",
       "    .dataframe tbody tr th:only-of-type {\n",
       "        vertical-align: middle;\n",
       "    }\n",
       "\n",
       "    .dataframe tbody tr th {\n",
       "        vertical-align: top;\n",
       "    }\n",
       "\n",
       "    .dataframe thead th {\n",
       "        text-align: right;\n",
       "    }\n",
       "</style>\n",
       "<table border=\"1\" class=\"dataframe\">\n",
       "  <thead>\n",
       "    <tr style=\"text-align: right;\">\n",
       "      <th></th>\n",
       "      <th>bike</th>\n",
       "      <th>bike_type</th>\n",
       "      <th>identification</th>\n",
       "      <th>start_time</th>\n",
       "      <th>end_time</th>\n",
       "      <th>duration_sec</th>\n",
       "      <th>start_lng</th>\n",
       "      <th>start_lat</th>\n",
       "      <th>end_lng</th>\n",
       "      <th>end_lat</th>\n",
       "      <th>start_place</th>\n",
       "      <th>end_place</th>\n",
       "      <th>month</th>\n",
       "      <th>booking_date</th>\n",
       "      <th>weekdays</th>\n",
       "    </tr>\n",
       "  </thead>\n",
       "  <tbody>\n",
       "    <tr>\n",
       "      <th>81821</th>\n",
       "      <td>20685</td>\n",
       "      <td>71</td>\n",
       "      <td>12099440</td>\n",
       "      <td>2019-01-20 00:13:00</td>\n",
       "      <td>2019-01-20 00:23:00</td>\n",
       "      <td>600.0</td>\n",
       "      <td>8.812554</td>\n",
       "      <td>53.076481</td>\n",
       "      <td>8.804828</td>\n",
       "      <td>53.084196</td>\n",
       "      <td>0.0</td>\n",
       "      <td>0.0</td>\n",
       "      <td>1</td>\n",
       "      <td>2019-01-20</td>\n",
       "      <td>6</td>\n",
       "    </tr>\n",
       "    <tr>\n",
       "      <th>204560</th>\n",
       "      <td>20935</td>\n",
       "      <td>71</td>\n",
       "      <td>7873316</td>\n",
       "      <td>2019-01-20 00:35:00</td>\n",
       "      <td>2019-01-25 08:00:00</td>\n",
       "      <td>458700.0</td>\n",
       "      <td>8.816798</td>\n",
       "      <td>53.072448</td>\n",
       "      <td>8.811472</td>\n",
       "      <td>53.083167</td>\n",
       "      <td>0.0</td>\n",
       "      <td>2946.0</td>\n",
       "      <td>1</td>\n",
       "      <td>2019-01-20</td>\n",
       "      <td>6</td>\n",
       "    </tr>\n",
       "    <tr>\n",
       "      <th>49030</th>\n",
       "      <td>20617</td>\n",
       "      <td>71</td>\n",
       "      <td>12099749</td>\n",
       "      <td>2019-01-20 00:40:00</td>\n",
       "      <td>2019-01-20 00:44:00</td>\n",
       "      <td>240.0</td>\n",
       "      <td>8.801623</td>\n",
       "      <td>53.067878</td>\n",
       "      <td>8.793217</td>\n",
       "      <td>53.064244</td>\n",
       "      <td>0.0</td>\n",
       "      <td>0.0</td>\n",
       "      <td>1</td>\n",
       "      <td>2019-01-20</td>\n",
       "      <td>6</td>\n",
       "    </tr>\n",
       "    <tr>\n",
       "      <th>131464</th>\n",
       "      <td>20795</td>\n",
       "      <td>71</td>\n",
       "      <td>12099872</td>\n",
       "      <td>2019-01-20 00:47:00</td>\n",
       "      <td>2019-01-20 00:54:00</td>\n",
       "      <td>420.0</td>\n",
       "      <td>8.814744</td>\n",
       "      <td>53.084841</td>\n",
       "      <td>8.801135</td>\n",
       "      <td>53.094596</td>\n",
       "      <td>0.0</td>\n",
       "      <td>0.0</td>\n",
       "      <td>1</td>\n",
       "      <td>2019-01-20</td>\n",
       "      <td>6</td>\n",
       "    </tr>\n",
       "    <tr>\n",
       "      <th>200261</th>\n",
       "      <td>20927</td>\n",
       "      <td>71</td>\n",
       "      <td>12100199</td>\n",
       "      <td>2019-01-20 01:07:00</td>\n",
       "      <td>2019-01-20 01:15:00</td>\n",
       "      <td>480.0</td>\n",
       "      <td>8.815254</td>\n",
       "      <td>53.084302</td>\n",
       "      <td>8.806666</td>\n",
       "      <td>53.094964</td>\n",
       "      <td>0.0</td>\n",
       "      <td>0.0</td>\n",
       "      <td>1</td>\n",
       "      <td>2019-01-20</td>\n",
       "      <td>6</td>\n",
       "    </tr>\n",
       "  </tbody>\n",
       "</table>\n",
       "</div>"
      ],
      "text/plain": [
       "         bike  bike_type  identification          start_time  \\\n",
       "81821   20685         71        12099440 2019-01-20 00:13:00   \n",
       "204560  20935         71         7873316 2019-01-20 00:35:00   \n",
       "49030   20617         71        12099749 2019-01-20 00:40:00   \n",
       "131464  20795         71        12099872 2019-01-20 00:47:00   \n",
       "200261  20927         71        12100199 2019-01-20 01:07:00   \n",
       "\n",
       "                   end_time  duration_sec  start_lng  start_lat   end_lng  \\\n",
       "81821   2019-01-20 00:23:00         600.0   8.812554  53.076481  8.804828   \n",
       "204560  2019-01-25 08:00:00      458700.0   8.816798  53.072448  8.811472   \n",
       "49030   2019-01-20 00:44:00         240.0   8.801623  53.067878  8.793217   \n",
       "131464  2019-01-20 00:54:00         420.0   8.814744  53.084841  8.801135   \n",
       "200261  2019-01-20 01:15:00         480.0   8.815254  53.084302  8.806666   \n",
       "\n",
       "          end_lat  start_place  end_place  month booking_date  weekdays  \n",
       "81821   53.084196          0.0        0.0      1   2019-01-20         6  \n",
       "204560  53.083167          0.0     2946.0      1   2019-01-20         6  \n",
       "49030   53.064244          0.0        0.0      1   2019-01-20         6  \n",
       "131464  53.094596          0.0        0.0      1   2019-01-20         6  \n",
       "200261  53.094964          0.0        0.0      1   2019-01-20         6  "
      ]
     },
     "execution_count": 52,
     "metadata": {},
     "output_type": "execute_result"
    }
   ],
   "source": [
    "bremen_trips.head()\n"
   ]
  },
  {
   "cell_type": "code",
   "execution_count": 53,
   "metadata": {},
   "outputs": [],
   "source": [
    "# drop entries with booking durations longer than 2 days\n",
    "bremen_trips = bremen_trips[bremen_trips['duration_sec'] < 5000]"
   ]
  },
  {
   "cell_type": "code",
   "execution_count": 54,
   "metadata": {},
   "outputs": [],
   "source": [
    "bremen_trips['duration_min'] = bremen_trips['duration_sec']/60"
   ]
  },
  {
   "cell_type": "code",
   "execution_count": 75,
   "metadata": {},
   "outputs": [
    {
     "data": {
      "text/plain": [
       "<matplotlib.axes._subplots.AxesSubplot at 0x2120776a808>"
      ]
     },
     "execution_count": 75,
     "metadata": {},
     "output_type": "execute_result"
    },
    {
     "data": {
      "image/png": "[encoded data removed]",
      "text/plain": [
       "<Figure size 432x288 with 1 Axes>"
      ]
     },
     "metadata": {
      "needs_background": "light"
     },
     "output_type": "display_data"
    }
   ],
   "source": [
    "# avg duration per month (looks like we have some outliers)\n",
    "\n",
    "df = bremen_trips.groupby('month').duration_min.mean().to_frame()\n",
    "df.plot(kind=\"bar\")"
   ]
  },
  {
   "cell_type": "code",
   "execution_count": 55,
   "metadata": {},
   "outputs": [
    {
     "name": "stdout",
     "output_type": "stream",
     "text": [
      "<class 'pandas.core.frame.DataFrame'>\n",
      "Int64Index: 131731 entries, 81821 to 113816\n",
      "Data columns (total 16 columns):\n",
      " #   Column          Non-Null Count   Dtype         \n",
      "---  ------          --------------   -----         \n",
      " 0   bike            131731 non-null  int64         \n",
      " 1   bike_type       131731 non-null  int64         \n",
      " 2   identification  131731 non-null  int64         \n",
      " 3   start_time      131731 non-null  datetime64[ns]\n",
      " 4   end_time        131731 non-null  object        \n",
      " 5   duration_sec    131731 non-null  float64       \n",
      " 6   start_lng       131731 non-null  float64       \n",
      " 7   start_lat       131731 non-null  float64       \n",
      " 8   end_lng         131731 non-null  float64       \n",
      " 9   end_lat         131731 non-null  float64       \n",
      " 10  start_place     131731 non-null  float64       \n",
      " 11  end_place       131731 non-null  float64       \n",
      " 12  month           131731 non-null  int64         \n",
      " 13  booking_date    131731 non-null  object        \n",
      " 14  weekdays        131731 non-null  int64         \n",
      " 15  duration_min    131731 non-null  float64       \n",
      "dtypes: datetime64[ns](1), float64(8), int64(5), object(2)\n",
      "memory usage: 17.1+ MB\n"
     ]
    }
   ],
   "source": [
    "bremen_trips.info()"
   ]
  },
  {
   "cell_type": "code",
   "execution_count": 56,
   "metadata": {},
   "outputs": [],
   "source": [
    "data_raw = bremen_trips[['bike','bike_type','identification', 'start_time', 'duration_min', 'start_lng', 'start_lat', 'start_place', 'month', 'weekdays']]"
   ]
  },
  {
   "cell_type": "code",
   "execution_count": 57,
   "metadata": {},
   "outputs": [
    {
     "name": "stderr",
     "output_type": "stream",
     "text": [
      "C:\\Users\\TomCLG\\anaconda3\\lib\\site-packages\\ipykernel_launcher.py:1: SettingWithCopyWarning: \n",
      "A value is trying to be set on a copy of a slice from a DataFrame.\n",
      "Try using .loc[row_indexer,col_indexer] = value instead\n",
      "\n",
      "See the caveats in the documentation: https://pandas.pydata.org/pandas-docs/stable/user_guide/indexing.html#returning-a-view-versus-a-copy\n",
      "  \"\"\"Entry point for launching an IPython kernel.\n",
      "C:\\Users\\TomCLG\\anaconda3\\lib\\site-packages\\ipykernel_launcher.py:2: SettingWithCopyWarning: \n",
      "A value is trying to be set on a copy of a slice from a DataFrame.\n",
      "Try using .loc[row_indexer,col_indexer] = value instead\n",
      "\n",
      "See the caveats in the documentation: https://pandas.pydata.org/pandas-docs/stable/user_guide/indexing.html#returning-a-view-versus-a-copy\n",
      "  \n",
      "C:\\Users\\TomCLG\\anaconda3\\lib\\site-packages\\ipykernel_launcher.py:3: SettingWithCopyWarning: \n",
      "A value is trying to be set on a copy of a slice from a DataFrame.\n",
      "Try using .loc[row_indexer,col_indexer] = value instead\n",
      "\n",
      "See the caveats in the documentation: https://pandas.pydata.org/pandas-docs/stable/user_guide/indexing.html#returning-a-view-versus-a-copy\n",
      "  This is separate from the ipykernel package so we can avoid doing imports until\n",
      "C:\\Users\\TomCLG\\anaconda3\\lib\\site-packages\\pandas\\core\\frame.py:3997: SettingWithCopyWarning: \n",
      "A value is trying to be set on a copy of a slice from a DataFrame\n",
      "\n",
      "See the caveats in the documentation: https://pandas.pydata.org/pandas-docs/stable/user_guide/indexing.html#returning-a-view-versus-a-copy\n",
      "  errors=errors,\n"
     ]
    }
   ],
   "source": [
    "data_raw['hour'] = data_raw['start_time'].dt.hour\n",
    "data_raw['min'] = data_raw['start_time'].dt.minute\n",
    "data_raw['day_of_month'] = data_raw['start_time'].dt.day\n",
    "data_raw.drop(axis = 1, columns = 'start_time', inplace=True)"
   ]
  },
  {
   "cell_type": "code",
   "execution_count": 58,
   "metadata": {},
   "outputs": [
    {
     "name": "stdout",
     "output_type": "stream",
     "text": [
      "bike_type: 99.88917%\n",
      "71    131585\n",
      "29       146\n",
      "Name: bike_type, dtype: int64\n",
      "\n"
     ]
    }
   ],
   "source": [
    "# get uniformative features meaning that they contain over 95% of the time the same value\n",
    "num_rows = len(data_raw.index)\n",
    "low_information_cols = [] #\n",
    "\n",
    "for col in data_raw.columns:\n",
    "    cnts = data_raw[col].value_counts(dropna=False)\n",
    "    top_pct = (cnts/num_rows).iloc[0]\n",
    "    \n",
    "    if top_pct > 0.95:\n",
    "        low_information_cols.append(col)\n",
    "        print('{0}: {1:.5f}%'.format(col, top_pct*100))\n",
    "        print(cnts)\n",
    "        print()"
   ]
  },
  {
   "cell_type": "code",
   "execution_count": 59,
   "metadata": {},
   "outputs": [],
   "source": [
    "data_raw.drop(columns=[\"bike_type\", \"identification\", \"bike\"], inplace=True)"
   ]
  },
  {
   "cell_type": "code",
   "execution_count": 60,
   "metadata": {},
   "outputs": [],
   "source": [
    "X = data_raw.loc[:, data_raw.columns != 'duration_min']\n",
    "y = data_raw['duration_min']"
   ]
  },
  {
   "cell_type": "code",
   "execution_count": 61,
   "metadata": {},
   "outputs": [
    {
     "name": "stdout",
     "output_type": "stream",
     "text": [
      "<class 'pandas.core.frame.DataFrame'>\n",
      "Int64Index: 131731 entries, 81821 to 113816\n",
      "Data columns (total 8 columns):\n",
      " #   Column        Non-Null Count   Dtype  \n",
      "---  ------        --------------   -----  \n",
      " 0   start_lng     131731 non-null  float64\n",
      " 1   start_lat     131731 non-null  float64\n",
      " 2   start_place   131731 non-null  float64\n",
      " 3   month         131731 non-null  int64  \n",
      " 4   weekdays      131731 non-null  int64  \n",
      " 5   hour          131731 non-null  int64  \n",
      " 6   min           131731 non-null  int64  \n",
      " 7   day_of_month  131731 non-null  int64  \n",
      "dtypes: float64(3), int64(5)\n",
      "memory usage: 9.0 MB\n"
     ]
    }
   ],
   "source": [
    "X.info()"
   ]
  },
  {
   "cell_type": "code",
   "execution_count": 62,
   "metadata": {},
   "outputs": [],
   "source": [
    "from sklearn.model_selection import train_test_split\n",
    "\n",
    "\n",
    "X_train, X_val_test, y_train, y_val_test = train_test_split(X, y, test_size=0.60, shuffle=False)\n",
    "X_val, X_test, y_val, y_test = train_test_split(X_val_test, y_val_test, test_size=0.60, shuffle=False)"
   ]
  },
  {
   "cell_type": "code",
   "execution_count": 63,
   "metadata": {},
   "outputs": [],
   "source": [
    "from sklearn.linear_model import LinearRegression\n",
    "from sklearn.preprocessing import PolynomialFeatures"
   ]
  },
  {
   "cell_type": "code",
   "execution_count": 64,
   "metadata": {},
   "outputs": [],
   "source": [
    "poly = PolynomialFeatures(2)\n",
    "X_train_poly = poly.fit_transform(X_train)"
   ]
  },
  {
   "cell_type": "code",
   "execution_count": 65,
   "metadata": {},
   "outputs": [],
   "source": [
    "lin = LinearRegression()"
   ]
  },
  {
   "cell_type": "code",
   "execution_count": 66,
   "metadata": {},
   "outputs": [
    {
     "data": {
      "text/plain": [
       "0.03718469561339133"
      ]
     },
     "execution_count": 66,
     "metadata": {},
     "output_type": "execute_result"
    }
   ],
   "source": [
    "lin.fit(X_train_poly, y_train)\n",
    "lin.score(X_train_poly, y_train)"
   ]
  },
  {
   "cell_type": "code",
   "execution_count": 67,
   "metadata": {},
   "outputs": [
    {
     "data": {
      "text/plain": [
       "0.03718469561339133"
      ]
     },
     "execution_count": 67,
     "metadata": {},
     "output_type": "execute_result"
    }
   ],
   "source": [
    "lin.fit(X_train_poly, y_train)\n",
    "lin.score(X_train_poly, y_train)"
   ]
  },
  {
   "cell_type": "code",
   "execution_count": 68,
   "metadata": {},
   "outputs": [],
   "source": [
    "from sklearn.ensemble import RandomForestRegressor\n",
    "from sklearn.model_selection import GridSearchCV\n",
    "from sklearn.model_selection import cross_val_score"
   ]
  },
  {
   "cell_type": "code",
   "execution_count": 69,
   "metadata": {},
   "outputs": [],
   "source": [
    "parameters = {'max_depth':[2, 3, 4, 5, 7],\n",
    "              'n_estimators':[1, 10, 25, 50, 100, 256, 512],\n",
    "              'random_state':[42]}\n",
    "    \n",
    "def perform_grid_search(X_data, y_data):\n",
    "    rf = RandomForestRegressor(criterion='mse')\n",
    "    \n",
    "    clf = GridSearchCV(rf, parameters, cv=4, scoring='r2', n_jobs=3)\n",
    "    \n",
    "    clf.fit(X_data, y_data)\n",
    "    \n",
    "    print(clf.cv_results_['mean_test_score'])\n",
    "    \n",
    "    return clf.best_params_['n_estimators'], clf.best_params_['max_depth']"
   ]
  },
  {
   "cell_type": "code",
   "execution_count": 70,
   "metadata": {},
   "outputs": [
    {
     "name": "stdout",
     "output_type": "stream",
     "text": [
      "[0.02144335 0.02273612 0.0235354  0.02392138 0.02413993 0.02422109\n",
      " 0.02434027 0.02580399 0.03115591 0.03155537 0.03170298 0.03202324\n",
      " 0.03191709 0.03203458 0.02278422 0.03429094 0.03527632 0.03558859\n",
      " 0.03582829 0.03583163 0.03588782 0.0218843  0.03653482 0.03741356\n",
      " 0.03789785 0.03817741 0.03802958 0.03808076 0.00072311 0.04004581\n",
      " 0.04205309 0.04306866 0.0435781  0.04360368 0.04374109]\n",
      "512 7 42\n"
     ]
    }
   ],
   "source": [
    "# extract parameters\n",
    "n_estimator, depth = perform_grid_search(X_train, y_train)\n",
    "c_random_state = 42\n",
    "print(n_estimator, depth, c_random_state)"
   ]
  },
  {
   "cell_type": "code",
   "execution_count": 71,
   "metadata": {},
   "outputs": [
    {
     "data": {
      "text/plain": [
       "RandomForestRegressor(bootstrap=True, ccp_alpha=0.0, criterion='mse',\n",
       "                      max_depth=7, max_features='auto', max_leaf_nodes=None,\n",
       "                      max_samples=None, min_impurity_decrease=0.0,\n",
       "                      min_impurity_split=None, min_samples_leaf=1,\n",
       "                      min_samples_split=2, min_weight_fraction_leaf=0.0,\n",
       "                      n_estimators=512, n_jobs=None, oob_score=False,\n",
       "                      random_state=42, verbose=0, warm_start=False)"
      ]
     },
     "execution_count": 71,
     "metadata": {},
     "output_type": "execute_result"
    }
   ],
   "source": [
    "rf = RandomForestRegressor(criterion='mse', max_depth=depth, n_estimators=512, random_state=42)\n",
    "rf.fit(X_train, y_train)"
   ]
  },
  {
   "cell_type": "code",
   "execution_count": 72,
   "metadata": {},
   "outputs": [],
   "source": [
    "y_pred = rf.predict(X_train)"
   ]
  },
  {
   "cell_type": "code",
   "execution_count": 73,
   "metadata": {},
   "outputs": [],
   "source": [
    "from sklearn.metrics import mean_squared_error"
   ]
  },
  {
   "cell_type": "code",
   "execution_count": 74,
   "metadata": {},
   "outputs": [
    {
     "data": {
      "text/plain": [
       "140.67564153610795"
      ]
     },
     "execution_count": 74,
     "metadata": {},
     "output_type": "execute_result"
    }
   ],
   "source": [
    "mean_squared_error(y_train, y_pred)"
   ]
  },
  {
   "cell_type": "code",
   "execution_count": null,
   "metadata": {},
   "outputs": [],
   "source": []
  }
 ],
 "metadata": {
  "kernelspec": {
   "display_name": "Python 3",
   "language": "python",
   "name": "python3"
  },
  "language_info": {
   "codemirror_mode": {
    "name": "ipython",
    "version": 3
   },
   "file_extension": ".py",
   "mimetype": "text/x-python",
   "name": "python",
   "nbconvert_exporter": "python",
   "pygments_lexer": "ipython3",
   "version": "3.7.6"
  }
 },
 "nbformat": 4,
 "nbformat_minor": 4
}
